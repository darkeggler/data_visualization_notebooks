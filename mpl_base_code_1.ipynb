{
 "cells": [
  {
   "cell_type": "code",
   "execution_count": 14,
   "metadata": {},
   "outputs": [],
   "source": [
    "import matplotlib.pyplot as plt\n",
    "from matplotlib.path import Path\n",
    "import matplotlib.patches as patches\n",
    "import numpy as np"
   ]
  },
  {
   "cell_type": "code",
   "execution_count": 2,
   "metadata": {},
   "outputs": [],
   "source": [
    "%matplotlib widget"
   ]
  },
  {
   "cell_type": "code",
   "execution_count": 7,
   "metadata": {},
   "outputs": [
    {
     "data": {
      "text/plain": [
       "[]"
      ]
     },
     "execution_count": 7,
     "metadata": {},
     "output_type": "execute_result"
    }
   ],
   "source": [
    "list(Path._unit_regular_stars.items())"
   ]
  },
  {
   "cell_type": "code",
   "execution_count": 8,
   "metadata": {},
   "outputs": [
    {
     "data": {
      "text/plain": [
       "<WeakValueDictionary at 0x6798c10>"
      ]
     },
     "execution_count": 8,
     "metadata": {},
     "output_type": "execute_result"
    }
   ],
   "source": [
    "Path._unit_regular_stars"
   ]
  },
  {
   "cell_type": "code",
   "execution_count": 10,
   "metadata": {},
   "outputs": [],
   "source": [
    "Path._unit_regular_stars.get((5,0.5))"
   ]
  },
  {
   "cell_type": "code",
   "execution_count": 11,
   "metadata": {},
   "outputs": [
    {
     "data": {
      "text/plain": [
       "Path(array([[ 6.12323400e-17,  1.00000000e+00],\n",
       "       [-2.93892626e-01,  4.04508497e-01],\n",
       "       [-9.51056516e-01,  3.09016994e-01],\n",
       "       [-4.75528258e-01, -1.54508497e-01],\n",
       "       [-5.87785252e-01, -8.09016994e-01],\n",
       "       [-9.18485099e-17, -5.00000000e-01],\n",
       "       [ 5.87785252e-01, -8.09016994e-01],\n",
       "       [ 4.75528258e-01, -1.54508497e-01],\n",
       "       [ 9.51056516e-01,  3.09016994e-01],\n",
       "       [ 2.93892626e-01,  4.04508497e-01],\n",
       "       [ 3.06161700e-16,  1.00000000e+00]]), array([ 1,  2,  2,  2,  2,  2,  2,  2,  2,  2, 79], dtype=uint8))"
      ]
     },
     "execution_count": 11,
     "metadata": {},
     "output_type": "execute_result"
    }
   ],
   "source": [
    "Path.unit_regular_star(5)"
   ]
  },
  {
   "cell_type": "markdown",
   "metadata": {},
   "source": [
    "        if path is None:\n",
    "            ns2 = numVertices * 2\n",
    "            theta = (2*np.pi/ns2 * np.arange(ns2 + 1))\n",
    "            # This initial rotation is to make sure the polygon always\n",
    "            # \"points-up\"\n",
    "            theta += np.pi / 2.0\n",
    "            r = np.ones(ns2 + 1)\n",
    "            r[1::2] = innerCircle\n",
    "            verts = (r * np.vstack((np.cos(theta), np.sin(theta)))).T\n",
    "            path = cls(verts, closed=True, readonly=True)\n",
    "            if numVertices <= 16:\n",
    "                cls._unit_regular_stars[(numVertices, innerCircle)] = path"
   ]
  },
  {
   "cell_type": "code",
   "execution_count": 33,
   "metadata": {},
   "outputs": [],
   "source": [
    "%matplotlib inline"
   ]
  },
  {
   "cell_type": "code",
   "execution_count": 35,
   "metadata": {},
   "outputs": [],
   "source": [
    "theta = (2*np.pi/10 * np.arange(11))"
   ]
  },
  {
   "cell_type": "code",
   "execution_count": 29,
   "metadata": {},
   "outputs": [
    {
     "data": {
      "text/plain": [
       "array([0.        , 0.62831853, 1.25663706, 1.88495559, 2.51327412,\n",
       "       3.14159265, 3.76991118, 4.39822972, 5.02654825, 5.65486678,\n",
       "       6.28318531])"
      ]
     },
     "execution_count": 29,
     "metadata": {},
     "output_type": "execute_result"
    }
   ],
   "source": [
    "theta"
   ]
  },
  {
   "cell_type": "code",
   "execution_count": 36,
   "metadata": {},
   "outputs": [
    {
     "data": {
      "text/plain": [
       "[<matplotlib.lines.Line2D at 0x7ae5a90>]"
      ]
     },
     "execution_count": 36,
     "metadata": {},
     "output_type": "execute_result"
    },
    {
     "data": {
      "image/png": "[encoded data removed]",
      "text/plain": [
       "<Figure size 432x288 with 1 Axes>"
      ]
     },
     "metadata": {
      "needs_background": "light"
     },
     "output_type": "display_data"
    }
   ],
   "source": [
    "plt.plot(np.cos(theta), np.sin(theta))"
   ]
  },
  {
   "cell_type": "code",
   "execution_count": 37,
   "metadata": {},
   "outputs": [],
   "source": [
    "theta += np.pi / 2.0"
   ]
  },
  {
   "cell_type": "code",
   "execution_count": 38,
   "metadata": {},
   "outputs": [
    {
     "data": {
      "text/plain": [
       "array([1.57079633, 2.19911486, 2.82743339, 3.45575192, 4.08407045,\n",
       "       4.71238898, 5.34070751, 5.96902604, 6.59734457, 7.2256631 ,\n",
       "       7.85398163])"
      ]
     },
     "execution_count": 38,
     "metadata": {},
     "output_type": "execute_result"
    }
   ],
   "source": [
    "theta"
   ]
  },
  {
   "cell_type": "code",
   "execution_count": 39,
   "metadata": {},
   "outputs": [
    {
     "data": {
      "text/plain": [
       "[<matplotlib.lines.Line2D at 0x9193b30>]"
      ]
     },
     "execution_count": 39,
     "metadata": {},
     "output_type": "execute_result"
    },
    {
     "data": {
      "image/png": "[encoded data removed]",
      "text/plain": [
       "<Figure size 432x288 with 1 Axes>"
      ]
     },
     "metadata": {
      "needs_background": "light"
     },
     "output_type": "display_data"
    }
   ],
   "source": [
    "plt.plot(np.cos(theta), np.sin(theta))"
   ]
  },
  {
   "cell_type": "code",
   "execution_count": 22,
   "metadata": {},
   "outputs": [],
   "source": [
    "r = np.ones(11)"
   ]
  },
  {
   "cell_type": "code",
   "execution_count": 23,
   "metadata": {},
   "outputs": [],
   "source": [
    "r[1::2] = 0.5"
   ]
  },
  {
   "cell_type": "code",
   "execution_count": 24,
   "metadata": {},
   "outputs": [
    {
     "data": {
      "text/plain": [
       "array([1. , 0.5, 1. , 0.5, 1. , 0.5, 1. , 0.5, 1. , 0.5, 1. ])"
      ]
     },
     "execution_count": 24,
     "metadata": {},
     "output_type": "execute_result"
    }
   ],
   "source": [
    "r"
   ]
  },
  {
   "cell_type": "code",
   "execution_count": 40,
   "metadata": {},
   "outputs": [
    {
     "data": {
      "text/plain": [
       "array([[ 6.12323400e-17, -5.87785252e-01, -9.51056516e-01,\n",
       "        -9.51056516e-01, -5.87785252e-01, -1.83697020e-16,\n",
       "         5.87785252e-01,  9.51056516e-01,  9.51056516e-01,\n",
       "         5.87785252e-01,  3.06161700e-16],\n",
       "       [ 1.00000000e+00,  8.09016994e-01,  3.09016994e-01,\n",
       "        -3.09016994e-01, -8.09016994e-01, -1.00000000e+00,\n",
       "        -8.09016994e-01, -3.09016994e-01,  3.09016994e-01,\n",
       "         8.09016994e-01,  1.00000000e+00]])"
      ]
     },
     "execution_count": 40,
     "metadata": {},
     "output_type": "execute_result"
    }
   ],
   "source": [
    "np.vstack((np.cos(theta), np.sin(theta)))"
   ]
  },
  {
   "cell_type": "code",
   "execution_count": 41,
   "metadata": {},
   "outputs": [
    {
     "data": {
      "text/plain": [
       "array([[ 6.12323400e-17,  1.00000000e+00],\n",
       "       [-5.87785252e-01,  8.09016994e-01],\n",
       "       [-9.51056516e-01,  3.09016994e-01],\n",
       "       [-9.51056516e-01, -3.09016994e-01],\n",
       "       [-5.87785252e-01, -8.09016994e-01],\n",
       "       [-1.83697020e-16, -1.00000000e+00],\n",
       "       [ 5.87785252e-01, -8.09016994e-01],\n",
       "       [ 9.51056516e-01, -3.09016994e-01],\n",
       "       [ 9.51056516e-01,  3.09016994e-01],\n",
       "       [ 5.87785252e-01,  8.09016994e-01],\n",
       "       [ 3.06161700e-16,  1.00000000e+00]])"
      ]
     },
     "execution_count": 41,
     "metadata": {},
     "output_type": "execute_result"
    }
   ],
   "source": [
    "np.vstack((np.cos(theta), np.sin(theta))).T"
   ]
  },
  {
   "cell_type": "code",
   "execution_count": 45,
   "metadata": {},
   "outputs": [],
   "source": [
    "verts = (r * np.vstack((np.cos(theta), np.sin(theta)))).T"
   ]
  },
  {
   "cell_type": "code",
   "execution_count": 44,
   "metadata": {},
   "outputs": [
    {
     "data": {
      "text/plain": [
       "[<matplotlib.lines.Line2D at 0x7614470>]"
      ]
     },
     "execution_count": 44,
     "metadata": {},
     "output_type": "execute_result"
    },
    {
     "data": {
      "image/png": "[encoded data removed]",
      "text/plain": [
       "<Figure size 432x288 with 1 Axes>"
      ]
     },
     "metadata": {
      "needs_background": "light"
     },
     "output_type": "display_data"
    }
   ],
   "source": [
    "plt.plot((r * np.vstack((np.cos(theta), np.sin(theta))))[0], (r * np.vstack((np.cos(theta), np.sin(theta))))[1])"
   ]
  },
  {
   "cell_type": "code",
   "execution_count": 46,
   "metadata": {},
   "outputs": [],
   "source": [
    "path = Path(verts, closed=True, readonly=True)"
   ]
  },
  {
   "cell_type": "code",
   "execution_count": 47,
   "metadata": {},
   "outputs": [
    {
     "data": {
      "text/plain": [
       "Path(array([[ 6.12323400e-17,  1.00000000e+00],\n",
       "       [-2.93892626e-01,  4.04508497e-01],\n",
       "       [-9.51056516e-01,  3.09016994e-01],\n",
       "       [-4.75528258e-01, -1.54508497e-01],\n",
       "       [-5.87785252e-01, -8.09016994e-01],\n",
       "       [-9.18485099e-17, -5.00000000e-01],\n",
       "       [ 5.87785252e-01, -8.09016994e-01],\n",
       "       [ 4.75528258e-01, -1.54508497e-01],\n",
       "       [ 9.51056516e-01,  3.09016994e-01],\n",
       "       [ 2.93892626e-01,  4.04508497e-01],\n",
       "       [ 3.06161700e-16,  1.00000000e+00]]), array([ 1,  2,  2,  2,  2,  2,  2,  2,  2,  2, 79], dtype=uint8))"
      ]
     },
     "execution_count": 47,
     "metadata": {},
     "output_type": "execute_result"
    }
   ],
   "source": [
    "path"
   ]
  },
  {
   "cell_type": "code",
   "execution_count": 48,
   "metadata": {},
   "outputs": [
    {
     "data": {
      "image/png": "[encoded data removed]",
      "text/plain": [
       "<Figure size 432x288 with 1 Axes>"
      ]
     },
     "metadata": {
      "needs_background": "light"
     },
     "output_type": "display_data"
    }
   ],
   "source": [
    "fig, ax = plt.subplots()"
   ]
  },
  {
   "cell_type": "code",
   "execution_count": 49,
   "metadata": {},
   "outputs": [
    {
     "data": {
      "text/plain": [
       "<matplotlib.patches.PathPatch at 0x91fbc70>"
      ]
     },
     "execution_count": 49,
     "metadata": {},
     "output_type": "execute_result"
    }
   ],
   "source": [
    "patch2 = patches.PathPatch(path)\n",
    "ax.add_patch(patch2)"
   ]
  },
  {
   "cell_type": "code",
   "execution_count": 50,
   "metadata": {},
   "outputs": [
    {
     "data": {
      "image/png": "[encoded data removed]",
      "text/plain": [
       "<Figure size 432x288 with 1 Axes>"
      ]
     },
     "execution_count": 50,
     "metadata": {},
     "output_type": "execute_result"
    }
   ],
   "source": [
    "fig"
   ]
  },
  {
   "cell_type": "code",
   "execution_count": 51,
   "metadata": {},
   "outputs": [
    {
     "data": {
      "text/plain": [
       "(-1, 1)"
      ]
     },
     "execution_count": 51,
     "metadata": {},
     "output_type": "execute_result"
    }
   ],
   "source": [
    "ax.set_xlim(-1,1)\n",
    "ax.set_ylim(-1,1)"
   ]
  },
  {
   "cell_type": "code",
   "execution_count": 52,
   "metadata": {},
   "outputs": [
    {
     "data": {
      "image/png": "[encoded data removed]",
      "text/plain": [
       "<Figure size 432x288 with 1 Axes>"
      ]
     },
     "execution_count": 52,
     "metadata": {},
     "output_type": "execute_result"
    }
   ],
   "source": [
    "fig"
   ]
  },
  {
   "cell_type": "code",
   "execution_count": null,
   "metadata": {},
   "outputs": [],
   "source": []
  }
 ],
 "metadata": {
  "kernelspec": {
   "display_name": "Python 3",
   "language": "python",
   "name": "python3"
  },
  "language_info": {
   "codemirror_mode": {
    "name": "ipython",
    "version": 3
   },
   "file_extension": ".py",
   "mimetype": "text/x-python",
   "name": "python",
   "nbconvert_exporter": "python",
   "pygments_lexer": "ipython3",
   "version": "3.7.5"
  }
 },
 "nbformat": 4,
 "nbformat_minor": 4
}
