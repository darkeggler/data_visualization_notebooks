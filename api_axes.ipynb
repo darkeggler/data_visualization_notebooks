{
 "cells": [
  {
   "cell_type": "code",
   "execution_count": 3,
   "metadata": {},
   "outputs": [],
   "source": [
    "import numpy as np"
   ]
  },
  {
   "cell_type": "code",
   "execution_count": null,
   "metadata": {},
   "outputs": [],
   "source": [
    "def plot(self, *args, scalex=True, scaley=True, data=None, **kwargs):\n",
    "    kwargs = cbook.normalize_kwargs(kwargs, mlines.Line2D)\n",
    "        lines = [*self._get_lines(*args, data=data, **kwargs)]\n",
    "        for line in lines:\n",
    "            self.add_line(line)\n",
    "        self._request_autoscale_view(scalex=scalex, scaley=scaley)\n",
    "        return lines"
   ]
  },
  {
   "cell_type": "code",
   "execution_count": null,
   "metadata": {},
   "outputs": [],
   "source": [
    "def cla(self):\n",
    "    \"\"\"Clear the current axes.\"\"\"\n",
    "    # Note: this is called by Axes.__init__()\n",
    "\n",
    "    # stash the current visibility state\n",
    "    self._get_lines = _process_plot_var_args(self)"
   ]
  },
  {
   "cell_type": "code",
   "execution_count": 22,
   "metadata": {},
   "outputs": [],
   "source": [
    "class C():\n",
    "    def __init__(self):\n",
    "        print(\"i am init\")\n",
    "    def f(self):\n",
    "        print(\"i am f\")"
   ]
  },
  {
   "cell_type": "code",
   "execution_count": 23,
   "metadata": {},
   "outputs": [
    {
     "name": "stdout",
     "output_type": "stream",
     "text": [
      "i am init\n"
     ]
    }
   ],
   "source": [
    "c = C()"
   ]
  },
  {
   "cell_type": "code",
   "execution_count": 16,
   "metadata": {},
   "outputs": [
    {
     "name": "stdout",
     "output_type": "stream",
     "text": [
      "i am f\n"
     ]
    }
   ],
   "source": [
    "c.f()"
   ]
  },
  {
   "cell_type": "code",
   "execution_count": 20,
   "metadata": {},
   "outputs": [
    {
     "name": "stdout",
     "output_type": "stream",
     "text": [
      "i am f\n"
     ]
    }
   ],
   "source": [
    "C.f(C)"
   ]
  },
  {
   "cell_type": "markdown",
   "metadata": {},
   "source": [
    "冷知识\n",
    "\n",
    "x 与 y 作为关键字参数名时会出现 plot got an unexpected keyword argument 'x' 的提示"
   ]
  }
 ],
 "metadata": {
  "kernelspec": {
   "display_name": "Python 3",
   "language": "python",
   "name": "python3"
  },
  "language_info": {
   "codemirror_mode": {
    "name": "ipython",
    "version": 3
   },
   "file_extension": ".py",
   "mimetype": "text/x-python",
   "name": "python",
   "nbconvert_exporter": "python",
   "pygments_lexer": "ipython3",
   "version": "3.7.5"
  }
 },
 "nbformat": 4,
 "nbformat_minor": 4
}
