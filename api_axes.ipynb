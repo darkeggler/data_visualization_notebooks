{
 "cells": [
  {
   "cell_type": "code",
   "execution_count": 2,
   "metadata": {},
   "outputs": [],
   "source": [
    "import matplotlib.pyplot as plt\n",
    "from matplotlib.axes import Axes\n",
    "import numpy as np\n",
    "\n",
    "import inspect\n",
    "from inspect import signature"
   ]
  },
  {
   "cell_type": "code",
   "execution_count": 19,
   "metadata": {},
   "outputs": [],
   "source": [
    "%matplotlib widget"
   ]
  },
  {
   "cell_type": "markdown",
   "metadata": {},
   "source": [
    "## TOC\n",
    "[Axes.setp](#step)  \n",
    "[Axes.plot](#plot)"
   ]
  },
  {
   "cell_type": "markdown",
   "metadata": {},
   "source": [
    "## Basic"
   ]
  },
  {
   "cell_type": "markdown",
   "metadata": {},
   "source": [
    "**<span id=\"plot\">Axes.plot</span>**"
   ]
  },
  {
   "cell_type": "markdown",
   "metadata": {},
   "source": [
    "[line chart, line plot, line graph, curve chart](https://wikimili.com/en/Line_chart)\n",
    "\n",
    "折线图是用一系列由线段连接的被称为'markers'的数据点展示信息的图表。折线图与散点图有相似的地方，最大的不同在于折线图的测量点是有序的并由线段连接。折线图通常用于可视化时间间隔（时间序列）中数据的趋势，因此折线通常按时间顺序绘制。 在这些情况下被称为[run charts](https://wikimili.com/en/Run_chart)。"
   ]
  },
  {
   "cell_type": "markdown",
   "metadata": {},
   "source": [
    "### [Simple Plot](https://matplotlib.org/gallery/lines_bars_and_markers/simple_plot.html#sphx-glr-gallery-lines-bars-and-markers-simple-plot-py)  \n",
    "Lines, bars and markers - 36"
   ]
  },
  {
   "cell_type": "code",
   "execution_count": 8,
   "metadata": {},
   "outputs": [],
   "source": [
    "# fake data\n",
    "t = np.arange(0.0, 2.0, 0.01)\n",
    "s = 1 + np.sin(2 * np.pi * t)"
   ]
  },
  {
   "cell_type": "code",
   "execution_count": 9,
   "metadata": {},
   "outputs": [
    {
     "data": {
      "image/png": "[encoded data removed]",
      "text/plain": [
       "<Figure size 432x288 with 1 Axes>"
      ]
     },
     "metadata": {
      "needs_background": "light"
     },
     "output_type": "display_data"
    }
   ],
   "source": [
    "fig, ax = plt.subplots()\n",
    "ax.plot(t, s)\n",
    "ax.grid()"
   ]
  },
  {
   "cell_type": "markdown",
   "metadata": {},
   "source": [
    "Plot方法将y对x绘制为线条和/或标记。"
   ]
  },
  {
   "cell_type": "code",
   "execution_count": 3,
   "metadata": {},
   "outputs": [
    {
     "data": {
      "text/plain": [
       "<Signature (self, *args, scalex=True, scaley=True, data=None, **kwargs)>"
      ]
     },
     "execution_count": 3,
     "metadata": {},
     "output_type": "execute_result"
    }
   ],
   "source": [
    "inspect.signature(Axes.plot)"
   ]
  },
  {
   "cell_type": "markdown",
   "metadata": {},
   "source": [
    "plot方法的参数与scatter方法相比那是相当的简约，这就讨厌了，scalex, scaley虽然不明白是干嘛的，但好在一时也用不上，先放一边。data在scatter的示例中已经看过了，也暂放一边，现在我们在看看plot方法\n",
    "\n",
    "```plot(self, *args, **kwargs)```\n",
    "\n",
    "怎么样，简约而不简单就是这么讨厌，没有文档就完全不知道该怎么用。"
   ]
  },
  {
   "cell_type": "markdown",
   "metadata": {},
   "source": [
    "Call signatures:\n",
    "```\n",
    "plot([x], y, [fmt], *, data=None, **kwargs)\n",
    "plot([x], y, [fmt], [x2], y2, [fmt2], ..., **kwargs)\n",
    "```"
   ]
  },
  {
   "cell_type": "code",
   "execution_count": null,
   "metadata": {},
   "outputs": [],
   "source": []
  },
  {
   "cell_type": "markdown",
   "metadata": {},
   "source": [
    "**<span id=\"step\">Axes.step</span>**\n"
   ]
  },
  {
   "cell_type": "markdown",
   "metadata": {},
   "source": [
    "### Call signatures: 是什么？\n",
    "\n",
    "在matplotlib api文档中的每一个函数的最重要位置都有Call signatures的描述。\n",
    "\n",
    "这可能让人联想到多态，也与PEP 362有些混淆。我觉得这就是一种文档风格，并不是严格的词法定义。\n",
    "\n",
    "目的是阐述一个函数支持的多种实用方法。\n",
    "\n",
    "- PEP 362 -- [Function Signature Object](https://www.python.org/dev/peps/pep-0362/)\n",
    "- 29.12.3. [Introspecting callables with the Signature object](https://docs.python.org/3.5/library/inspect.html#introspecting-callables-with-the-signature-object)\n",
    "- [Signature (functions)](https://developer.mozilla.org/en-US/docs/Glossary/Signature/Function)\n",
    "- [Programming Basics: The Function Signature](http://www.devx.com/opensource/programming-basics-the-function-signature.html)"
   ]
  },
  {
   "cell_type": "markdown",
   "metadata": {},
   "source": [
    "## matplotlib.axes.Axes.[vlines](https://matplotlib.org/api/_as_gen/matplotlib.axes.Axes.vlines.html)\n",
    "\n",
    "Plot vertical lines.\n",
    "画垂线\n",
    "\n",
    "Plot vertical lines at each x from ymin to ymax.\n",
    "在每一个x值画一条从ymin至ymax的垂线\n",
    "\n",
    "vline的核心是LineCollection\n",
    "\n",
    "```python\n",
    "class matplotlib.collections.LineCollection(segments, linewidths=None, colors=None, antialiaseds=None, linestyles='solid', offsets=None, transOffset=None, norm=None, cmap=None, pickradius=5, zorder=2, facecolors='none', **kwargs)[source]\n",
    "```"
   ]
  },
  {
   "cell_type": "code",
   "execution_count": 23,
   "metadata": {},
   "outputs": [],
   "source": [
    "s = signature( axes.Axes.vlines )"
   ]
  },
  {
   "cell_type": "code",
   "execution_count": 20,
   "metadata": {},
   "outputs": [
    {
     "data": {
      "application/vnd.jupyter.widget-view+json": {
       "model_id": "ae2710c7bd8a470c997a55641ba8a593",
       "version_major": 2,
       "version_minor": 0
      },
      "text/plain": [
       "Canvas(toolbar=Toolbar(toolitems=[('Home', 'Reset original view', 'home', 'home'), ('Back', 'Back to previous …"
      ]
     },
     "metadata": {},
     "output_type": "display_data"
    }
   ],
   "source": [
    "fig, ax = plt.subplots()"
   ]
  },
  {
   "cell_type": "code",
   "execution_count": 21,
   "metadata": {},
   "outputs": [
    {
     "data": {
      "text/plain": [
       "<matplotlib.collections.LineCollection at 0x97342f0>"
      ]
     },
     "execution_count": 21,
     "metadata": {},
     "output_type": "execute_result"
    }
   ],
   "source": [
    "ax.vlines(0.5, 0.2, 0.8)"
   ]
  },
  {
   "cell_type": "code",
   "execution_count": null,
   "metadata": {},
   "outputs": [],
   "source": [
    "ax.vlines(0.5, 0.2, 0.8)"
   ]
  },
  {
   "cell_type": "code",
   "execution_count": 29,
   "metadata": {},
   "outputs": [],
   "source": [
    "corners = (0,0), (1,1)"
   ]
  },
  {
   "cell_type": "markdown",
   "metadata": {},
   "source": []
  },
  {
   "cell_type": "code",
   "execution_count": null,
   "metadata": {},
   "outputs": [],
   "source": []
  },
  {
   "cell_type": "code",
   "execution_count": null,
   "metadata": {},
   "outputs": [],
   "source": []
  },
  {
   "cell_type": "code",
   "execution_count": null,
   "metadata": {},
   "outputs": [],
   "source": []
  },
  {
   "cell_type": "code",
   "execution_count": null,
   "metadata": {},
   "outputs": [],
   "source": []
  },
  {
   "cell_type": "code",
   "execution_count": null,
   "metadata": {},
   "outputs": [],
   "source": []
  },
  {
   "cell_type": "code",
   "execution_count": 4,
   "metadata": {},
   "outputs": [],
   "source": [
    "sig = signature( axes.Axes.plot )"
   ]
  },
  {
   "cell_type": "code",
   "execution_count": 6,
   "metadata": {},
   "outputs": [
    {
     "data": {
      "text/plain": [
       "'(self, *args, scalex=True, scaley=True, data=None, **kwargs)'"
      ]
     },
     "execution_count": 6,
     "metadata": {},
     "output_type": "execute_result"
    }
   ],
   "source": [
    "str(sig)"
   ]
  },
  {
   "cell_type": "code",
   "execution_count": 11,
   "metadata": {},
   "outputs": [
    {
     "data": {
      "text/plain": [
       "mappingproxy({'self': <Parameter \"self\">,\n",
       "              'args': <Parameter \"*args\">,\n",
       "              'scalex': <Parameter \"scalex=True\">,\n",
       "              'scaley': <Parameter \"scaley=True\">,\n",
       "              'data': <Parameter \"data=None\">,\n",
       "              'kwargs': <Parameter \"**kwargs\">})"
      ]
     },
     "execution_count": 11,
     "metadata": {},
     "output_type": "execute_result"
    }
   ],
   "source": [
    "sig.parameters"
   ]
  },
  {
   "cell_type": "code",
   "execution_count": 12,
   "metadata": {},
   "outputs": [
    {
     "data": {
      "text/plain": [
       "inspect._empty"
      ]
     },
     "execution_count": 12,
     "metadata": {},
     "output_type": "execute_result"
    }
   ],
   "source": [
    "sig.parameters['scalex'].annotation"
   ]
  },
  {
   "cell_type": "code",
   "execution_count": 14,
   "metadata": {},
   "outputs": [
    {
     "ename": "TypeError",
     "evalue": "'type' object is not iterable",
     "output_type": "error",
     "traceback": [
      "\u001b[1;31m---------------------------------------------------------------------------\u001b[0m",
      "\u001b[1;31mTypeError\u001b[0m                                 Traceback (most recent call last)",
      "\u001b[1;32m<ipython-input-14-403fd53d91b2>\u001b[0m in \u001b[0;36m<module>\u001b[1;34m\u001b[0m\n\u001b[1;32m----> 1\u001b[1;33m \u001b[0minspect\u001b[0m\u001b[1;33m.\u001b[0m\u001b[0mgetclasstree\u001b[0m\u001b[1;33m(\u001b[0m\u001b[0maxes\u001b[0m\u001b[1;33m.\u001b[0m\u001b[0mAxes\u001b[0m\u001b[1;33m)\u001b[0m\u001b[1;33m\u001b[0m\u001b[1;33m\u001b[0m\u001b[0m\n\u001b[0m",
      "\u001b[1;32md:\\apps\\python37\\lib\\inspect.py\u001b[0m in \u001b[0;36mgetclasstree\u001b[1;34m(classes, unique)\u001b[0m\n\u001b[0;32m    996\u001b[0m     \u001b[0mchildren\u001b[0m \u001b[1;33m=\u001b[0m \u001b[1;33m{\u001b[0m\u001b[1;33m}\u001b[0m\u001b[1;33m\u001b[0m\u001b[1;33m\u001b[0m\u001b[0m\n\u001b[0;32m    997\u001b[0m     \u001b[0mroots\u001b[0m \u001b[1;33m=\u001b[0m \u001b[1;33m[\u001b[0m\u001b[1;33m]\u001b[0m\u001b[1;33m\u001b[0m\u001b[1;33m\u001b[0m\u001b[0m\n\u001b[1;32m--> 998\u001b[1;33m     \u001b[1;32mfor\u001b[0m \u001b[0mc\u001b[0m \u001b[1;32min\u001b[0m \u001b[0mclasses\u001b[0m\u001b[1;33m:\u001b[0m\u001b[1;33m\u001b[0m\u001b[1;33m\u001b[0m\u001b[0m\n\u001b[0m\u001b[0;32m    999\u001b[0m         \u001b[1;32mif\u001b[0m \u001b[0mc\u001b[0m\u001b[1;33m.\u001b[0m\u001b[0m__bases__\u001b[0m\u001b[1;33m:\u001b[0m\u001b[1;33m\u001b[0m\u001b[1;33m\u001b[0m\u001b[0m\n\u001b[0;32m   1000\u001b[0m             \u001b[1;32mfor\u001b[0m \u001b[0mparent\u001b[0m \u001b[1;32min\u001b[0m \u001b[0mc\u001b[0m\u001b[1;33m.\u001b[0m\u001b[0m__bases__\u001b[0m\u001b[1;33m:\u001b[0m\u001b[1;33m\u001b[0m\u001b[1;33m\u001b[0m\u001b[0m\n",
      "\u001b[1;31mTypeError\u001b[0m: 'type' object is not iterable"
     ]
    }
   ],
   "source": [
    "inspect.getclasstree(axes.Axes)"
   ]
  },
  {
   "cell_type": "code",
   "execution_count": 15,
   "metadata": {
    "collapsed": true,
    "jupyter": {
     "outputs_hidden": true
    }
   },
   "outputs": [
    {
     "data": {
      "text/plain": [
       "\u001b[1;31mInit signature:\u001b[0m\n",
       "\u001b[0maxes\u001b[0m\u001b[1;33m.\u001b[0m\u001b[0mAxes\u001b[0m\u001b[1;33m(\u001b[0m\u001b[1;33m\n",
       "\u001b[0m    \u001b[0mfig\u001b[0m\u001b[1;33m,\u001b[0m\u001b[1;33m\n",
       "\u001b[0m    \u001b[0mrect\u001b[0m\u001b[1;33m,\u001b[0m\u001b[1;33m\n",
       "\u001b[0m    \u001b[0mfacecolor\u001b[0m\u001b[1;33m=\u001b[0m\u001b[1;32mNone\u001b[0m\u001b[1;33m,\u001b[0m\u001b[1;33m\n",
       "\u001b[0m    \u001b[0mframeon\u001b[0m\u001b[1;33m=\u001b[0m\u001b[1;32mTrue\u001b[0m\u001b[1;33m,\u001b[0m\u001b[1;33m\n",
       "\u001b[0m    \u001b[0msharex\u001b[0m\u001b[1;33m=\u001b[0m\u001b[1;32mNone\u001b[0m\u001b[1;33m,\u001b[0m\u001b[1;33m\n",
       "\u001b[0m    \u001b[0msharey\u001b[0m\u001b[1;33m=\u001b[0m\u001b[1;32mNone\u001b[0m\u001b[1;33m,\u001b[0m\u001b[1;33m\n",
       "\u001b[0m    \u001b[0mlabel\u001b[0m\u001b[1;33m=\u001b[0m\u001b[1;34m''\u001b[0m\u001b[1;33m,\u001b[0m\u001b[1;33m\n",
       "\u001b[0m    \u001b[0mxscale\u001b[0m\u001b[1;33m=\u001b[0m\u001b[1;32mNone\u001b[0m\u001b[1;33m,\u001b[0m\u001b[1;33m\n",
       "\u001b[0m    \u001b[0myscale\u001b[0m\u001b[1;33m=\u001b[0m\u001b[1;32mNone\u001b[0m\u001b[1;33m,\u001b[0m\u001b[1;33m\n",
       "\u001b[0m    \u001b[1;33m**\u001b[0m\u001b[0mkwargs\u001b[0m\u001b[1;33m,\u001b[0m\u001b[1;33m\n",
       "\u001b[0m\u001b[1;33m)\u001b[0m\u001b[1;33m\u001b[0m\u001b[1;33m\u001b[0m\u001b[0m\n",
       "\u001b[1;31mDocstring:\u001b[0m     \n",
       "The :class:`Axes` contains most of the figure elements:\n",
       ":class:`~matplotlib.axis.Axis`, :class:`~matplotlib.axis.Tick`,\n",
       ":class:`~matplotlib.lines.Line2D`, :class:`~matplotlib.text.Text`,\n",
       ":class:`~matplotlib.patches.Polygon`, etc., and sets the\n",
       "coordinate system.\n",
       "\n",
       "The :class:`Axes` instance supports callbacks through a callbacks\n",
       "attribute which is a :class:`~matplotlib.cbook.CallbackRegistry`\n",
       "instance.  The events you can connect to are 'xlim_changed' and\n",
       "'ylim_changed' and the callback will be called with func(*ax*)\n",
       "where *ax* is the :class:`Axes` instance.\n",
       "\n",
       "Attributes\n",
       "----------\n",
       "dataLim : `.BBox`\n",
       "    The bounding box enclosing all data displayed in the Axes.\n",
       "viewLim : `.BBox`\n",
       "    The view limits in data coordinates.\n",
       "\u001b[1;31mInit docstring:\u001b[0m\n",
       "Build an axes in a figure.\n",
       "\n",
       "Parameters\n",
       "----------\n",
       "fig : `~matplotlib.figure.Figure`\n",
       "    The axes is build in the `.Figure` *fig*.\n",
       "\n",
       "rect : [left, bottom, width, height]\n",
       "    The axes is build in the rectangle *rect*. *rect* is in\n",
       "    `.Figure` coordinates.\n",
       "\n",
       "sharex, sharey : `~.axes.Axes`, optional\n",
       "    The x or y `~.matplotlib.axis` is shared with the x or\n",
       "    y axis in the input `~.axes.Axes`.\n",
       "\n",
       "frameon : bool, optional\n",
       "    True means that the axes frame is visible.\n",
       "\n",
       "**kwargs\n",
       "    Other optional keyword arguments:\n",
       "      adjustable: {'box', 'datalim'}\n",
       "  agg_filter: a filter function, which takes a (m, n, 3) float array and a dpi value, and returns a (m, n, 3) array\n",
       "  alpha: float\n",
       "  anchor: 2-tuple of floats or {'C', 'SW', 'S', 'SE', ...}\n",
       "  animated: bool\n",
       "  aspect: {'auto', 'equal'} or num\n",
       "  autoscale_on: bool\n",
       "  autoscalex_on: bool\n",
       "  autoscaley_on: bool\n",
       "  axes_locator: Callable[[Axes, Renderer], Bbox]\n",
       "  axisbelow: bool or 'line'\n",
       "  clip_box: `.Bbox`\n",
       "  clip_on: bool\n",
       "  clip_path: [(`~matplotlib.path.Path`, `.Transform`) | `.Patch` | None]\n",
       "  contains: callable\n",
       "  facecolor: color\n",
       "  fc: color\n",
       "  figure: `.Figure`\n",
       "  frame_on: bool\n",
       "  gid: str\n",
       "  in_layout: bool\n",
       "  label: object\n",
       "  navigate: bool\n",
       "  navigate_mode: unknown\n",
       "  path_effects: `.AbstractPathEffect`\n",
       "  picker: None or bool or float or callable\n",
       "  position: [left, bottom, width, height] or `~matplotlib.transforms.Bbox`\n",
       "  rasterization_zorder: float or None\n",
       "  rasterized: bool or None\n",
       "  sketch_params: (scale: float, length: float, randomness: float)\n",
       "  snap: bool or None\n",
       "  title: str\n",
       "  transform: `.Transform`\n",
       "  url: str\n",
       "  visible: bool\n",
       "  xbound: unknown\n",
       "  xlabel: str\n",
       "  xlim: (left: float, right: float)\n",
       "  xmargin: float greater than -0.5\n",
       "  xscale: {\"linear\", \"log\", \"symlog\", \"logit\", ...}\n",
       "  xticklabels: List[str]\n",
       "  xticks: list\n",
       "  ybound: unknown\n",
       "  ylabel: str\n",
       "  ylim: (bottom: float, top: float)\n",
       "  ymargin: float greater than -0.5\n",
       "  yscale: {\"linear\", \"log\", \"symlog\", \"logit\", ...}\n",
       "  yticklabels: List[str]\n",
       "  yticks: list\n",
       "  zorder: float\n",
       "\n",
       "Returns\n",
       "-------\n",
       "axes : `~.axes.Axes`\n",
       "    The new `~.axes.Axes` object.\n",
       "\u001b[1;31mFile:\u001b[0m           d:\\apps\\python37\\lib\\site-packages\\matplotlib\\axes\\_axes.py\n",
       "\u001b[1;31mType:\u001b[0m           type\n",
       "\u001b[1;31mSubclasses:\u001b[0m     AxesSubplot, GeoAxes, PolarAxes\n"
      ]
     },
     "metadata": {},
     "output_type": "display_data"
    }
   ],
   "source": [
    "axes.Axes?"
   ]
  },
  {
   "cell_type": "code",
   "execution_count": null,
   "metadata": {},
   "outputs": [],
   "source": []
  },
  {
   "cell_type": "code",
   "execution_count": null,
   "metadata": {},
   "outputs": [],
   "source": [
    "def plot(self, *args, scalex=True, scaley=True, data=None, **kwargs):\n",
    "    kwargs = cbook.normalize_kwargs(kwargs, mlines.Line2D)\n",
    "        lines = [*self._get_lines(*args, data=data, **kwargs)]\n",
    "        for line in lines:\n",
    "            self.add_line(line)\n",
    "        self._request_autoscale_view(scalex=scalex, scaley=scaley)\n",
    "        return lines"
   ]
  },
  {
   "cell_type": "code",
   "execution_count": null,
   "metadata": {},
   "outputs": [],
   "source": [
    "def cla(self):\n",
    "    \"\"\"Clear the current axes.\"\"\"\n",
    "    # Note: this is called by Axes.__init__()\n",
    "\n",
    "    # stash the current visibility state\n",
    "    self._get_lines = _process_plot_var_args(self)"
   ]
  },
  {
   "cell_type": "code",
   "execution_count": 22,
   "metadata": {},
   "outputs": [],
   "source": [
    "class C():\n",
    "    def __init__(self):\n",
    "        print(\"i am init\")\n",
    "    def f(self):\n",
    "        print(\"i am f\")"
   ]
  },
  {
   "cell_type": "code",
   "execution_count": 23,
   "metadata": {},
   "outputs": [
    {
     "name": "stdout",
     "output_type": "stream",
     "text": [
      "i am init\n"
     ]
    }
   ],
   "source": [
    "c = C()"
   ]
  },
  {
   "cell_type": "code",
   "execution_count": 16,
   "metadata": {},
   "outputs": [
    {
     "name": "stdout",
     "output_type": "stream",
     "text": [
      "i am f\n"
     ]
    }
   ],
   "source": [
    "c.f()"
   ]
  },
  {
   "cell_type": "code",
   "execution_count": 20,
   "metadata": {},
   "outputs": [
    {
     "name": "stdout",
     "output_type": "stream",
     "text": [
      "i am f\n"
     ]
    }
   ],
   "source": [
    "C.f(C)"
   ]
  },
  {
   "cell_type": "markdown",
   "metadata": {},
   "source": [
    "冷知识\n",
    "\n",
    "x 与 y 作为关键字参数名时会出现 plot got an unexpected keyword argument 'x' 的提示"
   ]
  }
 ],
 "metadata": {
  "kernelspec": {
   "display_name": "Python 3",
   "language": "python",
   "name": "python3"
  },
  "language_info": {
   "codemirror_mode": {
    "name": "ipython",
    "version": 3
   },
   "file_extension": ".py",
   "mimetype": "text/x-python",
   "name": "python",
   "nbconvert_exporter": "python",
   "pygments_lexer": "ipython3",
   "version": "3.7.5"
  }
 },
 "nbformat": 4,
 "nbformat_minor": 4
}
