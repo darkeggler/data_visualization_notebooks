{
 "cells": [
  {
   "cell_type": "markdown",
   "metadata": {},
   "source": [
    "# matplotlib基础"
   ]
  },
  {
   "cell_type": "markdown",
   "metadata": {},
   "source": [
    "众所周知，matplotlib的图表是由艺术家使用渲染器在画布上完成的。\n",
    "\n",
    "其API自然分为3层：\n",
    "\n",
    "- 画布是绘制图形的区域：matplotlib.backend_bases.FigureCanvas \n",
    "- 渲染器是知晓如何在画布上绘制的对象：matplotlib.backend_bases.Renderer \n",
    "- 艺术家是知晓如何使用渲染器在画布上绘制的对象：matplotlib.artist.Artist\n",
    "\n",
    "FigureCanvas和Renderer处理与诸如wxPython之类的用户界面工具包，或PostScript®之类的绘图语言会话的所有细节，而Artist处理所有高级结构，如表示和布置图形，文本和线条。\n",
    "\n",
    "艺术家有两种类型：图元与容器。图元表示绘制在画布上的标准图形对象，如：Line2D，Rectangle，Text，AxesImage等，容器是放置图元的位置如：Axis，Axes和Figure。标准用法是创建一个Figure实例，使用Figure来创建一个或多个Axes或Subplot实例，并使用Axes实例的辅助方法创建图元。\n",
    "\n",
    "有很多人将Figure当作画布，其实它是长的像画布的艺术家。"
   ]
  },
  {
   "cell_type": "markdown",
   "metadata": {},
   "source": [
    "<@-<"
   ]
  },
  {
   "cell_type": "markdown",
   "metadata": {},
   "source": [
    "既然是基础，我们就从最简单的地方开始。\n",
    "\n",
    "path模块处理matplotlib中所有的polyline\n",
    "而处理polyline的基础类是Path\n",
    "Path与MarkerStyle一样，基类都是object而不是Artist\n",
    "\n",
    "为什么我会知道MarkerStyle，过程时这样的，我在写[Python可视化实践-手机篇]时，图1想从散点图改成折线图，但有几个问题没想明白，就想认真的学一遍plot折线图，我们都知道plot方法的本质是配置Line2D实例，Line2D是Artist的子类，它包括顶点及连接它们的线段。而顶点的标记是通过MarkerStyle类调用Path实现的。\n",
    "\n",
    "既然Path不是Artist的子类，自然就不能被渲染器绘制到画布上。所有matplotlib中就需要有Artist的子类来处理Path， PathPatch与PathCollection就是这样的子类。\n",
    "\n",
    "实际上Path对象是所有matplotlib.patches对象的基础。\n",
    "\n",
    "Path对象除了包含一组顶点作为路点以外，还包含一组6个标准命令。\n",
    "```python\n",
    "\n",
    "code_type = np.uint8\n",
    "\n",
    "# Path codes\n",
    "STOP = code_type(0)         # 1 vertex\n",
    "MOVETO = code_type(1)       # 1 vertex\n",
    "LINETO = code_type(2)       # 1 vertex\n",
    "CURVE3 = code_type(3)       # 2 vertices\n",
    "CURVE4 = code_type(4)       # 3 vertices\n",
    "CLOSEPOLY = code_type(79)   # 1 vertex\n",
    "\n",
    "#: A dictionary mapping Path codes to the number of vertices that the\n",
    "#: code expects.\n",
    "NUM_VERTICES_FOR_CODE = {STOP: 1,\n",
    "                         MOVETO: 1,\n",
    "                         LINETO: 1,\n",
    "                         CURVE3: 2,\n",
    "                         CURVE4: 3,\n",
    "                         CLOSEPOLY: 1}\n",
    "```\n",
    "\n",
    "所以Path实例化时就需要(N, 2)的顶点数组及N-length的路径命令数组。"
   ]
  },
  {
   "cell_type": "markdown",
   "metadata": {},
   "source": [
    "多说无益，以图示例"
   ]
  },
  {
   "cell_type": "code",
   "execution_count": 7,
   "metadata": {},
   "outputs": [],
   "source": [
    "import matplotlib.pyplot as plt\n",
    "from matplotlib.path import Path\n",
    "import matplotlib.patches as patches"
   ]
  },
  {
   "cell_type": "code",
   "execution_count": 8,
   "metadata": {},
   "outputs": [],
   "source": [
    "%matplotlib inline"
   ]
  },
  {
   "cell_type": "code",
   "execution_count": 3,
   "metadata": {},
   "outputs": [],
   "source": [
    "verts = [\n",
    "   (-0.5, -0.5),  # 左, 下\n",
    "   (-0.5,  0.5),  # 左, 上\n",
    "   ( 0.5,  0.5),  # 右, 上\n",
    "   ( 0.5, -0.5),  # 右, 下\n",
    "   (-0.5, -0.5),  # 忽略\n",
    "]"
   ]
  },
  {
   "cell_type": "code",
   "execution_count": 4,
   "metadata": {},
   "outputs": [],
   "source": [
    "codes = [\n",
    "    Path.MOVETO,\n",
    "    Path.LINETO,\n",
    "    Path.LINETO,\n",
    "    Path.LINETO,\n",
    "    Path.CLOSEPOLY,\n",
    "]"
   ]
  },
  {
   "cell_type": "code",
   "execution_count": 5,
   "metadata": {},
   "outputs": [],
   "source": [
    "path = Path(verts, codes)\n",
    "patch = patches.PathPatch(path)"
   ]
  },
  {
   "cell_type": "code",
   "execution_count": 6,
   "metadata": {},
   "outputs": [
    {
     "data": {
      "application/vnd.jupyter.widget-view+json": {
       "model_id": "14413badd7bd463299ece384d7373e5f",
       "version_major": 2,
       "version_minor": 0
      },
      "text/plain": [
       "Canvas(toolbar=Toolbar(toolitems=[('Home', 'Reset original view', 'home', 'home'), ('Back', 'Back to previous …"
      ]
     },
     "metadata": {},
     "output_type": "display_data"
    }
   ],
   "source": [
    "fig = plt.figure()"
   ]
  },
  {
   "cell_type": "code",
   "execution_count": 7,
   "metadata": {},
   "outputs": [
    {
     "data": {
      "text/plain": [
       "<matplotlib.patches.PathPatch at 0x6d1d5b0>"
      ]
     },
     "execution_count": 7,
     "metadata": {},
     "output_type": "execute_result"
    }
   ],
   "source": [
    "fig.add_artist(patch)"
   ]
  },
  {
   "cell_type": "markdown",
   "metadata": {},
   "source": [
    "和你想的一样，只能看到矩形的一角，这是因为Figure的坐标区间是[(0,1),(0,1]\n",
    "\n",
    "有人说这很像海龟，其实差别还是挺大的，海龟的命令比较多，而且风格是向前爬10步；左转，向前爬10步；左转，向前爬10步；左转，向前爬10步！"
   ]
  },
  {
   "cell_type": "code",
   "execution_count": null,
   "metadata": {},
   "outputs": [],
   "source": [
    "言归正传，要看到整个矩形的最简单办法是在Figure中加入坐标空间Axes，之后在Axes空间中制图，坐标系就会自动转换。我们再来一次。"
   ]
  },
  {
   "cell_type": "code",
   "execution_count": 13,
   "metadata": {},
   "outputs": [],
   "source": [
    "fig.clf()"
   ]
  },
  {
   "cell_type": "code",
   "execution_count": 14,
   "metadata": {},
   "outputs": [],
   "source": [
    "ax = fig.add_subplot(111)"
   ]
  },
  {
   "cell_type": "code",
   "execution_count": 15,
   "metadata": {},
   "outputs": [
    {
     "data": {
      "text/plain": [
       "<matplotlib.patches.PathPatch at 0x8188350>"
      ]
     },
     "execution_count": 15,
     "metadata": {},
     "output_type": "execute_result"
    }
   ],
   "source": [
    "patch2 = patches.PathPatch(path)\n",
    "ax.add_patch(patch2)"
   ]
  },
  {
   "cell_type": "code",
   "execution_count": 16,
   "metadata": {},
   "outputs": [
    {
     "data": {
      "text/plain": [
       "(-1, 1)"
      ]
     },
     "execution_count": 16,
     "metadata": {},
     "output_type": "execute_result"
    }
   ],
   "source": [
    "ax.set_xlim(-1, 1)\n",
    "ax.set_ylim(-1, 1)"
   ]
  },
  {
   "cell_type": "markdown",
   "metadata": {},
   "source": [
    "如果不新建patch2，而是直接加入patch会是什么样的效果呢？有兴趣可以自己试试，想想为什么？\n",
    "\n",
    "坑已挖好，有缘再填。"
   ]
  },
  {
   "cell_type": "code",
   "execution_count": 9,
   "metadata": {},
   "outputs": [],
   "source": [
    "verts = [\n",
    "   (0., 0.),   # P0\n",
    "   (0.2, 1.),  # P1\n",
    "   (1., 0.8),  # P2\n",
    "   (0.8, 0.),  # P3\n",
    "]\n",
    "\n",
    "codes = [\n",
    "    Path.MOVETO,\n",
    "    Path.CURVE4,\n",
    "    Path.CURVE4,\n",
    "    Path.CURVE4,\n",
    "]"
   ]
  },
  {
   "cell_type": "code",
   "execution_count": 10,
   "metadata": {},
   "outputs": [],
   "source": [
    "path = Path(verts, codes)"
   ]
  },
  {
   "cell_type": "code",
   "execution_count": 12,
   "metadata": {},
   "outputs": [],
   "source": [
    "patch = patches.PathPatch(path)"
   ]
  },
  {
   "cell_type": "code",
   "execution_count": 11,
   "metadata": {},
   "outputs": [
    {
     "data": {
      "image/png": "[encoded data removed]",
      "text/plain": [
       "<Figure size 432x288 with 1 Axes>"
      ]
     },
     "metadata": {
      "needs_background": "light"
     },
     "output_type": "display_data"
    }
   ],
   "source": [
    "fig, ax = plt.subplots()"
   ]
  },
  {
   "cell_type": "code",
   "execution_count": 13,
   "metadata": {},
   "outputs": [
    {
     "data": {
      "text/plain": [
       "<matplotlib.patches.PathPatch at 0x144df7bcb08>"
      ]
     },
     "execution_count": 13,
     "metadata": {},
     "output_type": "execute_result"
    }
   ],
   "source": [
    "ax.add_patch(patch)"
   ]
  },
  {
   "cell_type": "code",
   "execution_count": 14,
   "metadata": {},
   "outputs": [
    {
     "data": {
      "image/png": "[encoded data removed]",
      "text/plain": [
       "<Figure size 432x288 with 1 Axes>"
      ]
     },
     "execution_count": 14,
     "metadata": {},
     "output_type": "execute_result"
    }
   ],
   "source": [
    "fig"
   ]
  },
  {
   "cell_type": "code",
   "execution_count": null,
   "metadata": {},
   "outputs": [],
   "source": []
  },
  {
   "cell_type": "markdown",
   "metadata": {},
   "source": [
    "如果点数不够呢"
   ]
  },
  {
   "cell_type": "code",
   "execution_count": 38,
   "metadata": {},
   "outputs": [],
   "source": [
    "verts = [\n",
    "   (0., 0.),   # P0\n",
    "   (0.2, 1.),  # P1\n",
    "   (1., 0.8),  # P2\n",
    "]\n",
    "\n",
    "codes = [\n",
    "    Path.MOVETO,\n",
    "    Path.CURVE3,\n",
    "    Path.CURVE3,\n",
    "]"
   ]
  },
  {
   "cell_type": "code",
   "execution_count": 39,
   "metadata": {},
   "outputs": [],
   "source": [
    "path2 = Path(verts, codes)"
   ]
  },
  {
   "cell_type": "code",
   "execution_count": 40,
   "metadata": {},
   "outputs": [],
   "source": [
    "patch2 = patches.PathPatch(path2, facecolor='none')"
   ]
  },
  {
   "cell_type": "code",
   "execution_count": 41,
   "metadata": {},
   "outputs": [],
   "source": [
    "ax.cla()"
   ]
  },
  {
   "cell_type": "code",
   "execution_count": 42,
   "metadata": {},
   "outputs": [
    {
     "data": {
      "text/plain": [
       "<matplotlib.patches.PathPatch at 0x144e053d648>"
      ]
     },
     "execution_count": 42,
     "metadata": {},
     "output_type": "execute_result"
    }
   ],
   "source": [
    "ax.add_patch(patch2)"
   ]
  },
  {
   "cell_type": "code",
   "execution_count": 43,
   "metadata": {},
   "outputs": [
    {
     "data": {
      "image/png": "[encoded data removed]",
      "text/plain": [
       "<Figure size 432x288 with 1 Axes>"
      ]
     },
     "execution_count": 43,
     "metadata": {},
     "output_type": "execute_result"
    }
   ],
   "source": [
    "fig"
   ]
  },
  {
   "cell_type": "code",
   "execution_count": null,
   "metadata": {},
   "outputs": [],
   "source": []
  }
 ],
 "metadata": {
  "kernelspec": {
   "display_name": "Python 3",
   "language": "python",
   "name": "python3"
  },
  "language_info": {
   "codemirror_mode": {
    "name": "ipython",
    "version": 3
   },
   "file_extension": ".py",
   "mimetype": "text/x-python",
   "name": "python",
   "nbconvert_exporter": "python",
   "pygments_lexer": "ipython3",
   "version": "3.7.5"
  }
 },
 "nbformat": 4,
 "nbformat_minor": 4
}
