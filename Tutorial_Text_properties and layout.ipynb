{
 "cells": [
  {
   "cell_type": "markdown",
   "metadata": {},
   "source": [
    "# properties and layout"
   ]
  },
  {
   "cell_type": "markdown",
   "metadata": {},
   "source": [
    "Controlling properties of text and its layout with Matplotlib.\n",
    "\n",
    "matplotlib.text.Text instances have a variety of properties which can be configured via keyword arguments to set_title, set_xlabel, text, etc."
   ]
  },
  {
   "cell_type": "markdown",
   "metadata": {},
   "source": [
    "使用Matplotlib控制文本的属性及其布局。\n",
    "\n",
    "matplotlib.text.Text实例有多种属性，可以通过文本命令的字参数进行配置"
   ]
  },
  {
   "cell_type": "markdown",
   "metadata": {},
   "source": [
    "alpha \tfloat\n",
    "backgroundcolor \tany matplotlib color\n",
    "bbox \tRectangle prop dict plus key 'pad' which is a pad in points\n",
    "clip_box \ta matplotlib.transform.Bbox instance\n",
    "clip_on \tbool\n",
    "clip_path \ta Path instance and a Transform instance, a Patch\n",
    "color \tany matplotlib color\n",
    "family \t[ 'serif' | 'sans-serif' | 'cursive' | 'fantasy' | 'monospace' ]\n",
    "fontproperties \ta FontProperties instance\n",
    "horizontalalignment or ha \t[ 'center' | 'right' | 'left' ]\n",
    "label \tany string\n",
    "linespacing \tfloat\n",
    "multialignment \t['left' | 'right' | 'center' ]\n",
    "name or fontname \tstring e.g., ['Sans' | 'Courier' | 'Helvetica' ...]\n",
    "picker \t[None|float|boolean|callable]\n",
    "position \t(x, y)\n",
    "rotation \t[ angle in degrees | 'vertical' | 'horizontal' ]\n",
    "size or fontsize \t[ size in points | relative size, e.g., 'smaller', 'x-large' ]\n",
    "style or fontstyle \t[ 'normal' | 'italic' | 'oblique' ]\n",
    "text \tstring or anything printable with '%s' conversion\n",
    "transform \ta Transform instance\n",
    "variant \t[ 'normal' | 'small-caps' ]\n",
    "verticalalignment or va \t[ 'center' | 'top' | 'bottom' | 'baseline' ]\n",
    "visible \tbool\n",
    "weight or fontweight \t[ 'normal' | 'bold' | 'heavy' | 'light' | 'ultrabold' | 'ultralight']\n",
    "x \tfloat\n",
    "y \tfloat\n",
    "zorder \tany number\n",
    "\n",
    "[28]个参数，其中部分继承于Artist"
   ]
  },
  {
   "cell_type": "markdown",
   "metadata": {},
   "source": [
    "> You can lay out text with the alignment arguments horizontalalignment, verticalalignment, and multialignment. horizontalalignment controls whether the x positional argument for the text indicates the left, center or right side of the text bounding box. verticalalignment controls whether the y positional argument for the text indicates the bottom, center or top side of the text bounding box. multialignment, for newline separated strings only, controls whether the different lines are left, center or right justified. Here is an example which uses the text() command to show the various alignment possibilities. The use of transform=ax.transAxes throughout the code indicates that the coordinates are given relative to the axes bounding box, with (0, 0) being the lower left of the axes and (1, 1) the upper right.\n",
    "\n",
    "使用对齐参数horizontalalignment, verticalalignment, 和multialignment布置文本。horizontalalignment控制文本位置参数x，指示是否位于文本边界框的左侧，中间或右侧。verticalalignment控制文本位置参数y，指示是否位于文本边界框的底部，中间或顶部。multialignment仅用于换行符分隔的字符串，控制不同的行是左对齐，居中对齐还是右对齐。\n",
    "\n",
    "这是一个使用text（）命令显示各种对齐方式可能性的示例。在整个代码中使用transform = ax.transAxes表示相对于轴边界框给出了坐标，其中（0，0）是轴坐标的左下角，而（1，1）是右上角。"
   ]
  },
  {
   "cell_type": "code",
   "execution_count": null,
   "metadata": {},
   "outputs": [],
   "source": []
  }
 ],
 "metadata": {
  "kernelspec": {
   "display_name": "Python 3",
   "language": "python",
   "name": "python3"
  },
  "language_info": {
   "codemirror_mode": {
    "name": "ipython",
    "version": 3
   },
   "file_extension": ".py",
   "mimetype": "text/x-python",
   "name": "python",
   "nbconvert_exporter": "python",
   "pygments_lexer": "ipython3",
   "version": "3.7.5"
  }
 },
 "nbformat": 4,
 "nbformat_minor": 4
}
