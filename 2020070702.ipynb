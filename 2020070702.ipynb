{
 "cells": [
  {
   "cell_type": "code",
   "execution_count": 1,
   "metadata": {},
   "outputs": [],
   "source": [
    "import matplotlib.cm as cm"
   ]
  },
  {
   "cell_type": "code",
   "execution_count": 2,
   "metadata": {},
   "outputs": [
    {
     "data": {
      "text/plain": [
       "\u001b[1;31mSignature:\u001b[0m \u001b[0mcm\u001b[0m\u001b[1;33m.\u001b[0m\u001b[0mget_cmap\u001b[0m\u001b[1;33m(\u001b[0m\u001b[0mname\u001b[0m\u001b[1;33m=\u001b[0m\u001b[1;32mNone\u001b[0m\u001b[1;33m,\u001b[0m \u001b[0mlut\u001b[0m\u001b[1;33m=\u001b[0m\u001b[1;32mNone\u001b[0m\u001b[1;33m)\u001b[0m\u001b[1;33m\u001b[0m\u001b[1;33m\u001b[0m\u001b[0m\n",
       "\u001b[1;31mDocstring:\u001b[0m\n",
       "Get a colormap instance, defaulting to rc values if *name* is None.\n",
       "\n",
       "Colormaps added with :func:`register_cmap` take precedence over\n",
       "built-in colormaps.\n",
       "\n",
       "Parameters\n",
       "----------\n",
       "name : `matplotlib.colors.Colormap` or str or None, default: None\n",
       "    If a `Colormap` instance, it will be returned.  Otherwise, the name of\n",
       "    a colormap known to Matplotlib, which will be resampled by *lut*.  The\n",
       "    default, None, means :rc:`image.cmap`.\n",
       "lut : int or None, default: None\n",
       "    If *name* is not already a Colormap instance and *lut* is not None, the\n",
       "    colormap will be resampled to have *lut* entries in the lookup table.\n",
       "\u001b[1;31mFile:\u001b[0m      c:\\users\\gu\\appdata\\local\\programs\\python\\python37\\lib\\site-packages\\matplotlib\\cm.py\n",
       "\u001b[1;31mType:\u001b[0m      function\n"
      ]
     },
     "metadata": {},
     "output_type": "display_data"
    }
   ],
   "source": [
    "cm.get_cmap?"
   ]
  },
  {
   "cell_type": "code",
   "execution_count": 6,
   "metadata": {},
   "outputs": [],
   "source": [
    "l = cm.get_cmap()"
   ]
  },
  {
   "cell_type": "code",
   "execution_count": 8,
   "metadata": {},
   "outputs": [
    {
     "data": {
      "text/plain": [
       "256"
      ]
     },
     "execution_count": 8,
     "metadata": {},
     "output_type": "execute_result"
    }
   ],
   "source": [
    "len(l.colors)"
   ]
  },
  {
   "cell_type": "code",
   "execution_count": 10,
   "metadata": {},
   "outputs": [
    {
     "data": {
      "text/plain": [
       "(0.120081, 0.622161, 0.534946, 1.0)"
      ]
     },
     "execution_count": 10,
     "metadata": {},
     "output_type": "execute_result"
    }
   ],
   "source": [
    "l(0.56)"
   ]
  },
  {
   "cell_type": "code",
   "execution_count": 11,
   "metadata": {},
   "outputs": [
    {
     "data": {
      "text/plain": [
       "array([[0.267004, 0.004874, 0.329415, 1.      ],\n",
       "       [0.26851 , 0.009605, 0.335427, 1.      ],\n",
       "       [0.269944, 0.014625, 0.341379, 1.      ],\n",
       "       [0.271305, 0.019942, 0.347269, 1.      ],\n",
       "       [0.272594, 0.025563, 0.353093, 1.      ],\n",
       "       [0.273809, 0.031497, 0.358853, 1.      ],\n",
       "       [0.274952, 0.037752, 0.364543, 1.      ],\n",
       "       [0.276022, 0.044167, 0.370164, 1.      ]])"
      ]
     },
     "execution_count": 11,
     "metadata": {},
     "output_type": "execute_result"
    }
   ],
   "source": [
    "l(range(8))"
   ]
  },
  {
   "cell_type": "code",
   "execution_count": null,
   "metadata": {},
   "outputs": [],
   "source": []
  }
 ],
 "metadata": {
  "kernelspec": {
   "display_name": "Python 3",
   "language": "python",
   "name": "python3"
  },
  "language_info": {
   "codemirror_mode": {
    "name": "ipython",
    "version": 3
   },
   "file_extension": ".py",
   "mimetype": "text/x-python",
   "name": "python",
   "nbconvert_exporter": "python",
   "pygments_lexer": "ipython3",
   "version": "3.7.5"
  }
 },
 "nbformat": 4,
 "nbformat_minor": 4
}
