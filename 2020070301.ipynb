{
 "cells": [
  {
   "cell_type": "code",
   "execution_count": 34,
   "metadata": {},
   "outputs": [],
   "source": [
    "import matplotlib.pyplot as plt\n",
    "\n",
    "from matplotlib.patches import Circle\n",
    "from matplotlib.patheffects import withStroke\n",
    "from matplotlib.path import Path\n",
    "from matplotlib.transforms import Affine2D, IdentityTransform\n",
    "from matplotlib.collections import PathCollection\n",
    "\n",
    "import numpy as np"
   ]
  },
  {
   "cell_type": "code",
   "execution_count": 6,
   "metadata": {},
   "outputs": [],
   "source": [
    "%matplotlib widget"
   ]
  },
  {
   "cell_type": "code",
   "execution_count": 2,
   "metadata": {},
   "outputs": [],
   "source": [
    "np.random.seed(19680801)"
   ]
  },
  {
   "cell_type": "code",
   "execution_count": 3,
   "metadata": {},
   "outputs": [],
   "source": [
    "spread = np.random.rand(50) * 100\n",
    "center = np.ones(25) * 50\n",
    "flier_high = np.random.rand(10) * 100 + 100\n",
    "flier_low  = np.random.rand(10) - 100\n",
    "data = np.concatenate((spread, center, flier_high, flier_low))"
   ]
  },
  {
   "cell_type": "code",
   "execution_count": 35,
   "metadata": {},
   "outputs": [
    {
     "data": {
      "application/vnd.jupyter.widget-view+json": {
       "model_id": "f7acd6e3dafa4013b278ded130340569",
       "version_major": 2,
       "version_minor": 0
      },
      "text/plain": [
       "Canvas(toolbar=Toolbar(toolitems=[('Home', 'Reset original view', 'home', 'home'), ('Back', 'Back to previous …"
      ]
     },
     "metadata": {},
     "output_type": "display_data"
    }
   ],
   "source": [
    "fig, ax = plt.subplots()"
   ]
  },
  {
   "cell_type": "code",
   "execution_count": 36,
   "metadata": {},
   "outputs": [
    {
     "data": {
      "text/plain": [
       "{'whiskers': [<matplotlib.lines.Line2D at 0x915a9d0>,\n",
       "  <matplotlib.lines.Line2D at 0x915a110>],\n",
       " 'caps': [<matplotlib.lines.Line2D at 0x7bb2810>,\n",
       "  <matplotlib.lines.Line2D at 0x764ed50>],\n",
       " 'boxes': [<matplotlib.lines.Line2D at 0x9694c10>],\n",
       " 'medians': [<matplotlib.lines.Line2D at 0x91ca790>],\n",
       " 'fliers': [<matplotlib.lines.Line2D at 0x9132330>],\n",
       " 'means': []}"
      ]
     },
     "execution_count": 36,
     "metadata": {},
     "output_type": "execute_result"
    }
   ],
   "source": [
    "ax.boxplot(data)"
   ]
  },
  {
   "cell_type": "code",
   "execution_count": 37,
   "metadata": {},
   "outputs": [],
   "source": [
    "px = [0.9, 0.9, .9, 1.1, 1.1, 1.1]\n",
    "py = [-50,  50, 100, -50, 50,  100]"
   ]
  },
  {
   "cell_type": "code",
   "execution_count": 38,
   "metadata": {},
   "outputs": [
    {
     "data": {
      "text/plain": [
       "[<matplotlib.lines.Line2D at 0x969bef0>]"
      ]
     },
     "execution_count": 38,
     "metadata": {},
     "output_type": "execute_result"
    }
   ],
   "source": [
    "ax.plot(px, py, '.')"
   ]
  },
  {
   "cell_type": "code",
   "execution_count": 14,
   "metadata": {},
   "outputs": [],
   "source": [
    "c = Path.unit_circle()"
   ]
  },
  {
   "cell_type": "code",
   "execution_count": 19,
   "metadata": {
    "collapsed": true,
    "jupyter": {
     "outputs_hidden": true
    }
   },
   "outputs": [
    {
     "data": {
      "text/plain": [
       "Path(array([[ 0.        , -0.5       ],\n",
       "       [ 0.13260155, -0.5       ],\n",
       "       [ 0.25978994, -0.44731685],\n",
       "       [ 0.35355339, -0.35355339],\n",
       "       [ 0.44731685, -0.25978994],\n",
       "       [ 0.5       , -0.13260155],\n",
       "       [ 0.5       ,  0.        ],\n",
       "       [ 0.5       ,  0.13260155],\n",
       "       [ 0.44731685,  0.25978994],\n",
       "       [ 0.35355339,  0.35355339],\n",
       "       [ 0.25978994,  0.44731685],\n",
       "       [ 0.13260155,  0.5       ],\n",
       "       [ 0.        ,  0.5       ],\n",
       "       [-0.13260155,  0.5       ],\n",
       "       [-0.25978994,  0.44731685],\n",
       "       [-0.35355339,  0.35355339],\n",
       "       [-0.44731685,  0.25978994],\n",
       "       [-0.5       ,  0.13260155],\n",
       "       [-0.5       ,  0.        ],\n",
       "       [-0.5       , -0.13260155],\n",
       "       [-0.44731685, -0.25978994],\n",
       "       [-0.35355339, -0.35355339],\n",
       "       [-0.25978994, -0.44731685],\n",
       "       [-0.13260155, -0.5       ],\n",
       "       [ 0.        , -0.5       ],\n",
       "       [ 0.        , -0.5       ]]), array([ 1,  4,  4,  4,  4,  4,  4,  4,  4,  4,  4,  4,  4,  4,  4,  4,  4,\n",
       "        4,  4,  4,  4,  4,  4,  4,  4, 79], dtype=uint8))"
      ]
     },
     "execution_count": 19,
     "metadata": {},
     "output_type": "execute_result"
    }
   ],
   "source": [
    "reduction = 1\n",
    "c.transformed(Affine2D().scale(0.5 * reduction))"
   ]
  },
  {
   "cell_type": "code",
   "execution_count": 39,
   "metadata": {},
   "outputs": [],
   "source": [
    "collection = PathCollection((c,), offsets=(px, py))\n",
    "collection.set_transform(IdentityTransform())"
   ]
  },
  {
   "cell_type": "code",
   "execution_count": 40,
   "metadata": {},
   "outputs": [
    {
     "data": {
      "text/plain": [
       "<matplotlib.collections.PathCollection at 0x7bb2990>"
      ]
     },
     "execution_count": 40,
     "metadata": {},
     "output_type": "execute_result"
    }
   ],
   "source": [
    "ax.add_collection( collection )"
   ]
  },
  {
   "cell_type": "code",
   "execution_count": null,
   "metadata": {},
   "outputs": [],
   "source": []
  }
 ],
 "metadata": {
  "kernelspec": {
   "display_name": "Python 3",
   "language": "python",
   "name": "python3"
  },
  "language_info": {
   "codemirror_mode": {
    "name": "ipython",
    "version": 3
   },
   "file_extension": ".py",
   "mimetype": "text/x-python",
   "name": "python",
   "nbconvert_exporter": "python",
   "pygments_lexer": "ipython3",
   "version": "3.7.5"
  }
 },
 "nbformat": 4,
 "nbformat_minor": 4
}
