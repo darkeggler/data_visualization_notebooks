{
 "cells": [
  {
   "cell_type": "markdown",
   "metadata": {},
   "source": [
    "# 学习计划\n",
    "\n",
    "**对象**\n",
    "1. 统计学\n",
    "2. matplotlib\n",
    "\n",
    "**目标**：\n",
    "1. 在知乎的专栏达到双日更新。"
   ]
  },
  {
   "cell_type": "markdown",
   "metadata": {},
   "source": [
    "**资源：**\n",
    "1. [SciPy Cookbook](https://scipy-cookbook.readthedocs.io/index.html)"
   ]
  },
  {
   "cell_type": "markdown",
   "metadata": {},
   "source": [
    "## 1. 统计\n",
    "\n",
    "学习内容：《Head First statistics》, Crash Course: Statistics (45)"
   ]
  },
  {
   "cell_type": "markdown",
   "metadata": {},
   "source": [
    "## 2. matplotlib \n",
    "\n",
    "文章主要分4类：示例，概念，指南，实践"
   ]
  },
  {
   "cell_type": "markdown",
   "metadata": {},
   "source": [
    "### 示例\n",
    "\n",
    "示例主要有3种类型：图表基本实践类，图表的特定功能类以及一般概念展示类。\n",
    "\n",
    "- 图表的基本功能类的统一格式以API介绍开头，之后是API的最简示例，图表简介，官方示例及注释，API实现原理。\n",
    "- 图表的特定功能类的统一格式以API该功能参数介绍，官方示例及注释，API实现原理。\n",
    "- 一般概念展示类待定"
   ]
  },
  {
   "cell_type": "markdown",
   "metadata": {
    "jupyter": {
     "source_hidden": true
    }
   },
   "source": [
    "NO.|Gallery|number\n",
    "--|--|--\n",
    "1|Lines, bars and markers|44\n",
    "2|Images, contours and fields|42\n",
    "3|Subplots, axes and figures|30\n",
    "4|Statistics|20\n",
    "5|Pie and polar charts|9\n",
    "6|Text, labels and annotations|42\n",
    "7|Pyplot|25\n",
    "8|Color|8\n",
    "9|Shapes and collections|16\n",
    "10|Style sheets|7\n",
    "11|Axes Grid|27\n",
    "12|Axis Artist|21\n",
    "13|Showcase|6\n",
    "14|Animation|12\n",
    "15|Event handling|21\n",
    "16|Front Page|4\n",
    "17|Miscellaneous|34\n",
    "18|3D plotting|36\n",
    "19|Our Favorite Recipes|6\n",
    "20|Scales|9\n",
    "21|Specialty Plots|12\n",
    "22|Ticks and spines|21\n",
    "23|Units|10\n",
    "24|Embedding Matplotlib in graphical user interfaces|19\n",
    "25|Userdemo|33\n",
    "26|Widgets|12\n",
    "\n",
    "- s = [44,42,30,20,9,42,25,8,16,7,27,21,6,12,21,4,34,36,6,9,12,21,10,19,33,12]"
   ]
  },
  {
   "cell_type": "code",
   "execution_count": 1,
   "metadata": {},
   "outputs": [],
   "source": [
    "s = [44,42,30,20,9,42,25,8,16,7,27,21,6,12,21,4,34,36,6,9,12,21,10,19,33,12]"
   ]
  },
  {
   "cell_type": "code",
   "execution_count": 5,
   "metadata": {},
   "outputs": [
    {
     "data": {
      "text/plain": [
       "353"
      ]
     },
     "execution_count": 5,
     "metadata": {},
     "output_type": "execute_result"
    }
   ],
   "source": [
    "sum(s[:16]) + 19"
   ]
  },
  {
   "cell_type": "code",
   "execution_count": 3,
   "metadata": {},
   "outputs": [
    {
     "data": {
      "text/plain": [
       "[44, 42, 30, 20, 9, 42, 25, 8, 16]"
      ]
     },
     "execution_count": 3,
     "metadata": {},
     "output_type": "execute_result"
    }
   ],
   "source": [
    "s[:9]"
   ]
  },
  {
   "cell_type": "markdown",
   "metadata": {},
   "source": [
    "自定义符号"
   ]
  },
  {
   "cell_type": "markdown",
   "metadata": {},
   "source": [
    "### 2020-07-10\n",
    "[SVG参考](https://developer.mozilla.org/zh-CN/docs/Web/SVG)  \n",
    "[SVG教程](https://developer.mozilla.org/zh-CN/docs/Web/SVG/Tutorial)\n",
    "\n",
    "[Pygal](http://www.pygal.org/en/stable/index.html)  \n",
    "数据可视化 ==> SVG\n",
    "\n",
    "[svg2tikz](https://github.com/kjellmf/svg2tikz)  \n",
    "[svgpathtools](https://github.com/mathandy/svgpathtools)\n",
    "\n",
    "[Importing an svg file into a matplotlib figure](https://stackoverflow.com/questions/31452451/importing-an-svg-file-into-a-matplotlib-figure)  \n",
    "[jupyter notebook inline plots as svg](https://stackoverflow.com/questions/36622237/jupyter-notebook-inline-plots-as-svg)\n",
    "\n",
    "## Comparison Matplotlib's PGF vs tikzplotlib\n",
    "\n",
    "### matplotlib's PGF backend\n",
    "\n",
    "- Plots will be saved as PGF commands, which are lower-level and thus less suitable for manual editing. This only really matters if you aren't going to go back to Python when you need to change things. (You can also save plots directly to PDF instead.)\n",
    "- The layout will be (more or less) what the matplotlib developers intended.\n",
    "- Any matplotlib plot may be exported.\n",
    "\n",
    "### tikzplotlib\n",
    "\n",
    "- Plots will be saved as PGFPlots (TikZ), which is higher-level and suitable for manual editing.\n",
    "- The details of layout will primarily be determined by PGFPlots rather than matplotlib. Which is better depends on personal preference and the capabilities of the respective programs.\n",
    "- Some types of matplotlib plots may not be supported. You may have to experiment to see what works.\n",
    "\n",
    "### Other considerations\n",
    "\n",
    "Depending on the number and complexity of your plots, inputting the PGF/PGFPlots code may be too slow. You may need to compile the PGF/PGFPlots code to PDF or another format, and input that. The TikZ externalization library may be worth looking at for this.\n",
    "\n",
    "If you find yourself frequently switching between the LaTeX document and Python plotting code, you may want to take a look at my PythonTeX package, which allows you to include Python plotting code within the LaTeX document. With the dependency tracking features, it's possible automatically to update your plots when data changes.\n"
   ]
  },
  {
   "cell_type": "markdown",
   "metadata": {},
   "source": [
    "### 2020-07-09\n",
    "在完成散点图（上）后，有几个方向可以选择：\n",
    "1. 将散点图（上）升级为基础20图\n",
    "2. 开始色彩方面的学习\n",
    "3. 底层基础如Path类的学习\n",
    "\n",
    "对于第三点，底层基础类的学习，一个朴素的想法，在matplotlib中绘制矢量图，例如SVG。\n",
    "\n",
    "实现这一想法的问题：\n",
    "1. 缺乏关于矢量图的知识，SVG\n",
    "\n",
    "几个梯子：\n",
    "1. [python-turtle-draw-svg](https://github.com/tfx2001/python-turtle-draw-svg)\n",
    "2. [turtle-vectorgraph](https://github.com/Seraphir/turtle-vectorgraph/find/master)\n",
    "3. [free-icon-rainbow.com](https://free-icon-rainbow.com/)"
   ]
  },
  {
   "cell_type": "markdown",
   "metadata": {},
   "source": [
    "### 2020-07-02\n",
    "\n",
    "今日休息，昨日对折线图中的记号不会变形很感兴趣。今天就探索一下\n",
    "\n",
    "1. [Adding lines to figures](https://matplotlib.org/gallery/pyplots/fig_x.html#sphx-glr-gallery-pyplots-fig-x-py)\n",
    "\n",
    "总体来说有两个思路，一方面从Line2D下手，另一方面看tutorials"
   ]
  },
  {
   "cell_type": "markdown",
   "metadata": {},
   "source": [
    "### 2020-07-01\n",
    "#### Pyplot.Boxplot Demo[7] - 194\n",
    "\n",
    "图表的基本功能类\n",
    "1. API介绍\n",
    "2. 数据准备\n",
    "\n",
    "，之后是API的最简示例，图表简介，官方示例及注释，API实现原理。"
   ]
  },
  {
   "cell_type": "markdown",
   "metadata": {},
   "source": [
    "### 2020-06-30\n",
    "#### Statistics.Boxplots[4] - 120"
   ]
  },
  {
   "cell_type": "markdown",
   "metadata": {},
   "source": [
    "s = [44,42,30,20,9,42,25,8,16,7,27,21,6,12,21,4,34,36,6,9,12,21,10,19,33,12]"
   ]
  },
  {
   "cell_type": "markdown",
   "metadata": {},
   "source": [
    "### 2020-06-28\n",
    "\n",
    "Axes.bxp\n",
    "\n",
    "gellery.Statistics.Boxplot drawer function(6)"
   ]
  }
 ],
 "metadata": {
  "kernelspec": {
   "display_name": "Python 3",
   "language": "python",
   "name": "python3"
  },
  "language_info": {
   "codemirror_mode": {
    "name": "ipython",
    "version": 3
   },
   "file_extension": ".py",
   "mimetype": "text/x-python",
   "name": "python",
   "nbconvert_exporter": "python",
   "pygments_lexer": "ipython3",
   "version": "3.7.5"
  }
 },
 "nbformat": 4,
 "nbformat_minor": 4
}
