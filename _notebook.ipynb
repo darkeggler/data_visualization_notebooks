{
 "cells": [
  {
   "cell_type": "markdown",
   "metadata": {},
   "source": [
    "# 学习计划\n",
    "\n",
    "**对象**\n",
    "1. 统计学 (1T)\n",
    "2. matplotlib (2T)\n",
    "\n",
    "**目标**：\n",
    "1. 在知乎的专栏达到双日更新。"
   ]
  },
  {
   "cell_type": "markdown",
   "metadata": {},
   "source": [
    "**资源：**\n",
    "1. [SciPy Cookbook](https://scipy-cookbook.readthedocs.io/index.html)\n",
    "2. [cheatsheets](https://github.com/matplotlib/cheatsheets)\n",
    "3. [matplotlib-cheatsheet](https://github.com/rougier/matplotlib-cheatsheet)\n",
    "4. [Matplotlib Cheat Sheet: Plotting in Python](https://www.datacamp.com/community/blog/python-matplotlib-cheat-sheet)\n",
    "5. [Top 50 matplotlib Visualizations – The Master Plots](https://www.machinelearningplus.com/plots/top-50-matplotlib-visualizations-the-master-plots-python/)\n",
    "\n",
    "\n",
    "\n",
    "1. [工具1](https://d.serctl.com/)  \n",
    "2. [工具2](http://g.widyun.com/) \n",
    "3. [代码截图工具_carbon](https://carbon.now.sh)\n",
    "4. [代码截图工具_polacode]\n",
    "5. [wikimili](https://wikimili.com)"
   ]
  },
  {
   "cell_type": "markdown",
   "metadata": {},
   "source": [
    "## 1. 统计\n",
    "\n",
    "学习内容：《Head First statistics》, Crash Course: Statistics (45)"
   ]
  },
  {
   "cell_type": "markdown",
   "metadata": {},
   "source": [
    "## 2. matplotlib \n",
    "\n",
    "文章主要分4类：示例，概念，指南，实践\n",
    "\n",
    "axes.Axes.plot_date()  \n",
    "    文档：[matplotlib.axes.Axes.plot_date](https://matplotlib.org/api/_as_gen/matplotlib.axes.Axes.plot_date.html#matplotlib.axes.Axes.plot_date)  \n",
    "    示例：[Date Demo Convert](https://matplotlib.org/gallery/ticks_and_spines/date_demo_convert.html#sphx-glr-gallery-ticks-and-spines-date-demo-convert-py)  \n",
    "  + **基础**   \n",
    "    - [matplotlib.dates](https://matplotlib.org/api/dates_api.html)\n",
    "    - datetime.datetime\n",
    "    - np.datetime64\n",
    "    - [dateutil - powerful extensions to datetime](https://dateutil.readthedocs.io/en/stable/)\n",
    "    - [matplotlib.ticker](https://matplotlib.org/api/ticker_api.html)"
   ]
  },
  {
   "cell_type": "markdown",
   "metadata": {},
   "source": [
    "## 3. Markdown\n",
    "1. [jupyter markdown](https://jupyter-notebook.readthedocs.io/en/stable/examples/Notebook/Working%20With%20Markdown%20Cells.html#:~:text=Markdown%20Cells%20%C2%B6%20Text%20can%20be%20added%20to,markup%20language%20that%20is%20a%20superset%20of%20HTML.)\n",
    "2. [Markdown: Basics](https://daringfireball.net/projects/markdown/basics)"
   ]
  },
  {
   "cell_type": "markdown",
   "metadata": {},
   "source": [
    "## 4. 数值计算方法与算法\n",
    "[如何学好数值计算方法与算法这门神课？](https://www.zhihu.com/question/38510907)  \n",
    "[中国农业大学 数值计算方法](https://www.bilibili.com/video/av27803928/)\n",
    "[数值计算方法与算法-陈妍-中国农业大学](https://www.yuque.com/lingr7/nhruk5)\n",
    "徐翠薇老师的《计算方法引论》  \n",
    "李庆扬《数值分析》  \n",
    "潘建瑜. 数值分析讲义  "
   ]
  },
  {
   "cell_type": "markdown",
   "metadata": {},
   "source": [
    "## GIMP\n",
    "1. [gimp 取消选区基础教程](https://www.99ku.vip/twjc/33979.html)"
   ]
  },
  {
   "cell_type": "markdown",
   "metadata": {},
   "source": [
    "### 示例\n",
    "\n",
    "示例主要有3种类型：图表基本实践类，图表的特定功能类以及一般概念展示类。\n",
    "\n",
    "- 图表的基本功能类的统一格式以API介绍开头，之后是API的最简示例，图表简介，官方示例及注释，API实现原理。\n",
    "- 图表的特定功能类的统一格式以API该功能参数介绍，官方示例及注释，API实现原理。\n",
    "- 一般概念展示类待定"
   ]
  },
  {
   "cell_type": "markdown",
   "metadata": {},
   "source": [
    "NO.|Gallery|number\n",
    "--|--|--\n",
    "1|Lines, bars and markers|44\n",
    "2|Images, contours and fields|42\n",
    "3|Subplots, axes and figures|30\n",
    "4|Statistics|20\n",
    "5|Pie and polar charts|9\n",
    "6|Text, labels and annotations|42\n",
    "7|Pyplot|25\n",
    "8|Color|8\n",
    "9|Shapes and collections|16\n",
    "10|Style sheets|7\n",
    "11|Axes Grid|27\n",
    "12|Axis Artist|21\n",
    "13|Showcase|6\n",
    "14|Animation|12\n",
    "15|Event handling|21\n",
    "16|Front Page|4\n",
    "17|Miscellaneous|34\n",
    "18|3D plotting|36\n",
    "19|Our Favorite Recipes|6\n",
    "20|Scales|9\n",
    "21|Specialty Plots|12\n",
    "22|Ticks and spines|21\n",
    "23|Units|10\n",
    "24|Embedding Matplotlib in graphical user interfaces|19\n",
    "25|Userdemo|33\n",
    "26|Widgets|12\n",
    "\n",
    "- s = [44,42,30,20,9,42,25,8,16,7,27,21,6,12,21,4,34,36,6,9,12,21,10,19,33,12]"
   ]
  },
  {
   "cell_type": "code",
   "execution_count": 1,
   "metadata": {},
   "outputs": [],
   "source": [
    "s = [44,42,30,20,9,42,25,8,16,7,27,21,6,12,21,4,34,36,6,9,12,21,10,19,33,12]"
   ]
  },
  {
   "cell_type": "code",
   "execution_count": 3,
   "metadata": {},
   "outputs": [
    {
     "data": {
      "text/plain": [
       "[44, 42, 30, 20, 9, 42, 25, 8, 16]"
      ]
     },
     "execution_count": 3,
     "metadata": {},
     "output_type": "execute_result"
    }
   ],
   "source": [
    "s[:9]"
   ]
  },
  {
   "cell_type": "code",
   "execution_count": 4,
   "metadata": {},
   "outputs": [
    {
     "data": {
      "text/plain": [
       "237"
      ]
     },
     "execution_count": 4,
     "metadata": {},
     "output_type": "execute_result"
    }
   ],
   "source": [
    "sum(s[:9]) + 1"
   ]
  },
  {
   "cell_type": "markdown",
   "metadata": {},
   "source": []
  },
  {
   "cell_type": "markdown",
   "metadata": {},
   "source": [
    "### 2020-08-03\n",
    "\n",
    "Axis 是 Axes 的组成部件，也是Artist的子类，Axis本身是XAxis与YAxis的父类，同时也是由许多基础组件合成的复合类型，Text是基础组件之一。\n",
    "\n",
    "Text对象支持FreeType，其mod:font_manager遵从W3C字体发现算法，包含font size, weight, location, color等多种属性，属性支持rc配置文件，mathtext也是支持的。\n",
    "\n",
    "matplotlib提供了一批被称为基础文本命令的方法，比如Figure.suptitle\n",
    "\n",
    "Figure的title没有明确的title对象与之对应，也没有类似文本框的上层对象，LayoutBox有些相似但也不完全相同。title是由Text对象来表示的。由于实现简单，带来的复杂问题是title受figura布局影响的效果。\n",
    "\n",
    "**参考**  \n",
    "[Visualizing Decision Trees with Python (Scikit-learn, Graphviz, Matplotlib)](https://www.codementor.io/@mgalarny/visualizing-decision-trees-with-python-scikit-learn-graphviz-matplotlib-154mszcto7) - 决策树的可视化方法  \n"
   ]
  },
  {
   "cell_type": "markdown",
   "metadata": {},
   "source": [
    "### 2020-07-11\n",
    "\n",
    "\n",
    "\n",
    "如何阅读源码？有什么好工具推荐？\n",
    "- Sourcetrail  体验失败，不知原因。\n",
    "\n",
    "SVG下载\n",
    "- https://lovesvg.com/  \n",
    "- https://simpleicons.org/  \n",
    "- https://ikonate.com/  \n",
    "- https://www.237y.com/svgicon.htm  "
   ]
  },
  {
   "cell_type": "markdown",
   "metadata": {},
   "source": [
    "command \"\"D:/Sourcetrail/data/python/SourcetrailPythonIndexer\" index --source-file-path=\"E:/notebooks/svgpathtools/test/test_sax_groups.py\" --database-file-path=\"E:/notebooks/svgpathtools/svgpathtools.srctrldb_tmp\" --environment-path=\"C:/Users/gu/AppData/Local/Programs/Python/Python37/DLLs\"\" returned code \"-1\"."
   ]
  },
  {
   "cell_type": "markdown",
   "metadata": {},
   "source": [
    "### 2020-07-10\n",
    "[SVG参考](https://developer.mozilla.org/zh-CN/docs/Web/SVG)  \n",
    "[SVG教程](https://developer.mozilla.org/zh-CN/docs/Web/SVG/Tutorial)\n",
    "\n",
    "[Pygal](http://www.pygal.org/en/stable/index.html)  \n",
    "数据可视化 ==> SVG\n",
    "\n",
    "[svg2tikz](https://github.com/kjellmf/svg2tikz)  \n",
    "[svgpathtools](https://github.com/mathandy/svgpathtools)\n",
    "\n",
    "[Importing an svg file into a matplotlib figure](https://stackoverflow.com/questions/31452451/importing-an-svg-file-into-a-matplotlib-figure)  \n",
    "[jupyter notebook inline plots as svg](https://stackoverflow.com/questions/36622237/jupyter-notebook-inline-plots-as-svg)\n",
    "\n",
    "## Comparison Matplotlib's PGF vs tikzplotlib\n",
    "\n",
    "### matplotlib's PGF backend\n",
    "\n",
    "- Plots will be saved as PGF commands, which are lower-level and thus less suitable for manual editing. This only really matters if you aren't going to go back to Python when you need to change things. (You can also save plots directly to PDF instead.)\n",
    "- The layout will be (more or less) what the matplotlib developers intended.\n",
    "- Any matplotlib plot may be exported.\n",
    "\n",
    "### tikzplotlib\n",
    "\n",
    "- Plots will be saved as PGFPlots (TikZ), which is higher-level and suitable for manual editing.\n",
    "- The details of layout will primarily be determined by PGFPlots rather than matplotlib. Which is better depends on personal preference and the capabilities of the respective programs.\n",
    "- Some types of matplotlib plots may not be supported. You may have to experiment to see what works.\n",
    "\n",
    "### Other considerations\n",
    "\n",
    "Depending on the number and complexity of your plots, inputting the PGF/PGFPlots code may be too slow. You may need to compile the PGF/PGFPlots code to PDF or another format, and input that. The TikZ externalization library may be worth looking at for this.\n",
    "\n",
    "If you find yourself frequently switching between the LaTeX document and Python plotting code, you may want to take a look at my PythonTeX package, which allows you to include Python plotting code within the LaTeX document. With the dependency tracking features, it's possible automatically to update your plots when data changes.\n"
   ]
  },
  {
   "cell_type": "markdown",
   "metadata": {},
   "source": [
    "### 2020-07-09\n",
    "在完成散点图（上）后，有几个方向可以选择：\n",
    "1. 将散点图（上）升级为基础20图\n",
    "2. 开始色彩方面的学习\n",
    "3. 底层基础如Path类的学习\n",
    "\n",
    "对于第三点，底层基础类的学习，一个朴素的想法，在matplotlib中绘制矢量图，例如SVG。\n",
    "\n",
    "实现这一想法的问题：\n",
    "1. 缺乏关于矢量图的知识，SVG\n",
    "\n",
    "几个梯子：\n",
    "1. [python-turtle-draw-svg](https://github.com/tfx2001/python-turtle-draw-svg)\n",
    "2. [turtle-vectorgraph](https://github.com/Seraphir/turtle-vectorgraph/find/master)\n",
    "3. [free-icon-rainbow.com](https://free-icon-rainbow.com/)"
   ]
  },
  {
   "cell_type": "markdown",
   "metadata": {},
   "source": [
    "### 2020-07-02\n",
    "\n",
    "今日休息，昨日对折线图中的记号不会变形很感兴趣。今天就探索一下\n",
    "\n",
    "1. [Adding lines to figures](https://matplotlib.org/gallery/pyplots/fig_x.html#sphx-glr-gallery-pyplots-fig-x-py)\n",
    "\n",
    "总体来说有两个思路，一方面从Line2D下手，另一方面看tutorials"
   ]
  },
  {
   "cell_type": "markdown",
   "metadata": {},
   "source": [
    "### 2020-07-01\n",
    "#### Pyplot.Boxplot Demo[7] - 194\n",
    "\n",
    "图表的基本功能类\n",
    "1. API介绍\n",
    "2. 数据准备\n",
    "\n",
    "，之后是API的最简示例，图表简介，官方示例及注释，API实现原理。"
   ]
  }
 ],
 "metadata": {
  "kernelspec": {
   "display_name": "Python 3",
   "language": "python",
   "name": "python3"
  },
  "language_info": {
   "codemirror_mode": {
    "name": "ipython",
    "version": 3
   },
   "file_extension": ".py",
   "mimetype": "text/x-python",
   "name": "python",
   "nbconvert_exporter": "python",
   "pygments_lexer": "ipython3",
   "version": "3.7.5"
  }
 },
 "nbformat": 4,
 "nbformat_minor": 4
}
