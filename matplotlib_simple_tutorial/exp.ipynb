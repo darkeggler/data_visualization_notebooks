{
 "cells": [
  {
   "cell_type": "code",
   "execution_count": 1,
   "metadata": {},
   "outputs": [],
   "source": [
    "import getpass"
   ]
  },
  {
   "cell_type": "code",
   "execution_count": 2,
   "metadata": {},
   "outputs": [
    {
     "data": {
      "text/plain": [
       "\u001b[1;31mType:\u001b[0m        module\n",
       "\u001b[1;31mString form:\u001b[0m <module 'getpass' from 'd:\\\\apps\\\\python37\\\\lib\\\\getpass.py'>\n",
       "\u001b[1;31mFile:\u001b[0m        d:\\apps\\python37\\lib\\getpass.py\n",
       "\u001b[1;31mDocstring:\u001b[0m  \n",
       "Utilities to get a password and/or the current user name.\n",
       "\n",
       "getpass(prompt[, stream]) - Prompt for a password, with echo turned off.\n",
       "getuser() - Get the user name from the environment or password database.\n",
       "\n",
       "GetPassWarning - This UserWarning is issued when getpass() cannot prevent\n",
       "                 echoing of the password contents while reading.\n",
       "\n",
       "On Windows, the msvcrt module will be used.\n"
      ]
     },
     "metadata": {},
     "output_type": "display_data"
    }
   ],
   "source": [
    "getpass?"
   ]
  },
  {
   "cell_type": "code",
   "execution_count": null,
   "metadata": {},
   "outputs": [],
   "source": []
  }
 ],
 "metadata": {
  "kernelspec": {
   "display_name": "Python 3",
   "language": "python",
   "name": "python3"
  },
  "language_info": {
   "codemirror_mode": {
    "name": "ipython",
    "version": 3
   },
   "file_extension": ".py",
   "mimetype": "text/x-python",
   "name": "python",
   "nbconvert_exporter": "python",
   "pygments_lexer": "ipython3",
   "version": "3.7.5"
  }
 },
 "nbformat": 4,
 "nbformat_minor": 4
}
