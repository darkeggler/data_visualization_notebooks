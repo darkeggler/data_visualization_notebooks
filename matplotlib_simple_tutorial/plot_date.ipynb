{
 "cells": [
  {
   "cell_type": "markdown",
   "metadata": {},
   "source": [
    "## 4.plot_date"
   ]
  },
  {
   "cell_type": "markdown",
   "metadata": {},
   "source": [
    "绘制包含日期的数据，不仅是改变轴标签，~更是改变了数据的进制~。matplotlib中有专门的模块[dates](https://matplotlib.org/api/dates_api.html)处理日期与时间。核心的思想是~将日期与时间转换为一定精度内连续的浮点数~使用一定精度内连续的浮点数表示日期与时间，换句话说是将一段连续的浮点数与日期与时间之间建立映射关系。\n",
    "\n",
    "日期与时间是一种复杂的进制表示的连续数据，我们需要做的是用一种简单的数据形式，比如浮点数替换日期与时间的进制方式。这里引入了Epochs的概念，我们将时间轴中的某一点指定为Epochs，比如1970-1-1这个时间点，其它的时间点表示为与Epochs点的距离。如此日期就可以用连续的浮点数表示。\n",
    "\n",
    "dates模块是在python的[dates](https://docs.python.org/3/library/datetime.html)模块与[dateutil](https://dateutil.readthedocs.io/en/stable/)包基础上建立的。"
   ]
  },
  {
   "cell_type": "code",
   "execution_count": 1,
   "metadata": {},
   "outputs": [],
   "source": [
    "import datetime\n",
    "import matplotlib.pyplot as plt\n",
    "from matplotlib.dates import DayLocator, HourLocator, DateFormatter, drange\n",
    "import numpy as np"
   ]
  },
  {
   "cell_type": "code",
   "execution_count": 2,
   "metadata": {},
   "outputs": [],
   "source": [
    "# fake data\n",
    "date1 = datetime.datetime(2000, 3, 2)\n",
    "date2 = datetime.datetime(2000, 3, 6)\n",
    "delta = datetime.timedelta(hours=6)\n",
    "dates = drange(date1, date2, delta)\n",
    "\n",
    "y = np.arange(len(dates))"
   ]
  },
  {
   "cell_type": "code",
   "execution_count": 10,
   "metadata": {},
   "outputs": [
    {
     "data": {
      "text/plain": [
       "dtype('int32')"
      ]
     },
     "execution_count": 10,
     "metadata": {},
     "output_type": "execute_result"
    }
   ],
   "source": [
    "y.dtype"
   ]
  },
  {
   "cell_type": "markdown",
   "metadata": {},
   "source": [
    "我们将准备好的数据分别保存在dates与y变量中，它们的类型都是numpy.ndarray，题目的内容如下：\n",
    "```\n",
    "# dates dtype('float64')\n",
    "[11018.   11018.25 11018.5  11018.75 11019.   11019.25 11019.5  11019.75\n",
    " 11020.   11020.25 11020.5  11020.75 11021.   11021.25 11021.5  11021.75] \n",
    "# y dtype('int32')\n",
    "[ 0  1  2  3  4  5  6  7  8  9 10 11 12 13 14 15]\n",
    "```"
   ]
  },
  {
   "cell_type": "code",
   "execution_count": 4,
   "metadata": {},
   "outputs": [
    {
     "data": {
      "text/plain": [
       "[<matplotlib.lines.Line2D at 0x8308770>]"
      ]
     },
     "execution_count": 4,
     "metadata": {},
     "output_type": "execute_result"
    },
    {
     "data": {
      "image/png": "[encoded data removed]",
      "text/plain": [
       "<Figure size 432x288 with 1 Axes>"
      ]
     },
     "metadata": {
      "needs_background": "light"
     },
     "output_type": "display_data"
    }
   ],
   "source": [
    "fig, ax = plt.subplots()\n",
    "ax.plot_date(dates, y ** 2)"
   ]
  },
  {
   "cell_type": "markdown",
   "metadata": {},
   "source": [
    "- [Date Demo Convert](https://matplotlib.org/gallery/ticks_and_spines/date_demo_convert.html)\n",
    "- [matplotlib.axes.Axes.plot_date](https://matplotlib.org/api/_as_gen/matplotlib.axes.Axes.plot_date.html)\n",
    "- [Date Precision and Epochs](https://matplotlib.org/gallery/ticks_and_spines/date_precision_and_epochs.html)"
   ]
  },
  {
   "cell_type": "markdown",
   "metadata": {},
   "source": [
    "drange是dates模块中定义的函数，类似于range"
   ]
  },
  {
   "cell_type": "code",
   "execution_count": 3,
   "metadata": {},
   "outputs": [],
   "source": []
  },
  {
   "cell_type": "code",
   "execution_count": 7,
   "metadata": {},
   "outputs": [
    {
     "data": {
      "text/plain": [
       "(11018.0, 11021.75)"
      ]
     },
     "execution_count": 7,
     "metadata": {},
     "output_type": "execute_result"
    }
   ],
   "source": [
    "ax.set_xlim(dates[0], dates[-1])"
   ]
  },
  {
   "cell_type": "code",
   "execution_count": 8,
   "metadata": {},
   "outputs": [
    {
     "data": {
      "image/png": "[encoded data removed]",
      "text/plain": [
       "<Figure size 432x288 with 1 Axes>"
      ]
     },
     "execution_count": 8,
     "metadata": {},
     "output_type": "execute_result"
    }
   ],
   "source": [
    "fig"
   ]
  },
  {
   "cell_type": "code",
   "execution_count": 11,
   "metadata": {},
   "outputs": [],
   "source": [
    "ax.xaxis.set_major_locator(DayLocator())"
   ]
  },
  {
   "cell_type": "code",
   "execution_count": 12,
   "metadata": {},
   "outputs": [
    {
     "data": {
      "image/png": "[encoded data removed]",
      "text/plain": [
       "<Figure size 432x288 with 1 Axes>"
      ]
     },
     "execution_count": 12,
     "metadata": {},
     "output_type": "execute_result"
    }
   ],
   "source": [
    "fig"
   ]
  },
  {
   "cell_type": "markdown",
   "metadata": {},
   "source": [
    "Axis.set_major_locator(self, locator) - Set the locator of the major ticker.\n",
    "\n",
    "locator 是什么？"
   ]
  },
  {
   "cell_type": "code",
   "execution_count": 13,
   "metadata": {},
   "outputs": [
    {
     "data": {
      "text/plain": [
       "(11018.0, 11021.75)"
      ]
     },
     "execution_count": 13,
     "metadata": {},
     "output_type": "execute_result"
    }
   ],
   "source": [
    "ax.get_xbound()"
   ]
  },
  {
   "cell_type": "code",
   "execution_count": 14,
   "metadata": {},
   "outputs": [],
   "source": [
    "ax.set_xbound(11018.0, 11020.0)"
   ]
  },
  {
   "cell_type": "code",
   "execution_count": 15,
   "metadata": {},
   "outputs": [
    {
     "data": {
      "image/png": "[encoded data removed]",
      "text/plain": [
       "<Figure size 432x288 with 1 Axes>"
      ]
     },
     "execution_count": 15,
     "metadata": {},
     "output_type": "execute_result"
    }
   ],
   "source": [
    "fig"
   ]
  },
  {
   "cell_type": "code",
   "execution_count": 16,
   "metadata": {},
   "outputs": [
    {
     "data": {
      "text/plain": [
       "(11018.0, 11020.0)"
      ]
     },
     "execution_count": 16,
     "metadata": {},
     "output_type": "execute_result"
    }
   ],
   "source": [
    "ax.get_xlim()"
   ]
  },
  {
   "cell_type": "markdown",
   "metadata": {},
   "source": [
    "### 关于 view limits"
   ]
  },
  {
   "cell_type": "markdown",
   "metadata": {},
   "source": [
    "什么是view limit  \n",
    "可视窗口的大小。"
   ]
  },
  {
   "cell_type": "code",
   "execution_count": 6,
   "metadata": {},
   "outputs": [
    {
     "data": {
      "text/plain": [
       "array([11018.  , 11018.25, 11018.5 , 11018.75, 11019.  , 11019.25,\n",
       "       11019.5 , 11019.75, 11020.  , 11020.25, 11020.5 , 11020.75,\n",
       "       11021.  , 11021.25, 11021.5 , 11021.75])"
      ]
     },
     "execution_count": 6,
     "metadata": {},
     "output_type": "execute_result"
    }
   ],
   "source": [
    "dates"
   ]
  },
  {
   "cell_type": "code",
   "execution_count": 5,
   "metadata": {},
   "outputs": [
    {
     "data": {
      "text/plain": [
       "(11017.8125, 11021.9375)"
      ]
     },
     "execution_count": 5,
     "metadata": {},
     "output_type": "execute_result"
    }
   ],
   "source": [
    "ax.get_xlim()"
   ]
  },
  {
   "cell_type": "code",
   "execution_count": 10,
   "metadata": {},
   "outputs": [
    {
     "data": {
      "text/plain": [
       "[0, 6, 12, 18, 24]"
      ]
     },
     "execution_count": 10,
     "metadata": {},
     "output_type": "execute_result"
    }
   ],
   "source": [
    "list(range(0, 25, 6))"
   ]
  },
  {
   "cell_type": "code",
   "execution_count": null,
   "metadata": {},
   "outputs": [],
   "source": []
  }
 ],
 "metadata": {
  "kernelspec": {
   "display_name": "Python 3",
   "language": "python",
   "name": "python3"
  },
  "language_info": {
   "codemirror_mode": {
    "name": "ipython",
    "version": 3
   },
   "file_extension": ".py",
   "mimetype": "text/x-python",
   "name": "python",
   "nbconvert_exporter": "python",
   "pygments_lexer": "ipython3",
   "version": "3.7.5"
  }
 },
 "nbformat": 4,
 "nbformat_minor": 4
}
