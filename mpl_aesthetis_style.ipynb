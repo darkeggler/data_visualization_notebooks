{
 "cells": [
  {
   "cell_type": "markdown",
   "metadata": {},
   "source": [
    "*style sheets - 样式表*"
   ]
  },
  {
   "cell_type": "markdown",
   "metadata": {},
   "source": [
    "style包增加了简便切换图表样式的支持，基于同样的rc文件参数。"
   ]
  },
  {
   "cell_type": "markdown",
   "metadata": {},
   "source": [
    "# 使用样式表"
   ]
  },
  {
   "cell_type": "markdown",
   "metadata": {},
   "source": [
    "matplotlib提供了一些预定义的样式。如一个预定义样式表名为\"ggplot\"，它模仿了R的ggplot包。使用这个样式只需调用```plt.style.use('ggplot')```"
   ]
  },
  {
   "cell_type": "markdown",
   "metadata": {},
   "source": [
    "一个完整的例子：  "
   ]
  },
  {
   "cell_type": "markdown",
   "metadata": {},
   "source": [
    "<span id=237>Style sheets - 237</span>  \n",
    "**[Bayesian Methods for Hackers style sheet](https://matplotlib.org/gallery/style_sheets/bmh.html)**"
   ]
  },
  {
   "cell_type": "code",
   "execution_count": 1,
   "metadata": {},
   "outputs": [],
   "source": [
    "import numpy as np\n",
    "import matplotlib.pyplot as plt"
   ]
  },
  {
   "cell_type": "code",
   "execution_count": 2,
   "metadata": {},
   "outputs": [],
   "source": [
    "plt.ioff()"
   ]
  },
  {
   "cell_type": "code",
   "execution_count": 3,
   "metadata": {},
   "outputs": [
    {
     "data": {
      "text/plain": [
       "Text(0.5, 1.0, \"'bmh' style sheet\")"
      ]
     },
     "execution_count": 3,
     "metadata": {},
     "output_type": "execute_result"
    }
   ],
   "source": [
    "np.random.seed(19680801)\n",
    "\n",
    "plt.style.use('bmh')\n",
    "\n",
    "def plot_beta_hist(ax, a, b):\n",
    "    ax.hist(np.random.beta(a, b, size=10000),\n",
    "            histtype=\"stepfilled\", bins=25, alpha=0.8, density=True)\n",
    "\n",
    "fig, ax = plt.subplots()\n",
    "plot_beta_hist(ax, 10, 10)\n",
    "plot_beta_hist(ax, 4, 12)\n",
    "plot_beta_hist(ax, 50, 12)\n",
    "plot_beta_hist(ax, 6, 55)\n",
    "ax.set_title(\"'bmh' style sheet\")\n",
    "\n",
    "plt.show()"
   ]
  },
  {
   "cell_type": "code",
   "execution_count": 4,
   "metadata": {},
   "outputs": [
    {
     "data": {
      "image/png": "[encoded data removed]",
      "text/plain": [
       "<Figure size 432x288 with 1 Axes>"
      ]
     },
     "metadata": {
      "needs_background": "light"
     },
     "output_type": "display_data"
    }
   ],
   "source": [
    "plt.show()"
   ]
  },
  {
   "cell_type": "markdown",
   "metadata": {},
   "source": [
    "[Bayesian Methods for Hackers](http://camdavidsonpilon.github.io/Probabilistic-Programming-and-Bayesian-Methods-for-Hackers/)是一本书"
   ]
  },
  {
   "cell_type": "markdown",
   "metadata": {},
   "source": [
    "```plt.style.available```包含所有可用的样式表"
   ]
  },
  {
   "cell_type": "code",
   "execution_count": 5,
   "metadata": {},
   "outputs": [
    {
     "data": {
      "text/plain": [
       "['Solarize_Light2',\n",
       " '_classic_test_patch',\n",
       " 'bmh',\n",
       " 'classic',\n",
       " 'dark_background',\n",
       " 'fast',\n",
       " 'fivethirtyeight',\n",
       " 'ggplot',\n",
       " 'grayscale',\n",
       " 'seaborn',\n",
       " 'seaborn-bright',\n",
       " 'seaborn-colorblind',\n",
       " 'seaborn-dark',\n",
       " 'seaborn-dark-palette',\n",
       " 'seaborn-darkgrid',\n",
       " 'seaborn-deep',\n",
       " 'seaborn-muted',\n",
       " 'seaborn-notebook',\n",
       " 'seaborn-paper',\n",
       " 'seaborn-pastel',\n",
       " 'seaborn-poster',\n",
       " 'seaborn-talk',\n",
       " 'seaborn-ticks',\n",
       " 'seaborn-white',\n",
       " 'seaborn-whitegrid',\n",
       " 'tableau-colorblind10']"
      ]
     },
     "execution_count": 5,
     "metadata": {},
     "output_type": "execute_result"
    }
   ],
   "source": [
    "plt.style.available"
   ]
  },
  {
   "cell_type": "markdown",
   "metadata": {},
   "source": [
    "# 自定义样式"
   ]
  },
  {
   "cell_type": "markdown",
   "metadata": {},
   "source": [
    "我们也可以自定义样式，之后通过样式表的路径或URL调用style.use方法使用它们。\n",
    "\n",
    "举个例子，我们新建一个文本文件，路径为\"./images/presentation.mplstyle\"，把下面的内容粘贴到文件中，\n",
    "```\n",
    "axes.titlesize : 24\n",
    "axes.labelsize : 20\n",
    "lines.linewidth : 3\n",
    "lines.markersize : 10\n",
    "xtick.labelsize : 16\n",
    "ytick.labelsize : 16\n",
    "```\n",
    "保存文件后，我们就可以```plt.style.use('./images/presentation.mplstyle')```把新定义的样式表应用到图表中。"
   ]
  },
  {
   "cell_type": "markdown",
   "metadata": {},
   "source": [
    "或者通过将样式表文件放入mpl_configdir/stylelib使得matplotlib知晓这样就可以如同预定义样式一般的调用了。缺省时mpl_configdir应是~/.config/matplotlib 应用matplotlib.get_configdir() 可查看系统配置，有可能我们需要新建此目录。我们还可以通过设置环境变量MPLCONFIGDIR变更文件夹路径。\n",
    "\n",
    "需要注意的是如果mpl_configdir/stylelib文件夹中的自定义样式表与预定义样式表同名，预定义表将被覆盖。"
   ]
  },
  {
   "cell_type": "markdown",
   "metadata": {},
   "source": [
    "# 组合样式表"
   ]
  },
  {
   "cell_type": "markdown",
   "metadata": {},
   "source": [
    "我们可以有一个样式表定义颜色，另一个样式表定义元素的尺寸。通过传入样式表列表，可以很容易的将表组合在一起。\n",
    "```python\n",
    "plt.style.use(['dark_background', 'presentation'])\n",
    "```\n",
    "需要注意的是，多个表中有相同的参数时右边的会覆盖左边的。"
   ]
  },
  {
   "cell_type": "markdown",
   "metadata": {},
   "source": [
    "# 短期风格"
   ]
  },
  {
   "cell_type": "markdown",
   "metadata": {},
   "source": [
    "如果我们仅想在特定的一段代码块中应用样式表而不想改变全局风格。style包提供了上下文管理器将变化限制在特定的范围内。\n",
    "```python\n",
    "with plt.style.context('dark_background'):\n",
    "    plt.plot(np.sin(np.linspace(0, 2 * np.pi)), 'r-o')\n",
    "plt.show()\n",
    "```"
   ]
  },
  {
   "cell_type": "markdown",
   "metadata": {},
   "source": [
    "*rcParams - 资源配置参数*"
   ]
  },
  {
   "cell_type": "markdown",
   "metadata": {},
   "source": [
    "# 动态设置"
   ]
  },
  {
   "cell_type": "markdown",
   "metadata": {},
   "source": [
    "我们可以用脚本的方式或交互的方式动态改变rc的缺省设置。所有rc的配置内容都保存在一个名为matplotlib.rcParams类似字典型的变量中。对于matplotlib这是一个全局变量。rcParams可以直接修改。\n",
    "```python\n",
    "mpl.rcParams['lines.linewidth'] = 2\n",
    "mpl.rcParams['lines.linestyle'] = '--'\n",
    "plt.plot(data)\n",
    "```\n",
    "注意对于颜色必须更改axes的prop_cycle属性：\n",
    "```python\n",
    "mpl.rcParams['axes.prop_cycle'] = cycler(color=['r', 'g', 'b', 'y'])\n",
    "plt.plot(data)  # first color is red\n",
    "```\n",
    "matplotlib也为变更rc设置提供了一对便利函数。matplotlib.rc被用于一次变更一组的多个参数。\n",
    "```python\n",
    "mpl.rc('lines', linewidth=4, linestyle='-.')\n",
    "plt.plot(data)\n",
    "```\n",
    "matplotlib.rcdefaults将重新加载标准的默认设置。\n",
    "\n",
    "设置rcParams的值时需要进行一定程度的验证，参见matplotlib.rcsetup。"
   ]
  },
  {
   "cell_type": "markdown",
   "metadata": {},
   "source": [
    "# matplotlibrc文件"
   ]
  },
  {
   "cell_type": "markdown",
   "metadata": {},
   "source": [
    "matplotlib使用matplotlibrc文件定义所有类型的参数，被称为\"rc setting\"或\"rc parameters\"。我们可以控制Matplotlib中几乎每个属性的默认值：: figure size 与 DPI, line width, color 与 style, axes, axis 与 grid properties, text 与 font properties 等。 当调用style.use('<path>/<style-name>.mplstyle')时未指定URL或路径，matplotlib将在4个位置查找matplotlibrc文件，以如下次序：\n",
    "1. 当前工作目录中的matplotlibrc，通常用于您不想在其他地方应用的特定自定义设置。\n",
    "2. $MATPLOTLIBRC 定义的文件，或 $MATPLOTLIBRC/matplotlibrc\n",
    "3. 特定于用户的位置，依赖于平台。例如：.matplotlib/matplotlibrc . See matplotlib configuration and cache directory locations.\n",
    "4. INSTALL/matplotlib/mpl-data/matplotlibrc, 这里的INSTALL在Linux中类似于 /usr/lib/python3.7/site-packages , 在Windows中或许是 C:\\Python37\\Lib\\site-packages . 每一次安装matplotlib都会覆盖这个文件, 所以相应保存配置, 将此文件移动至用户目录下的.matplotlib目录。\n",
    "    \n",
    "搜到即停。\n",
    "    \n",
    "```matplotlib.matplotlib_fname()```为当前加载的文件。"
   ]
  },
  {
   "cell_type": "code",
   "execution_count": null,
   "metadata": {},
   "outputs": [],
   "source": []
  }
 ],
 "metadata": {
  "kernelspec": {
   "display_name": "Python 3",
   "language": "python",
   "name": "python3"
  },
  "language_info": {
   "codemirror_mode": {
    "name": "ipython",
    "version": 3
   },
   "file_extension": ".py",
   "mimetype": "text/x-python",
   "name": "python",
   "nbconvert_exporter": "python",
   "pygments_lexer": "ipython3",
   "version": "3.7.5"
  }
 },
 "nbformat": 4,
 "nbformat_minor": 4
}
