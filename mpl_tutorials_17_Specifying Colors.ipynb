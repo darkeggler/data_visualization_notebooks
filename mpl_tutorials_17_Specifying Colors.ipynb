{
 "cells": [
  {
   "cell_type": "markdown",
   "metadata": {},
   "source": [
    "# [Specifying Colors](https://matplotlib.org/tutorials/colors/colors.html#sphx-glr-tutorials-colors-colors-py)"
   ]
  },
  {
   "cell_type": "markdown",
   "metadata": {},
   "source": [
    "Matplotlib recognizes the following formats to specify a color:\n",
    "\n",
    "    an RGB or RGBA (red, green, blue, alpha) tuple of float values in closed interval [0, 1] (e.g., (0.1, 0.2, 0.5) or (0.1, 0.2, 0.5, 0.3));\n",
    "    a hex RGB or RGBA string (e.g., '#0f0f0f' or '#0f0f0f80'; case-insensitive);\n",
    "    a shorthand hex RGB or RGBA string, equivalent to the hex RGB or RGBA string obtained by duplicating each character, (e.g., '#abc', equivalent to '#aabbcc', or '#abcd', equivalent to '#aabbccdd'; case-insensitive);\n",
    "    a string representation of a float value in [0, 1] inclusive for gray level (e.g., '0.5');\n",
    "    one of {'b', 'g', 'r', 'c', 'm', 'y', 'k', 'w'}, they are the single character short-hand notations for blue, green, red, cyan, magenta, yellow, black, and white.\n",
    "    a X11/CSS4 color name (case-insensitive);\n",
    "    a name from the xkcd color survey, prefixed with 'xkcd:' (e.g., 'xkcd:sky blue'; case insensitive);\n",
    "    one of the Tableau Colors from the 'T10' categorical palette (the default color cycle): {'tab:blue', 'tab:orange', 'tab:green', 'tab:red', 'tab:purple', 'tab:brown', 'tab:pink', 'tab:gray', 'tab:olive', 'tab:cyan'} (case-insensitive);\n",
    "    a \"CN\" color spec, i.e. 'C' followed by a number, which is an index into the default property cycle (matplotlib.rcParams['axes.prop_cycle']); the indexing is intended to occur at rendering time, and defaults to black if the cycle does not include color."
   ]
  },
  {
   "cell_type": "markdown",
   "metadata": {},
   "source": [
    "- [CSS4 Color Names](https://learningwebdesign.com/colornames.html)\n",
    "- [X11 Color Names](https://www.cssportal.com/html-colors/x11-colors.php)\n",
    "- [X11 color names](https://wikimili.com/en/X11_color_names)\n",
    "- [xkcd](https://xkcd.com/color/rgb/)\n",
    "- [Tableau Colors T10](https://public.tableau.com/profile/chris.gerrard#!/vizhome/TableauColors/ColorPaletteswithRGBValues)"
   ]
  },
  {
   "cell_type": "markdown",
   "metadata": {},
   "source": [
    "Matplotlib接受如下格式用于指定颜色：\n",
    "- RGB/RGBA (red, green, blue, alpha) 闭区间[0, 1]内的浮点数元组 (e.g., (0.1, 0.2, 0.5) or (0.1, 0.2, 0.5, 0.3));\n",
    "- 16进制RGB/RGBA字符串 (e.g., '#0f0f0f' or '#0f0f0f80'; case-insensitive);\n",
    "- 短格式16进制RGB/RGBA字符串 (e.g., '#abc', equivalent to '#aabbcc', or '#abcd', equivalent to '#aabbccdd'; case-insensitive);\n",
    "- 字符串表示的[0,1]区间的浮点数包含所有的灰度\n",
    "- {'b', 'g', 'r', 'c', 'm', 'y', 'k', 'w'}中的一个, 对应blue, green, red, cyan, magenta, yellow, black, and white.\n",
    "- X11/CSS4颜色名\n",
    "- 带有'xkcd:'前缀的xkcd颜色名 (e.g., 'xkcd:sky blue'; case insensitive);\n",
    "- Tableau调色板中名为Tablueau 10的集合，是缺省的颜色循环：{'tab:blue', 'tab:orange', 'tab:green', 'tab:red', 'tab:purple', 'tab:brown', 'tab:pink', 'tab:gray', 'tab:olive', 'tab:cyan'} (case-insensitive);\n",
    "- \"CN\"颜色规范，即\"C\"后跟数字，这是默认属性周期的索引（matplotlib.rcParams ['axes.prop_cycle']）； 该索引应在渲染时进行，如果循环不包含颜色，则默认为黑色。"
   ]
  },
  {
   "cell_type": "markdown",
   "metadata": {},
   "source": [
    "\"Red\", \"Green\", and \"Blue\" are the intensities of those colors, the combination of which span the colorspace.\n",
    "\n",
    "How \"Alpha\" behaves depends on the zorder of the Artist. Higher zorder Artists are drawn on top of lower Artists, and \"Alpha\" determines whether the lower artist is covered by the higher. If the old RGB of a pixel is RGBold and the RGB of the pixel of the Artist being added is RGBnew with Alpha alpha, then the RGB of the pixel is updated to: RGB = RGBOld * (1 - Alpha) + RGBnew * Alpha. Alpha of 1 means the old color is completely covered by the new Artist, Alpha of 0 means that pixel of the Artist is transparent."
   ]
  },
  {
   "cell_type": "markdown",
   "metadata": {},
   "source": [
    "“红色”，“绿色”和“蓝色”是这些颜色的强度，它们的组合跨越整个颜色空间。\n",
    "\n",
    "\"Alpha\"的行为依赖于Artist的zorder属性。在Z轴次序中较高的Artists绘制与较低的Artists上方，\"Alpha\"决定底层的artist是否被上层的遮盖。如果一个像素的原有RGB是 RGBold 要添加的Artist的像素的RGB是带有Alpha的RGBnew，则该像素的RGB将更新为：RGB = RGBOld * (1 - Alpha) + RGBnew * Alpha. Alpha 1表示旧颜色完全被新Artist覆盖，Alpha 0表示Artist的像素是透明的。"
   ]
  },
  {
   "cell_type": "markdown",
   "metadata": {},
   "source": [
    "## \"CN\" color selection\n",
    "\n",
    "\"CN\" colors are converted to RGBA as soon as the artist is created. For example,"
   ]
  },
  {
   "cell_type": "markdown",
   "metadata": {},
   "source": []
  },
  {
   "cell_type": "code",
   "execution_count": 1,
   "metadata": {},
   "outputs": [],
   "source": [
    "import numpy as np\n",
    "import matplotlib.pyplot as plt\n",
    "from matplotlib import style"
   ]
  },
  {
   "cell_type": "code",
   "execution_count": 4,
   "metadata": {},
   "outputs": [],
   "source": [
    "%matplotlib widget"
   ]
  },
  {
   "cell_type": "code",
   "execution_count": 2,
   "metadata": {},
   "outputs": [],
   "source": [
    "th = np.linspace(0, 2*np.pi, 128)"
   ]
  },
  {
   "cell_type": "code",
   "execution_count": 5,
   "metadata": {},
   "outputs": [
    {
     "data": {
      "application/vnd.jupyter.widget-view+json": {
       "model_id": "3161e8ace10641ebbbbe6d3b80737ef5",
       "version_major": 2,
       "version_minor": 0
      },
      "text/plain": [
       "Canvas(toolbar=Toolbar(toolitems=[('Home', 'Reset original view', 'home', 'home'), ('Back', 'Back to previous …"
      ]
     },
     "metadata": {},
     "output_type": "display_data"
    }
   ],
   "source": [
    "fig, ax = plt.subplots(figsize=(3, 3))"
   ]
  },
  {
   "cell_type": "code",
   "execution_count": 12,
   "metadata": {},
   "outputs": [
    {
     "data": {
      "text/plain": [
       "[<matplotlib.lines.Line2D at 0x7bf6bb0>,\n",
       " <matplotlib.lines.Line2D at 0x7be1710>]"
      ]
     },
     "execution_count": 12,
     "metadata": {},
     "output_type": "execute_result"
    }
   ],
   "source": [
    "ax.plot(th, np.cos(th), (0.1, 0.2, 0.5, 0.3))"
   ]
  },
  {
   "cell_type": "code",
   "execution_count": 11,
   "metadata": {},
   "outputs": [],
   "source": [
    "ax.cla()"
   ]
  },
  {
   "cell_type": "code",
   "execution_count": null,
   "metadata": {},
   "outputs": [],
   "source": []
  }
 ],
 "metadata": {
  "kernelspec": {
   "display_name": "Python 3",
   "language": "python",
   "name": "python3"
  },
  "language_info": {
   "codemirror_mode": {
    "name": "ipython",
    "version": 3
   },
   "file_extension": ".py",
   "mimetype": "text/x-python",
   "name": "python",
   "nbconvert_exporter": "python",
   "pygments_lexer": "ipython3",
   "version": "3.7.5"
  }
 },
 "nbformat": 4,
 "nbformat_minor": 4
}
