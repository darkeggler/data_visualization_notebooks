{
 "cells": [
  {
   "cell_type": "code",
   "execution_count": 1,
   "metadata": {},
   "outputs": [],
   "source": [
    "import pandas as pd\n",
    "import matplotlib\n",
    "import matplotlib.pyplot as plt\n",
    "import numpy as np"
   ]
  },
  {
   "cell_type": "code",
   "execution_count": 2,
   "metadata": {},
   "outputs": [],
   "source": [
    "matplotlib.rcParams['font.family'] = ['DengXian', 'sans-serif']"
   ]
  },
  {
   "cell_type": "code",
   "execution_count": 3,
   "metadata": {},
   "outputs": [],
   "source": [
    "fn = 'phone_data2.csv'\n",
    "df = pd.read_csv(fn)\n",
    "c = df['CPU'].astype('category')"
   ]
  },
  {
   "cell_type": "code",
   "execution_count": 4,
   "metadata": {},
   "outputs": [],
   "source": [
    "widths  = [4, 1]\n",
    "heights = [5, 1]\n",
    "gs_kw   = dict(width_ratios=widths, height_ratios=heights)"
   ]
  },
  {
   "cell_type": "code",
   "execution_count": 5,
   "metadata": {},
   "outputs": [],
   "source": [
    "plt.close()"
   ]
  },
  {
   "cell_type": "code",
   "execution_count": 6,
   "metadata": {},
   "outputs": [
    {
     "data": {
      "image/png": "[encoded data removed]",
      "text/plain": [
       "<Figure size 288x504 with 4 Axes>"
      ]
     },
     "metadata": {
      "needs_background": "light"
     },
     "output_type": "display_data"
    }
   ],
   "source": [
    "fig, axes = plt.subplots(ncols=2, nrows=2, constrained_layout=True,\n",
    "                             gridspec_kw=gs_kw, figsize=(4,7))"
   ]
  },
  {
   "cell_type": "code",
   "execution_count": 7,
   "metadata": {},
   "outputs": [],
   "source": [
    "gs = axes[1,0].get_gridspec()"
   ]
  },
  {
   "cell_type": "code",
   "execution_count": 8,
   "metadata": {},
   "outputs": [],
   "source": [
    "for ax in axes[1]:\n",
    "    ax.remove()"
   ]
  },
  {
   "cell_type": "code",
   "execution_count": 9,
   "metadata": {},
   "outputs": [],
   "source": [
    "ax_buttom = fig.add_subplot(gs[1,:])"
   ]
  },
  {
   "cell_type": "markdown",
   "metadata": {},
   "source": [
    "问题：\n",
    "\n",
    "axes变更并不会随着以上操作更新，所以如何取得最新的axes呢？但这其实也不是一个大问题，因为坐标空间可以通过ax_buttom获得，我猜测，fig会有最新的axes"
   ]
  },
  {
   "cell_type": "markdown",
   "metadata": {},
   "source": [
    "fig.axes真的有，但是subplots的返回值是np.array，而fig.axes是list，这个问题先封箱了。"
   ]
  },
  {
   "cell_type": "markdown",
   "metadata": {
    "jupyter": {
     "source_hidden": true
    }
   },
   "source": [
    "### enumerate(iterable, start=0)\n",
    "\n",
    "> Return an enumerate object. iterable must be a sequence, an iterator, or some other object which supports iteration. The __next__() method of the iterator returned by enumerate() returns a tuple containing a count (from start which defaults to 0) and the values obtained from iterating over iterable."
   ]
  },
  {
   "cell_type": "markdown",
   "metadata": {},
   "source": [
    "**enumerate**函数的返回值是enumerate对象。:-)\n",
    "\n",
    "就是给list等迭代器的每个元素加一个序号。"
   ]
  },
  {
   "cell_type": "code",
   "execution_count": 88,
   "metadata": {},
   "outputs": [
    {
     "name": "stdout",
     "output_type": "stream",
     "text": [
      "0 A13\n",
      "1 骁龙625\n",
      "2 骁龙660\n",
      "3 骁龙765G\n",
      "4 骁龙865\n",
      "5 麒麟820\n",
      "6 麒麟980\n",
      "7 麒麟990\n"
     ]
    }
   ],
   "source": [
    "for a,b in (enumerate(c.cat.categories)):\n",
    "    print(a,b)\n"
   ]
  },
  {
   "cell_type": "code",
   "execution_count": 94,
   "metadata": {},
   "outputs": [],
   "source": [
    "for i in range(len(c.cat.categories)):\n",
    "    axes[0,0].scatter('宽', '长', s = '重', c = 'C%d' % (i+1), alpha = 0.5, \n",
    "               data = df[df['CPU'] == c.cat.categories[i]],\n",
    "               label = c.cat.categories[i])"
   ]
  },
  {
   "cell_type": "code",
   "execution_count": 95,
   "metadata": {},
   "outputs": [],
   "source": [
    "axes[0,0].set_xlim(0, 100)\n",
    "axes[0,0].set_ylim(0, 200)\n",
    "axes[0,0].set_aspect('equal', 'box')"
   ]
  },
  {
   "cell_type": "markdown",
   "metadata": {},
   "source": [
    "----"
   ]
  },
  {
   "cell_type": "markdown",
   "metadata": {},
   "source": [
    "以stem表示重量，用scatter同样的颜色"
   ]
  },
  {
   "cell_type": "code",
   "execution_count": 107,
   "metadata": {},
   "outputs": [
    {
     "data": {
      "text/plain": [
       "Int64Index([5, 6, 8, 9, 14], dtype='int64')"
      ]
     },
     "execution_count": 107,
     "metadata": {},
     "output_type": "execute_result"
    }
   ],
   "source": [
    "df[df['CPU']=='骁龙865'].index"
   ]
  },
  {
   "cell_type": "code",
   "execution_count": 96,
   "metadata": {},
   "outputs": [],
   "source": [
    "row,col = df.shape"
   ]
  },
  {
   "cell_type": "code",
   "execution_count": 49,
   "metadata": {
    "collapsed": true,
    "jupyter": {
     "outputs_hidden": true
    }
   },
   "outputs": [
    {
     "data": {
      "text/plain": [
       "0             苹果11\n",
       "1         苹果11 pro\n",
       "2     苹果11 Pro max\n",
       "3            苹果SE2\n",
       "4         小米10 青春版\n",
       "5             小米10\n",
       "6         小米10 Pro\n",
       "7          小米Max 2\n",
       "8         三星S20 5G\n",
       "9        三星S20 5G+\n",
       "10       华为P40 Pro\n",
       "11           华为P30\n",
       "12        华为畅享 MAX\n",
       "13           荣耀30S\n",
       "14        iQOONeo3\n",
       "dtype: object"
      ]
     },
     "execution_count": 49,
     "metadata": {},
     "output_type": "execute_result"
    }
   ],
   "source": [
    "df['厂牌'] + df['name']"
   ]
  },
  {
   "cell_type": "code",
   "execution_count": 30,
   "metadata": {},
   "outputs": [
    {
     "data": {
      "text/plain": [
       "array([ 1,  2,  3,  4,  5,  6,  7,  8,  9, 10, 11, 12, 13, 14, 15])"
      ]
     },
     "execution_count": 30,
     "metadata": {},
     "output_type": "execute_result"
    }
   ],
   "source": [
    "np.arange(1, row+1)"
   ]
  },
  {
   "cell_type": "code",
   "execution_count": 101,
   "metadata": {},
   "outputs": [
    {
     "data": {
      "text/plain": [
       "<StemContainer object of 3 artists>"
      ]
     },
     "execution_count": 101,
     "metadata": {},
     "output_type": "execute_result"
    }
   ],
   "source": [
    "#axes[1,0].cla()\n",
    "ax_buttom.stem(np.arange(row), df['厚'], markerfmt='o', use_line_collection=True)"
   ]
  },
  {
   "cell_type": "code",
   "execution_count": 102,
   "metadata": {},
   "outputs": [
    {
     "data": {
      "text/plain": [
       "(7, 9.5)"
      ]
     },
     "execution_count": 102,
     "metadata": {},
     "output_type": "execute_result"
    }
   ],
   "source": [
    "ax_buttom.set_ylim(7,9.5)"
   ]
  },
  {
   "cell_type": "code",
   "execution_count": 103,
   "metadata": {},
   "outputs": [
    {
     "data": {
      "text/plain": [
       "[<matplotlib.axis.XTick at 0xc6f5110>,\n",
       " <matplotlib.axis.XTick at 0xc6f5930>,\n",
       " <matplotlib.axis.XTick at 0xdd4f570>,\n",
       " <matplotlib.axis.XTick at 0xdd14ab0>,\n",
       " <matplotlib.axis.XTick at 0xdd1f1b0>,\n",
       " <matplotlib.axis.XTick at 0xdd1f470>,\n",
       " <matplotlib.axis.XTick at 0xc6f3fd0>,\n",
       " <matplotlib.axis.XTick at 0xc8c3410>,\n",
       " <matplotlib.axis.XTick at 0xc6f5990>,\n",
       " <matplotlib.axis.XTick at 0xc8c9190>,\n",
       " <matplotlib.axis.XTick at 0xc8c9d50>,\n",
       " <matplotlib.axis.XTick at 0xc8c91b0>,\n",
       " <matplotlib.axis.XTick at 0xc8c9ef0>,\n",
       " <matplotlib.axis.XTick at 0xdd1fd10>,\n",
       " <matplotlib.axis.XTick at 0xc6f3550>]"
      ]
     },
     "execution_count": 103,
     "metadata": {},
     "output_type": "execute_result"
    }
   ],
   "source": [
    "ax_buttom.set_xticks (np.arange(row))"
   ]
  },
  {
   "cell_type": "code",
   "execution_count": 104,
   "metadata": {},
   "outputs": [
    {
     "data": {
      "text/plain": [
       "[Text(0, 0, '苹果11'),\n",
       " Text(1, 0, '苹果11 pro'),\n",
       " Text(2, 0, '苹果11 Pro max'),\n",
       " Text(3, 0, '苹果SE2'),\n",
       " Text(4, 0, '小米10 青春版'),\n",
       " Text(5, 0, '小米10'),\n",
       " Text(6, 0, '小米10 Pro'),\n",
       " Text(7, 0, '小米Max 2'),\n",
       " Text(8, 0, '三星S20 5G'),\n",
       " Text(9, 0, '三星S20 5G+'),\n",
       " Text(10, 0, '华为P40 Pro'),\n",
       " Text(11, 0, '华为P30'),\n",
       " Text(12, 0, '华为畅享 MAX'),\n",
       " Text(13, 0, '荣耀30S'),\n",
       " Text(14, 0, 'iQOONeo3')]"
      ]
     },
     "execution_count": 104,
     "metadata": {},
     "output_type": "execute_result"
    }
   ],
   "source": [
    "ax_buttom.set_xticklabels(df['厂牌'] + df['name'],rotation=-70)"
   ]
  },
  {
   "cell_type": "code",
   "execution_count": null,
   "metadata": {},
   "outputs": [],
   "source": []
  }
 ],
 "metadata": {
  "kernelspec": {
   "display_name": "Python 3",
   "language": "python",
   "name": "python3"
  },
  "language_info": {
   "codemirror_mode": {
    "name": "ipython",
    "version": 3
   },
   "file_extension": ".py",
   "mimetype": "text/x-python",
   "name": "python",
   "nbconvert_exporter": "python",
   "pygments_lexer": "ipython3",
   "version": "3.7.5"
  }
 },
 "nbformat": 4,
 "nbformat_minor": 4
}
