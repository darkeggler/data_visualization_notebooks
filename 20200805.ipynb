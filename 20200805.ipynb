{
 "cells": [
  {
   "cell_type": "markdown",
   "metadata": {},
   "source": [
    "“随机生成”个位加减法，记录计算结果。"
   ]
  },
  {
   "cell_type": "code",
   "execution_count": 4,
   "metadata": {},
   "outputs": [],
   "source": [
    "import random"
   ]
  },
  {
   "cell_type": "code",
   "execution_count": 15,
   "metadata": {},
   "outputs": [],
   "source": [
    "board = {}"
   ]
  },
  {
   "cell_type": "code",
   "execution_count": 34,
   "metadata": {},
   "outputs": [
    {
     "name": "stdin",
     "output_type": "stream",
     "text": [
      "6 - 4=  2\n"
     ]
    }
   ],
   "source": [
    "x = random.randint(5, 10)\n",
    "y = random.randint(1, x)\n",
    "s = \"%d - %d\" % (x,y)\n",
    "if s in board:\n",
    "    l = board[s]\n",
    "else:\n",
    "    l = [0,0]\n",
    "r = input(s + \" = \")\n",
    "times, right = l\n",
    "if x - y == int(r):\n",
    "    board.update({s:[times+1,right+1]})\n",
    "else:\n",
    "    board.update({s:[times+1,right]})"
   ]
  },
  {
   "cell_type": "code",
   "execution_count": 35,
   "metadata": {},
   "outputs": [
    {
     "data": {
      "text/plain": [
       "{'6 - 1': [1, 1],\n",
       " '5 - 2': [1, 1],\n",
       " '7 - 1': [1, 1],\n",
       " '7 - 2': [1, 1],\n",
       " '8 - 8': [1, 1],\n",
       " '7 - 3': [1, 1],\n",
       " '9 - 3': [1, 1],\n",
       " '6 - 3': [1, 1],\n",
       " '8 - 2': [1, 1],\n",
       " '5 - 1': [1, 1],\n",
       " '9 - 4': [1, 1],\n",
       " '6 - 4': [1, 1]}"
      ]
     },
     "execution_count": 35,
     "metadata": {},
     "output_type": "execute_result"
    }
   ],
   "source": [
    "board"
   ]
  },
  {
   "cell_type": "code",
   "execution_count": 1,
   "metadata": {},
   "outputs": [],
   "source": [
    "import pygal"
   ]
  },
  {
   "cell_type": "code",
   "execution_count": 4,
   "metadata": {},
   "outputs": [],
   "source": [
    "xy_chart = pygal.XY(stroke=False)"
   ]
  },
  {
   "cell_type": "code",
   "execution_count": 5,
   "metadata": {},
   "outputs": [
    {
     "data": {
      "image/png": "[encoded data removed]",
      "image/svg+xml": [
       "<svg xmlns=\"http://www.w3.org/2000/svg\" xmlns:xlink=\"http://www.w3.org/1999/xlink\" id=\"chart-321be6b0-c115-4449-be1c-6a4e881b2bcf\" class=\"pygal-chart\" viewBox=\"0 0 800 600\"><!--Generated with pygal 2.4.0 (lxml) ©Kozea 2012-2016 on 2020-08-05--><!--http://pygal.org--><!--http://github.com/Kozea/pygal--><defs><style type=\"text/css\">#chart-321be6b0-c115-4449-be1c-6a4e881b2bcf{-webkit-user-select:none;-webkit-font-smoothing:antialiased;font-family:Consolas,\"Liberation Mono\",Menlo,Courier,monospace}#chart-321be6b0-c115-4449-be1c-6a4e881b2bcf .title{font-family:Consolas,\"Liberation Mono\",Menlo,Courier,monospace;font-size:16px}#chart-321be6b0-c115-4449-be1c-6a4e881b2bcf .legends .legend text{font-family:Consolas,\"Liberation Mono\",Menlo,Courier,monospace;font-size:14px}#chart-321be6b0-c115-4449-be1c-6a4e881b2bcf .axis text{font-family:Consolas,\"Liberation Mono\",Menlo,Courier,monospace;font-size:10px}#chart-321be6b0-c115-4449-be1c-6a4e881b2bcf .axis text.major{font-family:Consolas,\"Liberation Mono\",Menlo,Courier,monospace;font-size:10px}#chart-321be6b0-c115-4449-be1c-6a4e881b2bcf .text-overlay text.value{font-family:Consolas,\"Liberation Mono\",Menlo,Courier,monospace;font-size:16px}#chart-321be6b0-c115-4449-be1c-6a4e881b2bcf .text-overlay text.label{font-family:Consolas,\"Liberation Mono\",Menlo,Courier,monospace;font-size:10px}#chart-321be6b0-c115-4449-be1c-6a4e881b2bcf .tooltip{font-family:Consolas,\"Liberation Mono\",Menlo,Courier,monospace;font-size:14px}#chart-321be6b0-c115-4449-be1c-6a4e881b2bcf text.no_data{font-family:Consolas,\"Liberation Mono\",Menlo,Courier,monospace;font-size:64px}\n",
       "#chart-321be6b0-c115-4449-be1c-6a4e881b2bcf{background-color:rgba(249,249,249,1)}#chart-321be6b0-c115-4449-be1c-6a4e881b2bcf path,#chart-321be6b0-c115-4449-be1c-6a4e881b2bcf line,#chart-321be6b0-c115-4449-be1c-6a4e881b2bcf rect,#chart-321be6b0-c115-4449-be1c-6a4e881b2bcf circle{-webkit-transition:150ms;-moz-transition:150ms;transition:150ms}#chart-321be6b0-c115-4449-be1c-6a4e881b2bcf .graph &gt; .background{fill:rgba(249,249,249,1)}#chart-321be6b0-c115-4449-be1c-6a4e881b2bcf .plot &gt; .background{fill:rgba(255,255,255,1)}#chart-321be6b0-c115-4449-be1c-6a4e881b2bcf .graph{fill:rgba(0,0,0,.87)}#chart-321be6b0-c115-4449-be1c-6a4e881b2bcf text.no_data{fill:rgba(0,0,0,1)}#chart-321be6b0-c115-4449-be1c-6a4e881b2bcf .title{fill:rgba(0,0,0,1)}#chart-321be6b0-c115-4449-be1c-6a4e881b2bcf .legends .legend text{fill:rgba(0,0,0,.87)}#chart-321be6b0-c115-4449-be1c-6a4e881b2bcf .legends .legend:hover text{fill:rgba(0,0,0,1)}#chart-321be6b0-c115-4449-be1c-6a4e881b2bcf .axis .line{stroke:rgba(0,0,0,1)}#chart-321be6b0-c115-4449-be1c-6a4e881b2bcf .axis .guide.line{stroke:rgba(0,0,0,.54)}#chart-321be6b0-c115-4449-be1c-6a4e881b2bcf .axis .major.line{stroke:rgba(0,0,0,.87)}#chart-321be6b0-c115-4449-be1c-6a4e881b2bcf .axis text.major{fill:rgba(0,0,0,1)}#chart-321be6b0-c115-4449-be1c-6a4e881b2bcf .axis.y .guides:hover .guide.line,#chart-321be6b0-c115-4449-be1c-6a4e881b2bcf .line-graph .axis.x .guides:hover .guide.line,#chart-321be6b0-c115-4449-be1c-6a4e881b2bcf .stackedline-graph .axis.x .guides:hover .guide.line,#chart-321be6b0-c115-4449-be1c-6a4e881b2bcf .xy-graph .axis.x .guides:hover .guide.line{stroke:rgba(0,0,0,1)}#chart-321be6b0-c115-4449-be1c-6a4e881b2bcf .axis .guides:hover text{fill:rgba(0,0,0,1)}#chart-321be6b0-c115-4449-be1c-6a4e881b2bcf .reactive{fill-opacity:.7;stroke-opacity:.8}#chart-321be6b0-c115-4449-be1c-6a4e881b2bcf .ci{stroke:rgba(0,0,0,.87)}#chart-321be6b0-c115-4449-be1c-6a4e881b2bcf .reactive.active,#chart-321be6b0-c115-4449-be1c-6a4e881b2bcf .active .reactive{fill-opacity:.8;stroke-opacity:.9;stroke-width:4}#chart-321be6b0-c115-4449-be1c-6a4e881b2bcf .ci .reactive.active{stroke-width:1.5}#chart-321be6b0-c115-4449-be1c-6a4e881b2bcf .series text{fill:rgba(0,0,0,1)}#chart-321be6b0-c115-4449-be1c-6a4e881b2bcf .tooltip rect{fill:rgba(255,255,255,1);stroke:rgba(0,0,0,1);-webkit-transition:opacity 150ms;-moz-transition:opacity 150ms;transition:opacity 150ms}#chart-321be6b0-c115-4449-be1c-6a4e881b2bcf .tooltip .label{fill:rgba(0,0,0,.87)}#chart-321be6b0-c115-4449-be1c-6a4e881b2bcf .tooltip .label{fill:rgba(0,0,0,.87)}#chart-321be6b0-c115-4449-be1c-6a4e881b2bcf .tooltip .legend{font-size:.8em;fill:rgba(0,0,0,.54)}#chart-321be6b0-c115-4449-be1c-6a4e881b2bcf .tooltip .x_label{font-size:.6em;fill:rgba(0,0,0,1)}#chart-321be6b0-c115-4449-be1c-6a4e881b2bcf .tooltip .xlink{font-size:.5em;text-decoration:underline}#chart-321be6b0-c115-4449-be1c-6a4e881b2bcf .tooltip .value{font-size:1.5em}#chart-321be6b0-c115-4449-be1c-6a4e881b2bcf .bound{font-size:.5em}#chart-321be6b0-c115-4449-be1c-6a4e881b2bcf .max-value{font-size:.75em;fill:rgba(0,0,0,.54)}#chart-321be6b0-c115-4449-be1c-6a4e881b2bcf .map-element{fill:rgba(255,255,255,1);stroke:rgba(0,0,0,.54) !important}#chart-321be6b0-c115-4449-be1c-6a4e881b2bcf .map-element .reactive{fill-opacity:inherit;stroke-opacity:inherit}#chart-321be6b0-c115-4449-be1c-6a4e881b2bcf .color-0,#chart-321be6b0-c115-4449-be1c-6a4e881b2bcf .color-0 a:visited{stroke:#F44336;fill:#F44336}#chart-321be6b0-c115-4449-be1c-6a4e881b2bcf .text-overlay .color-0 text{fill:black}\n",
       "#chart-321be6b0-c115-4449-be1c-6a4e881b2bcf text.no_data{text-anchor:middle}#chart-321be6b0-c115-4449-be1c-6a4e881b2bcf .guide.line{fill:none}#chart-321be6b0-c115-4449-be1c-6a4e881b2bcf .centered{text-anchor:middle}#chart-321be6b0-c115-4449-be1c-6a4e881b2bcf .title{text-anchor:middle}#chart-321be6b0-c115-4449-be1c-6a4e881b2bcf .legends .legend text{fill-opacity:1}#chart-321be6b0-c115-4449-be1c-6a4e881b2bcf .axis.x text{text-anchor:middle}#chart-321be6b0-c115-4449-be1c-6a4e881b2bcf .axis.x:not(.web) text[transform]{text-anchor:start}#chart-321be6b0-c115-4449-be1c-6a4e881b2bcf .axis.x:not(.web) text[transform].backwards{text-anchor:end}#chart-321be6b0-c115-4449-be1c-6a4e881b2bcf .axis.y text{text-anchor:end}#chart-321be6b0-c115-4449-be1c-6a4e881b2bcf .axis.y text[transform].backwards{text-anchor:start}#chart-321be6b0-c115-4449-be1c-6a4e881b2bcf .axis.y2 text{text-anchor:start}#chart-321be6b0-c115-4449-be1c-6a4e881b2bcf .axis.y2 text[transform].backwards{text-anchor:end}#chart-321be6b0-c115-4449-be1c-6a4e881b2bcf .axis .guide.line{stroke-dasharray:4,4}#chart-321be6b0-c115-4449-be1c-6a4e881b2bcf .axis .major.guide.line{stroke-dasharray:6,6}#chart-321be6b0-c115-4449-be1c-6a4e881b2bcf .horizontal .axis.y .guide.line,#chart-321be6b0-c115-4449-be1c-6a4e881b2bcf .horizontal .axis.y2 .guide.line,#chart-321be6b0-c115-4449-be1c-6a4e881b2bcf .vertical .axis.x .guide.line{opacity:0}#chart-321be6b0-c115-4449-be1c-6a4e881b2bcf .horizontal .axis.always_show .guide.line,#chart-321be6b0-c115-4449-be1c-6a4e881b2bcf .vertical .axis.always_show .guide.line{opacity:1 !important}#chart-321be6b0-c115-4449-be1c-6a4e881b2bcf .axis.y .guides:hover .guide.line,#chart-321be6b0-c115-4449-be1c-6a4e881b2bcf .axis.y2 .guides:hover .guide.line,#chart-321be6b0-c115-4449-be1c-6a4e881b2bcf .axis.x .guides:hover .guide.line{opacity:1}#chart-321be6b0-c115-4449-be1c-6a4e881b2bcf .axis .guides:hover text{opacity:1}#chart-321be6b0-c115-4449-be1c-6a4e881b2bcf .nofill{fill:none}#chart-321be6b0-c115-4449-be1c-6a4e881b2bcf .subtle-fill{fill-opacity:.2}#chart-321be6b0-c115-4449-be1c-6a4e881b2bcf .dot{stroke-width:1px;fill-opacity:1}#chart-321be6b0-c115-4449-be1c-6a4e881b2bcf .dot.active{stroke-width:5px}#chart-321be6b0-c115-4449-be1c-6a4e881b2bcf .dot.negative{fill:transparent}#chart-321be6b0-c115-4449-be1c-6a4e881b2bcf text,#chart-321be6b0-c115-4449-be1c-6a4e881b2bcf tspan{stroke:none !important}#chart-321be6b0-c115-4449-be1c-6a4e881b2bcf .series text.active{opacity:1}#chart-321be6b0-c115-4449-be1c-6a4e881b2bcf .tooltip rect{fill-opacity:.95;stroke-width:.5}#chart-321be6b0-c115-4449-be1c-6a4e881b2bcf .tooltip text{fill-opacity:1}#chart-321be6b0-c115-4449-be1c-6a4e881b2bcf .showable{visibility:hidden}#chart-321be6b0-c115-4449-be1c-6a4e881b2bcf .showable.shown{visibility:visible}#chart-321be6b0-c115-4449-be1c-6a4e881b2bcf .gauge-background{fill:rgba(229,229,229,1);stroke:none}#chart-321be6b0-c115-4449-be1c-6a4e881b2bcf .bg-lines{stroke:rgba(249,249,249,1);stroke-width:2px}</style><script type=\"text/javascript\">window.pygal = window.pygal || {};window.pygal.config = window.pygal.config || {};window.pygal.config['321be6b0-c115-4449-be1c-6a4e881b2bcf'] = {\"allow_interruptions\": false, \"box_mode\": \"extremes\", \"classes\": [\"pygal-chart\"], \"css\": [\"file://style.css\", \"file://graph.css\"], \"defs\": [], \"disable_xml_declaration\": true, \"dots_size\": 2.5, \"dynamic_print_values\": false, \"explicit_size\": false, \"fill\": false, \"force_uri_protocol\": \"https\", \"formatter\": null, \"half_pie\": false, \"height\": 600, \"include_x_axis\": false, \"inner_radius\": 0, \"interpolate\": null, \"interpolation_parameters\": {}, \"interpolation_precision\": 250, \"inverse_y_axis\": false, \"js\": [\"//kozea.github.io/pygal.js/2.0.x/pygal-tooltips.min.js\"], \"legend_at_bottom\": false, \"legend_at_bottom_columns\": null, \"legend_box_size\": 12, \"logarithmic\": false, \"margin\": 20, \"margin_bottom\": null, \"margin_left\": null, \"margin_right\": null, \"margin_top\": null, \"max_scale\": 16, \"min_scale\": 4, \"missing_value_fill_truncation\": \"x\", \"no_data_text\": \"No data\", \"no_prefix\": false, \"order_min\": null, \"pretty_print\": false, \"print_labels\": false, \"print_values\": false, \"print_values_position\": \"center\", \"print_zeroes\": true, \"range\": null, \"rounded_bars\": null, \"secondary_range\": null, \"show_dots\": true, \"show_legend\": true, \"show_minor_x_labels\": true, \"show_minor_y_labels\": true, \"show_only_major_dots\": false, \"show_x_guides\": false, \"show_x_labels\": true, \"show_y_guides\": true, \"show_y_labels\": true, \"spacing\": 10, \"stack_from_top\": false, \"strict\": false, \"stroke\": false, \"stroke_style\": null, \"style\": {\"background\": \"rgba(249, 249, 249, 1)\", \"ci_colors\": [], \"colors\": [\"#F44336\", \"#3F51B5\", \"#009688\", \"#FFC107\", \"#FF5722\", \"#9C27B0\", \"#03A9F4\", \"#8BC34A\", \"#FF9800\", \"#E91E63\", \"#2196F3\", \"#4CAF50\", \"#FFEB3B\", \"#673AB7\", \"#00BCD4\", \"#CDDC39\", \"#9E9E9E\", \"#607D8B\"], \"font_family\": \"Consolas, \\\"Liberation Mono\\\", Menlo, Courier, monospace\", \"foreground\": \"rgba(0, 0, 0, .87)\", \"foreground_strong\": \"rgba(0, 0, 0, 1)\", \"foreground_subtle\": \"rgba(0, 0, 0, .54)\", \"guide_stroke_dasharray\": \"4,4\", \"label_font_family\": \"Consolas, \\\"Liberation Mono\\\", Menlo, Courier, monospace\", \"label_font_size\": 10, \"legend_font_family\": \"Consolas, \\\"Liberation Mono\\\", Menlo, Courier, monospace\", \"legend_font_size\": 14, \"major_guide_stroke_dasharray\": \"6,6\", \"major_label_font_family\": \"Consolas, \\\"Liberation Mono\\\", Menlo, Courier, monospace\", \"major_label_font_size\": 10, \"no_data_font_family\": \"Consolas, \\\"Liberation Mono\\\", Menlo, Courier, monospace\", \"no_data_font_size\": 64, \"opacity\": \".7\", \"opacity_hover\": \".8\", \"plot_background\": \"rgba(255, 255, 255, 1)\", \"stroke_opacity\": \".8\", \"stroke_opacity_hover\": \".9\", \"title_font_family\": \"Consolas, \\\"Liberation Mono\\\", Menlo, Courier, monospace\", \"title_font_size\": 16, \"tooltip_font_family\": \"Consolas, \\\"Liberation Mono\\\", Menlo, Courier, monospace\", \"tooltip_font_size\": 14, \"transition\": \"150ms\", \"value_background\": \"rgba(229, 229, 229, 1)\", \"value_colors\": [], \"value_font_family\": \"Consolas, \\\"Liberation Mono\\\", Menlo, Courier, monospace\", \"value_font_size\": 16, \"value_label_font_family\": \"Consolas, \\\"Liberation Mono\\\", Menlo, Courier, monospace\", \"value_label_font_size\": 10}, \"title\": null, \"tooltip_border_radius\": 0, \"tooltip_fancy_mode\": true, \"truncate_label\": null, \"truncate_legend\": null, \"width\": 800, \"x_label_rotation\": 0, \"x_labels\": null, \"x_labels_major\": null, \"x_labels_major_count\": null, \"x_labels_major_every\": null, \"x_title\": null, \"xrange\": null, \"y_label_rotation\": 0, \"y_labels\": null, \"y_labels_major\": null, \"y_labels_major_count\": null, \"y_labels_major_every\": null, \"y_title\": null, \"zero\": 0, \"legends\": [\"A\"]}</script><script type=\"text/javascript\" xlink:href=\"https://kozea.github.io/pygal.js/2.0.x/pygal-tooltips.min.js\"/></defs><title>Pygal</title><g class=\"graph xy-graph vertical\"><rect x=\"0\" y=\"0\" width=\"800\" height=\"600\" class=\"background\"/><g transform=\"translate(78, 20)\" class=\"plot\"><rect x=\"0\" y=\"0\" width=\"701.6\" height=\"540\" class=\"background\"/><g class=\"axis y always_show\"><g class=\"guides\"><path d=\"M0.000000 529.615385 h701.600000\" class=\"axis major line\"/><text x=\"-5\" y=\"533.1153846153846\" class=\"major\">0</text><title>0</title></g><g class=\"guides\"><path d=\"M0.000000 465.314361 h701.600000\" class=\"guide line\"/><text x=\"-5\" y=\"468.8143605620386\" class=\"\">0.4</text><title>0.4</title></g><g class=\"guides\"><path d=\"M0.000000 401.013337 h701.600000\" class=\"guide line\"/><text x=\"-5\" y=\"404.51333650869253\" class=\"\">0.8</text><title>0.8</title></g><g class=\"guides\"><path d=\"M0.000000 336.712312 h701.600000\" class=\"guide line\"/><text x=\"-5\" y=\"340.2123124553465\" class=\"\">1.2</text><title>1.2</title></g><g class=\"guides\"><path d=\"M0.000000 272.411288 h701.600000\" class=\"guide line\"/><text x=\"-5\" y=\"275.9112884020005\" class=\"\">1.6</text><title>1.6</title></g><g class=\"guides\"><path d=\"M0.000000 208.110264 h701.600000\" class=\"major guide line\"/><text x=\"-5\" y=\"211.61026434865443\" class=\"major\">2</text><title>2</title></g><g class=\"guides\"><path d=\"M0.000000 143.809240 h701.600000\" class=\"guide line\"/><text x=\"-5\" y=\"147.30924029530837\" class=\"\">2.4</text><title>2.4</title></g><g class=\"guides\"><path d=\"M0.000000 79.508216 h701.600000\" class=\"guide line\"/><text x=\"-5\" y=\"83.00821624196243\" class=\"\">2.8</text><title>2.8</title></g><g class=\"guides\"><path d=\"M0.000000 15.207192 h701.600000\" class=\"guide line\"/><text x=\"-5\" y=\"18.707192188616318\" class=\"\">3.2</text><title>3.2</title></g></g><g class=\"axis x\"><g class=\"guides\"><path d=\"M13.492308 0.000000 v540.000000\" class=\"axis line\"/><text x=\"13.492307692307692\" y=\"555.0\" class=\"\">0</text><title>0</title></g><g class=\"guides\"><path d=\"M69.016208 0.000000 v540.000000\" class=\"guide line\"/><text x=\"69.01620766065211\" y=\"555.0\" class=\"\">0.2</text><title>0.2</title></g><g class=\"guides\"><path d=\"M124.540108 0.000000 v540.000000\" class=\"guide line\"/><text x=\"124.54010762899652\" y=\"555.0\" class=\"\">0.4</text><title>0.4</title></g><g class=\"guides\"><path d=\"M180.064008 0.000000 v540.000000\" class=\"guide line\"/><text x=\"180.06400759734092\" y=\"555.0\" class=\"\">0.6</text><title>0.6</title></g><g class=\"guides\"><path d=\"M235.587908 0.000000 v540.000000\" class=\"guide line\"/><text x=\"235.58790756568536\" y=\"555.0\" class=\"\">0.8</text><title>0.8</title></g><g class=\"guides\"><path d=\"M291.111808 0.000000 v540.000000\" class=\"guide line\"/><text x=\"291.11180753402977\" y=\"555.0\" class=\"\">1</text><title>1</title></g><g class=\"guides\"><path d=\"M346.635708 0.000000 v540.000000\" class=\"guide line\"/><text x=\"346.63570750237415\" y=\"555.0\" class=\"\">1.2</text><title>1.2</title></g><g class=\"guides\"><path d=\"M402.159607 0.000000 v540.000000\" class=\"guide line\"/><text x=\"402.1596074707186\" y=\"555.0\" class=\"\">1.4</text><title>1.4</title></g><g class=\"guides\"><path d=\"M457.683507 0.000000 v540.000000\" class=\"guide line\"/><text x=\"457.683507439063\" y=\"555.0\" class=\"\">1.6</text><title>1.6</title></g><g class=\"guides\"><path d=\"M513.207407 0.000000 v540.000000\" class=\"guide line\"/><text x=\"513.2074074074073\" y=\"555.0\" class=\"\">1.8</text><title>1.8</title></g><g class=\"guides\"><path d=\"M568.731307 0.000000 v540.000000\" class=\"guide line\"/><text x=\"568.7313073757517\" y=\"555.0\" class=\"\">2</text><title>2</title></g><g class=\"guides\"><path d=\"M624.255207 0.000000 v540.000000\" class=\"guide line\"/><text x=\"624.2552073440962\" y=\"555.0\" class=\"\">2.2</text><title>2.2</title></g><g class=\"guides\"><path d=\"M679.779107 0.000000 v540.000000\" class=\"guide line\"/><text x=\"679.7791073124406\" y=\"555.0\" class=\"\">2.4</text><title>2.4</title></g></g><g class=\"series serie-0 color-0\"/></g><g class=\"titles\"/><g transform=\"translate(78, 20)\" class=\"plot overlay\"><g class=\"series serie-0 color-0\"><g class=\"dots\"><circle cx=\"13.492307692307692\" cy=\"529.6153846153846\" r=\"2.5\" class=\"dot reactive tooltip-trigger\"/><desc class=\"value\">0: 0</desc><desc class=\"x top\">13.492307692307692</desc><desc class=\"y top\">529.6153846153846</desc></g><g class=\"dots\"><circle cx=\"41.254257676479895\" cy=\"497.4648725887116\" r=\"2.5\" class=\"dot reactive tooltip-trigger\"/><desc class=\"value\">0.1: 0.2</desc><desc class=\"x top\">41.254257676479895</desc><desc class=\"y top\">497.4648725887116</desc></g><g class=\"dots\"><circle cx=\"96.77815764482432\" cy=\"513.5401286020481\" r=\"2.5\" class=\"dot reactive tooltip-trigger\"/><desc class=\"value\">0.3: 0.1</desc><desc class=\"x top\">96.77815764482432</desc><desc class=\"y top\">513.5401286020481</desc></g><g class=\"dots\"><circle cx=\"152.30205761316873\" cy=\"368.8628244820195\" r=\"2.5\" class=\"dot reactive tooltip-trigger\"/><desc class=\"value\">0.5: 1</desc><desc class=\"x top\">152.30205761316873</desc><desc class=\"y top\">368.8628244820195</desc></g><g class=\"dots\"><circle cx=\"235.58790756568536\" cy=\"433.16384853536556\" r=\"2.5\" class=\"dot reactive tooltip-trigger\"/><desc class=\"value\">0.8: 0.6</desc><desc class=\"x top\">235.58790756568536</desc><desc class=\"y top\">433.16384853536556</desc></g><g class=\"dots\"><circle cx=\"291.11180753402977\" cy=\"356.0026196713503\" r=\"2.5\" class=\"dot reactive tooltip-trigger\"/><desc class=\"value\">1: 1.08</desc><desc class=\"x top\">291.11180753402977</desc><desc class=\"y top\">356.0026196713503</desc></g><g class=\"dots\"><circle cx=\"374.3976574865464\" cy=\"352.78756846868305\" r=\"2.5\" class=\"dot reactive tooltip-trigger\"/><desc class=\"value\">1.3: 1.1</desc><desc class=\"x left top\">374.3976574865464</desc><desc class=\"y left top\">352.78756846868305</desc></g><g class=\"dots\"><circle cx=\"568.7313073757517\" cy=\"10.384615384615358\" r=\"2.5\" class=\"dot reactive tooltip-trigger\"/><desc class=\"value\">2: 3.23</desc><desc class=\"x left\">568.7313073757517</desc><desc class=\"y left\">10.384615384615358</desc></g><g class=\"dots\"><circle cx=\"688.1076923076923\" cy=\"208.11026434865443\" r=\"2.5\" class=\"dot reactive tooltip-trigger\"/><desc class=\"value\">2.43: 2</desc><desc class=\"x left\">688.1076923076923</desc><desc class=\"y left\">208.11026434865443</desc></g></g></g><g transform=\"translate(78, 20)\" class=\"plot text-overlay\"><g class=\"series serie-0 color-0\"/></g><g transform=\"translate(78, 20)\" class=\"plot tooltip-overlay\"><g transform=\"translate(0 0)\" style=\"opacity: 0\" class=\"tooltip\"><rect rx=\"0\" ry=\"0\" width=\"0\" height=\"0\" class=\"tooltip-box\"/><g class=\"text\"/></g></g><g transform=\"translate(10, 30)\" class=\"legends\"><g id=\"activate-serie-0\" class=\"legend reactive activate-serie\"><rect x=\"0.0\" y=\"1.0\" width=\"12\" height=\"12\" class=\"color-0 reactive\"/><text x=\"17.0\" y=\"11.2\">A</text></g></g><g transform=\"translate(790, 30)\" class=\"legends\"/></g></svg>"
      ],
      "text/plain": [
       "<pygal.graph.xy.XY at 0x3c726d0>"
      ]
     },
     "execution_count": 5,
     "metadata": {},
     "output_type": "execute_result"
    }
   ],
   "source": [
    "xy_chart.add('A', [(0, 0), (.1, .2), (.3, .1), (.5, 1), (.8, .6), (1, 1.08), (1.3, 1.1), (2, 3.23), (2.43, 2)])"
   ]
  },
  {
   "cell_type": "code",
   "execution_count": 14,
   "metadata": {},
   "outputs": [],
   "source": [
    "getattr(xy_chart, 'x_labels', None)"
   ]
  },
  {
   "cell_type": "code",
   "execution_count": 16,
   "metadata": {},
   "outputs": [
    {
     "name": "stdout",
     "output_type": "stream",
     "text": [
      "Object `xy_chart.style` not found.\n"
     ]
    }
   ],
   "source": [
    "xy_chart.style?"
   ]
  },
  {
   "cell_type": "code",
   "execution_count": 18,
   "metadata": {},
   "outputs": [
    {
     "ename": "AttributeError",
     "evalue": "'XY' object has no attribute 'style'",
     "output_type": "error",
     "traceback": [
      "\u001b[1;31m---------------------------------------------------------------------------\u001b[0m",
      "\u001b[1;31mAttributeError\u001b[0m                            Traceback (most recent call last)",
      "\u001b[1;32m<ipython-input-18-df63bb569252>\u001b[0m in \u001b[0;36m<module>\u001b[1;34m\u001b[0m\n\u001b[1;32m----> 1\u001b[1;33m \u001b[0misinstance\u001b[0m\u001b[1;33m(\u001b[0m\u001b[0mxy_chart\u001b[0m\u001b[1;33m.\u001b[0m\u001b[0mstyle\u001b[0m\u001b[1;33m,\u001b[0m \u001b[0mtype\u001b[0m\u001b[1;33m)\u001b[0m\u001b[1;33m\u001b[0m\u001b[1;33m\u001b[0m\u001b[0m\n\u001b[0m",
      "\u001b[1;32md:\\apps\\python37\\lib\\site-packages\\pygal\\graph\\base.py\u001b[0m in \u001b[0;36m__getattribute__\u001b[1;34m(self, name)\u001b[0m\n\u001b[0;32m     71\u001b[0m                 \u001b[0mself\u001b[0m\u001b[1;33m,\u001b[0m \u001b[1;34m'state'\u001b[0m\u001b[1;33m,\u001b[0m \u001b[1;32mNone\u001b[0m\u001b[1;33m\u001b[0m\u001b[1;33m\u001b[0m\u001b[0m\n\u001b[0;32m     72\u001b[0m         ) is None or name not in self.state.__dict__:\n\u001b[1;32m---> 73\u001b[1;33m             \u001b[1;32mreturn\u001b[0m \u001b[0msuper\u001b[0m\u001b[1;33m(\u001b[0m\u001b[0mBaseGraph\u001b[0m\u001b[1;33m,\u001b[0m \u001b[0mself\u001b[0m\u001b[1;33m)\u001b[0m\u001b[1;33m.\u001b[0m\u001b[0m__getattribute__\u001b[0m\u001b[1;33m(\u001b[0m\u001b[0mname\u001b[0m\u001b[1;33m)\u001b[0m\u001b[1;33m\u001b[0m\u001b[1;33m\u001b[0m\u001b[0m\n\u001b[0m\u001b[0;32m     74\u001b[0m         \u001b[1;32mreturn\u001b[0m \u001b[0mgetattr\u001b[0m\u001b[1;33m(\u001b[0m\u001b[0mself\u001b[0m\u001b[1;33m.\u001b[0m\u001b[0mstate\u001b[0m\u001b[1;33m,\u001b[0m \u001b[0mname\u001b[0m\u001b[1;33m)\u001b[0m\u001b[1;33m\u001b[0m\u001b[1;33m\u001b[0m\u001b[0m\n\u001b[0;32m     75\u001b[0m \u001b[1;33m\u001b[0m\u001b[0m\n",
      "\u001b[1;31mAttributeError\u001b[0m: 'XY' object has no attribute 'style'"
     ]
    }
   ],
   "source": [
    "isinstance(xy_chart.style, type)"
   ]
  },
  {
   "cell_type": "code",
   "execution_count": 29,
   "metadata": {},
   "outputs": [],
   "source": [
    "class Foo:\n",
    "    def hello(self):\n",
    "        print(\"hello world!\")\n",
    "        return\n",
    "\n",
    "foo = Foo()"
   ]
  },
  {
   "cell_type": "code",
   "execution_count": 30,
   "metadata": {},
   "outputs": [
    {
     "name": "stdout",
     "output_type": "stream",
     "text": [
      "<class '__main__.Foo'>\n",
      "<class 'method'>\n",
      "<class 'type'>\n"
     ]
    }
   ],
   "source": [
    "print(type(foo))            # <class '__main__.Foo'>\n",
    "print(type(foo.hello))      # <class 'method'>\n",
    "print(type(Foo))"
   ]
  },
  {
   "cell_type": "code",
   "execution_count": 33,
   "metadata": {},
   "outputs": [
    {
     "data": {
      "text/plain": [
       "['__class__',\n",
       " '__delattr__',\n",
       " '__dict__',\n",
       " '__dir__',\n",
       " '__doc__',\n",
       " '__eq__',\n",
       " '__format__',\n",
       " '__ge__',\n",
       " '__getattribute__',\n",
       " '__gt__',\n",
       " '__hash__',\n",
       " '__init__',\n",
       " '__init_subclass__',\n",
       " '__le__',\n",
       " '__lt__',\n",
       " '__module__',\n",
       " '__ne__',\n",
       " '__new__',\n",
       " '__reduce__',\n",
       " '__reduce_ex__',\n",
       " '__repr__',\n",
       " '__setattr__',\n",
       " '__sizeof__',\n",
       " '__str__',\n",
       " '__subclasshook__',\n",
       " '__weakref__',\n",
       " 'hello']"
      ]
     },
     "execution_count": 33,
     "metadata": {},
     "output_type": "execute_result"
    }
   ],
   "source": [
    "dir(foo)"
   ]
  },
  {
   "cell_type": "code",
   "execution_count": 36,
   "metadata": {},
   "outputs": [
    {
     "data": {
      "text/plain": [
       "<function Foo.__sizeof__()>"
      ]
     },
     "execution_count": 36,
     "metadata": {},
     "output_type": "execute_result"
    }
   ],
   "source": [
    "getattr(foo, '__sizeof__')"
   ]
  },
  {
   "cell_type": "markdown",
   "metadata": {},
   "source": [
    "# cairo\n",
    "[tutorial](https://www.cairographics.org/tutorial/)"
   ]
  }
 ],
 "metadata": {
  "kernelspec": {
   "display_name": "Python 3",
   "language": "python",
   "name": "python3"
  },
  "language_info": {
   "codemirror_mode": {
    "name": "ipython",
    "version": 3
   },
   "file_extension": ".py",
   "mimetype": "text/x-python",
   "name": "python",
   "nbconvert_exporter": "python",
   "pygments_lexer": "ipython3",
   "version": "3.7.5"
  }
 },
 "nbformat": 4,
 "nbformat_minor": 4
}
