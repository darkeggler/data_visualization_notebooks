{
 "cells": [
  {
   "cell_type": "markdown",
   "metadata": {},
   "source": [
    "# 数据分析实践-手机\n",
    "\n",
    "1. 数据调查\n",
    "2. 外形分析"
   ]
  },
  {
   "cell_type": "code",
   "execution_count": 5,
   "metadata": {},
   "outputs": [],
   "source": [
    "import requests\n",
    "import pandas as pd"
   ]
  },
  {
   "cell_type": "code",
   "execution_count": 3,
   "metadata": {},
   "outputs": [],
   "source": [
    "urlb = r'https://club.jd.com/comment/productCommentSummaries.action?referenceIds='"
   ]
  },
  {
   "cell_type": "code",
   "execution_count": 81,
   "metadata": {},
   "outputs": [],
   "source": [
    "fn = 'phone_data2.csv'\n",
    "#df = pd.read_csv(fn)"
   ]
  },
  {
   "cell_type": "markdown",
   "metadata": {},
   "source": [
    "# 1.\n",
    "获取SKU对应的json"
   ]
  },
  {
   "cell_type": "markdown",
   "metadata": {},
   "source": [
    "### 1.1. 从CSV读取SKU\n",
    "\n",
    "希望它是字符串，可它是float64\n",
    "> read_csv : dtype={'SKU':str}\n",
    "\n",
    "删除nan\n",
    "> Series.dropna()"
   ]
  },
  {
   "cell_type": "code",
   "execution_count": 82,
   "metadata": {},
   "outputs": [],
   "source": [
    "df = pd.read_csv(fn, dtype={'SKU':str})"
   ]
  },
  {
   "cell_type": "code",
   "execution_count": 84,
   "metadata": {},
   "outputs": [],
   "source": [
    "r = requests.get( urlb + ','.join(df['SKU'].dropna().values) )"
   ]
  },
  {
   "cell_type": "markdown",
   "metadata": {},
   "source": [
    "### 1.2. 读JSON\n",
    "\n",
    "将字典写入Serial，SkuId作为Index，CommentCount\n",
    "\n"
   ]
  },
  {
   "cell_type": "code",
   "execution_count": 39,
   "metadata": {},
   "outputs": [],
   "source": [
    "import json"
   ]
  },
  {
   "cell_type": "code",
   "execution_count": 85,
   "metadata": {},
   "outputs": [],
   "source": [
    "d = json.loads(r.text)"
   ]
  },
  {
   "cell_type": "code",
   "execution_count": 94,
   "metadata": {},
   "outputs": [],
   "source": [
    "i,v = list(zip(* [[str(i['SkuId']), i['CommentCount']] for i in d['CommentsCount']] ))"
   ]
  },
  {
   "cell_type": "code",
   "execution_count": 93,
   "metadata": {},
   "outputs": [
    {
     "data": {
      "text/plain": [
       "int"
      ]
     },
     "execution_count": 93,
     "metadata": {},
     "output_type": "execute_result"
    }
   ],
   "source": [
    "type(d['CommentsCount'][0]['SkuId'])"
   ]
  },
  {
   "cell_type": "code",
   "execution_count": 95,
   "metadata": {},
   "outputs": [
    {
     "data": {
      "text/plain": [
       "100008348542    2328669\n",
       "100008348510     303550\n",
       "100008348548     360342\n",
       "100006945233     165195\n",
       "100012816020      34528\n",
       "100011199522     273703\n",
       "100011351676     116136\n",
       "100007356487      16132\n",
       "100013240074      11892\n",
       "100012015170     189853\n",
       "100004404916     789130\n",
       "100000745034     175665\n",
       "100006604003     162628\n",
       "100012820028     110455\n",
       "Name: 评价, dtype: int64"
      ]
     },
     "execution_count": 95,
     "metadata": {},
     "output_type": "execute_result"
    }
   ],
   "source": [
    "pd.Series(v, index=i, name='评价')"
   ]
  },
  {
   "cell_type": "code",
   "execution_count": 96,
   "metadata": {},
   "outputs": [],
   "source": [
    "idf = df[['SKU','0604价格']].dropna().set_index('SKU')"
   ]
  },
  {
   "cell_type": "code",
   "execution_count": 99,
   "metadata": {},
   "outputs": [
    {
     "data": {
      "text/html": [
       "<div>\n",
       "<style scoped>\n",
       "    .dataframe tbody tr th:only-of-type {\n",
       "        vertical-align: middle;\n",
       "    }\n",
       "\n",
       "    .dataframe tbody tr th {\n",
       "        vertical-align: top;\n",
       "    }\n",
       "\n",
       "    .dataframe thead th {\n",
       "        text-align: right;\n",
       "    }\n",
       "</style>\n",
       "<table border=\"1\" class=\"dataframe\">\n",
       "  <thead>\n",
       "    <tr style=\"text-align: right;\">\n",
       "      <th></th>\n",
       "      <th>0604价格</th>\n",
       "      <th>评价</th>\n",
       "    </tr>\n",
       "    <tr>\n",
       "      <th>SKU</th>\n",
       "      <th></th>\n",
       "      <th></th>\n",
       "    </tr>\n",
       "  </thead>\n",
       "  <tbody>\n",
       "    <tr>\n",
       "      <th>100008348542</th>\n",
       "      <td>5499.0</td>\n",
       "      <td>2328669</td>\n",
       "    </tr>\n",
       "    <tr>\n",
       "      <th>100008348510</th>\n",
       "      <td>8799.0</td>\n",
       "      <td>303550</td>\n",
       "    </tr>\n",
       "    <tr>\n",
       "      <th>100008348548</th>\n",
       "      <td>9299.0</td>\n",
       "      <td>360342</td>\n",
       "    </tr>\n",
       "    <tr>\n",
       "      <th>100006945233</th>\n",
       "      <td>3799.0</td>\n",
       "      <td>165195</td>\n",
       "    </tr>\n",
       "    <tr>\n",
       "      <th>100012816020</th>\n",
       "      <td>2299.0</td>\n",
       "      <td>34528</td>\n",
       "    </tr>\n",
       "    <tr>\n",
       "      <th>100011199522</th>\n",
       "      <td>3999.0</td>\n",
       "      <td>273703</td>\n",
       "    </tr>\n",
       "    <tr>\n",
       "      <th>100011351676</th>\n",
       "      <td>4999.0</td>\n",
       "      <td>116136</td>\n",
       "    </tr>\n",
       "    <tr>\n",
       "      <th>100007356487</th>\n",
       "      <td>6999.0</td>\n",
       "      <td>16132</td>\n",
       "    </tr>\n",
       "    <tr>\n",
       "      <th>100013240074</th>\n",
       "      <td>7999.0</td>\n",
       "      <td>11892</td>\n",
       "    </tr>\n",
       "    <tr>\n",
       "      <th>100012015170</th>\n",
       "      <td>6488.0</td>\n",
       "      <td>189853</td>\n",
       "    </tr>\n",
       "    <tr>\n",
       "      <th>100004404916</th>\n",
       "      <td>3288.0</td>\n",
       "      <td>789130</td>\n",
       "    </tr>\n",
       "    <tr>\n",
       "      <th>100000745034</th>\n",
       "      <td>1199.0</td>\n",
       "      <td>175665</td>\n",
       "    </tr>\n",
       "    <tr>\n",
       "      <th>100006604003</th>\n",
       "      <td>2399.0</td>\n",
       "      <td>162628</td>\n",
       "    </tr>\n",
       "    <tr>\n",
       "      <th>100012820028</th>\n",
       "      <td>2598.0</td>\n",
       "      <td>110455</td>\n",
       "    </tr>\n",
       "  </tbody>\n",
       "</table>\n",
       "</div>"
      ],
      "text/plain": [
       "              0604价格       评价\n",
       "SKU                          \n",
       "100008348542  5499.0  2328669\n",
       "100008348510  8799.0   303550\n",
       "100008348548  9299.0   360342\n",
       "100006945233  3799.0   165195\n",
       "100012816020  2299.0    34528\n",
       "100011199522  3999.0   273703\n",
       "100011351676  4999.0   116136\n",
       "100007356487  6999.0    16132\n",
       "100013240074  7999.0    11892\n",
       "100012015170  6488.0   189853\n",
       "100004404916  3288.0   789130\n",
       "100000745034  1199.0   175665\n",
       "100006604003  2399.0   162628\n",
       "100012820028  2598.0   110455"
      ]
     },
     "execution_count": 99,
     "metadata": {},
     "output_type": "execute_result"
    }
   ],
   "source": [
    "pd.concat([idf, pd.Series(v, index=i, name='评价')], axis=1)"
   ]
  },
  {
   "cell_type": "code",
   "execution_count": null,
   "metadata": {},
   "outputs": [],
   "source": []
  }
 ],
 "metadata": {
  "kernelspec": {
   "display_name": "Python 3",
   "language": "python",
   "name": "python3"
  },
  "language_info": {
   "codemirror_mode": {
    "name": "ipython",
    "version": 3
   },
   "file_extension": ".py",
   "mimetype": "text/x-python",
   "name": "python",
   "nbconvert_exporter": "python",
   "pygments_lexer": "ipython3",
   "version": "3.7.5"
  }
 },
 "nbformat": 4,
 "nbformat_minor": 4
}
