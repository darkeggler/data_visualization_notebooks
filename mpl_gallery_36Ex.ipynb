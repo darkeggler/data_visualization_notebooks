{
 "cells": [
  {
   "cell_type": "markdown",
   "metadata": {},
   "source": [
    "# 简单绘图练习\n",
    "绘制2020年1月1日至今紫光国微收盘价折线图。"
   ]
  },
  {
   "cell_type": "code",
   "execution_count": 1,
   "metadata": {},
   "outputs": [],
   "source": [
    "import akshare as ak\n",
    "import matplotlib.pyplot as plt"
   ]
  },
  {
   "cell_type": "code",
   "execution_count": 2,
   "metadata": {},
   "outputs": [],
   "source": [
    "%matplotlib widget"
   ]
  },
  {
   "cell_type": "markdown",
   "metadata": {},
   "source": [
    "## 数据准备\n",
    "\n",
    "我们通过AKSare库获得数据\n",
    "- 接口: stock_zh_a_daily\n",
    "- 目标地址: https://finance.sina.com.cn/realstock/company/sh600006/nc.shtml(示例)\n",
    "- 描述: A 股数据是从新浪财经获取的数据, 历史数据按日频率更新\n",
    "- 限量: 单次返回具体某个 A 上市公司的所有历史行情数据"
   ]
  },
  {
   "cell_type": "code",
   "execution_count": 3,
   "metadata": {},
   "outputs": [],
   "source": [
    "df = ak.stock_zh_a_daily(symbol=\"sz002049\")"
   ]
  },
  {
   "cell_type": "code",
   "execution_count": 4,
   "metadata": {},
   "outputs": [
    {
     "data": {
      "text/html": [
       "<div>\n",
       "<style scoped>\n",
       "    .dataframe tbody tr th:only-of-type {\n",
       "        vertical-align: middle;\n",
       "    }\n",
       "\n",
       "    .dataframe tbody tr th {\n",
       "        vertical-align: top;\n",
       "    }\n",
       "\n",
       "    .dataframe thead th {\n",
       "        text-align: right;\n",
       "    }\n",
       "</style>\n",
       "<table border=\"1\" class=\"dataframe\">\n",
       "  <thead>\n",
       "    <tr style=\"text-align: right;\">\n",
       "      <th></th>\n",
       "      <th>open</th>\n",
       "      <th>high</th>\n",
       "      <th>low</th>\n",
       "      <th>close</th>\n",
       "      <th>volume</th>\n",
       "    </tr>\n",
       "    <tr>\n",
       "      <th>date</th>\n",
       "      <th></th>\n",
       "      <th></th>\n",
       "      <th></th>\n",
       "      <th></th>\n",
       "      <th></th>\n",
       "    </tr>\n",
       "  </thead>\n",
       "  <tbody>\n",
       "    <tr>\n",
       "      <th>2005-06-06</th>\n",
       "      <td>6.41</td>\n",
       "      <td>7.16</td>\n",
       "      <td>6.30</td>\n",
       "      <td>7.00</td>\n",
       "      <td>12611462</td>\n",
       "    </tr>\n",
       "    <tr>\n",
       "      <th>2005-06-07</th>\n",
       "      <td>6.79</td>\n",
       "      <td>7.50</td>\n",
       "      <td>6.76</td>\n",
       "      <td>7.36</td>\n",
       "      <td>9888515</td>\n",
       "    </tr>\n",
       "    <tr>\n",
       "      <th>2005-06-08</th>\n",
       "      <td>7.20</td>\n",
       "      <td>8.10</td>\n",
       "      <td>7.20</td>\n",
       "      <td>8.10</td>\n",
       "      <td>8311996</td>\n",
       "    </tr>\n",
       "    <tr>\n",
       "      <th>2005-06-09</th>\n",
       "      <td>8.10</td>\n",
       "      <td>8.91</td>\n",
       "      <td>8.00</td>\n",
       "      <td>8.91</td>\n",
       "      <td>6736784</td>\n",
       "    </tr>\n",
       "    <tr>\n",
       "      <th>2005-06-10</th>\n",
       "      <td>9.08</td>\n",
       "      <td>9.80</td>\n",
       "      <td>8.81</td>\n",
       "      <td>9.38</td>\n",
       "      <td>8483341</td>\n",
       "    </tr>\n",
       "  </tbody>\n",
       "</table>\n",
       "</div>"
      ],
      "text/plain": [
       "            open  high   low  close    volume\n",
       "date                                         \n",
       "2005-06-06  6.41  7.16  6.30   7.00  12611462\n",
       "2005-06-07  6.79  7.50  6.76   7.36   9888515\n",
       "2005-06-08  7.20  8.10  7.20   8.10   8311996\n",
       "2005-06-09  8.10  8.91  8.00   8.91   6736784\n",
       "2005-06-10  9.08  9.80  8.81   9.38   8483341"
      ]
     },
     "execution_count": 4,
     "metadata": {},
     "output_type": "execute_result"
    }
   ],
   "source": [
    "df.head()"
   ]
  },
  {
   "cell_type": "code",
   "execution_count": 5,
   "metadata": {},
   "outputs": [],
   "source": [
    "close = df.loc['2020-01-01':,'close']"
   ]
  },
  {
   "cell_type": "code",
   "execution_count": 9,
   "metadata": {},
   "outputs": [
    {
     "data": {
      "application/vnd.jupyter.widget-view+json": {
       "model_id": "47a461fcc3ac4f39a7745ab713934331",
       "version_major": 2,
       "version_minor": 0
      },
      "text/plain": [
       "Canvas(toolbar=Toolbar(toolitems=[('Home', 'Reset original view', 'home', 'home'), ('Back', 'Back to previous …"
      ]
     },
     "metadata": {},
     "output_type": "display_data"
    }
   ],
   "source": [
    "fig, ax = plt.subplots()"
   ]
  },
  {
   "cell_type": "code",
   "execution_count": 7,
   "metadata": {},
   "outputs": [
    {
     "data": {
      "text/plain": [
       "[<matplotlib.lines.Line2D at 0xe7bb850>]"
      ]
     },
     "execution_count": 7,
     "metadata": {},
     "output_type": "execute_result"
    }
   ],
   "source": [
    "ax.plot(close)"
   ]
  },
  {
   "cell_type": "code",
   "execution_count": 8,
   "metadata": {},
   "outputs": [
    {
     "data": {
      "text/plain": [
       "[Text(63.652777777777786, 0.5, '价格（元）'),\n",
       " Text(0.5, 32.902777777777764, '周期（日）'),\n",
       " Text(0.5, 1, '老铁们，揍是这么简单')]"
      ]
     },
     "execution_count": 8,
     "metadata": {},
     "output_type": "execute_result"
    }
   ],
   "source": [
    "ax.set(xlabel=\"周期（日）\", ylabel=\"价格（元）\",\n",
    "      title='老铁们，揍是这么简单')"
   ]
  },
  {
   "cell_type": "code",
   "execution_count": 16,
   "metadata": {},
   "outputs": [],
   "source": [
    "ax.cla()"
   ]
  },
  {
   "cell_type": "code",
   "execution_count": 24,
   "metadata": {},
   "outputs": [
    {
     "data": {
      "text/plain": [
       "[<matplotlib.lines.Line2D at 0x2c04ecb9f88>]"
      ]
     },
     "execution_count": 24,
     "metadata": {},
     "output_type": "execute_result"
    }
   ],
   "source": [
    "ax.plot(close.index, close.values)"
   ]
  },
  {
   "cell_type": "code",
   "execution_count": null,
   "metadata": {},
   "outputs": [],
   "source": []
  }
 ],
 "metadata": {
  "kernelspec": {
   "display_name": "Python 3",
   "language": "python",
   "name": "python3"
  },
  "language_info": {
   "codemirror_mode": {
    "name": "ipython",
    "version": 3
   },
   "file_extension": ".py",
   "mimetype": "text/x-python",
   "name": "python",
   "nbconvert_exporter": "python",
   "pygments_lexer": "ipython3",
   "version": "3.7.5"
  }
 },
 "nbformat": 4,
 "nbformat_minor": 4
}
