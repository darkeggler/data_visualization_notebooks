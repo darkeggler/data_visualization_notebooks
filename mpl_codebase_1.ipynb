{
 "cells": [
  {
   "cell_type": "markdown",
   "metadata": {},
   "source": [
    "%matplotlib -l"
   ]
  },
  {
   "cell_type": "code",
   "execution_count": null,
   "metadata": {},
   "outputs": [],
   "source": [
    "%matplotlib -l"
   ]
  },
  {
   "cell_type": "code",
   "execution_count": null,
   "metadata": {},
   "outputs": [],
   "source": [
    "%matplotlib inline"
   ]
  },
  {
   "cell_type": "code",
   "execution_count": 23,
   "metadata": {},
   "outputs": [],
   "source": [
    "import matplotlib.pyplot as plt\n",
    "import matplotlib.patches as patches\n",
    "from matplotlib.path import Path\n",
    "import numpy as np"
   ]
  },
  {
   "cell_type": "code",
   "execution_count": null,
   "metadata": {},
   "outputs": [],
   "source": [
    "star = Path.unit_regular_star(6)\n",
    "circle = Path.unit_circle()\n",
    "\n",
    "verts = np.concatenate([circle.vertices, star.vertices[::-1, ...]])\n",
    "codes = np.concatenate([circle.codes, star.codes])\n",
    "cut_star = Path(verts, codes)\n",
    "\n",
    "\n",
    "plt.plot(np.arange(10)**2, '--r', marker=cut_star, markersize=15)"
   ]
  },
  {
   "cell_type": "markdown",
   "metadata": {},
   "source": [
    "```python\n",
    "    @classmethod\n",
    "    def unit_circle(cls):\n",
    "        \"\"\"\n",
    "        Return the readonly :class:`Path` of the unit circle.\n",
    "\n",
    "        For most cases, :func:`Path.circle` will be what you want.\n",
    "        \"\"\"\n",
    "        if cls._unit_circle is None:\n",
    "            cls._unit_circle = cls.circle(center=(0, 0), radius=1,\n",
    "                                          readonly=True)\n",
    "        return cls._unit_circle\n",
    "    \n",
    "    @classmethod\n",
    "    def circle(cls, center=(0., 0.), radius=1., readonly=False):\n",
    "        \"\"\"\n",
    "        Return a `Path` representing a circle of a given radius and center.\n",
    "\n",
    "        Parameters\n",
    "        ----------\n",
    "        center : (float, float), default: (0, 0)\n",
    "            The center of the circle.\n",
    "        radius : float, default: 1\n",
    "            The radius of the circle.\n",
    "        readonly : bool\n",
    "            Whether the created path should have the \"readonly\" argument\n",
    "            set when creating the Path instance.\n",
    "\n",
    "        Notes\n",
    "        -----\n",
    "        The circle is approximated using 8 cubic Bezier curves, as described in\n",
    "\n",
    "          Lancaster, Don.  `Approximating a Circle or an Ellipse Using Four\n",
    "          Bezier Cubic Splines <https://www.tinaja.com/glib/ellipse4.pdf>`_.\n",
    "        \"\"\"\n",
    "        MAGIC = 0.2652031\n",
    "        SQRTHALF = np.sqrt(0.5)\n",
    "        MAGIC45 = SQRTHALF * MAGIC\n",
    "\n",
    "        vertices = np.array([[0.0, -1.0],\n",
    "\n",
    "                             [MAGIC, -1.0],\n",
    "                             [SQRTHALF-MAGIC45, -SQRTHALF-MAGIC45],\n",
    "                             [SQRTHALF, -SQRTHALF],\n",
    "\n",
    "                             [SQRTHALF+MAGIC45, -SQRTHALF+MAGIC45],\n",
    "                             [1.0, -MAGIC],\n",
    "                             [1.0, 0.0],\n",
    "\n",
    "                             [1.0, MAGIC],\n",
    "                             [SQRTHALF+MAGIC45, SQRTHALF-MAGIC45],\n",
    "                             [SQRTHALF, SQRTHALF],\n",
    "\n",
    "                             [SQRTHALF-MAGIC45, SQRTHALF+MAGIC45],\n",
    "                             [MAGIC, 1.0],\n",
    "                             [0.0, 1.0],\n",
    "\n",
    "                             [-MAGIC, 1.0],\n",
    "                             [-SQRTHALF+MAGIC45, SQRTHALF+MAGIC45],\n",
    "                             [-SQRTHALF, SQRTHALF],\n",
    "\n",
    "                             [-SQRTHALF-MAGIC45, SQRTHALF-MAGIC45],\n",
    "                             [-1.0, MAGIC],\n",
    "                             [-1.0, 0.0],\n",
    "\n",
    "                             [-1.0, -MAGIC],\n",
    "                             [-SQRTHALF-MAGIC45, -SQRTHALF+MAGIC45],\n",
    "                             [-SQRTHALF, -SQRTHALF],\n",
    "\n",
    "                             [-SQRTHALF+MAGIC45, -SQRTHALF-MAGIC45],\n",
    "                             [-MAGIC, -1.0],\n",
    "                             [0.0, -1.0],\n",
    "\n",
    "                             [0.0, -1.0]],\n",
    "                            dtype=float)\n",
    "\n",
    "        codes = [cls.CURVE4] * 26\n",
    "        codes[0] = cls.MOVETO\n",
    "        codes[-1] = cls.CLOSEPOLY\n",
    "        return Path(vertices * radius + center, codes, readonly=readonly) \n",
    "    \n",
    "```"
   ]
  },
  {
   "cell_type": "code",
   "execution_count": 9,
   "metadata": {},
   "outputs": [],
   "source": [
    "MAGIC = 0.2652031           # 0.2652031\n",
    "SQRTHALF = np.sqrt(0.5)     # 0.7071067811865476\n",
    "MAGIC45 = SQRTHALF * MAGIC  # 0.1875269104016941"
   ]
  },
  {
   "cell_type": "code",
   "execution_count": 8,
   "metadata": {},
   "outputs": [
    {
     "data": {
      "text/plain": [
       "0.7071067811865476"
      ]
     },
     "execution_count": 8,
     "metadata": {},
     "output_type": "execute_result"
    }
   ],
   "source": [
    "[[0.0, -1.0],\n",
    "\n",
    "[MAGIC, -1.0],\n",
    "[SQRTHALF-MAGIC45, -SQRTHALF-MAGIC45],\n",
    "[SQRTHALF, -SQRTHALF],\n",
    "\n",
    "[SQRTHALF+MAGIC45, -SQRTHALF+MAGIC45],\n",
    "[1.0, -MAGIC],\n",
    "[1.0, 0.0]]"
   ]
  },
  {
   "cell_type": "code",
   "execution_count": 12,
   "metadata": {},
   "outputs": [],
   "source": [
    "x = [0,    0.2652031,  0.5195798707848535,  0.7071067811865476,  0.8946336915882417,  1.0,       1.0]"
   ]
  },
  {
   "cell_type": "code",
   "execution_count": 15,
   "metadata": {},
   "outputs": [],
   "source": [
    "y = [-1.0, -1.0,      -0.8946336915882417, -0.7071067811865476, -0.5195798707848535, -0.2652031, 0.0]"
   ]
  },
  {
   "cell_type": "code",
   "execution_count": 16,
   "metadata": {},
   "outputs": [
    {
     "data": {
      "text/plain": [
       "[<matplotlib.lines.Line2D at 0x1e6a2705048>]"
      ]
     },
     "execution_count": 16,
     "metadata": {},
     "output_type": "execute_result"
    },
    {
     "data": {
      "image/png": "[encoded data removed]",
      "text/plain": [
       "<Figure size 432x288 with 1 Axes>"
      ]
     },
     "metadata": {
      "needs_background": "light"
     },
     "output_type": "display_data"
    }
   ],
   "source": [
    "plt.plot(x, y)"
   ]
  },
  {
   "cell_type": "code",
   "execution_count": 18,
   "metadata": {},
   "outputs": [
    {
     "data": {
      "text/plain": [
       "array([[ 0.        , -1.        ],\n",
       "       [ 0.2652031 , -1.        ],\n",
       "       [ 0.51957987, -0.89463369],\n",
       "       [ 0.70710678, -0.70710678],\n",
       "       [ 0.89463369, -0.51957987],\n",
       "       [ 1.        , -0.2652031 ],\n",
       "       [ 1.        ,  0.        ]])"
      ]
     },
     "execution_count": 18,
     "metadata": {},
     "output_type": "execute_result"
    }
   ],
   "source": [
    "np.vstack((x,y)).T"
   ]
  },
  {
   "cell_type": "code",
   "execution_count": 19,
   "metadata": {},
   "outputs": [],
   "source": [
    "codes = [Path.CURVE4] * 7\n",
    "codes[0] = Path.MOVETO\n",
    "codes[-1] = Path.CLOSEPOLY"
   ]
  },
  {
   "cell_type": "code",
   "execution_count": 20,
   "metadata": {},
   "outputs": [
    {
     "data": {
      "text/plain": [
       "[1, 4, 4, 4, 4, 4, 79]"
      ]
     },
     "execution_count": 20,
     "metadata": {},
     "output_type": "execute_result"
    }
   ],
   "source": [
    "codes"
   ]
  },
  {
   "cell_type": "code",
   "execution_count": 14,
   "metadata": {},
   "outputs": [
    {
     "data": {
      "text/plain": [
       "-0.5195798707848535"
      ]
     },
     "execution_count": 14,
     "metadata": {},
     "output_type": "execute_result"
    }
   ],
   "source": [
    "-0.7071067811865476+0.1875269104016941"
   ]
  },
  {
   "cell_type": "code",
   "execution_count": 11,
   "metadata": {},
   "outputs": [
    {
     "data": {
      "text/plain": [
       "0.8946336915882417"
      ]
     },
     "execution_count": 11,
     "metadata": {},
     "output_type": "execute_result"
    }
   ],
   "source": [
    "0.7071067811865476+0.1875269104016941"
   ]
  },
  {
   "cell_type": "code",
   "execution_count": 22,
   "metadata": {},
   "outputs": [],
   "source": [
    "path = Path(np.vstack((x,y)).T, codes)"
   ]
  },
  {
   "cell_type": "code",
   "execution_count": 33,
   "metadata": {},
   "outputs": [],
   "source": [
    "patch = patches.PathPatch(path)"
   ]
  },
  {
   "cell_type": "code",
   "execution_count": 31,
   "metadata": {},
   "outputs": [
    {
     "data": {
      "image/png": "[encoded data removed]",
      "text/plain": [
       "<Figure size 360x360 with 1 Axes>"
      ]
     },
     "metadata": {
      "needs_background": "light"
     },
     "output_type": "display_data"
    }
   ],
   "source": [
    "fig, ax = plt.subplots(figsize=(5,5))"
   ]
  },
  {
   "cell_type": "code",
   "execution_count": null,
   "metadata": {},
   "outputs": [],
   "source": [
    "ax.set_xlim(-1,1)\n",
    "ax.set_ylim(-1,1)"
   ]
  },
  {
   "cell_type": "code",
   "execution_count": null,
   "metadata": {},
   "outputs": [],
   "source": [
    "ax.add_patch(patch)"
   ]
  },
  {
   "cell_type": "code",
   "execution_count": null,
   "metadata": {},
   "outputs": [],
   "source": [
    "fig"
   ]
  },
  {
   "cell_type": "code",
   "execution_count": 36,
   "metadata": {},
   "outputs": [
    {
     "data": {
      "text/plain": [
       "(-1.0, 1.0)"
      ]
     },
     "execution_count": 36,
     "metadata": {},
     "output_type": "execute_result"
    }
   ],
   "source": [
    "ax.set_xlim(-1,1)\n",
    "ax.set_ylim(-1,1)"
   ]
  },
  {
   "cell_type": "code",
   "execution_count": 38,
   "metadata": {},
   "outputs": [
    {
     "data": {
      "text/plain": [
       "[<matplotlib.lines.Line2D at 0x1e6aa9888c8>]"
      ]
     },
     "execution_count": 38,
     "metadata": {},
     "output_type": "execute_result"
    }
   ],
   "source": [
    "ax.plot(x,y)"
   ]
  },
  {
   "cell_type": "code",
   "execution_count": 39,
   "metadata": {},
   "outputs": [
    {
     "data": {
      "image/png": "[encoded data removed]",
      "text/plain": [
       "<Figure size 360x360 with 1 Axes>"
      ]
     },
     "execution_count": 39,
     "metadata": {},
     "output_type": "execute_result"
    }
   ],
   "source": [
    "fig"
   ]
  },
  {
   "cell_type": "code",
   "execution_count": null,
   "metadata": {},
   "outputs": [],
   "source": []
  }
 ],
 "metadata": {
  "kernelspec": {
   "display_name": "Python 3",
   "language": "python",
   "name": "python3"
  },
  "language_info": {
   "codemirror_mode": {
    "name": "ipython",
    "version": 3
   },
   "file_extension": ".py",
   "mimetype": "text/x-python",
   "name": "python",
   "nbconvert_exporter": "python",
   "pygments_lexer": "ipython3",
   "version": "3.7.5"
  }
 },
 "nbformat": 4,
 "nbformat_minor": 4
}
