{
 "cells": [
  {
   "cell_type": "markdown",
   "metadata": {},
   "source": [
    "# 4-122. Boxplot drawer function"
   ]
  },
  {
   "cell_type": "markdown",
   "metadata": {},
   "source": [
    "## import matplotlib.cbook as cbook\n",
    "\n",
    "cbook是工具函数及类的集合，最初的方法来自Python Cookbook（不知道是不是兔子之书）[Python Cookbook 3rd Edition Documentation](https://python3-cookbook.readthedocs.io/zh_CN/latest/)\n"
   ]
  },
  {
   "cell_type": "markdown",
   "metadata": {},
   "source": [
    "> matplotlib.cbook.boxplot_stats(X, whis=1.5, bootstrap=None, labels=None, autorange=False)\n",
    "\n",
    "Returns list of dictionaries of statistics used to draw a series of box and whisker plots. The Returns section enumerates the required keys of the dictionary. Users can skip this function and pass a user-defined set of dictionaries to the new axes.bxp method instead of relying on Matplotlib to do the calculations."
   ]
  },
  {
   "cell_type": "markdown",
   "metadata": {},
   "source": []
  }
 ],
 "metadata": {
  "kernelspec": {
   "display_name": "Python 3",
   "language": "python",
   "name": "python3"
  },
  "language_info": {
   "name": ""
  }
 },
 "nbformat": 4,
 "nbformat_minor": 4
}
