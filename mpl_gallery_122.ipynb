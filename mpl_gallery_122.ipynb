{
 "cells": [
  {
   "cell_type": "markdown",
   "metadata": {},
   "source": [
    "# 4-122. [Boxplot drawer function](https://matplotlib.org/gallery/statistics/bxp.html#sphx-glr-gallery-statistics-bxp-py)"
   ]
  },
  {
   "cell_type": "code",
   "execution_count": 1,
   "metadata": {},
   "outputs": [],
   "source": [
    "import numpy as np\n",
    "import matplotlib.pyplot as plt\n",
    "import matplotlib.cbook as cbook"
   ]
  },
  {
   "cell_type": "markdown",
   "metadata": {},
   "source": [
    "## numpy\n",
    "- [routines](https://numpy.org/devdocs/reference/routines.html) 常规操作\n",
    "    - [Array creation routines](https://numpy.org/devdocs/reference/routines.array-creation.html)\n",
    "    - [Mathematical functions](https://numpy.org/devdocs/reference/routines.math.html)\n",
    "    - [Random sampling (numpy.random)](https://numpy.org/devdocs/reference/random/index.html)"
   ]
  },
  {
   "cell_type": "markdown",
   "metadata": {},
   "source": [
    "Numpy’s random number routines produce pseudo random numbers using combinations of a BitGenerator to create sequences and a Generator to use those sequences to sample from different statistical distributions:\n",
    "\n",
    "BitGenerators: Objects that generate random numbers. These are typically unsigned integer words filled with sequences of either 32 or 64 random bits.\n",
    "\n",
    "Generators: Objects that transform sequences of random bits from a BitGenerator into sequences of numbers that follow a specific probability distribution (such as uniform, Normal or Binomial) within a specified interval.\n",
    "\n",
    "Since Numpy version 1.17.0 the Generator can be initialized with a number of different BitGenerators. It exposes many different probability distributions. See NEP 19 for context on the updated random Numpy number routines. The legacy RandomState random number routines are still available, but limited to a single BitGenerator.\n",
    "\n",
    "For convenience and backward compatibility, a single RandomState instance’s methods are imported into the numpy.random namespace, see Legacy Random Generation for the complete list.\n",
    "\n",
    "[Legacy Random Generation](https://numpy.org/devdocs/reference/random/legacy.html#legacy)"
   ]
  },
  {
   "cell_type": "markdown",
   "metadata": {},
   "source": [
    "- produce\n",
    "- interval\n",
    "- legacy"
   ]
  },
  {
   "cell_type": "markdown",
   "metadata": {},
   "source": [
    "Distributions\n",
    "\n",
    "lognormal([mean, sigma, size]) - Draw samples from a log-normal distribution.\n",
    "\n",
    "[numpy.random.RandomState.lognormal](https://numpy.org/devdocs/reference/random/generated/numpy.random.RandomState.lognormal.html#numpy.random.RandomState.lognormal)"
   ]
  },
  {
   "cell_type": "markdown",
   "metadata": {},
   "source": [
    "## import matplotlib.cbook as cbook\n",
    "\n",
    "cbook是工具函数及类的集合，最初的方法来自Python Cookbook（不知道是不是兔子之书）[Python Cookbook 3rd Edition Documentation](https://python3-cookbook.readthedocs.io/zh_CN/latest/)\n"
   ]
  },
  {
   "cell_type": "markdown",
   "metadata": {},
   "source": [
    "> matplotlib.cbook.boxplot_stats(X, whis=1.5, bootstrap=None, labels=None, autorange=False)\n",
    "\n",
    "Returns list of dictionaries of statistics used to draw a series of box and whisker plots. The Returns section enumerates the required keys of the dictionary. Users can skip this function and pass a user-defined set of dictionaries to the new axes.bxp method instead of relying on Matplotlib to do the calculations."
   ]
  },
  {
   "cell_type": "markdown",
   "metadata": {},
   "source": [
    "- fake 骗子"
   ]
  },
  {
   "cell_type": "code",
   "execution_count": 2,
   "metadata": {},
   "outputs": [],
   "source": [
    "# fake data\n",
    "np.random.seed(19680801)\n",
    "data = np.random.lognormal(size=(37, 4), mean=1.5, sigma=1.75)\n",
    "labels = list('ABCD')"
   ]
  },
  {
   "cell_type": "code",
   "execution_count": 3,
   "metadata": {},
   "outputs": [
    {
     "data": {
      "text/plain": [
       "array([[2.81144181e+01, 2.04028288e+01, 1.17574320e+01, 9.22162290e+01],\n",
       "       [1.43870844e+00, 1.94015088e+00, 2.95563595e+01, 2.44203813e+01],\n",
       "       [1.08724461e+00, 5.14051959e-01, 1.16187347e+02, 2.61284936e+00],\n",
       "       [1.76405189e+01, 4.65371596e+00, 1.56804016e+01, 5.20688242e+01],\n",
       "       [6.23049876e-01, 8.12622749e+01, 5.20228265e+01, 6.38200699e+00],\n",
       "       [8.28191196e-01, 2.78833545e+01, 2.10783488e+00, 1.87703026e+00],\n",
       "       [4.04121150e+00, 6.37272350e-01, 5.23485407e-01, 3.79973282e-01],\n",
       "       [4.44340426e+01, 1.81208184e+00, 4.35292599e+00, 1.01863790e+01],\n",
       "       [1.74503842e+01, 1.65593223e-01, 3.58486984e+00, 1.80614454e+00],\n",
       "       [1.62241461e+01, 4.73226866e+01, 1.17393488e+01, 3.00164501e+00],\n",
       "       [1.42556789e+01, 1.75304659e+00, 1.92822009e+00, 7.74669449e+00],\n",
       "       [1.90018787e-02, 4.15889878e-01, 3.49168050e+00, 3.06563701e+00],\n",
       "       [4.23118034e+00, 1.10636848e+02, 8.30310650e+00, 6.78102983e+00],\n",
       "       [5.95882921e+01, 6.80359673e+01, 6.41744064e-01, 1.89467040e+01],\n",
       "       [1.43569006e+01, 1.56557957e+01, 5.20025545e-01, 1.75379767e+02],\n",
       "       [1.55950101e+00, 7.54686890e+01, 2.87349170e+00, 3.15755262e-01],\n",
       "       [3.65046145e+00, 1.06653442e+01, 1.31057506e+00, 8.94747784e+00],\n",
       "       [6.27671533e-01, 2.22635166e-01, 2.78867339e+00, 5.21177919e+00],\n",
       "       [6.64763079e-01, 5.45727878e+00, 8.44612095e-01, 4.89341581e+00],\n",
       "       [1.92412043e+00, 4.62624573e+01, 1.03846540e+01, 1.20680738e+00],\n",
       "       [4.44253923e-01, 8.01572550e+00, 2.81070517e+00, 1.36447324e+01],\n",
       "       [6.33147699e-01, 7.12032959e+00, 5.27434221e+00, 5.52475242e-01],\n",
       "       [9.29485892e-01, 4.13942024e+00, 1.57610519e+00, 4.60587894e+00],\n",
       "       [1.54871902e+00, 1.58386230e+01, 1.00995002e+01, 1.90387996e+01],\n",
       "       [5.27390491e+00, 8.55208216e-02, 2.53750493e+01, 4.82305485e-01],\n",
       "       [3.95130320e-01, 5.88046806e+00, 5.09840039e+00, 2.71400115e+01],\n",
       "       [1.41104742e+00, 1.51736673e+00, 3.21655259e+00, 1.72364050e+00],\n",
       "       [7.71042714e+01, 3.74546176e+00, 3.66958346e-01, 2.07370150e+01],\n",
       "       [3.43650971e+00, 2.34562999e+00, 4.59271494e+00, 3.88483701e+00],\n",
       "       [3.03208427e+01, 1.12866365e+01, 9.44372506e+01, 1.72276777e+00],\n",
       "       [8.14829599e+01, 1.45683656e+01, 3.86327782e+00, 2.48650345e-01],\n",
       "       [1.38216545e+01, 9.04768832e-01, 8.26712742e+00, 5.32095789e+00],\n",
       "       [2.24262664e+01, 9.28531521e+00, 1.49471798e+01, 4.23235639e+00],\n",
       "       [1.15820083e+01, 4.43574817e+00, 4.13518122e-01, 2.57142515e+00],\n",
       "       [7.63950136e-02, 2.08889454e+01, 1.34928136e+00, 5.54378962e-01],\n",
       "       [5.29756752e-01, 1.01066055e+00, 1.45711722e+01, 1.36359881e+01],\n",
       "       [1.93314071e+01, 6.16253123e+00, 3.87259066e+01, 7.83116995e-01]])"
      ]
     },
     "execution_count": 3,
     "metadata": {},
     "output_type": "execute_result"
    }
   ],
   "source": [
    "data"
   ]
  },
  {
   "cell_type": "code",
   "execution_count": null,
   "metadata": {},
   "outputs": [],
   "source": []
  }
 ],
 "metadata": {
  "kernelspec": {
   "display_name": "Python 3",
   "language": "python",
   "name": "python3"
  },
  "language_info": {
   "codemirror_mode": {
    "name": "ipython",
    "version": 3
   },
   "file_extension": ".py",
   "mimetype": "text/x-python",
   "name": "python",
   "nbconvert_exporter": "python",
   "pygments_lexer": "ipython3",
   "version": "3.7.5"
  }
 },
 "nbformat": 4,
 "nbformat_minor": 4
}
