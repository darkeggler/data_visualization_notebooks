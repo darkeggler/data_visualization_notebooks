{
 "cells": [
  {
   "cell_type": "markdown",
   "metadata": {},
   "source": [
    "# 4-122. Boxplot drawer function"
   ]
  },
  {
   "cell_type": "code",
   "execution_count": 1,
   "metadata": {},
   "outputs": [],
   "source": [
    "import numpy as np\n",
    "import matplotlib.pyplot as plt\n",
    "import matplotlib.cbook as cbook"
   ]
  },
  {
   "cell_type": "markdown",
   "metadata": {},
   "source": [
    "## cbook.boxplot_stats\n",
    "\n",
    "```python\n",
    "matplotlib.cbook.boxplot_stats(X, whis=1.5, bootstrap=None, labels=None, autorange=False)\n",
    "```"
   ]
  },
  {
   "cell_type": "markdown",
   "metadata": {},
   "source": [
    "Returns list of dictionaries of statistics used to draw a series of box and whisker plots. The Returns section enumerates the required keys of the dictionary. Users can skip this function and pass a user-defined set of dictionaries to the new axes.bxp method instead of relying on Matplotlib to do the calculations."
   ]
  },
  {
   "cell_type": "markdown",
   "metadata": {},
   "source": [
    "confidence : 信任  \n",
    "interval : 间隔，间距  \n",
    "confidence interval : 置信区间  \n",
    "bootstrapped : 引导，自举  \n",
    "percentile : 百分位  "
   ]
  },
  {
   "cell_type": "markdown",
   "metadata": {},
   "source": [
    "### import matplotlib.cbook as cbook\n",
    "\n",
    "cbook是工具函数及类的集合，最初的方法来自Python Cookbook（不知道是不是兔子之书）  \n",
    "[Python Cookbook 3rd Edition Documentation](https://python3-cookbook.readthedocs.io/zh_CN/latest/)\n"
   ]
  },
  {
   "cell_type": "markdown",
   "metadata": {},
   "source": [
    "### bootstrap  \n",
    "int, optional - Number of times the confidence intervals around the median should be bootstrapped (percentile method).  \n",
    "自举中位数附近的置信区间的次数"
   ]
  },
  {
   "cell_type": "markdown",
   "metadata": {},
   "source": [
    "#### 置信区间\n",
    "\n",
    "- 什么是置信区间  \n",
    "In statistics, a confidence interval (CI) is a type of estimate computed from the statistics of the observed data. This proposes a range of plausible values for an unknown parameter (for example, the mean). The interval has an associated confidence level that the true parameter is in the proposed range. Given observations x₁,…,xₙ and a confidence level γ, a valid confidence interval has a probability γ of containing the true underlying parameter.\n",
    "- Confidence interval around median"
   ]
  },
  {
   "cell_type": "markdown",
   "metadata": {},
   "source": []
  },
  {
   "cell_type": "markdown",
   "metadata": {},
   "source": [
    "#### [The Bootstrap Method for Standard Errors and Confidence Intervals](https://www.dummies.com/education/science/biology/the-bootstrap-method-for-standard-errors-and-confidence-intervals/)\n",
    "\n",
    "You can calculate the standard error (SE) and confidence interval (CI) of the more common sample statistics (means, proportions, event counts and rates, and regression coefficients). But an SE and CI exist (theoretically, at least) for any number you could possibly wring from your data — medians, centiles, correlation coefficients, and other quantities that might involve complicated calculations, like the area under a concentration-versus-time curve (AUC) or the estimated five-year survival probability derived from a survival analysis. Formulas for the SE and CI around these numbers might not be available or might be hopelessly difficult to evaluate. Also, the formulas that do exist might apply only to normally distributed numbers, and you might not be sure what kind of distribution your data follows."
   ]
  },
  {
   "cell_type": "markdown",
   "metadata": {},
   "source": [
    "- proportions : 比例\n",
    "- regression : 回归，衰退\n",
    "- coefficients : 系数\n",
    "- concentration : 集中，浓度\n",
    "- concentration-versus-time curve (AUC)"
   ]
  },
  {
   "cell_type": "code",
   "execution_count": 2,
   "metadata": {},
   "outputs": [],
   "source": [
    "# fake data\n",
    "np.random.seed(19680801)\n",
    "data = np.random.lognormal(size=(37, 4), mean=1.5, sigma=1.75)\n",
    "labels = list('ABCD')"
   ]
  },
  {
   "cell_type": "code",
   "execution_count": 3,
   "metadata": {},
   "outputs": [],
   "source": [
    "# compute the boxplot stats\n",
    "stats = cbook.boxplot_stats(data, labels=labels, bootstrap=10000)"
   ]
  },
  {
   "cell_type": "code",
   "execution_count": 7,
   "metadata": {},
   "outputs": [
    {
     "data": {
      "text/plain": [
       "{'label': 'A',\n",
       " 'mean': 13.608303993175577,\n",
       " 'iqr': 16.62219300478486,\n",
       " 'cilo': 1.411047419553718,\n",
       " 'cihi': 14.255678889631325,\n",
       " 'whishi': 30.32084269371291,\n",
       " 'whislo': 0.019001878741670253,\n",
       " 'fliers': array([44.43404261, 59.58829213, 77.10427139, 81.48295988]),\n",
       " 'q1': 0.8281911963046644,\n",
       " 'med': 3.650461454233603,\n",
       " 'q3': 17.450384201089527}"
      ]
     },
     "execution_count": 7,
     "metadata": {},
     "output_type": "execute_result"
    }
   ],
   "source": [
    "stats[0]"
   ]
  },
  {
   "cell_type": "code",
   "execution_count": null,
   "metadata": {},
   "outputs": [],
   "source": []
  }
 ],
 "metadata": {
  "kernelspec": {
   "display_name": "Python 3",
   "language": "python",
   "name": "python3"
  },
  "language_info": {
   "name": ""
  }
 },
 "nbformat": 4,
 "nbformat_minor": 4
}
