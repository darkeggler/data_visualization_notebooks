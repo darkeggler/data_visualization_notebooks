{
 "cells": [
  {
   "cell_type": "markdown",
   "metadata": {},
   "source": [
    "# 自定义虚线样式"
   ]
  },
  {
   "cell_type": "markdown",
   "metadata": {},
   "source": [
    "虚线是通过dash序列控制的。可以使用Line2D.set_dashes修改。\n",
    "\n",
    "dash序列是以点为单位的一系列断续长度。例如[3,1]是连续3pt线长，间断1pt的空白。\n",
    "\n",
    "一些函数，例如Axes.plot支持通过字参数传递Line属性。如此，在绘制时既可以虚线样式描绘线段。\n",
    "\n",
    "值得一提的是，虽在此未演示，但虚线风格也可以通过property_cycle配置。"
   ]
  },
  {
   "cell_type": "code",
   "execution_count": 1,
   "metadata": {},
   "outputs": [],
   "source": [
    "import matplotlib\n",
    "import matplotlib.pyplot as plt\n",
    "import numpy as np"
   ]
  },
  {
   "cell_type": "code",
   "execution_count": 2,
   "metadata": {},
   "outputs": [],
   "source": [
    "%matplotlib widget\n",
    "matplotlib.rcParams['font.family'] = ['DengXian', 'sans-serif']"
   ]
  },
  {
   "cell_type": "markdown",
   "metadata": {},
   "source": [
    "## 准备数据"
   ]
  },
  {
   "cell_type": "code",
   "execution_count": 3,
   "metadata": {},
   "outputs": [],
   "source": [
    "x = np.linspace(0, 10, 500)\n",
    "y = np.sin(x)"
   ]
  },
  {
   "cell_type": "code",
   "execution_count": 4,
   "metadata": {},
   "outputs": [
    {
     "data": {
      "application/vnd.jupyter.widget-view+json": {
       "model_id": "3a4f2fe61ac84efbbfb16e61504d9002",
       "version_major": 2,
       "version_minor": 0
      },
      "text/plain": [
       "Canvas(toolbar=Toolbar(toolitems=[('Home', 'Reset original view', 'home', 'home'), ('Back', 'Back to previous …"
      ]
     },
     "metadata": {},
     "output_type": "display_data"
    }
   ],
   "source": [
    "fig, ax = plt.subplots()"
   ]
  },
  {
   "cell_type": "code",
   "execution_count": 5,
   "metadata": {},
   "outputs": [],
   "source": [
    "line1, = ax.plot(x, y, label=\"使用set_dashes()\")"
   ]
  },
  {
   "cell_type": "markdown",
   "metadata": {},
   "source": [
    "调用ax.plot绘制后，返回值是元素为Line2D对象的列表。这里的line1是返回的列表中的第一个，也是唯一的一个元素。Line2D是Artist的一个子类。艺术家有两种类型：图元与容器。图元表示绘制在画布上的标准图形对象，如：Line2D，Rectangle，Text，AxesImage等。"
   ]
  },
  {
   "cell_type": "code",
   "execution_count": 6,
   "metadata": {},
   "outputs": [],
   "source": [
    "line1.set_dashes([2, 2, 10, 2]) # 2pt line, 2pt break, 10pt line, 2pt break"
   ]
  },
  {
   "cell_type": "markdown",
   "metadata": {},
   "source": [
    "Line2D的每个属性都可以通过老式的setter或getter进行访问，dashes是其中的一个，[2, 2, 10, 2]表示连续2pt线长，间断2pt的空白，连续10pt，间隔2pt。dashes属性本质是linestyle属性\n",
    "```python\n",
    "def set_dashes(self, seq):\n",
    "    if seq == (None, None) or len(seq) == 0:\n",
    "        self.set_linestyle('-')\n",
    "    else:\n",
    "        self.set_linestyle((0, seq))\n",
    "```\n",
    "另外，若要一次设置多个属性，可以通过line1.set方法实现。"
   ]
  },
  {
   "cell_type": "code",
   "execution_count": 9,
   "metadata": {},
   "outputs": [
    {
     "data": {
      "text/plain": [
       "[<matplotlib.lines.Line2D at 0x7c22df0>]"
      ]
     },
     "execution_count": 9,
     "metadata": {},
     "output_type": "execute_result"
    }
   ],
   "source": [
    "ax.lines"
   ]
  },
  {
   "cell_type": "code",
   "execution_count": null,
   "metadata": {},
   "outputs": [],
   "source": [
    "line1.get_linestyle()"
   ]
  },
  {
   "cell_type": "code",
   "execution_count": 10,
   "metadata": {},
   "outputs": [
    {
     "name": "stdout",
     "output_type": "stream",
     "text": [
      "    agg_filter = None\n",
      "    alpha = None\n",
      "    animated = False\n",
      "    antialiased or aa = True\n",
      "    children = []\n",
      "    clip_box = TransformedBbox(     Bbox(x0=0.0, y0=0.0, x1=1.0, ...\n",
      "    clip_on = True\n",
      "    clip_path = None\n",
      "    color or c = #1f77b4\n",
      "    contains = None\n",
      "    dash_capstyle = butt\n",
      "    dash_joinstyle = round\n",
      "    data = (array([ 0.        ,  0.02004008,  0.04008016,  0....\n",
      "    drawstyle or ds = default\n",
      "    figure = Figure(800x600)\n",
      "    fillstyle = full\n",
      "    gid = None\n",
      "    in_layout = True\n",
      "    label = 使用set_dashes()\n",
      "    linestyle or ls = --\n",
      "    linewidth or lw = 1.5\n",
      "    marker = None\n",
      "    markeredgecolor or mec = #1f77b4\n",
      "    markeredgewidth or mew = 1.0\n",
      "    markerfacecolor or mfc = #1f77b4\n",
      "    markerfacecoloralt or mfcalt = none\n",
      "    markersize or ms = 6.0\n",
      "    markevery = None\n",
      "    path = Path(array([[ 0.00000000e+00,  0.00000000e+00],   ...\n",
      "    path_effects = []\n",
      "    picker = None\n",
      "    pickradius = 5\n",
      "    rasterized = None\n",
      "    sketch_params = None\n",
      "    snap = None\n",
      "    solid_capstyle = projecting\n",
      "    solid_joinstyle = round\n",
      "    transform = CompositeGenericTransform(     TransformWrapper(  ...\n",
      "    transformed_clip_path_and_affine = (None, None)\n",
      "    url = None\n",
      "    visible = True\n",
      "    xdata = [0.         0.02004008 0.04008016 0.06012024 0.080...\n",
      "    xydata = [[0.         0.        ]  [0.02004008 0.02003874] ...\n",
      "    ydata = [0.         0.02003874 0.04006943 0.06008403 0.080...\n",
      "    zorder = 2\n"
     ]
    }
   ],
   "source": [
    "plt.getp(line1)"
   ]
  },
  {
   "cell_type": "code",
   "execution_count": 11,
   "metadata": {},
   "outputs": [],
   "source": [
    "line2, = ax.plot(x, y-0.2, dashes=[6, 2], label=\"使用dashes参数\")"
   ]
  },
  {
   "cell_type": "code",
   "execution_count": 12,
   "metadata": {},
   "outputs": [
    {
     "data": {
      "text/plain": [
       "<matplotlib.legend.Legend at 0x8a561d0>"
      ]
     },
     "execution_count": 12,
     "metadata": {},
     "output_type": "execute_result"
    }
   ],
   "source": [
    "ax.legend()"
   ]
  },
  {
   "cell_type": "code",
   "execution_count": null,
   "metadata": {},
   "outputs": [],
   "source": []
  }
 ],
 "metadata": {
  "kernelspec": {
   "display_name": "Python 3",
   "language": "python",
   "name": "python3"
  },
  "language_info": {
   "codemirror_mode": {
    "name": "ipython",
    "version": 3
   },
   "file_extension": ".py",
   "mimetype": "text/x-python",
   "name": "python",
   "nbconvert_exporter": "python",
   "pygments_lexer": "ipython3",
   "version": "3.7.5"
  }
 },
 "nbformat": 4,
 "nbformat_minor": 4
}
