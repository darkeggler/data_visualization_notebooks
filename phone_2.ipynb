{
 "cells": [
  {
   "cell_type": "markdown",
   "metadata": {},
   "source": [
    "# 数据分析实践-手机\n",
    "\n",
    "1. 数据调查"
   ]
  },
  {
   "cell_type": "markdown",
   "metadata": {},
   "source": [
    "## 数据调查\n",
    "\n",
    "收集手机市场在售手机静态资料，数据来源京东，apple.com.cn等，以CSV文件存储。\n",
    "\n",
    "> phone_data.csv"
   ]
  },
  {
   "cell_type": "markdown",
   "metadata": {},
   "source": [
    "## 外形分析\n",
    "\n",
    "比较各型手机的长度，宽度，厚度，重量等信息。"
   ]
  },
  {
   "cell_type": "code",
   "execution_count": 56,
   "metadata": {},
   "outputs": [],
   "source": [
    "import pandas as pd\n",
    "import matplotlib\n",
    "import matplotlib.pyplot as plt\n",
    "import numpy as np\n",
    "\n",
    "%matplotlib widget"
   ]
  },
  {
   "cell_type": "code",
   "execution_count": 57,
   "metadata": {},
   "outputs": [],
   "source": [
    "matplotlib.rcParams['font.family'] = ['DengXian', 'sans-serif']"
   ]
  },
  {
   "cell_type": "markdown",
   "metadata": {},
   "source": [
    "1. 读入csv文件"
   ]
  },
  {
   "cell_type": "code",
   "execution_count": 2,
   "metadata": {},
   "outputs": [],
   "source": [
    "fn = 'phone_data.csv'"
   ]
  },
  {
   "cell_type": "code",
   "execution_count": 3,
   "metadata": {},
   "outputs": [],
   "source": [
    "df = pd.read_csv(fn)"
   ]
  },
  {
   "cell_type": "code",
   "execution_count": 5,
   "metadata": {
    "collapsed": true,
    "jupyter": {
     "outputs_hidden": true
    }
   },
   "outputs": [
    {
     "data": {
      "text/html": [
       "<div>\n",
       "<style scoped>\n",
       "    .dataframe tbody tr th:only-of-type {\n",
       "        vertical-align: middle;\n",
       "    }\n",
       "\n",
       "    .dataframe tbody tr th {\n",
       "        vertical-align: top;\n",
       "    }\n",
       "\n",
       "    .dataframe thead th {\n",
       "        text-align: right;\n",
       "    }\n",
       "</style>\n",
       "<table border=\"1\" class=\"dataframe\">\n",
       "  <thead>\n",
       "    <tr style=\"text-align: right;\">\n",
       "      <th></th>\n",
       "      <th>brand</th>\n",
       "      <th>厂牌</th>\n",
       "      <th>SKU</th>\n",
       "      <th>name</th>\n",
       "      <th>0510价格</th>\n",
       "      <th>CPU</th>\n",
       "      <th>长</th>\n",
       "      <th>宽</th>\n",
       "      <th>厚</th>\n",
       "      <th>重</th>\n",
       "      <th>Unnamed: 10</th>\n",
       "      <th>Unnamed: 11</th>\n",
       "      <th>ppi</th>\n",
       "      <th>分辨率长</th>\n",
       "      <th>屏幕长</th>\n",
       "      <th>屏幕长_厘米</th>\n",
       "      <th>分辨率宽</th>\n",
       "      <th>屏幕宽</th>\n",
       "      <th>屏幕宽_厘米</th>\n",
       "      <th>上市时间</th>\n",
       "    </tr>\n",
       "  </thead>\n",
       "  <tbody>\n",
       "    <tr>\n",
       "      <th>0</th>\n",
       "      <td>apple</td>\n",
       "      <td>苹果</td>\n",
       "      <td>1.000083e+11</td>\n",
       "      <td>11</td>\n",
       "      <td>5499.0</td>\n",
       "      <td>A13</td>\n",
       "      <td>150.90</td>\n",
       "      <td>75.70</td>\n",
       "      <td>8.30</td>\n",
       "      <td>194.0</td>\n",
       "      <td>NaN</td>\n",
       "      <td>NaN</td>\n",
       "      <td>NaN</td>\n",
       "      <td>NaN</td>\n",
       "      <td>NaN</td>\n",
       "      <td>NaN</td>\n",
       "      <td>NaN</td>\n",
       "      <td>NaN</td>\n",
       "      <td>NaN</td>\n",
       "      <td>NaN</td>\n",
       "    </tr>\n",
       "    <tr>\n",
       "      <th>1</th>\n",
       "      <td>apple</td>\n",
       "      <td>苹果</td>\n",
       "      <td>1.000083e+11</td>\n",
       "      <td>11 pro</td>\n",
       "      <td>8799.0</td>\n",
       "      <td>A13</td>\n",
       "      <td>144.00</td>\n",
       "      <td>71.40</td>\n",
       "      <td>8.10</td>\n",
       "      <td>188.0</td>\n",
       "      <td>NaN</td>\n",
       "      <td>NaN</td>\n",
       "      <td>NaN</td>\n",
       "      <td>NaN</td>\n",
       "      <td>NaN</td>\n",
       "      <td>NaN</td>\n",
       "      <td>NaN</td>\n",
       "      <td>NaN</td>\n",
       "      <td>NaN</td>\n",
       "      <td>NaN</td>\n",
       "    </tr>\n",
       "    <tr>\n",
       "      <th>2</th>\n",
       "      <td>apple</td>\n",
       "      <td>苹果</td>\n",
       "      <td>1.000083e+11</td>\n",
       "      <td>11 Pro max</td>\n",
       "      <td>9299.0</td>\n",
       "      <td>A13</td>\n",
       "      <td>158.00</td>\n",
       "      <td>77.80</td>\n",
       "      <td>8.10</td>\n",
       "      <td>226.0</td>\n",
       "      <td>NaN</td>\n",
       "      <td>NaN</td>\n",
       "      <td>NaN</td>\n",
       "      <td>NaN</td>\n",
       "      <td>NaN</td>\n",
       "      <td>NaN</td>\n",
       "      <td>NaN</td>\n",
       "      <td>NaN</td>\n",
       "      <td>NaN</td>\n",
       "      <td>NaN</td>\n",
       "    </tr>\n",
       "    <tr>\n",
       "      <th>3</th>\n",
       "      <td>apple</td>\n",
       "      <td>苹果</td>\n",
       "      <td>1.000069e+11</td>\n",
       "      <td>SE2</td>\n",
       "      <td>3799.0</td>\n",
       "      <td>A13</td>\n",
       "      <td>138.40</td>\n",
       "      <td>67.30</td>\n",
       "      <td>7.30</td>\n",
       "      <td>148.0</td>\n",
       "      <td>NaN</td>\n",
       "      <td>NaN</td>\n",
       "      <td>NaN</td>\n",
       "      <td>NaN</td>\n",
       "      <td>NaN</td>\n",
       "      <td>NaN</td>\n",
       "      <td>NaN</td>\n",
       "      <td>NaN</td>\n",
       "      <td>NaN</td>\n",
       "      <td>NaN</td>\n",
       "    </tr>\n",
       "    <tr>\n",
       "      <th>4</th>\n",
       "      <td>mi</td>\n",
       "      <td>小米</td>\n",
       "      <td>NaN</td>\n",
       "      <td>10 青春版</td>\n",
       "      <td>NaN</td>\n",
       "      <td>NaN</td>\n",
       "      <td>164.02</td>\n",
       "      <td>74.77</td>\n",
       "      <td>7.88</td>\n",
       "      <td>192.0</td>\n",
       "      <td>NaN</td>\n",
       "      <td>NaN</td>\n",
       "      <td>NaN</td>\n",
       "      <td>NaN</td>\n",
       "      <td>NaN</td>\n",
       "      <td>NaN</td>\n",
       "      <td>NaN</td>\n",
       "      <td>NaN</td>\n",
       "      <td>NaN</td>\n",
       "      <td>NaN</td>\n",
       "    </tr>\n",
       "  </tbody>\n",
       "</table>\n",
       "</div>"
      ],
      "text/plain": [
       "   brand  厂牌           SKU        name  0510价格  CPU       长      宽     厚  \\\n",
       "0  apple  苹果  1.000083e+11          11  5499.0  A13  150.90  75.70  8.30   \n",
       "1  apple  苹果  1.000083e+11      11 pro  8799.0  A13  144.00  71.40  8.10   \n",
       "2  apple  苹果  1.000083e+11  11 Pro max  9299.0  A13  158.00  77.80  8.10   \n",
       "3  apple  苹果  1.000069e+11         SE2  3799.0  A13  138.40  67.30  7.30   \n",
       "4     mi  小米           NaN      10 青春版     NaN  NaN  164.02  74.77  7.88   \n",
       "\n",
       "       重  Unnamed: 10  Unnamed: 11  ppi  分辨率长  屏幕长  屏幕长_厘米  分辨率宽  屏幕宽  屏幕宽_厘米  \\\n",
       "0  194.0          NaN          NaN  NaN   NaN  NaN     NaN   NaN  NaN     NaN   \n",
       "1  188.0          NaN          NaN  NaN   NaN  NaN     NaN   NaN  NaN     NaN   \n",
       "2  226.0          NaN          NaN  NaN   NaN  NaN     NaN   NaN  NaN     NaN   \n",
       "3  148.0          NaN          NaN  NaN   NaN  NaN     NaN   NaN  NaN     NaN   \n",
       "4  192.0          NaN          NaN  NaN   NaN  NaN     NaN   NaN  NaN     NaN   \n",
       "\n",
       "  上市时间  \n",
       "0  NaN  \n",
       "1  NaN  \n",
       "2  NaN  \n",
       "3  NaN  \n",
       "4  NaN  "
      ]
     },
     "execution_count": 5,
     "metadata": {},
     "output_type": "execute_result"
    }
   ],
   "source": [
    "df.head()"
   ]
  },
  {
   "cell_type": "code",
   "execution_count": 61,
   "metadata": {},
   "outputs": [
    {
     "data": {
      "application/vnd.jupyter.widget-view+json": {
       "model_id": "78207c66eb5f401699413a6b3ef1ec83",
       "version_major": 2,
       "version_minor": 0
      },
      "text/plain": [
       "Canvas(toolbar=Toolbar(toolitems=[('Home', 'Reset original view', 'home', 'home'), ('Back', 'Back to previous …"
      ]
     },
     "metadata": {},
     "output_type": "display_data"
    }
   ],
   "source": [
    "fig, ax = plt.subplots()"
   ]
  },
  {
   "cell_type": "code",
   "execution_count": 33,
   "metadata": {},
   "outputs": [
    {
     "data": {
      "text/plain": [
       "<matplotlib.collections.PathCollection at 0xbef8670>"
      ]
     },
     "execution_count": 33,
     "metadata": {},
     "output_type": "execute_result"
    }
   ],
   "source": [
    "ax.scatter('长', '宽', s = '重', data = df, alpha = .25)"
   ]
  },
  {
   "cell_type": "markdown",
   "metadata": {},
   "source": [
    "**图中的问题：**\n",
    "\n",
    "1. 各型手机间重量的差值很小，用点的大小表示很难看出差异，换成厚度也是同理。看看重量的平方会有什么变化。\n",
    "2. 同样的点不容易分清是哪款手机，为每一种CPU选择一种颜色，先从整体区分一下试试看。"
   ]
  },
  {
   "cell_type": "code",
   "execution_count": null,
   "metadata": {},
   "outputs": [],
   "source": [
    "实验1：指定散点颜色\n",
    "\n",
    "CPU与颜色都是分类变量，首先建立映射。\n",
    "[pandas - Categorical data](https://pandas.pydata.org/docs/user_guide/categorical.html)"
   ]
  },
  {
   "cell_type": "code",
   "execution_count": 6,
   "metadata": {
    "collapsed": true,
    "jupyter": {
     "outputs_hidden": true
    }
   },
   "outputs": [
    {
     "data": {
      "text/plain": [
       "0       A13\n",
       "1       A13\n",
       "2       A13\n",
       "3       A13\n",
       "4       NaN\n",
       "5     骁龙865\n",
       "6       NaN\n",
       "7       NaN\n",
       "8       NaN\n",
       "9     麒麟990\n",
       "10    麒麟820\n",
       "11    麒麟980\n",
       "12    骁龙865\n",
       "13    骁龙625\n",
       "Name: CPU, dtype: object"
      ]
     },
     "execution_count": 6,
     "metadata": {},
     "output_type": "execute_result"
    }
   ],
   "source": [
    "df['CPU']"
   ]
  },
  {
   "cell_type": "markdown",
   "metadata": {},
   "source": [
    "CPU列的内容如上，df['CPU'].unique()方法的返回值中包含nan，"
   ]
  },
  {
   "cell_type": "code",
   "execution_count": 13,
   "metadata": {},
   "outputs": [
    {
     "data": {
      "text/plain": [
       "['A13', '骁龙625', '骁龙865', '麒麟820', '麒麟980', '麒麟990']"
      ]
     },
     "execution_count": 13,
     "metadata": {},
     "output_type": "execute_result"
    }
   ],
   "source": [
    "c = df['CPU'].astype('category')\n",
    "list(c.cat.categories)"
   ]
  },
  {
   "cell_type": "markdown",
   "metadata": {},
   "source": [
    "在数据准备好后，开始制图。参考带有图例的散点图，每次绘制一种CPU的散点。\n",
    "\n",
    "筛选CPU列包含A13的所有行？"
   ]
  },
  {
   "cell_type": "code",
   "execution_count": 70,
   "metadata": {},
   "outputs": [],
   "source": [
    "ax.cla()"
   ]
  },
  {
   "cell_type": "code",
   "execution_count": 71,
   "metadata": {},
   "outputs": [],
   "source": [
    "for i in range(len(c.cat.categories)):\n",
    "    ax.scatter('长', '宽', s = '重', c = 'C%d' % (i+1), alpha = 0.25, \n",
    "               data = df[df['CPU'] == c.cat.categories[i]],\n",
    "               label = c.cat.categories[i])"
   ]
  },
  {
   "cell_type": "code",
   "execution_count": 72,
   "metadata": {},
   "outputs": [
    {
     "data": {
      "text/plain": [
       "<matplotlib.legend.Legend at 0xbcda090>"
      ]
     },
     "execution_count": 72,
     "metadata": {},
     "output_type": "execute_result"
    }
   ],
   "source": [
    "ax.legend()"
   ]
  },
  {
   "cell_type": "markdown",
   "metadata": {},
   "source": [
    "为什么图例显示不完整？是因为数据不全吗？"
   ]
  },
  {
   "cell_type": "code",
   "execution_count": 69,
   "metadata": {},
   "outputs": [
    {
     "data": {
      "text/html": [
       "<div>\n",
       "<style scoped>\n",
       "    .dataframe tbody tr th:only-of-type {\n",
       "        vertical-align: middle;\n",
       "    }\n",
       "\n",
       "    .dataframe tbody tr th {\n",
       "        vertical-align: top;\n",
       "    }\n",
       "\n",
       "    .dataframe thead th {\n",
       "        text-align: right;\n",
       "    }\n",
       "</style>\n",
       "<table border=\"1\" class=\"dataframe\">\n",
       "  <thead>\n",
       "    <tr style=\"text-align: right;\">\n",
       "      <th></th>\n",
       "      <th>brand</th>\n",
       "      <th>厂牌</th>\n",
       "      <th>SKU</th>\n",
       "      <th>name</th>\n",
       "      <th>0510价格</th>\n",
       "      <th>CPU</th>\n",
       "      <th>长</th>\n",
       "      <th>宽</th>\n",
       "      <th>厚</th>\n",
       "      <th>重</th>\n",
       "      <th>Unnamed: 10</th>\n",
       "      <th>Unnamed: 11</th>\n",
       "      <th>ppi</th>\n",
       "      <th>分辨率长</th>\n",
       "      <th>屏幕长</th>\n",
       "      <th>屏幕长_厘米</th>\n",
       "      <th>分辨率宽</th>\n",
       "      <th>屏幕宽</th>\n",
       "      <th>屏幕宽_厘米</th>\n",
       "      <th>上市时间</th>\n",
       "    </tr>\n",
       "  </thead>\n",
       "  <tbody>\n",
       "    <tr>\n",
       "      <th>0</th>\n",
       "      <td>apple</td>\n",
       "      <td>苹果</td>\n",
       "      <td>1.000083e+11</td>\n",
       "      <td>11</td>\n",
       "      <td>5499.0</td>\n",
       "      <td>A13</td>\n",
       "      <td>150.9</td>\n",
       "      <td>75.7</td>\n",
       "      <td>8.3</td>\n",
       "      <td>194.0</td>\n",
       "      <td>NaN</td>\n",
       "      <td>NaN</td>\n",
       "      <td>NaN</td>\n",
       "      <td>NaN</td>\n",
       "      <td>NaN</td>\n",
       "      <td>NaN</td>\n",
       "      <td>NaN</td>\n",
       "      <td>NaN</td>\n",
       "      <td>NaN</td>\n",
       "      <td>NaN</td>\n",
       "    </tr>\n",
       "    <tr>\n",
       "      <th>1</th>\n",
       "      <td>apple</td>\n",
       "      <td>苹果</td>\n",
       "      <td>1.000083e+11</td>\n",
       "      <td>11 pro</td>\n",
       "      <td>8799.0</td>\n",
       "      <td>A13</td>\n",
       "      <td>144.0</td>\n",
       "      <td>71.4</td>\n",
       "      <td>8.1</td>\n",
       "      <td>188.0</td>\n",
       "      <td>NaN</td>\n",
       "      <td>NaN</td>\n",
       "      <td>NaN</td>\n",
       "      <td>NaN</td>\n",
       "      <td>NaN</td>\n",
       "      <td>NaN</td>\n",
       "      <td>NaN</td>\n",
       "      <td>NaN</td>\n",
       "      <td>NaN</td>\n",
       "      <td>NaN</td>\n",
       "    </tr>\n",
       "    <tr>\n",
       "      <th>2</th>\n",
       "      <td>apple</td>\n",
       "      <td>苹果</td>\n",
       "      <td>1.000083e+11</td>\n",
       "      <td>11 Pro max</td>\n",
       "      <td>9299.0</td>\n",
       "      <td>A13</td>\n",
       "      <td>158.0</td>\n",
       "      <td>77.8</td>\n",
       "      <td>8.1</td>\n",
       "      <td>226.0</td>\n",
       "      <td>NaN</td>\n",
       "      <td>NaN</td>\n",
       "      <td>NaN</td>\n",
       "      <td>NaN</td>\n",
       "      <td>NaN</td>\n",
       "      <td>NaN</td>\n",
       "      <td>NaN</td>\n",
       "      <td>NaN</td>\n",
       "      <td>NaN</td>\n",
       "      <td>NaN</td>\n",
       "    </tr>\n",
       "    <tr>\n",
       "      <th>3</th>\n",
       "      <td>apple</td>\n",
       "      <td>苹果</td>\n",
       "      <td>1.000069e+11</td>\n",
       "      <td>SE2</td>\n",
       "      <td>3799.0</td>\n",
       "      <td>A13</td>\n",
       "      <td>138.4</td>\n",
       "      <td>67.3</td>\n",
       "      <td>7.3</td>\n",
       "      <td>148.0</td>\n",
       "      <td>NaN</td>\n",
       "      <td>NaN</td>\n",
       "      <td>NaN</td>\n",
       "      <td>NaN</td>\n",
       "      <td>NaN</td>\n",
       "      <td>NaN</td>\n",
       "      <td>NaN</td>\n",
       "      <td>NaN</td>\n",
       "      <td>NaN</td>\n",
       "      <td>NaN</td>\n",
       "    </tr>\n",
       "  </tbody>\n",
       "</table>\n",
       "</div>"
      ],
      "text/plain": [
       "   brand  厂牌           SKU        name  0510价格  CPU      长     宽    厚      重  \\\n",
       "0  apple  苹果  1.000083e+11          11  5499.0  A13  150.9  75.7  8.3  194.0   \n",
       "1  apple  苹果  1.000083e+11      11 pro  8799.0  A13  144.0  71.4  8.1  188.0   \n",
       "2  apple  苹果  1.000083e+11  11 Pro max  9299.0  A13  158.0  77.8  8.1  226.0   \n",
       "3  apple  苹果  1.000069e+11         SE2  3799.0  A13  138.4  67.3  7.3  148.0   \n",
       "\n",
       "   Unnamed: 10  Unnamed: 11  ppi  分辨率长  屏幕长  屏幕长_厘米  分辨率宽  屏幕宽  屏幕宽_厘米 上市时间  \n",
       "0          NaN          NaN  NaN   NaN  NaN     NaN   NaN  NaN     NaN  NaN  \n",
       "1          NaN          NaN  NaN   NaN  NaN     NaN   NaN  NaN     NaN  NaN  \n",
       "2          NaN          NaN  NaN   NaN  NaN     NaN   NaN  NaN     NaN  NaN  \n",
       "3          NaN          NaN  NaN   NaN  NaN     NaN   NaN  NaN     NaN  NaN  "
      ]
     },
     "execution_count": 69,
     "metadata": {},
     "output_type": "execute_result"
    }
   ],
   "source": [
    "df[df['CPU'] == 'A13']"
   ]
  },
  {
   "cell_type": "code",
   "execution_count": null,
   "metadata": {},
   "outputs": [],
   "source": []
  }
 ],
 "metadata": {
  "kernelspec": {
   "display_name": "Python 3",
   "language": "python",
   "name": "python3"
  },
  "language_info": {
   "codemirror_mode": {
    "name": "ipython",
    "version": 3
   },
   "file_extension": ".py",
   "mimetype": "text/x-python",
   "name": "python",
   "nbconvert_exporter": "python",
   "pygments_lexer": "ipython3",
   "version": "3.7.5"
  }
 },
 "nbformat": 4,
 "nbformat_minor": 4
}
