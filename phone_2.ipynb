{
 "cells": [
  {
   "cell_type": "markdown",
   "metadata": {},
   "source": [
    "# 数据分析实践-手机篇（二）"
   ]
  },
  {
   "cell_type": "markdown",
   "metadata": {},
   "source": [
    "## 数据调查\n",
    "\n",
    "收集手机市场在售手机静态资料，数据来源京东，apple.com.cn等，以CSV文件存储。\n",
    "\n",
    "### 数据源\n",
    "- [华为手机官网](https://consumer.huawei.com/cn/phones/?ic_medium=hwdc&ic_source=corp_header_consumer)\n",
    "- [小米商城](https://www.mi.com/index.html)"
   ]
  },
  {
   "cell_type": "markdown",
   "metadata": {},
   "source": [
    "## 外形分析\n",
    "\n",
    "比较各型手机的长度，宽度，厚度，重量等信息。"
   ]
  },
  {
   "cell_type": "code",
   "execution_count": 1,
   "metadata": {},
   "outputs": [],
   "source": [
    "import pandas as pd\n",
    "import matplotlib\n",
    "import matplotlib.pyplot as plt\n",
    "import numpy as np"
   ]
  },
  {
   "cell_type": "code",
   "execution_count": 2,
   "metadata": {},
   "outputs": [],
   "source": [
    "%matplotlib widget\n",
    "matplotlib.rcParams['font.family'] = ['DengXian', 'sans-serif']"
   ]
  },
  {
   "cell_type": "markdown",
   "metadata": {},
   "source": [
    "1. 读入csv文件"
   ]
  },
  {
   "cell_type": "code",
   "execution_count": 3,
   "metadata": {},
   "outputs": [],
   "source": [
    "fn = 'phone_data2.csv'"
   ]
  },
  {
   "cell_type": "code",
   "execution_count": 4,
   "metadata": {},
   "outputs": [],
   "source": [
    "df = pd.read_csv(fn)"
   ]
  },
  {
   "cell_type": "code",
   "execution_count": 17,
   "metadata": {
    "collapsed": true,
    "jupyter": {
     "outputs_hidden": true
    }
   },
   "outputs": [
    {
     "data": {
      "text/html": [
       "<div>\n",
       "<style scoped>\n",
       "    .dataframe tbody tr th:only-of-type {\n",
       "        vertical-align: middle;\n",
       "    }\n",
       "\n",
       "    .dataframe tbody tr th {\n",
       "        vertical-align: top;\n",
       "    }\n",
       "\n",
       "    .dataframe thead th {\n",
       "        text-align: right;\n",
       "    }\n",
       "</style>\n",
       "<table border=\"1\" class=\"dataframe\">\n",
       "  <thead>\n",
       "    <tr style=\"text-align: right;\">\n",
       "      <th></th>\n",
       "      <th>brand</th>\n",
       "      <th>厂牌</th>\n",
       "      <th>SKU</th>\n",
       "      <th>name</th>\n",
       "      <th>0604价格</th>\n",
       "      <th>CPU</th>\n",
       "      <th>长</th>\n",
       "      <th>宽</th>\n",
       "      <th>厚</th>\n",
       "      <th>重</th>\n",
       "      <th>Column1</th>\n",
       "      <th>_1</th>\n",
       "      <th>ppi</th>\n",
       "      <th>分辨率长</th>\n",
       "      <th>屏幕长</th>\n",
       "      <th>屏幕长_厘米</th>\n",
       "      <th>分辨率宽</th>\n",
       "      <th>屏幕宽</th>\n",
       "      <th>屏幕宽_厘米</th>\n",
       "      <th>上市时间</th>\n",
       "    </tr>\n",
       "  </thead>\n",
       "  <tbody>\n",
       "    <tr>\n",
       "      <th>0</th>\n",
       "      <td>apple</td>\n",
       "      <td>苹果</td>\n",
       "      <td>1.000083e+11</td>\n",
       "      <td>11</td>\n",
       "      <td>5499.0</td>\n",
       "      <td>A13</td>\n",
       "      <td>150.90</td>\n",
       "      <td>75.70</td>\n",
       "      <td>8.30</td>\n",
       "      <td>194.0</td>\n",
       "      <td>NaN</td>\n",
       "      <td>NaN</td>\n",
       "      <td>NaN</td>\n",
       "      <td>NaN</td>\n",
       "      <td>NaN</td>\n",
       "      <td>NaN</td>\n",
       "      <td>NaN</td>\n",
       "      <td>NaN</td>\n",
       "      <td>NaN</td>\n",
       "      <td>NaN</td>\n",
       "    </tr>\n",
       "    <tr>\n",
       "      <th>1</th>\n",
       "      <td>apple</td>\n",
       "      <td>苹果</td>\n",
       "      <td>1.000083e+11</td>\n",
       "      <td>11 pro</td>\n",
       "      <td>8799.0</td>\n",
       "      <td>A13</td>\n",
       "      <td>144.00</td>\n",
       "      <td>71.40</td>\n",
       "      <td>8.10</td>\n",
       "      <td>188.0</td>\n",
       "      <td>NaN</td>\n",
       "      <td>NaN</td>\n",
       "      <td>NaN</td>\n",
       "      <td>NaN</td>\n",
       "      <td>NaN</td>\n",
       "      <td>NaN</td>\n",
       "      <td>NaN</td>\n",
       "      <td>NaN</td>\n",
       "      <td>NaN</td>\n",
       "      <td>NaN</td>\n",
       "    </tr>\n",
       "    <tr>\n",
       "      <th>2</th>\n",
       "      <td>apple</td>\n",
       "      <td>苹果</td>\n",
       "      <td>1.000083e+11</td>\n",
       "      <td>11 Pro max</td>\n",
       "      <td>9299.0</td>\n",
       "      <td>A13</td>\n",
       "      <td>158.00</td>\n",
       "      <td>77.80</td>\n",
       "      <td>8.10</td>\n",
       "      <td>226.0</td>\n",
       "      <td>NaN</td>\n",
       "      <td>NaN</td>\n",
       "      <td>NaN</td>\n",
       "      <td>NaN</td>\n",
       "      <td>NaN</td>\n",
       "      <td>NaN</td>\n",
       "      <td>NaN</td>\n",
       "      <td>NaN</td>\n",
       "      <td>NaN</td>\n",
       "      <td>NaN</td>\n",
       "    </tr>\n",
       "    <tr>\n",
       "      <th>3</th>\n",
       "      <td>apple</td>\n",
       "      <td>苹果</td>\n",
       "      <td>1.000069e+11</td>\n",
       "      <td>SE2</td>\n",
       "      <td>3799.0</td>\n",
       "      <td>A13</td>\n",
       "      <td>138.40</td>\n",
       "      <td>67.30</td>\n",
       "      <td>7.30</td>\n",
       "      <td>148.0</td>\n",
       "      <td>NaN</td>\n",
       "      <td>NaN</td>\n",
       "      <td>NaN</td>\n",
       "      <td>NaN</td>\n",
       "      <td>NaN</td>\n",
       "      <td>NaN</td>\n",
       "      <td>NaN</td>\n",
       "      <td>NaN</td>\n",
       "      <td>NaN</td>\n",
       "      <td>NaN</td>\n",
       "    </tr>\n",
       "    <tr>\n",
       "      <th>4</th>\n",
       "      <td>mi</td>\n",
       "      <td>小米</td>\n",
       "      <td>1.000128e+11</td>\n",
       "      <td>10 青春版</td>\n",
       "      <td>2299.0</td>\n",
       "      <td>骁龙765G</td>\n",
       "      <td>164.02</td>\n",
       "      <td>74.77</td>\n",
       "      <td>7.88</td>\n",
       "      <td>192.0</td>\n",
       "      <td>NaN</td>\n",
       "      <td>NaN</td>\n",
       "      <td>NaN</td>\n",
       "      <td>2400.0</td>\n",
       "      <td>NaN</td>\n",
       "      <td>NaN</td>\n",
       "      <td>1080.0</td>\n",
       "      <td>NaN</td>\n",
       "      <td>NaN</td>\n",
       "      <td>NaN</td>\n",
       "    </tr>\n",
       "  </tbody>\n",
       "</table>\n",
       "</div>"
      ],
      "text/plain": [
       "   brand  厂牌           SKU        name  0604价格     CPU       长      宽     厚  \\\n",
       "0  apple  苹果  1.000083e+11          11  5499.0     A13  150.90  75.70  8.30   \n",
       "1  apple  苹果  1.000083e+11      11 pro  8799.0     A13  144.00  71.40  8.10   \n",
       "2  apple  苹果  1.000083e+11  11 Pro max  9299.0     A13  158.00  77.80  8.10   \n",
       "3  apple  苹果  1.000069e+11         SE2  3799.0     A13  138.40  67.30  7.30   \n",
       "4     mi  小米  1.000128e+11      10 青春版  2299.0  骁龙765G  164.02  74.77  7.88   \n",
       "\n",
       "       重  Column1  _1  ppi    分辨率长  屏幕长  屏幕长_厘米    分辨率宽  屏幕宽  屏幕宽_厘米 上市时间  \n",
       "0  194.0      NaN NaN  NaN     NaN  NaN     NaN     NaN  NaN     NaN  NaN  \n",
       "1  188.0      NaN NaN  NaN     NaN  NaN     NaN     NaN  NaN     NaN  NaN  \n",
       "2  226.0      NaN NaN  NaN     NaN  NaN     NaN     NaN  NaN     NaN  NaN  \n",
       "3  148.0      NaN NaN  NaN     NaN  NaN     NaN     NaN  NaN     NaN  NaN  \n",
       "4  192.0      NaN NaN  NaN  2400.0  NaN     NaN  1080.0  NaN     NaN  NaN  "
      ]
     },
     "execution_count": 17,
     "metadata": {},
     "output_type": "execute_result"
    }
   ],
   "source": [
    "df.head()"
   ]
  },
  {
   "cell_type": "code",
   "execution_count": 5,
   "metadata": {},
   "outputs": [
    {
     "data": {
      "application/vnd.jupyter.widget-view+json": {
       "model_id": "33520114cdb74928b7151f81273d0345",
       "version_major": 2,
       "version_minor": 0
      },
      "text/plain": [
       "Canvas(toolbar=Toolbar(toolitems=[('Home', 'Reset original view', 'home', 'home'), ('Back', 'Back to previous …"
      ]
     },
     "metadata": {},
     "output_type": "display_data"
    }
   ],
   "source": [
    "fig, ax = plt.subplots()"
   ]
  },
  {
   "cell_type": "code",
   "execution_count": null,
   "metadata": {},
   "outputs": [],
   "source": [
    "CPU与颜色都是分类变量，首先建立映射。\n",
    "[pandas - Categorical data](https://pandas.pydata.org/docs/user_guide/categorical.html)"
   ]
  },
  {
   "cell_type": "code",
   "execution_count": 9,
   "metadata": {},
   "outputs": [
    {
     "data": {
      "text/plain": [
       "0        A13\n",
       "1        A13\n",
       "2        A13\n",
       "3        A13\n",
       "4     骁龙765G\n",
       "5      骁龙865\n",
       "6      骁龙865\n",
       "7      骁龙625\n",
       "8      骁龙865\n",
       "9      骁龙865\n",
       "10     麒麟990\n",
       "11     麒麟980\n",
       "12     骁龙660\n",
       "13     麒麟820\n",
       "14     骁龙865\n",
       "Name: CPU, dtype: object"
      ]
     },
     "execution_count": 9,
     "metadata": {},
     "output_type": "execute_result"
    }
   ],
   "source": [
    "df['CPU']"
   ]
  },
  {
   "cell_type": "markdown",
   "metadata": {},
   "source": [
    "CPU列的内容如上，df['CPU'].unique()方法的返回值中包含nan，"
   ]
  },
  {
   "cell_type": "code",
   "execution_count": 6,
   "metadata": {},
   "outputs": [],
   "source": [
    "c = df['CPU'].astype('category')"
   ]
  },
  {
   "cell_type": "markdown",
   "metadata": {},
   "source": [
    "在数据准备好后，开始制图。参考带有图例的散点图，每次绘制一种CPU的散点。\n",
    "\n",
    "筛选CPU列包含A13的所有行？"
   ]
  },
  {
   "cell_type": "code",
   "execution_count": 70,
   "metadata": {},
   "outputs": [],
   "source": [
    "ax.cla()"
   ]
  },
  {
   "cell_type": "code",
   "execution_count": 7,
   "metadata": {},
   "outputs": [],
   "source": [
    "for i in range(len(c.cat.categories)):\n",
    "    ax.scatter('长', '宽', s = '重', c = 'C%d' % (i+1), alpha = 0.25, \n",
    "               data = df[df['CPU'] == c.cat.categories[i]],\n",
    "               label = c.cat.categories[i])"
   ]
  },
  {
   "cell_type": "code",
   "execution_count": 8,
   "metadata": {},
   "outputs": [
    {
     "data": {
      "text/plain": [
       "<matplotlib.legend.Legend at 0xafaa430>"
      ]
     },
     "execution_count": 8,
     "metadata": {},
     "output_type": "execute_result"
    }
   ],
   "source": [
    "ax.legend()"
   ]
  },
  {
   "cell_type": "markdown",
   "metadata": {},
   "source": [
    "为什么图例显示不完整？是因为数据不全吗？"
   ]
  },
  {
   "cell_type": "code",
   "execution_count": null,
   "metadata": {},
   "outputs": [],
   "source": []
  }
 ],
 "metadata": {
  "kernelspec": {
   "display_name": "Python 3",
   "language": "python",
   "name": "python3"
  },
  "language_info": {
   "codemirror_mode": {
    "name": "ipython",
    "version": 3
   },
   "file_extension": ".py",
   "mimetype": "text/x-python",
   "name": "python",
   "nbconvert_exporter": "python",
   "pygments_lexer": "ipython3",
   "version": "3.7.5"
  }
 },
 "nbformat": 4,
 "nbformat_minor": 4
}
