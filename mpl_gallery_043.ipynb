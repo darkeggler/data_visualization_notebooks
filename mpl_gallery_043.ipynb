{
 "cells": [
  {
   "cell_type": "markdown",
   "metadata": {},
   "source": [
    "# 1-43. [hlines and vlines](https://matplotlib.org/gallery/lines_bars_and_markers/vline_hline_demo.html)"
   ]
  },
  {
   "cell_type": "markdown",
   "metadata": {},
   "source": []
  },
  {
   "cell_type": "code",
   "execution_count": 44,
   "metadata": {},
   "outputs": [],
   "source": [
    "import matplotlib.pyplot as plt\n",
    "import matplotlib.axes as axes\n",
    "\n",
    "from matplotlib import rcParams\n",
    "from matplotlib.path import Path\n",
    "from matplotlib.collections import LineCollection\n",
    "\n",
    "import numpy as np\n",
    "import inspect"
   ]
  },
  {
   "cell_type": "code",
   "execution_count": 15,
   "metadata": {},
   "outputs": [],
   "source": [
    "%matplotlib widget\n",
    "rcParams['font.family'] = ['DengXian', 'Sans-serif']"
   ]
  },
  {
   "cell_type": "markdown",
   "metadata": {},
   "source": [
    "# Matplotlib示例.43 横线与竖线"
   ]
  },
  {
   "cell_type": "markdown",
   "metadata": {},
   "source": [
    "我们在[matplotlib基础](https://zhuanlan.zhihu.com/p/147256790)中提过图表是由艺术家使用渲染器在画布上完成的。\n",
    "\n",
    "而艺术家有两种类型：图元与容器。图元表示绘制在画布上的标准图形对象，如：Line2D，容器是放置图元的位置如：Axis，Axes和Figure。标准用法是创建一个Figure实例，使用Figure来创建一个或多个Axes或Subplot实例，并使用Axes实例的辅助方法创建图元。\n",
    "\n",
    "Axes实例中有20个基础的辅助制图方法，其中plot, bar, scatter我们已经非常熟悉了，本例我们将了解vlines与hlines的使用方法。"
   ]
  },
  {
   "cell_type": "code",
   "execution_count": 65,
   "metadata": {},
   "outputs": [
    {
     "data": {
      "text/plain": [
       "<Signature (self, x, ymin, ymax, colors='k', linestyles='solid', label='', *, data=None, **kwargs)>"
      ]
     },
     "execution_count": 65,
     "metadata": {},
     "output_type": "execute_result"
    }
   ],
   "source": [
    "inspect.signature(axes.Axes.vlines)"
   ]
  },
  {
   "cell_type": "markdown",
   "metadata": {},
   "source": [
    "仅从签名即可看出，调用vlines方法至少需要3个参数，用于交代清楚垂线的位置及长度。"
   ]
  },
  {
   "cell_type": "markdown",
   "metadata": {},
   "source": [
    "> lines = mcoll.LineCollection(masked_verts, colors=colors,\n",
    "                               linestyles=linestyles, label=label)\n",
    "  self.add_collection(lines, autolim=False)\n",
    "  \n",
    "在vlines内部，x, ymin, ymax将转换为LineCollection接受的样式，保存在形如(len(x), 2, 2)的MaskedArray中。表示有len(x)条线，每条线有2个顶点，每个顶点有2个要素(x, y)"
   ]
  },
  {
   "cell_type": "code",
   "execution_count": 22,
   "metadata": {},
   "outputs": [],
   "source": [
    "x = [.2, .4, .6, .8]\n",
    "ymin = [.1, .3, .5, .7]\n",
    "ymax = [.3, .5, .7, .9]"
   ]
  },
  {
   "cell_type": "markdown",
   "metadata": {},
   "source": [
    "我们准备好了一组数据，数据的图形相信已经浮现在大家的眼前了。如果在脑中画图还不够熟练，就自己画一张看看```plt.vlines(x, ymin, ymax)```\n",
    "\n",
    "下面我们把它转换为MaskedArray"
   ]
  },
  {
   "cell_type": "code",
   "execution_count": 23,
   "metadata": {},
   "outputs": [],
   "source": [
    "masked_verts = np.ma.empty((len(x), 2, 2))\n",
    "masked_verts[:, 0, 0] = x\n",
    "masked_verts[:, 0, 1] = ymin\n",
    "masked_verts[:, 1, 0] = x\n",
    "masked_verts[:, 1, 1] = ymax"
   ]
  },
  {
   "cell_type": "code",
   "execution_count": 56,
   "metadata": {},
   "outputs": [],
   "source": [
    "lines = LineCollection(masked_verts)"
   ]
  },
  {
   "cell_type": "code",
   "execution_count": 57,
   "metadata": {},
   "outputs": [
    {
     "data": {
      "application/vnd.jupyter.widget-view+json": {
       "model_id": "768481deff3d4480b77f2559c7e7deac",
       "version_major": 2,
       "version_minor": 0
      },
      "text/plain": [
       "Canvas(toolbar=Toolbar(toolitems=[('Home', 'Reset original view', 'home', 'home'), ('Back', 'Back to previous …"
      ]
     },
     "metadata": {},
     "output_type": "display_data"
    }
   ],
   "source": [
    "fig1, ax1 = plt.subplots()"
   ]
  },
  {
   "cell_type": "code",
   "execution_count": 58,
   "metadata": {},
   "outputs": [
    {
     "data": {
      "text/plain": [
       "<matplotlib.collections.LineCollection at 0x19190c49c08>"
      ]
     },
     "execution_count": 58,
     "metadata": {},
     "output_type": "execute_result"
    }
   ],
   "source": [
    "ax1.add_collection(lines)"
   ]
  },
  {
   "cell_type": "markdown",
   "metadata": {},
   "source": [
    "我们可以这样在中间画一条竖线"
   ]
  },
  {
   "cell_type": "code",
   "execution_count": 59,
   "metadata": {},
   "outputs": [],
   "source": [
    "ax1.collections[0]._paths.append(Path([[.5,.1],[.5,.9]]))"
   ]
  },
  {
   "cell_type": "markdown",
   "metadata": {},
   "source": [
    "## numpy\n",
    "- [Array creation routines](https://numpy.org/devdocs/reference/routines.array-creation.html)\n",
    "- [Mathematical functions](https://numpy.org/devdocs/reference/routines.math.html)"
   ]
  },
  {
   "cell_type": "code",
   "execution_count": 30,
   "metadata": {},
   "outputs": [],
   "source": [
    "t = np.arange(0.0, 5.0, 0.1)\n",
    "s = np.exp(-t) + np.sin(2 * np.pi * t) + 1\n",
    "nse = np.random.normal(0.0, 0.3, t.shape) * s"
   ]
  },
  {
   "cell_type": "code",
   "execution_count": 47,
   "metadata": {},
   "outputs": [
    {
     "data": {
      "application/vnd.jupyter.widget-view+json": {
       "model_id": "786353dee96143918139952e28b7dc77",
       "version_major": 2,
       "version_minor": 0
      },
      "text/plain": [
       "Canvas(toolbar=Toolbar(toolitems=[('Home', 'Reset original view', 'home', 'home'), ('Back', 'Back to previous …"
      ]
     },
     "metadata": {},
     "output_type": "display_data"
    }
   ],
   "source": [
    "fig, (vax, hax) = plt.subplots(1, 2, figsize=(12, 6))"
   ]
  },
  {
   "cell_type": "code",
   "execution_count": 48,
   "metadata": {},
   "outputs": [
    {
     "data": {
      "text/plain": [
       "Text(0.5, 1.0, '横线')"
      ]
     },
     "execution_count": 48,
     "metadata": {},
     "output_type": "execute_result"
    }
   ],
   "source": [
    "vax.plot(t, s + nse, '^')\n",
    "vax.vlines(t, [0], s)\n",
    "\n",
    "vax.vlines([1, 2], 0, 1, transform=vax.get_xaxis_transform(), colors='r')\n",
    "vax.set_title('竖线')\n",
    "\n",
    "hax.plot(s + nse, t, '^')\n",
    "hax.hlines(t, [0], s, lw=2)\n",
    "hax.set_title('横线')"
   ]
  },
  {
   "cell_type": "markdown",
   "metadata": {},
   "source": [
    "t = np.arange(0.0, 5.0, 0.1)\n",
    "s = np.exp(-t) + np.sin(2 * np.pi * t) + 1\n",
    "nse = np.random.normal(0.0, 0.3, t.shape) * s\n",
    "\n",
    "fig, (vax, hax) = plt.subplots(1, 2, figsize=(12, 6))\n",
    "\n",
    "vax.plot(t, s + nse, '^')\n",
    "vax.vlines(t, [0], s)\n",
    "\n",
    "vax.vlines([1, 2], 0, 1, transform=vax.get_xaxis_transform(), colors='r')\n",
    "vax.set_xlabel('time (s)')\n",
    "vax.set_title('Vertical lines demo')\n",
    "\n",
    "hax.plot(s + nse, t, '^')\n",
    "hax.hlines(t, [0], s, lw=2)\n",
    "hax.set_xlabel('time (s)')\n",
    "hax.set_title('Horizontal lines demo')"
   ]
  },
  {
   "cell_type": "code",
   "execution_count": null,
   "metadata": {},
   "outputs": [],
   "source": []
  },
  {
   "cell_type": "code",
   "execution_count": 42,
   "metadata": {},
   "outputs": [
    {
     "data": {
      "text/plain": [
       "matplotlib.transforms.BlendedGenericTransform"
      ]
     },
     "execution_count": 42,
     "metadata": {},
     "output_type": "execute_result"
    }
   ],
   "source": [
    "type(vax.get_xaxis_transform())"
   ]
  },
  {
   "cell_type": "code",
   "execution_count": null,
   "metadata": {},
   "outputs": [],
   "source": []
  },
  {
   "cell_type": "code",
   "execution_count": null,
   "metadata": {},
   "outputs": [],
   "source": []
  },
  {
   "cell_type": "code",
   "execution_count": null,
   "metadata": {},
   "outputs": [],
   "source": []
  },
  {
   "cell_type": "code",
   "execution_count": null,
   "metadata": {},
   "outputs": [],
   "source": []
  },
  {
   "cell_type": "markdown",
   "metadata": {},
   "source": [
    "```python\n",
    "x = np.ravel(x)\n",
    "ymin = np.ravel(ymin)\n",
    "ymax = np.ravel(ymax)\n",
    "\n",
    "masked_verts = np.ma.empty((len(x), 2, 2))\n",
    "masked_verts[:, 0, 0] = x\n",
    "masked_verts[:, 0, 1] = ymin\n",
    "masked_verts[:, 1, 0] = x\n",
    "masked_verts[:, 1, 1] = ymax\n",
    "```\n",
    "\n",
    "- [The numpy.ma module](https://numpy.org/devdocs/reference/maskedarray.generic.html)"
   ]
  },
  {
   "cell_type": "markdown",
   "metadata": {},
   "source": [
    "在Axes类中的add_collection方法，\n",
    "> self.collections.append(collection)\n",
    "\n",
    "手工增加或删除collections属性中保存的LineCollection，Axes中绘制的对应图形就会发生相应的变化。\n",
    "\n",
    "手工增加或删除LineCollection中的_Path属性，Axes中绘制的对应图形也会发生相应的变化。\n",
    "\n",
    "- Path(((0.1,0.1),(0.9,0.1),(0.9,0.9),(0.1,0.9),(0.1,0.1)))"
   ]
  },
  {
   "cell_type": "code",
   "execution_count": 35,
   "metadata": {},
   "outputs": [],
   "source": []
  },
  {
   "cell_type": "code",
   "execution_count": 20,
   "metadata": {},
   "outputs": [],
   "source": [
    "MAGIC = 0.2652031\n",
    "SQRTHALF = np.sqrt(0.5)\n",
    "MAGIC45 = SQRTHALF * MAGIC\n",
    "\n",
    "vertices = np.array([[0.0, -1.0],\n",
    "\n",
    "                     [MAGIC, -1.0],\n",
    "                     [SQRTHALF-MAGIC45, -SQRTHALF-MAGIC45],\n",
    "                     [SQRTHALF, -SQRTHALF],\n",
    "\n",
    "                     [SQRTHALF+MAGIC45, -SQRTHALF+MAGIC45],\n",
    "                     [1.0, -MAGIC],\n",
    "                     [1.0, 0.0],\n",
    "\n",
    "                     [1.0, MAGIC],\n",
    "                     [SQRTHALF+MAGIC45, SQRTHALF-MAGIC45],\n",
    "                     [SQRTHALF, SQRTHALF],\n",
    "\n",
    "                     [SQRTHALF-MAGIC45, SQRTHALF+MAGIC45],\n",
    "                     [MAGIC, 1.0],\n",
    "                     [0.0, 1.0],\n",
    "\n",
    "                     [-MAGIC, 1.0],\n",
    "                     [-SQRTHALF+MAGIC45, SQRTHALF+MAGIC45],\n",
    "                     [-SQRTHALF, SQRTHALF],\n",
    "\n",
    "                     [-SQRTHALF-MAGIC45, SQRTHALF-MAGIC45],\n",
    "                     [-1.0, MAGIC],\n",
    "                     [-1.0, 0.0],\n",
    "\n",
    "                     [-1.0, -MAGIC],\n",
    "                     [-SQRTHALF-MAGIC45, -SQRTHALF+MAGIC45],\n",
    "                     [-SQRTHALF, -SQRTHALF],\n",
    "\n",
    "                     [-SQRTHALF+MAGIC45, -SQRTHALF-MAGIC45],\n",
    "                     [-MAGIC, -1.0],\n",
    "                     [0.0, -1.0],\n",
    "\n",
    "                     [0.0, -1.0]],\n",
    "                    dtype=float)\n",
    "\n",
    "codes = [Path.CURVE4] * 26\n",
    "codes[0] = Path.MOVETO\n",
    "codes[-1] = Path.CLOSEPOLY"
   ]
  },
  {
   "cell_type": "code",
   "execution_count": 22,
   "metadata": {},
   "outputs": [],
   "source": [
    "path = Path(vertices, codes, readonly=True)"
   ]
  }
 ],
 "metadata": {
  "kernelspec": {
   "display_name": "Python 3",
   "language": "python",
   "name": "python3"
  },
  "language_info": {
   "codemirror_mode": {
    "name": "ipython",
    "version": 3
   },
   "file_extension": ".py",
   "mimetype": "text/x-python",
   "name": "python",
   "nbconvert_exporter": "python",
   "pygments_lexer": "ipython3",
   "version": "3.7.5"
  }
 },
 "nbformat": 4,
 "nbformat_minor": 4
}
