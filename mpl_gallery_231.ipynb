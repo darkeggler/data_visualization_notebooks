{
 "cells": [
  {
   "cell_type": "markdown",
   "metadata": {},
   "source": [
    "# 231. [Line Collection](https://matplotlib.org/3.2.0/gallery/shapes_and_collections/line_collection.html)"
   ]
  },
  {
   "cell_type": "code",
   "execution_count": 2,
   "metadata": {},
   "outputs": [],
   "source": [
    "import matplotlib.pyplot as plt\n",
    "from matplotlib.collections import LineCollection\n",
    "from matplotlib import colors as mcolors\n",
    "\n",
    "import numpy as np"
   ]
  },
  {
   "cell_type": "markdown",
   "metadata": {},
   "source": [
    "In order to efficiently plot many lines in a single set of axes,\n",
    "Matplotlib has the ability to add the lines all at once. \n",
    "\n",
    "Here is a simple example showing how it is done.\n",
    "\n",
    "操作LineCollection这个东西的一般方法。"
   ]
  },
  {
   "cell_type": "code",
   "execution_count": null,
   "metadata": {},
   "outputs": [],
   "source": [
    "x = np.arange(100)\n",
    "# Here are many sets of y to plot vs. x\n",
    "ys = x[:50, np.newaxis] + x[np.newaxis, :]\n",
    "\n",
    "segs = np.zeros((50, 100, 2))\n",
    "segs[:, :, 1] = ys\n",
    "segs[:, :, 0] = x\n",
    "\n",
    "# Mask some values to test masked array support:\n",
    "segs = np.ma.masked_where((segs > 50) & (segs < 60), segs)\n",
    "\n",
    "# We need to set the plot limits.\n",
    "fig, ax = plt.subplots()\n",
    "ax.set_xlim(x.min(), x.max())\n",
    "ax.set_ylim(ys.min(), ys.max())\n",
    "\n",
    "# colors is sequence of rgba tuples\n",
    "# linestyle is a string or dash tuple. Legal string values are\n",
    "#          solid|dashed|dashdot|dotted.  The dash tuple is (offset, onoffseq)\n",
    "#          where onoffseq is an even length tuple of on and off ink in points.\n",
    "#          If linestyle is omitted, 'solid' is used\n",
    "# See :class:`matplotlib.collections.LineCollection` for more information\n",
    "colors = [mcolors.to_rgba(c)\n",
    "          for c in plt.rcParams['axes.prop_cycle'].by_key()['color']]\n",
    "\n",
    "line_segments = LineCollection(segs, linewidths=(0.5, 1, 1.5, 2),\n",
    "                               colors=colors, linestyle='solid')\n",
    "ax.add_collection(line_segments)\n",
    "ax.set_title('Line collection with masked arrays')\n",
    "plt.show()"
   ]
  },
  {
   "cell_type": "code",
   "execution_count": null,
   "metadata": {},
   "outputs": [],
   "source": []
  }
 ],
 "metadata": {
  "kernelspec": {
   "display_name": "Python 3",
   "language": "python",
   "name": "python3"
  },
  "language_info": {
   "codemirror_mode": {
    "name": "ipython",
    "version": 3
   },
   "file_extension": ".py",
   "mimetype": "text/x-python",
   "name": "python",
   "nbconvert_exporter": "python",
   "pygments_lexer": "ipython3",
   "version": "3.7.5"
  }
 },
 "nbformat": 4,
 "nbformat_minor": 4
}
