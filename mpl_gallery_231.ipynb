{
 "cells": [
  {
   "cell_type": "markdown",
   "metadata": {},
   "source": [
    "# 9-231. [Line Collection](https://matplotlib.org/3.2.0/gallery/shapes_and_collections/line_collection.html)"
   ]
  },
  {
   "cell_type": "markdown",
   "metadata": {
    "jupyter": {
     "source_hidden": true
    }
   },
   "source": [
    "NO.|Gallery|number\n",
    "--|--|--\n",
    "1|Lines, bars and markers|44\n",
    "2|Images, contours and fields|42\n",
    "3|Subplots, axes and figures|30\n",
    "4|Statistics|20\n",
    "5|Pie and polar charts|9\n",
    "6|Text, labels and annotations|42\n",
    "7|Pyplot|25\n",
    "8|Color|8\n",
    "9|Shapes and collections|16\n",
    "10|Style sheets|7\n",
    "11|Axes Grid|27\n",
    "12|Axis Artist|21\n",
    "13|Showcase|6\n",
    "14|Animation|12\n",
    "15|Event handling|21\n",
    "16|Front Page|4\n",
    "17|Miscellaneous|34\n",
    "18|3D plotting|36\n",
    "19|Our Favorite Recipes|6\n",
    "20|Scales|9\n",
    "21|Specialty Plots|12\n",
    "22|Ticks and spines|21\n",
    "23|Units|10\n",
    "24|Embedding Matplotlib in graphical user interfaces|19\n",
    "25|Userdemo|33\n",
    "26|Widgets|12\n",
    "\n",
    "- s = [44,42,30,20,9,42,25,8,16,7,27,21,6,12,21,4,34,36,6,9,12,21,10,19,33,12]"
   ]
  },
  {
   "cell_type": "code",
   "execution_count": 1,
   "metadata": {},
   "outputs": [],
   "source": [
    "import matplotlib.pyplot as plt\n",
    "from matplotlib.collections import LineCollection\n",
    "from matplotlib import colors as mcolors\n",
    "\n",
    "import numpy as np"
   ]
  },
  {
   "cell_type": "markdown",
   "metadata": {},
   "source": [
    "In order to efficiently plot many lines in a single set of axes,\n",
    "Matplotlib has the ability to add the lines all at once. \n",
    "\n",
    "Here is a simple example showing how it is done.\n",
    "\n",
    "操作LineCollection这个东西的一般方法。"
   ]
  },
  {
   "cell_type": "code",
   "execution_count": 8,
   "metadata": {},
   "outputs": [],
   "source": [
    "x = np.arange(100)\n",
    "ys = x[:50, None] + x[np.newaxis, :]"
   ]
  },
  {
   "cell_type": "code",
   "execution_count": 10,
   "metadata": {},
   "outputs": [],
   "source": [
    "segs = np.zeros((50, 100, 2))"
   ]
  },
  {
   "cell_type": "code",
   "execution_count": 17,
   "metadata": {},
   "outputs": [],
   "source": [
    "segs[:, :, 1] = ys"
   ]
  },
  {
   "cell_type": "code",
   "execution_count": 15,
   "metadata": {},
   "outputs": [],
   "source": [
    "segs[:, :, 0] = x"
   ]
  },
  {
   "cell_type": "code",
   "execution_count": 21,
   "metadata": {},
   "outputs": [],
   "source": [
    "segs = np.ma.masked_where((segs > 50) & (segs < 60), segs)"
   ]
  },
  {
   "cell_type": "code",
   "execution_count": null,
   "metadata": {},
   "outputs": [],
   "source": [
    "x = np.arange(100)\n",
    "# Here are many sets of y to plot vs. x\n",
    "ys = x[:50, np.newaxis] + x[np.newaxis, :]\n",
    "\n",
    "segs = np.zeros((50, 100, 2))\n",
    "segs[:, :, 1] = ys\n",
    "segs[:, :, 0] = x\n",
    "\n",
    "# Mask some values to test masked array support:\n",
    "segs = np.ma.masked_where((segs > 50) & (segs < 60), segs)\n",
    "\n",
    "# We need to set the plot limits.\n",
    "fig, ax = plt.subplots()\n",
    "ax.set_xlim(x.min(), x.max())\n",
    "ax.set_ylim(ys.min(), ys.max())\n",
    "\n",
    "# colors is sequence of rgba tuples\n",
    "# linestyle is a string or dash tuple. Legal string values are\n",
    "#          solid|dashed|dashdot|dotted.  The dash tuple is (offset, onoffseq)\n",
    "#          where onoffseq is an even length tuple of on and off ink in points.\n",
    "#          If linestyle is omitted, 'solid' is used\n",
    "# See :class:`matplotlib.collections.LineCollection` for more information\n",
    "colors = [mcolors.to_rgba(c)\n",
    "          for c in plt.rcParams['axes.prop_cycle'].by_key()['color']]\n",
    "\n",
    "line_segments = LineCollection(segs, linewidths=(0.5, 1, 1.5, 2),\n",
    "                               colors=colors, linestyle='solid')\n",
    "ax.add_collection(line_segments)\n",
    "ax.set_title('Line collection with masked arrays')\n",
    "plt.show()"
   ]
  },
  {
   "cell_type": "code",
   "execution_count": 24,
   "metadata": {},
   "outputs": [
    {
     "data": {
      "text/plain": [
       "{'color': ['#1f77b4',\n",
       "  '#ff7f0e',\n",
       "  '#2ca02c',\n",
       "  '#d62728',\n",
       "  '#9467bd',\n",
       "  '#8c564b',\n",
       "  '#e377c2',\n",
       "  '#7f7f7f',\n",
       "  '#bcbd22',\n",
       "  '#17becf']}"
      ]
     },
     "execution_count": 24,
     "metadata": {},
     "output_type": "execute_result"
    }
   ],
   "source": [
    "plt.rcParams['axes.prop_cycle'].by_key()"
   ]
  },
  {
   "cell_type": "code",
   "execution_count": 25,
   "metadata": {},
   "outputs": [
    {
     "data": {
      "text/plain": [
       "(1.0, 0.4980392156862745, 0.054901960784313725, 1.0)"
      ]
     },
     "execution_count": 25,
     "metadata": {},
     "output_type": "execute_result"
    }
   ],
   "source": [
    "mcolors.to_rgba('#ff7f0e')"
   ]
  },
  {
   "cell_type": "code",
   "execution_count": null,
   "metadata": {},
   "outputs": [],
   "source": []
  }
 ],
 "metadata": {
  "kernelspec": {
   "display_name": "Python 3",
   "language": "python",
   "name": "python3"
  },
  "language_info": {
   "codemirror_mode": {
    "name": "ipython",
    "version": 3
   },
   "file_extension": ".py",
   "mimetype": "text/x-python",
   "name": "python",
   "nbconvert_exporter": "python",
   "pygments_lexer": "ipython3",
   "version": "3.7.5"
  }
 },
 "nbformat": 4,
 "nbformat_minor": 4
}
