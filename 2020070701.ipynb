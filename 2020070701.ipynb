{
 "cells": [
  {
   "cell_type": "code",
   "execution_count": 1,
   "metadata": {},
   "outputs": [],
   "source": [
    "import matplotlib.pyplot as plt\n",
    "from matplotlib.axes import Axes\n",
    "from matplotlib import rcParams\n",
    "import numpy as np\n",
    "import inspect"
   ]
  },
  {
   "cell_type": "code",
   "execution_count": null,
   "metadata": {},
   "outputs": [],
   "source": [
    "import matplotlib.colors as mcolors\n",
    "from matplotlib import cbook"
   ]
  },
  {
   "cell_type": "code",
   "execution_count": 29,
   "metadata": {},
   "outputs": [],
   "source": [
    "# fake data\n",
    "np.random.seed(19680801)\n",
    "\n",
    "N = 50\n",
    "x = np.random.rand(N)\n",
    "y = np.random.rand(N)\n",
    "colors = np.random.rand(N)\n",
    "area = (30 * np.random.rand(N))**2    # 0 to 15 point radii"
   ]
  },
  {
   "cell_type": "code",
   "execution_count": 3,
   "metadata": {},
   "outputs": [],
   "source": [
    "%matplotlib widget"
   ]
  },
  {
   "cell_type": "code",
   "execution_count": 4,
   "metadata": {
    "collapsed": true,
    "jupyter": {
     "outputs_hidden": true
    }
   },
   "outputs": [
    {
     "data": {
      "application/vnd.jupyter.widget-view+json": {
       "model_id": "07283dd03ad040048d4a74b1ed27fbf3",
       "version_major": 2,
       "version_minor": 0
      },
      "text/plain": [
       "Canvas(toolbar=Toolbar(toolitems=[('Home', 'Reset original view', 'home', 'home'), ('Back', 'Back to previous …"
      ]
     },
     "metadata": {},
     "output_type": "display_data"
    }
   ],
   "source": [
    "fig, ax = plt.subplots()"
   ]
  },
  {
   "cell_type": "code",
   "execution_count": 9,
   "metadata": {},
   "outputs": [],
   "source": [
    "x = np.ma.ravel(x)\n",
    "y = np.ma.ravel(y)\n",
    "s = np.ma.ravel(area)"
   ]
  },
  {
   "cell_type": "code",
   "execution_count": 18,
   "metadata": {},
   "outputs": [],
   "source": [
    "if edgecolors is None and not rcParams['_internal.classic_mode']:\n",
    "    edgecolors = rcParams['scatter.edgecolors']"
   ]
  },
  {
   "cell_type": "code",
   "execution_count": 33,
   "metadata": {},
   "outputs": [],
   "source": [
    "kwcolor = None\n",
    "c_was_none = c is None\n",
    "c_is_mapped = False  # Unless proven otherwise below.\n",
    "valid_shape = True  # Unless proven otherwise below."
   ]
  },
  {
   "cell_type": "code",
   "execution_count": 35,
   "metadata": {},
   "outputs": [],
   "source": [
    "c_is_string_or_strings = (\n",
    "    isinstance(c, str)\n",
    "    or (np.iterable(c) and len(c) > 0\n",
    "        and isinstance(cbook.safe_first_element(c), str)))"
   ]
  },
  {
   "cell_type": "code",
   "execution_count": 39,
   "metadata": {},
   "outputs": [
    {
     "data": {
      "text/plain": [
       "array([0.78422978, 0.39704754, 0.15464683, 0.72119325, 0.8368309 ,\n",
       "       0.9378552 , 0.57671382, 0.19502656, 0.11779397, 0.9506002 ,\n",
       "       0.2836723 , 0.95656242, 0.90942546, 0.32842519, 0.95176557,\n",
       "       0.11632148, 0.87431415, 0.98522547, 0.75033538, 0.98515647,\n",
       "       0.99018024, 0.06097709, 0.00373598, 0.81250321, 0.58273672,\n",
       "       0.15024598, 0.15217356, 0.5270595 , 0.4794052 , 0.09218994,\n",
       "       0.51195743, 0.04283111, 0.80629615, 0.24219866, 0.8482111 ,\n",
       "       0.69558986, 0.36132686, 0.50570144, 0.29417242, 0.66008457,\n",
       "       0.53413535, 0.19481606, 0.86190568, 0.97802889, 0.88218663,\n",
       "       0.52735917, 0.22140904, 0.20272247, 0.0755575 , 0.95256799])"
      ]
     },
     "execution_count": 39,
     "metadata": {},
     "output_type": "execute_result"
    }
   ],
   "source": [
    "c"
   ]
  },
  {
   "cell_type": "code",
   "execution_count": 41,
   "metadata": {},
   "outputs": [],
   "source": [
    "c = np.asanyarray(c, dtype=float)"
   ]
  },
  {
   "cell_type": "code",
   "execution_count": 44,
   "metadata": {},
   "outputs": [],
   "source": [
    "c = c.ravel()"
   ]
  },
  {
   "cell_type": "code",
   "execution_count": 45,
   "metadata": {},
   "outputs": [],
   "source": [
    "c_is_mapped = True\n",
    "colors = None"
   ]
  },
  {
   "cell_type": "code",
   "execution_count": null,
   "metadata": {
    "jupyter": {
     "source_hidden": true
    }
   },
   "outputs": [],
   "source": [
    "    \"\"\"\n",
    "    Helper function to process color related arguments of `.Axes.scatter`.\n",
    "\n",
    "    Argument precedence for facecolors:\n",
    "\n",
    "    - c (if not None)\n",
    "    - kwargs['facecolors']\n",
    "    - kwargs['facecolor']\n",
    "    - kwargs['color'] (==kwcolor)\n",
    "    - 'b' if in classic mode else the result of ``get_next_color_func()``\n",
    "\n",
    "    Argument precedence for edgecolors:\n",
    "\n",
    "    - edgecolors (is an explicit kw argument in scatter())\n",
    "    - kwargs['edgecolor']\n",
    "    - kwargs['color'] (==kwcolor)\n",
    "    - 'face' if not in classic mode else None\n",
    "\n",
    "    Parameters\n",
    "    ----------\n",
    "    c : color or sequence or sequence of color or None\n",
    "        See argument description of `.Axes.scatter`.\n",
    "    edgecolors : color or sequence of color or {'face', 'none'} or None\n",
    "        See argument description of `.Axes.scatter`.\n",
    "    kwargs : dict\n",
    "        Additional kwargs. If these keys exist, we pop and process them:\n",
    "        'facecolors', 'facecolor', 'edgecolor', 'color'\n",
    "        Note: The dict is modified by this function.\n",
    "    xsize : int\n",
    "        The size of the x and y arrays passed to `.Axes.scatter`.\n",
    "    get_next_color_func : callable\n",
    "        A callable that returns a color. This color is used as facecolor\n",
    "        if no other color is provided.\n",
    "\n",
    "        Note, that this is a function rather than a fixed color value to\n",
    "        support conditional evaluation of the next color.  As of the\n",
    "        current implementation obtaining the next color from the\n",
    "        property cycle advances the cycle. This must only happen if we\n",
    "        actually use the color, which will only be decided within this\n",
    "        method.\n",
    "\n",
    "    Returns\n",
    "    -------\n",
    "    c\n",
    "        The input *c* if it was not *None*, else a color derived from the\n",
    "        other inputs or defaults.\n",
    "    colors : array(N, 4) or None\n",
    "        The facecolors as RGBA values, or *None* if a colormap is used.\n",
    "    edgecolors\n",
    "        The edgecolor.\n",
    "\n",
    "    \"\"\""
   ]
  },
  {
   "cell_type": "code",
   "execution_count": 11,
   "metadata": {
    "jupyter": {
     "source_hidden": true
    }
   },
   "outputs": [],
   "source": [
    "def _parse_scatter_color_args(c, edgecolors, kwargs, xsize,\n",
    "                              get_next_color_func):\n",
    "\n",
    "    facecolors = kwargs.pop('facecolors', None)\n",
    "    facecolors = kwargs.pop('facecolor', facecolors)\n",
    "    edgecolors = kwargs.pop('edgecolor', edgecolors)\n",
    "\n",
    "    kwcolor = kwargs.pop('color', None)\n",
    "\n",
    "    if kwcolor is not None and c is not None:\n",
    "        raise ValueError(\"Supply a 'c' argument or a 'color'\"\n",
    "                         \" kwarg but not both; they differ but\"\n",
    "                         \" their functionalities overlap.\")\n",
    "\n",
    "    if kwcolor is not None:\n",
    "        try:\n",
    "            mcolors.to_rgba_array(kwcolor)\n",
    "        except ValueError as err:\n",
    "            raise ValueError(\n",
    "                \"'color' kwarg must be an color or sequence of color \"\n",
    "                \"specs.  For a sequence of values to be color-mapped, use \"\n",
    "                \"the 'c' argument instead.\") from err\n",
    "        if edgecolors is None:\n",
    "            edgecolors = kwcolor\n",
    "        if facecolors is None:\n",
    "            facecolors = kwcolor\n",
    "\n",
    "    if edgecolors is None and not rcParams['_internal.classic_mode']:\n",
    "        edgecolors = rcParams['scatter.edgecolors']\n",
    "\n",
    "    c_was_none = c is None\n",
    "    if c is None:\n",
    "        c = (facecolors if facecolors is not None\n",
    "             else \"b\" if rcParams['_internal.classic_mode']\n",
    "             else get_next_color_func())\n",
    "    c_is_string_or_strings = (\n",
    "        isinstance(c, str)\n",
    "        or (np.iterable(c) and len(c) > 0\n",
    "            and isinstance(cbook.safe_first_element(c), str)))\n",
    "\n",
    "    def invalid_shape_exception(csize, xsize):\n",
    "        return ValueError(\n",
    "            f\"'c' argument has {csize} elements, which is inconsistent \"\n",
    "            f\"with 'x' and 'y' with size {xsize}.\")\n",
    "\n",
    "    c_is_mapped = False  # Unless proven otherwise below.\n",
    "    valid_shape = True  # Unless proven otherwise below.\n",
    "    if not c_was_none and kwcolor is None and not c_is_string_or_strings:\n",
    "        try:  # First, does 'c' look suitable for value-mapping?\n",
    "            c = np.asanyarray(c, dtype=float)\n",
    "        except ValueError:\n",
    "            pass  # Failed to convert to float array; must be color specs.\n",
    "        else:\n",
    "            # handle the documented special case of a 2D array with 1\n",
    "            # row which as RGB(A) to broadcast.\n",
    "            if c.shape == (1, 4) or c.shape == (1, 3):\n",
    "                c_is_mapped = False\n",
    "                if c.size != xsize:\n",
    "                    valid_shape = False\n",
    "            # If c can be either mapped values or a RGB(A) color, prefer\n",
    "            # the former if shapes match, the latter otherwise.\n",
    "            elif c.size == xsize:\n",
    "                c = c.ravel()\n",
    "                c_is_mapped = True\n",
    "            else:  # Wrong size; it must not be intended for mapping.\n",
    "                if c.shape in ((3,), (4,)):\n",
    "                    _log.warning(\n",
    "                        \"*c* argument looks like a single numeric RGB or \"\n",
    "                        \"RGBA sequence, which should be avoided as value-\"\n",
    "                        \"mapping will have precedence in case its length \"\n",
    "                        \"matches with *x* & *y*.  Please use the *color* \"\n",
    "                        \"keyword-argument or provide a 2-D array \"\n",
    "                        \"with a single row if you intend to specify \"\n",
    "                        \"the same RGB or RGBA value for all points.\")\n",
    "                valid_shape = False\n",
    "    if not c_is_mapped:\n",
    "        try:  # Is 'c' acceptable as PathCollection facecolors?\n",
    "            colors = mcolors.to_rgba_array(c)\n",
    "        except (TypeError, ValueError) as err:\n",
    "            if \"RGBA values should be within 0-1 range\" in str(err):\n",
    "                raise\n",
    "            else:\n",
    "                if not valid_shape:\n",
    "                    raise invalid_shape_exception(c.size, xsize) from err\n",
    "                # Both the mapping *and* the RGBA conversion failed: pretty\n",
    "                # severe failure => one may appreciate a verbose feedback.\n",
    "                raise ValueError(\n",
    "                    f\"'c' argument must be a color, a sequence of colors, \"\n",
    "                    f\"or a sequence of numbers, not {c}\") from err\n",
    "        else:\n",
    "            if len(colors) not in (0, 1, xsize):\n",
    "                # NB: remember that a single color is also acceptable.\n",
    "                # Besides *colors* will be an empty array if c == 'none'.\n",
    "                raise invalid_shape_exception(len(colors), xsize)\n",
    "    else:\n",
    "        colors = None  # use cmap, norm after collection is created\n",
    "    return c, colors, edgecolors"
   ]
  },
  {
   "cell_type": "code",
   "execution_count": 46,
   "metadata": {},
   "outputs": [],
   "source": [
    "c = np.ma.masked_invalid(c)"
   ]
  },
  {
   "cell_type": "code",
   "execution_count": 52,
   "metadata": {},
   "outputs": [],
   "source": [
    "linewidths = None"
   ]
  },
  {
   "cell_type": "code",
   "execution_count": 53,
   "metadata": {},
   "outputs": [],
   "source": [
    "x, y, s, edgecolors, linewidths = _combine_masks(x, y, s, edgecolors, linewidths)"
   ]
  },
  {
   "cell_type": "code",
   "execution_count": 58,
   "metadata": {},
   "outputs": [],
   "source": []
  },
  {
   "cell_type": "code",
   "execution_count": 48,
   "metadata": {},
   "outputs": [],
   "source": [
    "def is_scalar_or_string(val):\n",
    "    \"\"\"Return whether the given object is a scalar or string like.\"\"\"\n",
    "    return isinstance(val, str) or not np.iterable(val)"
   ]
  },
  {
   "cell_type": "code",
   "execution_count": 49,
   "metadata": {},
   "outputs": [],
   "source": [
    "def safe_masked_invalid(x, copy=False):\n",
    "    x = np.array(x, subok=True, copy=copy)\n",
    "    if not x.dtype.isnative:\n",
    "        # Note that the argument to `byteswap` is 'inplace',\n",
    "        # thus if we have already made a copy, do the byteswap in\n",
    "        # place, else make a copy with the byte order swapped.\n",
    "        # Be explicit that we are swapping the byte order of the dtype\n",
    "        x = x.byteswap(copy).newbyteorder('S')\n",
    "\n",
    "    try:\n",
    "        xm = np.ma.masked_invalid(x, copy=False)\n",
    "        xm.shrink_mask()\n",
    "    except TypeError:\n",
    "        return x\n",
    "    return xm"
   ]
  },
  {
   "cell_type": "code",
   "execution_count": 50,
   "metadata": {},
   "outputs": [],
   "source": [
    "def _combine_masks(*args):\n",
    "    \"\"\"\n",
    "    Find all masked and/or non-finite points in a set of arguments,\n",
    "    and return the arguments as masked arrays with a common mask.\n",
    "\n",
    "    Arguments can be in any of 5 categories:\n",
    "\n",
    "    1) 1-D masked arrays\n",
    "    2) 1-D ndarrays\n",
    "    3) ndarrays with more than one dimension\n",
    "    4) other non-string iterables\n",
    "    5) anything else\n",
    "\n",
    "    The first argument must be in one of the first four categories;\n",
    "    any argument with a length differing from that of the first\n",
    "    argument (and hence anything in category 5) then will be\n",
    "    passed through unchanged.\n",
    "\n",
    "    Masks are obtained from all arguments of the correct length\n",
    "    in categories 1, 2, and 4; a point is bad if masked in a masked\n",
    "    array or if it is a nan or inf.  No attempt is made to\n",
    "    extract a mask from categories 2 and 4 if :meth:`np.isfinite`\n",
    "    does not yield a Boolean array.  Category 3 is included to\n",
    "    support RGB or RGBA ndarrays, which are assumed to have only\n",
    "    valid values and which are passed through unchanged.\n",
    "\n",
    "    All input arguments that are not passed unchanged are returned\n",
    "    as masked arrays if any masked points are found, otherwise as\n",
    "    ndarrays.\n",
    "\n",
    "    \"\"\"\n",
    "    if not len(args):\n",
    "        return ()\n",
    "    if is_scalar_or_string(args[0]):\n",
    "        raise ValueError(\"First argument must be a sequence\")\n",
    "    nrecs = len(args[0])\n",
    "    margs = []  # Output args; some may be modified.\n",
    "    seqlist = [False] * len(args)  # Flags: True if output will be masked.\n",
    "    masks = []    # List of masks.\n",
    "    for i, x in enumerate(args):\n",
    "        if is_scalar_or_string(x) or len(x) != nrecs:\n",
    "            margs.append(x)  # Leave it unmodified.\n",
    "        else:\n",
    "            if isinstance(x, np.ma.MaskedArray) and x.ndim > 1:\n",
    "                raise ValueError(\"Masked arrays must be 1-D\")\n",
    "            x = np.asanyarray(x)\n",
    "            if x.ndim == 1:\n",
    "                x = safe_masked_invalid(x)\n",
    "                seqlist[i] = True\n",
    "                if np.ma.is_masked(x):\n",
    "                    masks.append(np.ma.getmaskarray(x))\n",
    "            margs.append(x)  # Possibly modified.\n",
    "    if len(masks):\n",
    "        mask = np.logical_or.reduce(masks)\n",
    "        for i, x in enumerate(margs):\n",
    "            if seqlist[i]:\n",
    "                margs[i] = np.ma.array(x, mask=mask)\n",
    "    return margs"
   ]
  },
  {
   "cell_type": "code",
   "execution_count": null,
   "metadata": {},
   "outputs": [],
   "source": []
  }
 ],
 "metadata": {
  "kernelspec": {
   "display_name": "Python 3",
   "language": "python",
   "name": "python3"
  },
  "language_info": {
   "codemirror_mode": {
    "name": "ipython",
    "version": 3
   },
   "file_extension": ".py",
   "mimetype": "text/x-python",
   "name": "python",
   "nbconvert_exporter": "python",
   "pygments_lexer": "ipython3",
   "version": "3.7.5"
  }
 },
 "nbformat": 4,
 "nbformat_minor": 4
}
