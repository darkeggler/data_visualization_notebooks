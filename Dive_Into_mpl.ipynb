{
 "cells": [
  {
   "cell_type": "markdown",
   "metadata": {},
   "source": [
    "Dive into Axes.plot"
   ]
  },
  {
   "cell_type": "code",
   "execution_count": 10,
   "metadata": {},
   "outputs": [],
   "source": [
    "import matplotlib.pyplot as plt\n",
    "from matplotlib.axes import Axes\n",
    "\n",
    "import numpy as np"
   ]
  },
  {
   "cell_type": "markdown",
   "metadata": {},
   "source": [
    "# Plot方法的环境"
   ]
  },
  {
   "cell_type": "markdown",
   "metadata": {},
   "source": [
    "plot是Axes类的方法："
   ]
  },
  {
   "cell_type": "markdown",
   "metadata": {},
   "source": [
    "```python\n",
    "class Axes(_AxesBase):\n",
    "    \n",
    "class _AxesBase(martist.Artist):\n",
    "    \n",
    "class Artist:\n",
    "    \"\"\"\n",
    "    Abstract base class for objects that render into a FigureCanvas.\n",
    "    在FigureCanvas中渲染的对象的抽象基类\n",
    "    \n",
    "    Typically, all visible elements in a figure are subclasses of Artist.\n",
    "    一般，在图中的所有可见元素都是Artist的子类\n",
    "    \"\"\"\n",
    "```"
   ]
  },
  {
   "cell_type": "markdown",
   "metadata": {},
   "source": [
    "# Plot方法的实现"
   ]
  },
  {
   "cell_type": "markdown",
   "metadata": {},
   "source": [
    "```python\n",
    "#### Basic plotting\n",
    "\n",
    "# Uses a custom implementation of data-kwarg handling in\n",
    "# _process_plot_var_args.\n",
    "@docstring.dedent_interpd\n",
    "def plot(self, *args, scalex=True, scaley=True, data=None, **kwargs):\n",
    "    kwargs = cbook.normalize_kwargs(kwargs, mlines.Line2D)\n",
    "    lines = [*self._get_lines(*args, data=data, **kwargs)]\n",
    "    for line in lines:\n",
    "        self.add_line(line)\n",
    "    self._request_autoscale_view(scalex=scalex, scaley=scaley)\n",
    "    return lines\n",
    "```"
   ]
  },
  {
   "cell_type": "markdown",
   "metadata": {},
   "source": [
    "方法的核心语句是：\n",
    "```\n",
    "lines = [*self._get_lines(*args, data=data, **kwargs)]\n",
    "for line in lines:\n",
    "    self.add_line(line)\n",
    "```\n",
    "实现将Line2D实例加入Axes.lines属性"
   ]
  },
  {
   "cell_type": "markdown",
   "metadata": {},
   "source": [
    "## 1. _get_lines属性"
   ]
  },
  {
   "cell_type": "markdown",
   "metadata": {},
   "source": [
    "_get_lines属性是在_AxesBase类的cla方法中定义的\n",
    "```python\n",
    "class _AxesBase(martist.Artist):\n",
    "    def cla(self):\n",
    "        self._get_lines = _process_plot_var_args(self)\n",
    "```"
   ]
  },
  {
   "cell_type": "code",
   "execution_count": 4,
   "metadata": {},
   "outputs": [
    {
     "ename": "AttributeError",
     "evalue": "type object 'Axes' has no attribute '_get_lines'",
     "output_type": "error",
     "traceback": [
      "\u001b[1;31m---------------------------------------------------------------------------\u001b[0m",
      "\u001b[1;31mAttributeError\u001b[0m                            Traceback (most recent call last)",
      "\u001b[1;32m<ipython-input-4-763b5854c40d>\u001b[0m in \u001b[0;36m<module>\u001b[1;34m\u001b[0m\n\u001b[1;32m----> 1\u001b[1;33m \u001b[0mhelp\u001b[0m\u001b[1;33m(\u001b[0m\u001b[0mAxes\u001b[0m\u001b[1;33m.\u001b[0m\u001b[0m_get_lines\u001b[0m\u001b[1;33m)\u001b[0m\u001b[1;33m\u001b[0m\u001b[1;33m\u001b[0m\u001b[0m\n\u001b[0m",
      "\u001b[1;31mAttributeError\u001b[0m: type object 'Axes' has no attribute '_get_lines'"
     ]
    }
   ],
   "source": [
    "help(Axes._get_lines)"
   ]
  },
  {
   "cell_type": "code",
   "execution_count": 11,
   "metadata": {},
   "outputs": [
    {
     "data": {
      "image/png": "[encoded data removed]",
      "text/plain": [
       "<Figure size 432x288 with 1 Axes>"
      ]
     },
     "metadata": {
      "needs_background": "light"
     },
     "output_type": "display_data"
    }
   ],
   "source": [
    "fig, ax = plt.subplots()"
   ]
  },
  {
   "cell_type": "code",
   "execution_count": 6,
   "metadata": {},
   "outputs": [
    {
     "data": {
      "text/plain": [
       "\u001b[1;31mSignature:\u001b[0m   \u001b[0max\u001b[0m\u001b[1;33m.\u001b[0m\u001b[0m_get_lines\u001b[0m\u001b[1;33m(\u001b[0m\u001b[1;33m*\u001b[0m\u001b[0margs\u001b[0m\u001b[1;33m,\u001b[0m \u001b[1;33m**\u001b[0m\u001b[0mkwargs\u001b[0m\u001b[1;33m)\u001b[0m\u001b[1;33m\u001b[0m\u001b[1;33m\u001b[0m\u001b[0m\n",
       "\u001b[1;31mType:\u001b[0m        _process_plot_var_args\n",
       "\u001b[1;31mString form:\u001b[0m <matplotlib.axes._base._process_plot_var_args object at 0x000001C7CE1A6D88>\n",
       "\u001b[1;31mFile:\u001b[0m        c:\\users\\gu\\appdata\\local\\programs\\python\\python37\\lib\\site-packages\\matplotlib\\axes\\_base.py\n",
       "\u001b[1;31mDocstring:\u001b[0m  \n",
       "Process variable length arguments to the plot command, so that\n",
       "plot commands like the following are supported::\n",
       "\n",
       "  plot(t, s)\n",
       "  plot(t1, s1, t2, s2)\n",
       "  plot(t1, s1, 'ko', t2, s2)\n",
       "  plot(t1, s1, 'ko', t2, s2, 'r--', t3, e3)\n",
       "\n",
       "an arbitrary number of *x*, *y*, *fmt* are allowed\n"
      ]
     },
     "metadata": {},
     "output_type": "display_data"
    }
   ],
   "source": [
    "ax._get_lines?"
   ]
  },
  {
   "cell_type": "markdown",
   "metadata": {},
   "source": [
    "## 1.1. class _process_plot_var_args"
   ]
  },
  {
   "cell_type": "markdown",
   "metadata": {},
   "source": [
    "```python\n",
    "class _process_plot_var_args:\n",
    "    \"\"\"\n",
    "    Process variable length arguments to the plot command, so that\n",
    "    plot commands like the following are supported::\n",
    "\n",
    "      plot(t, s)\n",
    "      plot(t1, s1, t2, s2)\n",
    "      plot(t1, s1, 'ko', t2, s2)\n",
    "      plot(t1, s1, 'ko', t2, s2, 'r--', t3, e3)\n",
    "\n",
    "    an arbitrary number of *x*, *y*, *fmt* are allowed\n",
    "    \"\"\"\n",
    "    def __init__(self, axes, command='plot'):\n",
    "        self.axes = axes\n",
    "        self.command = command\n",
    "        self.set_prop_cycle()\n",
    "```"
   ]
  },
  {
   "cell_type": "markdown",
   "metadata": {},
   "source": [
    "\\_process_plot_var_args类是为了处理plot命令的可变长度参数。"
   ]
  },
  {
   "cell_type": "markdown",
   "metadata": {},
   "source": [
    "### 1.1.1. \\_process_plot_var_args.\\_\\_call\\_\\_(self, *args, **kwargs)"
   ]
  },
  {
   "cell_type": "markdown",
   "metadata": {
    "jupyter": {
     "source_hidden": true
    }
   },
   "source": [
    "```python\n",
    "def __call__(self, *args, **kwargs):\n",
    "    self.axes._process_unit_info(kwargs=kwargs)\n",
    "\n",
    "    for pos_only in \"xy\":\n",
    "        if pos_only in kwargs:\n",
    "            raise TypeError(\"{} got an unexpected keyword argument {!r}\"\n",
    "                            .format(self.command, pos_only))\n",
    "\n",
    "    if not args:\n",
    "        return\n",
    "\n",
    "    # Process the 'data' kwarg.\n",
    "    data = kwargs.pop(\"data\", None)\n",
    "    if data is not None:\n",
    "        replaced = [mpl._replacer(data, arg) for arg in args]\n",
    "        if len(args) == 1:\n",
    "            label_namer_idx = 0\n",
    "        elif len(args) == 2:  # Can be x, y or y, c.\n",
    "            # Figure out what the second argument is.\n",
    "            # 1) If the second argument cannot be a format shorthand, the\n",
    "            #    second argument is the label_namer.\n",
    "            # 2) Otherwise (it could have been a format shorthand),\n",
    "            #    a) if we did perform a substitution, emit a warning, and\n",
    "            #       use it as label_namer.\n",
    "            #    b) otherwise, it is indeed a format shorthand; use the\n",
    "            #       first argument as label_namer.\n",
    "            try:\n",
    "                _process_plot_format(args[1])\n",
    "            except ValueError:  # case 1)\n",
    "                label_namer_idx = 1\n",
    "            else:\n",
    "                if replaced[1] is not args[1]:  # case 2a)\n",
    "                    cbook._warn_external(\n",
    "                        f\"Second argument {args[1]!r} is ambiguous: could \"\n",
    "                        f\"be a format string but is in 'data'; using as \"\n",
    "                        f\"data.  If it was intended as data, set the \"\n",
    "                        f\"format string to an empty string to suppress \"\n",
    "                        f\"this warning.  If it was intended as a format \"\n",
    "                        f\"string, explicitly pass the x-values as well.  \"\n",
    "                        f\"Alternatively, rename the entry in 'data'.\",\n",
    "                        RuntimeWarning)\n",
    "                    label_namer_idx = 1\n",
    "                else:  # case 2b)\n",
    "                    label_namer_idx = 0\n",
    "        elif len(args) == 3:\n",
    "            label_namer_idx = 1\n",
    "        else:\n",
    "            raise ValueError(\n",
    "                \"Using arbitrary long args with data is not supported due \"\n",
    "                \"to ambiguity of arguments; use multiple plotting calls \"\n",
    "                \"instead\")\n",
    "        if kwargs.get(\"label\") is None:\n",
    "            kwargs[\"label\"] = mpl._label_from_arg(\n",
    "                replaced[label_namer_idx], args[label_namer_idx])\n",
    "        args = replaced\n",
    "\n",
    "    # Repeatedly grab (x, y) or (x, y, format) from the front of args and\n",
    "    # massage them into arguments to plot() or fill().\n",
    "    while args:\n",
    "        this, args = args[:2], args[2:]\n",
    "        if args and isinstance(args[0], str):\n",
    "            this += args[0],\n",
    "            args = args[1:]\n",
    "        yield from self._plot_args(this, kwargs)\n",
    "```"
   ]
  },
  {
   "cell_type": "markdown",
   "metadata": {},
   "source": [
    "为了简化__call__方法，我们删除以下代码：\n",
    "1. 处理data关键字参数相关部分\n",
    "2. 健壮性相关部分\n",
    "3. self.axes._process_unit_info(kwargs=kwargs)"
   ]
  },
  {
   "cell_type": "markdown",
   "metadata": {},
   "source": [
    "```python\n",
    "def __call__(self, *args, **kwargs):\n",
    "    # Repeatedly grab (x, y) or (x, y, format) from the front of args and\n",
    "    # massage them into arguments to plot() or fill().\n",
    "    while args:\n",
    "        this, args = args[:2], args[2:]\n",
    "        if args and isinstance(args[0], str):\n",
    "            this += args[0],\n",
    "            args = args[1:]\n",
    "        yield from self._plot_args(this, kwargs)\n",
    "```"
   ]
  },
  {
   "cell_type": "markdown",
   "metadata": {},
   "source": [
    "我们定义一个简单的函数来模拟plot"
   ]
  },
  {
   "cell_type": "code",
   "execution_count": 20,
   "metadata": {},
   "outputs": [],
   "source": [
    "def plot_args(tup, kwargs):\n",
    "    return len(tup)"
   ]
  },
  {
   "cell_type": "code",
   "execution_count": 21,
   "metadata": {},
   "outputs": [],
   "source": [
    "def simplot(*args, **kwargs):\n",
    "    # lines = [*self._get_lines(*args, data=data, **kwargs)]\n",
    "    lines = []\n",
    "    while args:\n",
    "        this, args = args[:2], args[2:]\n",
    "        if args and isinstance(args[0], str):\n",
    "            this += args[0],\n",
    "            args = args[1:]\n",
    "            lines.append(plot_args(this, kwargs))\n",
    "    return lines"
   ]
  },
  {
   "cell_type": "code",
   "execution_count": 22,
   "metadata": {},
   "outputs": [
    {
     "data": {
      "text/plain": [
       "[3, 3, 3]"
      ]
     },
     "execution_count": 22,
     "metadata": {},
     "output_type": "execute_result"
    }
   ],
   "source": [
    "t = np.arange(0.0, 2.0, 0.05)\n",
    "simplot(t, t, 'r--', t, t**2, 'bs', t, t**3, 'g^')"
   ]
  },
  {
   "cell_type": "markdown",
   "metadata": {},
   "source": [
    "### 1.1.1.1. \\_process_plot_var_args.\\_plot\\_args(self, tup, kwargs)"
   ]
  },
  {
   "cell_type": "markdown",
   "metadata": {},
   "source": [
    "```python\n",
    "def _plot_args(self, tup, kwargs):\n",
    "    if len(tup) > 1 and isinstance(tup[-1], str):\n",
    "        linestyle, marker, color = _process_plot_format(tup[-1])\n",
    "        tup = tup[:-1]\n",
    "    elif len(tup) == 3:\n",
    "        raise ValueError('third arg must be a format string')\n",
    "    else:\n",
    "        linestyle, marker, color = None, None, None\n",
    "\n",
    "    # Don't allow any None value; these would be up-converted to one\n",
    "    # element array of None which causes problems downstream.\n",
    "    if any(v is None for v in tup):\n",
    "        raise ValueError(\"x, y, and format string must not be None\")\n",
    "\n",
    "    kw = {}\n",
    "    for k, v in zip(('linestyle', 'marker', 'color'),\n",
    "                    (linestyle, marker, color)):\n",
    "        if v is not None:\n",
    "            kw[k] = v\n",
    "\n",
    "    if len(tup) == 2:\n",
    "        x = _check_1d(tup[0])\n",
    "        y = _check_1d(tup[-1])\n",
    "    else:\n",
    "        x, y = index_of(tup[-1])\n",
    "\n",
    "    if self.axes.xaxis is not None:\n",
    "        self.axes.xaxis.update_units(x)\n",
    "    if self.axes.yaxis is not None:\n",
    "        self.axes.yaxis.update_units(y)\n",
    "\n",
    "    if x.shape[0] != y.shape[0]:\n",
    "        raise ValueError(f\"x and y must have same first dimension, but \"\n",
    "                         f\"have shapes {x.shape} and {y.shape}\")\n",
    "    if x.ndim > 2 or y.ndim > 2:\n",
    "        raise ValueError(f\"x and y can be no greater than 2-D, but have \"\n",
    "                         f\"shapes {x.shape} and {y.shape}\")\n",
    "    if x.ndim == 1:\n",
    "        x = x[:, np.newaxis]\n",
    "    if y.ndim == 1:\n",
    "        y = y[:, np.newaxis]\n",
    "\n",
    "    if self.command == 'plot':\n",
    "        func = self._makeline\n",
    "    else:\n",
    "        kw['closed'] = kwargs.get('closed', True)\n",
    "        func = self._makefill\n",
    "\n",
    "    ncx, ncy = x.shape[1], y.shape[1]\n",
    "    if ncx > 1 and ncy > 1 and ncx != ncy:\n",
    "        cbook.warn_deprecated(\n",
    "            \"2.2\", message=\"cycling among columns of inputs with \"\n",
    "            \"non-matching shapes is deprecated.\")\n",
    "    return [func(x[:, j % ncx], y[:, j % ncy], kw, kwargs)\n",
    "            for j in range(max(ncx, ncy))]\n",
    "\n",
    "```"
   ]
  },
  {
   "cell_type": "markdown",
   "metadata": {},
   "source": [
    "为了简化_plot_args方法，我们删除了健壮性相关部分"
   ]
  },
  {
   "cell_type": "markdown",
   "metadata": {},
   "source": [
    "```python\n",
    "def _plot_args(self, tup, kwargs):\n",
    "\n",
    "    if len(tup) > 1 and isinstance(tup[-1], str):\n",
    "        linestyle, marker, color = _process_plot_format(tup[-1])\n",
    "        tup = tup[:-1]\n",
    "    elif len(tup) == 3:\n",
    "        raise ValueError('third arg must be a format string')\n",
    "    else:\n",
    "        linestyle, marker, color = None, None, None\n",
    "        \n",
    "    if len(tup) == 2:\n",
    "        x = _check_1d(tup[0])\n",
    "        y = _check_1d(tup[-1])\n",
    "    else:\n",
    "        x, y = index_of(tup[-1])\n",
    "\n",
    "    if self.axes.xaxis is not None:\n",
    "        self.axes.xaxis.update_units(x)\n",
    "    if self.axes.yaxis is not None:\n",
    "        self.axes.yaxis.update_units(y)\n",
    "\n",
    "    if x.ndim == 1:\n",
    "        x = x[:, np.newaxis]\n",
    "    if y.ndim == 1:\n",
    "        y = y[:, np.newaxis]\n",
    "\n",
    "    if self.command == 'plot':\n",
    "        func = self._makeline\n",
    "    else:\n",
    "        kw['closed'] = kwargs.get('closed', True)\n",
    "        func = self._makefill\n",
    "\n",
    "    ncx, ncy = x.shape[1], y.shape[1]\n",
    "    return [func(x[:, j % ncx], y[:, j % ncy], kw, kwargs)\n",
    "            for j in range(max(ncx, ncy))]\n",
    "\n",
    "```"
   ]
  },
  {
   "cell_type": "markdown",
   "metadata": {},
   "source": [
    "1. 处理fmt参数，tup = tup[:-1]\n",
    "2. 如果tup包含(x,y)两个元素 _check_1d分别效验；如果tup只包含一个元素，index_of补全(x,y)两个元素\n",
    "3. update_units\n",
    "4. 选择绘制方法，'plot'对应_makeline （class _process_plot_var_args 的 command属性不值在什么情况下会改变？）\n",
    "5. 处理多维x,y数据\n",
    "6. 调用_makeline"
   ]
  },
  {
   "cell_type": "markdown",
   "metadata": {},
   "source": [
    "### 1.1.1.1.1 \\_process_plot_var_args.\\_makeline(self, x, y, kw, kwargs)"
   ]
  },
  {
   "cell_type": "markdown",
   "metadata": {},
   "source": [
    "```python\n",
    "def _makeline(self, x, y, kw, kwargs):\n",
    "    kw = {**kw, **kwargs}  # Don't modify the original kw.\n",
    "    default_dict = self._getdefaults(set(), kw)\n",
    "    self._setdefaults(default_dict, kw)\n",
    "    seg = mlines.Line2D(x, y, **kw)\n",
    "    return seg\n",
    "```"
   ]
  },
  {
   "cell_type": "markdown",
   "metadata": {},
   "source": [
    "现在我们把前面自定义的simplot函数补充完善"
   ]
  },
  {
   "cell_type": "markdown",
   "metadata": {},
   "source": [
    "**_process_plot_format(fmt)**"
   ]
  },
  {
   "cell_type": "code",
   "execution_count": 6,
   "metadata": {},
   "outputs": [],
   "source": [
    "import matplotlib.colors as mcolors\n",
    "import matplotlib.lines as mlines\n",
    "\n",
    "def _process_plot_format(fmt):\n",
    "    \"\"\"\n",
    "    Convert a MATLAB style color/line style format string to a (*linestyle*,\n",
    "    *marker*, *color*) tuple.\n",
    "\n",
    "    Example format strings include:\n",
    "\n",
    "    * 'ko': black circles\n",
    "    * '.b': blue dots\n",
    "    * 'r--': red dashed lines\n",
    "    * 'C2--': the third color in the color cycle, dashed lines\n",
    "\n",
    "    See Also\n",
    "    --------\n",
    "    matplotlib.Line2D.lineStyles, matplotlib.colors.cnames\n",
    "        All possible styles and color format strings.\n",
    "    \"\"\"\n",
    "\n",
    "    linestyle = None\n",
    "    marker = None\n",
    "    color = None\n",
    "\n",
    "    # Is fmt just a colorspec?\n",
    "    try:\n",
    "        color = mcolors.to_rgba(fmt)\n",
    "\n",
    "        # We need to differentiate grayscale '1.0' from tri_down marker '1'\n",
    "        try:\n",
    "            fmtint = str(int(fmt))\n",
    "        except ValueError:\n",
    "            return linestyle, marker, color  # Yes\n",
    "        else:\n",
    "            if fmt != fmtint:\n",
    "                # user definitely doesn't want tri_down marker\n",
    "                return linestyle, marker, color  # Yes\n",
    "            else:\n",
    "                # ignore converted color\n",
    "                color = None\n",
    "    except ValueError:\n",
    "        pass  # No, not just a color.\n",
    "\n",
    "    i = 0\n",
    "    while i < len(fmt):\n",
    "        c = fmt[i]\n",
    "        if fmt[i:i+2] in mlines.lineStyles:  # First, the two-char styles.\n",
    "            if linestyle is not None:\n",
    "                raise ValueError(\n",
    "                    'Illegal format string \"%s\"; two linestyle symbols' % fmt)\n",
    "            linestyle = fmt[i:i+2]\n",
    "            i += 2\n",
    "        elif c in mlines.lineStyles:\n",
    "            if linestyle is not None:\n",
    "                raise ValueError(\n",
    "                    'Illegal format string \"%s\"; two linestyle symbols' % fmt)\n",
    "            linestyle = c\n",
    "            i += 1\n",
    "        elif c in mlines.lineMarkers:\n",
    "            if marker is not None:\n",
    "                raise ValueError(\n",
    "                    'Illegal format string \"%s\"; two marker symbols' % fmt)\n",
    "            marker = c\n",
    "            i += 1\n",
    "        elif c in mcolors.get_named_colors_mapping():\n",
    "            if color is not None:\n",
    "                raise ValueError(\n",
    "                    'Illegal format string \"%s\"; two color symbols' % fmt)\n",
    "            color = c\n",
    "            i += 1\n",
    "        elif c == 'C' and i < len(fmt) - 1:\n",
    "            color_cycle_number = int(fmt[i + 1])\n",
    "            color = mcolors.to_rgba(\"C{}\".format(color_cycle_number))\n",
    "            i += 2\n",
    "        else:\n",
    "            raise ValueError(\n",
    "                'Unrecognized character %c in format string' % c)\n",
    "\n",
    "    if linestyle is None and marker is None:\n",
    "        linestyle = mpl.rcParams['lines.linestyle']\n",
    "    if linestyle is None:\n",
    "        linestyle = 'None'\n",
    "    if marker is None:\n",
    "        marker = 'None'\n",
    "\n",
    "    return linestyle, marker, color"
   ]
  },
  {
   "cell_type": "markdown",
   "metadata": {},
   "source": [
    "**_check_1d(x)**"
   ]
  },
  {
   "cell_type": "code",
   "execution_count": 20,
   "metadata": {},
   "outputs": [],
   "source": [
    "import warnings\n",
    "\n",
    "def _check_1d(x):\n",
    "    \"\"\"Convert scalars to 1d arrays; pass-through arrays as is.\"\"\"\n",
    "    if not hasattr(x, 'shape') or len(x.shape) < 1:\n",
    "        return np.atleast_1d(x)\n",
    "    else:\n",
    "        try:\n",
    "            # work around\n",
    "            # https://github.com/pandas-dev/pandas/issues/27775 which\n",
    "            # means the shape of multi-dimensional slicing is not as\n",
    "            # expected.  That this ever worked was an unintentional\n",
    "            # quirk of pandas and will raise an exception in the\n",
    "            # future.  This slicing warns in pandas >= 1.0rc0 via\n",
    "            # https://github.com/pandas-dev/pandas/pull/30588\n",
    "            #\n",
    "            # < 1.0rc0 : x[:, None].ndim == 1, no warning, custom type\n",
    "            # >= 1.0rc1 : x[:, None].ndim == 2, warns, numpy array\n",
    "            # future : x[:, None] -> raises\n",
    "            #\n",
    "            # This code should correctly identify and coerce to a\n",
    "            # numpy array all pandas versions.\n",
    "            with warnings.catch_warnings(record=True) as w:\n",
    "                warnings.filterwarnings(\n",
    "                    \"always\",\n",
    "                    category=DeprecationWarning,\n",
    "                    message='Support for multi-dimensional indexing')\n",
    "\n",
    "                ndim = x[:, None].ndim\n",
    "                # we have definitely hit a pandas index or series object\n",
    "                # cast to a numpy array.\n",
    "                if len(w) > 0:\n",
    "                    return np.asanyarray(x)\n",
    "            # We have likely hit a pandas object, or at least\n",
    "            # something where 2D slicing does not result in a 2D\n",
    "            # object.\n",
    "            if ndim < 2:\n",
    "                return np.atleast_1d(x)\n",
    "            return x\n",
    "        except (IndexError, TypeError):\n",
    "            return np.atleast_1d(x)"
   ]
  },
  {
   "cell_type": "code",
   "execution_count": 33,
   "metadata": {},
   "outputs": [],
   "source": [
    "def simplot(ax, *args, **kwargs):\n",
    "    # lines = [*self._get_lines(*args, data=data, **kwargs)]\n",
    "    lines = []\n",
    "    while args:\n",
    "        this, args = args[:2], args[2:]\n",
    "        if args and isinstance(args[0], str):\n",
    "            this += args[0],\n",
    "            args = args[1:]\n",
    "            lines.append(plot_args(ax, this, kwargs))\n",
    "    for line in lines:\n",
    "        ax.add_line(line[0])\n",
    "        \n",
    "    return lines"
   ]
  },
  {
   "cell_type": "code",
   "execution_count": 23,
   "metadata": {},
   "outputs": [],
   "source": [
    "def plot_args(ax, tup, kwargs):\n",
    "    if len(tup) > 1 and isinstance(tup[-1], str):\n",
    "        linestyle, marker, color = _process_plot_format(tup[-1])\n",
    "        tup = tup[:-1]\n",
    "    elif len(tup) == 3:\n",
    "        raise ValueError('third arg must be a format string')\n",
    "    else:\n",
    "        linestyle, marker, color = None, None, None\n",
    "\n",
    "    if any(v is None for v in tup):\n",
    "        raise ValueError(\"x, y, and format string must not be None\")\n",
    "\n",
    "    kw = {}\n",
    "    for k, v in zip(('linestyle', 'marker', 'color'),\n",
    "                    (linestyle, marker, color)):\n",
    "        if v is not None:\n",
    "            kw[k] = v\n",
    "            \n",
    "    if len(tup) == 2:\n",
    "        x = _check_1d(tup[0])\n",
    "        y = _check_1d(tup[-1])\n",
    "    else:\n",
    "        x, y = index_of(tup[-1])\n",
    "\n",
    "    if ax.axes.xaxis is not None:\n",
    "        ax.axes.xaxis.update_units(x)\n",
    "    if ax.axes.yaxis is not None:\n",
    "        ax.axes.yaxis.update_units(y)\n",
    "\n",
    "    if x.ndim == 1:\n",
    "        x = x[:, np.newaxis]\n",
    "    if y.ndim == 1:\n",
    "        y = y[:, np.newaxis]\n",
    "\n",
    "    ncx, ncy = x.shape[1], y.shape[1]\n",
    "    return [func(x[:, j % ncx], y[:, j % ncy], kw, kwargs)\n",
    "            for j in range(max(ncx, ncy))]"
   ]
  },
  {
   "cell_type": "code",
   "execution_count": 8,
   "metadata": {},
   "outputs": [],
   "source": [
    "def func(x, y, kw, kwargs):\n",
    "    kw = {**kw, **kwargs}  # Don't modify the original kw.\n",
    "    seg = mlines.Line2D(x, y, **kw)\n",
    "    return seg"
   ]
  },
  {
   "cell_type": "code",
   "execution_count": 34,
   "metadata": {},
   "outputs": [],
   "source": [
    "t = np.arange(0.0, 2.0, 0.05)\n",
    "lines = simplot(ax, t, t, 'r--', t, t**2, 'bs', t, t**3, 'g^')"
   ]
  },
  {
   "cell_type": "code",
   "execution_count": 35,
   "metadata": {},
   "outputs": [
    {
     "data": {
      "image/png": "[encoded data removed]",
      "text/plain": [
       "<Figure size 432x288 with 1 Axes>"
      ]
     },
     "execution_count": 35,
     "metadata": {},
     "output_type": "execute_result"
    }
   ],
   "source": [
    "fig"
   ]
  },
  {
   "cell_type": "code",
   "execution_count": null,
   "metadata": {},
   "outputs": [],
   "source": []
  },
  {
   "cell_type": "code",
   "execution_count": null,
   "metadata": {},
   "outputs": [],
   "source": []
  },
  {
   "cell_type": "code",
   "execution_count": null,
   "metadata": {},
   "outputs": [],
   "source": []
  },
  {
   "cell_type": "code",
   "execution_count": null,
   "metadata": {},
   "outputs": [],
   "source": []
  },
  {
   "cell_type": "markdown",
   "metadata": {},
   "source": [
    "**deep**\n",
    "\n",
    "1. _process_plot_var_args.__call__(self, *args, **kwargs)\n",
    "2. _process_plot_var_args._plot_args(self, tup, kwargs)"
   ]
  },
  {
   "cell_type": "markdown",
   "metadata": {},
   "source": [
    "### class _process_plot_var_args(object):"
   ]
  },
  {
   "cell_type": "markdown",
   "metadata": {},
   "source": [
    "```python\n",
    "    def _xy_from_xy(self, x, y):\n",
    "        if self.axes.xaxis is not None and self.axes.yaxis is not None:\n",
    "            bx = self.axes.xaxis.update_units(x)\n",
    "            by = self.axes.yaxis.update_units(y)\n",
    "\n",
    "            if self.command != 'plot':\n",
    "                # the Line2D class can handle unitized data, with\n",
    "                # support for post hoc unit changes etc.  Other mpl\n",
    "                # artists, e.g., Polygon which _process_plot_var_args\n",
    "                # also serves on calls to fill, cannot.  So this is a\n",
    "                # hack to say: if you are not \"plot\", which is\n",
    "                # creating Line2D, then convert the data now to\n",
    "                # floats.  If you are plot, pass the raw data through\n",
    "                # to Line2D which will handle the conversion.  So\n",
    "                # polygons will not support post hoc conversions of\n",
    "                # the unit type since they are not storing the orig\n",
    "                # data.  Hopefully we can rationalize this at a later\n",
    "                # date - JDH\n",
    "                if bx:\n",
    "                    x = self.axes.convert_xunits(x)\n",
    "                if by:\n",
    "                    y = self.axes.convert_yunits(y)\n",
    "\n",
    "        # like asanyarray, but converts scalar to array, and doesn't change\n",
    "        # existing compatible sequences\n",
    "        x = _check_1d(x)\n",
    "        y = _check_1d(y)\n",
    "        if x.shape[0] != y.shape[0]:\n",
    "            raise ValueError(\"x and y must have same first dimension, but \"\n",
    "                             \"have shapes {} and {}\".format(x.shape, y.shape))\n",
    "        if x.ndim > 2 or y.ndim > 2:\n",
    "            raise ValueError(\"x and y can be no greater than 2-D, but have \"\n",
    "                             \"shapes {} and {}\".format(x.shape, y.shape))\n",
    "\n",
    "        if x.ndim == 1:\n",
    "            x = x[:, np.newaxis]\n",
    "        if y.ndim == 1:\n",
    "            y = y[:, np.newaxis]\n",
    "        return x, y\n",
    "```"
   ]
  }
 ],
 "metadata": {
  "kernelspec": {
   "display_name": "Python 3",
   "language": "python",
   "name": "python3"
  },
  "language_info": {
   "codemirror_mode": {
    "name": "ipython",
    "version": 3
   },
   "file_extension": ".py",
   "mimetype": "text/x-python",
   "name": "python",
   "nbconvert_exporter": "python",
   "pygments_lexer": "ipython3",
   "version": "3.7.5"
  }
 },
 "nbformat": 4,
 "nbformat_minor": 4
}
