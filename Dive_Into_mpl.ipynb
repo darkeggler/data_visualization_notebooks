{
 "cells": [
  {
   "cell_type": "markdown",
   "metadata": {},
   "source": [
    "Dive into Axes.plot"
   ]
  },
  {
   "cell_type": "code",
   "execution_count": 1,
   "metadata": {},
   "outputs": [],
   "source": [
    "import matplotlib.pyplot as plt\n",
    "from matplotlib.axes import Axes\n",
    "\n",
    "import numpy as np"
   ]
  },
  {
   "cell_type": "markdown",
   "metadata": {},
   "source": [
    "# Plot方法的环境"
   ]
  },
  {
   "cell_type": "markdown",
   "metadata": {},
   "source": [
    "plot是Axes类的方法："
   ]
  },
  {
   "cell_type": "markdown",
   "metadata": {},
   "source": [
    "```python\n",
    "class Axes(_AxesBase):\n",
    "    \n",
    "class _AxesBase(martist.Artist):\n",
    "    \n",
    "class Artist:\n",
    "    \"\"\"\n",
    "    Abstract base class for objects that render into a FigureCanvas.\n",
    "    在FigureCanvas中渲染的对象的抽象基类\n",
    "    \n",
    "    Typically, all visible elements in a figure are subclasses of Artist.\n",
    "    一般，在图中的所有可见元素都是Artist的子类\n",
    "    \"\"\"\n",
    "```"
   ]
  },
  {
   "cell_type": "markdown",
   "metadata": {},
   "source": [
    "# Plot方法的实现"
   ]
  },
  {
   "cell_type": "markdown",
   "metadata": {},
   "source": [
    "```python\n",
    "#### Basic plotting\n",
    "\n",
    "# Uses a custom implementation of data-kwarg handling in\n",
    "# _process_plot_var_args.\n",
    "@docstring.dedent_interpd\n",
    "def plot(self, *args, scalex=True, scaley=True, data=None, **kwargs):\n",
    "    kwargs = cbook.normalize_kwargs(kwargs, mlines.Line2D)\n",
    "    lines = [*self._get_lines(*args, data=data, **kwargs)]\n",
    "    for line in lines:\n",
    "        self.add_line(line)\n",
    "    self._request_autoscale_view(scalex=scalex, scaley=scaley)\n",
    "    return lines\n",
    "```"
   ]
  },
  {
   "cell_type": "markdown",
   "metadata": {},
   "source": [
    "方法的核心语句是：\n",
    "```\n",
    "lines = [*self._get_lines(*args, data=data, **kwargs)]\n",
    "for line in lines:\n",
    "    self.add_line(line)\n",
    "```\n",
    "实现将Line2D实例加入Axes.lines属性"
   ]
  },
  {
   "cell_type": "markdown",
   "metadata": {},
   "source": [
    "## 1. _get_lines属性"
   ]
  },
  {
   "cell_type": "markdown",
   "metadata": {},
   "source": [
    "_get_lines属性是在_AxesBase类的cla方法中定义的\n",
    "```python\n",
    "class _AxesBase(martist.Artist):\n",
    "    def cla(self):\n",
    "        self._get_lines = _process_plot_var_args(self)\n",
    "```"
   ]
  },
  {
   "cell_type": "code",
   "execution_count": 4,
   "metadata": {},
   "outputs": [
    {
     "ename": "AttributeError",
     "evalue": "type object 'Axes' has no attribute '_get_lines'",
     "output_type": "error",
     "traceback": [
      "\u001b[1;31m---------------------------------------------------------------------------\u001b[0m",
      "\u001b[1;31mAttributeError\u001b[0m                            Traceback (most recent call last)",
      "\u001b[1;32m<ipython-input-4-763b5854c40d>\u001b[0m in \u001b[0;36m<module>\u001b[1;34m\u001b[0m\n\u001b[1;32m----> 1\u001b[1;33m \u001b[0mhelp\u001b[0m\u001b[1;33m(\u001b[0m\u001b[0mAxes\u001b[0m\u001b[1;33m.\u001b[0m\u001b[0m_get_lines\u001b[0m\u001b[1;33m)\u001b[0m\u001b[1;33m\u001b[0m\u001b[1;33m\u001b[0m\u001b[0m\n\u001b[0m",
      "\u001b[1;31mAttributeError\u001b[0m: type object 'Axes' has no attribute '_get_lines'"
     ]
    }
   ],
   "source": [
    "help(Axes._get_lines)"
   ]
  },
  {
   "cell_type": "code",
   "execution_count": 5,
   "metadata": {},
   "outputs": [
    {
     "data": {
      "image/png": "[encoded data removed]",
      "text/plain": [
       "<Figure size 432x288 with 1 Axes>"
      ]
     },
     "metadata": {
      "needs_background": "light"
     },
     "output_type": "display_data"
    }
   ],
   "source": [
    "fig, ax = plt.subplots()"
   ]
  },
  {
   "cell_type": "code",
   "execution_count": 6,
   "metadata": {},
   "outputs": [
    {
     "data": {
      "text/plain": [
       "\u001b[1;31mSignature:\u001b[0m   \u001b[0max\u001b[0m\u001b[1;33m.\u001b[0m\u001b[0m_get_lines\u001b[0m\u001b[1;33m(\u001b[0m\u001b[1;33m*\u001b[0m\u001b[0margs\u001b[0m\u001b[1;33m,\u001b[0m \u001b[1;33m**\u001b[0m\u001b[0mkwargs\u001b[0m\u001b[1;33m)\u001b[0m\u001b[1;33m\u001b[0m\u001b[1;33m\u001b[0m\u001b[0m\n",
       "\u001b[1;31mType:\u001b[0m        _process_plot_var_args\n",
       "\u001b[1;31mString form:\u001b[0m <matplotlib.axes._base._process_plot_var_args object at 0x000001C7CE1A6D88>\n",
       "\u001b[1;31mFile:\u001b[0m        c:\\users\\gu\\appdata\\local\\programs\\python\\python37\\lib\\site-packages\\matplotlib\\axes\\_base.py\n",
       "\u001b[1;31mDocstring:\u001b[0m  \n",
       "Process variable length arguments to the plot command, so that\n",
       "plot commands like the following are supported::\n",
       "\n",
       "  plot(t, s)\n",
       "  plot(t1, s1, t2, s2)\n",
       "  plot(t1, s1, 'ko', t2, s2)\n",
       "  plot(t1, s1, 'ko', t2, s2, 'r--', t3, e3)\n",
       "\n",
       "an arbitrary number of *x*, *y*, *fmt* are allowed\n"
      ]
     },
     "metadata": {},
     "output_type": "display_data"
    }
   ],
   "source": [
    "ax._get_lines?"
   ]
  },
  {
   "cell_type": "markdown",
   "metadata": {},
   "source": [
    "## 1.1. class _process_plot_var_args"
   ]
  },
  {
   "cell_type": "markdown",
   "metadata": {},
   "source": [
    "```python\n",
    "class _process_plot_var_args:\n",
    "    \"\"\"\n",
    "    Process variable length arguments to the plot command, so that\n",
    "    plot commands like the following are supported::\n",
    "\n",
    "      plot(t, s)\n",
    "      plot(t1, s1, t2, s2)\n",
    "      plot(t1, s1, 'ko', t2, s2)\n",
    "      plot(t1, s1, 'ko', t2, s2, 'r--', t3, e3)\n",
    "\n",
    "    an arbitrary number of *x*, *y*, *fmt* are allowed\n",
    "    \"\"\"\n",
    "    def __init__(self, axes, command='plot'):\n",
    "        self.axes = axes\n",
    "        self.command = command\n",
    "        self.set_prop_cycle()\n",
    "```"
   ]
  },
  {
   "cell_type": "markdown",
   "metadata": {},
   "source": [
    "\\_process_plot_var_args类是为了处理plot命令的可变长度参数。"
   ]
  },
  {
   "cell_type": "markdown",
   "metadata": {},
   "source": [
    "### 1.1.1. \\_process_plot_var_args.\\_\\_call\\_\\_(self, *args, **kwargs)"
   ]
  },
  {
   "cell_type": "markdown",
   "metadata": {
    "jupyter": {
     "source_hidden": true
    }
   },
   "source": [
    "```python\n",
    "def __call__(self, *args, **kwargs):\n",
    "    self.axes._process_unit_info(kwargs=kwargs)\n",
    "\n",
    "    for pos_only in \"xy\":\n",
    "        if pos_only in kwargs:\n",
    "            raise TypeError(\"{} got an unexpected keyword argument {!r}\"\n",
    "                            .format(self.command, pos_only))\n",
    "\n",
    "    if not args:\n",
    "        return\n",
    "\n",
    "    # Process the 'data' kwarg.\n",
    "    data = kwargs.pop(\"data\", None)\n",
    "    if data is not None:\n",
    "        replaced = [mpl._replacer(data, arg) for arg in args]\n",
    "        if len(args) == 1:\n",
    "            label_namer_idx = 0\n",
    "        elif len(args) == 2:  # Can be x, y or y, c.\n",
    "            # Figure out what the second argument is.\n",
    "            # 1) If the second argument cannot be a format shorthand, the\n",
    "            #    second argument is the label_namer.\n",
    "            # 2) Otherwise (it could have been a format shorthand),\n",
    "            #    a) if we did perform a substitution, emit a warning, and\n",
    "            #       use it as label_namer.\n",
    "            #    b) otherwise, it is indeed a format shorthand; use the\n",
    "            #       first argument as label_namer.\n",
    "            try:\n",
    "                _process_plot_format(args[1])\n",
    "            except ValueError:  # case 1)\n",
    "                label_namer_idx = 1\n",
    "            else:\n",
    "                if replaced[1] is not args[1]:  # case 2a)\n",
    "                    cbook._warn_external(\n",
    "                        f\"Second argument {args[1]!r} is ambiguous: could \"\n",
    "                        f\"be a format string but is in 'data'; using as \"\n",
    "                        f\"data.  If it was intended as data, set the \"\n",
    "                        f\"format string to an empty string to suppress \"\n",
    "                        f\"this warning.  If it was intended as a format \"\n",
    "                        f\"string, explicitly pass the x-values as well.  \"\n",
    "                        f\"Alternatively, rename the entry in 'data'.\",\n",
    "                        RuntimeWarning)\n",
    "                    label_namer_idx = 1\n",
    "                else:  # case 2b)\n",
    "                    label_namer_idx = 0\n",
    "        elif len(args) == 3:\n",
    "            label_namer_idx = 1\n",
    "        else:\n",
    "            raise ValueError(\n",
    "                \"Using arbitrary long args with data is not supported due \"\n",
    "                \"to ambiguity of arguments; use multiple plotting calls \"\n",
    "                \"instead\")\n",
    "        if kwargs.get(\"label\") is None:\n",
    "            kwargs[\"label\"] = mpl._label_from_arg(\n",
    "                replaced[label_namer_idx], args[label_namer_idx])\n",
    "        args = replaced\n",
    "\n",
    "    # Repeatedly grab (x, y) or (x, y, format) from the front of args and\n",
    "    # massage them into arguments to plot() or fill().\n",
    "    while args:\n",
    "        this, args = args[:2], args[2:]\n",
    "        if args and isinstance(args[0], str):\n",
    "            this += args[0],\n",
    "            args = args[1:]\n",
    "        yield from self._plot_args(this, kwargs)\n",
    "```"
   ]
  },
  {
   "cell_type": "markdown",
   "metadata": {},
   "source": [
    "为了简化__call__方法，我们删除以下代码：\n",
    "1. 处理data关键字参数相关部分\n",
    "2. 健壮性相关部分\n",
    "3. self.axes._process_unit_info(kwargs=kwargs)"
   ]
  },
  {
   "cell_type": "markdown",
   "metadata": {},
   "source": [
    "```python\n",
    "def __call__(self, *args, **kwargs):\n",
    "    # Repeatedly grab (x, y) or (x, y, format) from the front of args and\n",
    "    # massage them into arguments to plot() or fill().\n",
    "    while args:\n",
    "        this, args = args[:2], args[2:]\n",
    "        if args and isinstance(args[0], str):\n",
    "            this += args[0],\n",
    "            args = args[1:]\n",
    "        yield from self._plot_args(this, kwargs)\n",
    "```"
   ]
  },
  {
   "cell_type": "markdown",
   "metadata": {},
   "source": [
    "我们定义一个简单的函数来模拟plot"
   ]
  },
  {
   "cell_type": "code",
   "execution_count": 20,
   "metadata": {},
   "outputs": [],
   "source": [
    "def plot_args(tup, kwargs):\n",
    "    return len(tup)"
   ]
  },
  {
   "cell_type": "code",
   "execution_count": 21,
   "metadata": {},
   "outputs": [],
   "source": [
    "def simplot(*args, **kwargs):\n",
    "    # lines = [*self._get_lines(*args, data=data, **kwargs)]\n",
    "    lines = []\n",
    "    while args:\n",
    "        this, args = args[:2], args[2:]\n",
    "        if args and isinstance(args[0], str):\n",
    "            this += args[0],\n",
    "            args = args[1:]\n",
    "            lines.append(plot_args(this, kwargs))\n",
    "    return lines"
   ]
  },
  {
   "cell_type": "code",
   "execution_count": 22,
   "metadata": {},
   "outputs": [
    {
     "data": {
      "text/plain": [
       "[3, 3, 3]"
      ]
     },
     "execution_count": 22,
     "metadata": {},
     "output_type": "execute_result"
    }
   ],
   "source": [
    "t = np.arange(0.0, 2.0, 0.05)\n",
    "simplot(t, t, 'r--', t, t**2, 'bs', t, t**3, 'g^')"
   ]
  },
  {
   "cell_type": "markdown",
   "metadata": {},
   "source": [
    "### 1.1.1.1. \\_process_plot_var_args.\\_plot\\_args(self, tup, kwargs)"
   ]
  },
  {
   "cell_type": "markdown",
   "metadata": {
    "jupyter": {
     "source_hidden": true
    }
   },
   "source": [
    "```python\n",
    "def _plot_args(self, tup, kwargs):\n",
    "    if len(tup) > 1 and isinstance(tup[-1], str):\n",
    "        linestyle, marker, color = _process_plot_format(tup[-1])\n",
    "        tup = tup[:-1]\n",
    "    elif len(tup) == 3:\n",
    "        raise ValueError('third arg must be a format string')\n",
    "    else:\n",
    "        linestyle, marker, color = None, None, None\n",
    "\n",
    "    # Don't allow any None value; these would be up-converted to one\n",
    "    # element array of None which causes problems downstream.\n",
    "    if any(v is None for v in tup):\n",
    "        raise ValueError(\"x, y, and format string must not be None\")\n",
    "\n",
    "    kw = {}\n",
    "    for k, v in zip(('linestyle', 'marker', 'color'),\n",
    "                    (linestyle, marker, color)):\n",
    "        if v is not None:\n",
    "            kw[k] = v\n",
    "\n",
    "    if len(tup) == 2:\n",
    "        x = _check_1d(tup[0])\n",
    "        y = _check_1d(tup[-1])\n",
    "    else:\n",
    "        x, y = index_of(tup[-1])\n",
    "\n",
    "    if self.axes.xaxis is not None:\n",
    "        self.axes.xaxis.update_units(x)\n",
    "    if self.axes.yaxis is not None:\n",
    "        self.axes.yaxis.update_units(y)\n",
    "\n",
    "    if x.shape[0] != y.shape[0]:\n",
    "        raise ValueError(f\"x and y must have same first dimension, but \"\n",
    "                         f\"have shapes {x.shape} and {y.shape}\")\n",
    "    if x.ndim > 2 or y.ndim > 2:\n",
    "        raise ValueError(f\"x and y can be no greater than 2-D, but have \"\n",
    "                         f\"shapes {x.shape} and {y.shape}\")\n",
    "    if x.ndim == 1:\n",
    "        x = x[:, np.newaxis]\n",
    "    if y.ndim == 1:\n",
    "        y = y[:, np.newaxis]\n",
    "\n",
    "    if self.command == 'plot':\n",
    "        func = self._makeline\n",
    "    else:\n",
    "        kw['closed'] = kwargs.get('closed', True)\n",
    "        func = self._makefill\n",
    "\n",
    "    ncx, ncy = x.shape[1], y.shape[1]\n",
    "    if ncx > 1 and ncy > 1 and ncx != ncy:\n",
    "        cbook.warn_deprecated(\n",
    "            \"2.2\", message=\"cycling among columns of inputs with \"\n",
    "            \"non-matching shapes is deprecated.\")\n",
    "    return [func(x[:, j % ncx], y[:, j % ncy], kw, kwargs)\n",
    "            for j in range(max(ncx, ncy))]\n",
    "\n",
    "```"
   ]
  },
  {
   "cell_type": "markdown",
   "metadata": {},
   "source": [
    "为了简化_plot_args方法，我们删除以下代码：\n",
    "1. 处理fmt参数相关部分\n",
    "2. 健壮性相关部分\n",
    "\n",
    "\n",
    "3. self.axes._process_unit_info(kwargs=kwargs)"
   ]
  },
  {
   "cell_type": "markdown",
   "metadata": {},
   "source": [
    "```python\n",
    "def _plot_args(self, tup, kwargs):\n",
    "\n",
    "    if len(tup) > 1 and isinstance(tup[-1], str):\n",
    "        linestyle, marker, color = _process_plot_format(tup[-1])\n",
    "        tup = tup[:-1]\n",
    "    elif len(tup) == 3:\n",
    "        raise ValueError('third arg must be a format string')\n",
    "    else:\n",
    "        linestyle, marker, color = None, None, None\n",
    "        \n",
    "    if len(tup) == 2:\n",
    "        x = _check_1d(tup[0])\n",
    "        y = _check_1d(tup[-1])\n",
    "    else:\n",
    "        x, y = index_of(tup[-1])\n",
    "\n",
    "    if self.axes.xaxis is not None:\n",
    "        self.axes.xaxis.update_units(x)\n",
    "    if self.axes.yaxis is not None:\n",
    "        self.axes.yaxis.update_units(y)\n",
    "\n",
    "    if x.ndim == 1:\n",
    "        x = x[:, np.newaxis]\n",
    "    if y.ndim == 1:\n",
    "        y = y[:, np.newaxis]\n",
    "\n",
    "    if self.command == 'plot':\n",
    "        func = self._makeline\n",
    "    else:\n",
    "        kw['closed'] = kwargs.get('closed', True)\n",
    "        func = self._makefill\n",
    "\n",
    "    ncx, ncy = x.shape[1], y.shape[1]\n",
    "    return [func(x[:, j % ncx], y[:, j % ncy], kw, kwargs)\n",
    "            for j in range(max(ncx, ncy))]\n",
    "\n",
    "```"
   ]
  },
  {
   "cell_type": "markdown",
   "metadata": {},
   "source": [
    "1. 处理fmt参数，tup = tup[:-1]\n",
    "2. 如果tup包含(x,y)两个元素 _check_1d分别效验；如果tup只包含一个元素，index_of补全(x,y)两个元素\n",
    "3. update_units\n",
    "4. 选择绘制方法，'plot'对应_makeline （class _process_plot_var_args 的 command属性不值在什么情况下会改变？）\n",
    "5. 处理多维x,y数据\n",
    "6. 调用_makeline"
   ]
  },
  {
   "cell_type": "markdown",
   "metadata": {},
   "source": []
  },
  {
   "cell_type": "code",
   "execution_count": 30,
   "metadata": {},
   "outputs": [
    {
     "data": {
      "text/plain": [
       "[0, 1, 2, 3, 4]"
      ]
     },
     "execution_count": 30,
     "metadata": {},
     "output_type": "execute_result"
    }
   ],
   "source": [
    "[j for j in range(5)]"
   ]
  },
  {
   "cell_type": "code",
   "execution_count": 40,
   "metadata": {},
   "outputs": [
    {
     "data": {
      "text/plain": [
       "array([0, 1, 2, 3, 4, 5, 6, 7, 8, 9])"
      ]
     },
     "execution_count": 40,
     "metadata": {},
     "output_type": "execute_result"
    }
   ],
   "source": [
    "np.array(np.arange(0,10,1))"
   ]
  },
  {
   "cell_type": "markdown",
   "metadata": {},
   "source": [
    "**deep**\n",
    "\n",
    "1. _process_plot_var_args.__call__(self, *args, **kwargs)\n",
    "2. _process_plot_var_args._plot_args(self, tup, kwargs)"
   ]
  },
  {
   "cell_type": "markdown",
   "metadata": {},
   "source": [
    "```python\n",
    "self._get_lines = _process_plot_var_args(self)\n",
    "\n",
    "def plot(self, *args, scalex=True, scaley=True, data=None, **kwargs):\n",
    "    kwargs = cbook.normalize_kwargs(kwargs, mlines.Line2D)\n",
    "    lines = [*self._get_lines(*args, data=data, **kwargs)]\n",
    "```\n",
    "\n",
    "在plot方法的内部，args 与 kwargs 被用来调用_get_lines方法"
   ]
  },
  {
   "cell_type": "markdown",
   "metadata": {},
   "source": [
    "# 1."
   ]
  },
  {
   "cell_type": "markdown",
   "metadata": {},
   "source": [
    "### class _process_plot_var_args(object):"
   ]
  },
  {
   "cell_type": "markdown",
   "metadata": {
    "jupyter": {
     "source_hidden": true
    }
   },
   "source": [
    "```python\n",
    "class _process_plot_var_args(object):\n",
    "    \"\"\"\n",
    "    Process variable length arguments to the plot command, so that\n",
    "    plot commands like the following are supported::\n",
    "\n",
    "      plot(t, s)\n",
    "      plot(t1, s1, t2, s2)\n",
    "      plot(t1, s1, 'ko', t2, s2)\n",
    "      plot(t1, s1, 'ko', t2, s2, 'r--', t3, e3)\n",
    "\n",
    "    an arbitrary number of *x*, *y*, *fmt* are allowed\n",
    "    \"\"\"\n",
    "    \n",
    "    def __call__(self, *args, **kwargs):\n",
    "        # Process units.\n",
    "        if self.axes.xaxis is not None and self.axes.yaxis is not None:\n",
    "            xunits = kwargs.pop('xunits', self.axes.xaxis.units)\n",
    "            if self.axes.name == 'polar':\n",
    "                xunits = kwargs.pop('thetaunits', xunits)\n",
    "            if xunits != self.axes.xaxis.units:\n",
    "                self.axes.xaxis.set_units(xunits)\n",
    "            yunits = kwargs.pop('yunits', self.axes.yaxis.units)\n",
    "            if self.axes.name == 'polar':\n",
    "                yunits = kwargs.pop('runits', yunits)\n",
    "            if yunits != self.axes.yaxis.units:\n",
    "                self.axes.yaxis.set_units(yunits)\n",
    "\n",
    "        for pos_only in \"xy\":\n",
    "            if pos_only in kwargs:\n",
    "                raise TypeError(\"{} got an unexpected keyword argument {!r}\"\n",
    "                                .format(self.command, pos_only))\n",
    "\n",
    "        if not args:\n",
    "            return\n",
    "\n",
    "        # Process the 'data' kwarg.\n",
    "        data = kwargs.pop(\"data\", None)\n",
    "        if data is not None:\n",
    "            replaced = [mpl._replacer(data, arg) for arg in args]\n",
    "            if len(args) == 1:\n",
    "                label_namer_idx = 0\n",
    "            elif len(args) == 2:  # Can be x, y or y, c.\n",
    "                # Figure out what the second argument is.\n",
    "                # 1) If the second argument cannot be a format shorthand, the\n",
    "                #    second argument is the label_namer.\n",
    "                # 2) Otherwise (it could have been a format shorthand),\n",
    "                #    a) if we did perform a substitution, emit a warning, and\n",
    "                #       use it as label_namer.\n",
    "                #    b) otherwise, it is indeed a format shorthand; use the\n",
    "                #       first argument as label_namer.\n",
    "                try:\n",
    "                    _process_plot_format(args[1])\n",
    "                except ValueError:  # case 1)\n",
    "                    label_namer_idx = 1\n",
    "                else:\n",
    "                    if replaced[1] is not args[1]:  # case 2a)\n",
    "                        cbook._warn_external(\n",
    "                            \"Second argument {!r} is ambiguous: could be a \"\n",
    "                            \"color spec but is in data; using as data.  \"\n",
    "                            \"Either rename the entry in data or use three \"\n",
    "                            \"arguments to plot.\".format(args[1]),\n",
    "                            RuntimeWarning)\n",
    "                        label_namer_idx = 1\n",
    "                    else:  # case 2b)\n",
    "                        label_namer_idx = 0\n",
    "            elif len(args) == 3:\n",
    "                label_namer_idx = 1\n",
    "            else:\n",
    "                raise ValueError(\n",
    "                    \"Using arbitrary long args with data is not supported due \"\n",
    "                    \"to ambiguity of arguments; use multiple plotting calls \"\n",
    "                    \"instead\")\n",
    "            if kwargs.get(\"label\") is None:\n",
    "                kwargs[\"label\"] = mpl._label_from_arg(\n",
    "                    replaced[label_namer_idx], args[label_namer_idx])\n",
    "            args = replaced\n",
    "\n",
    "        # Repeatedly grab (x, y) or (x, y, format) from the front of args and\n",
    "        # massage them into arguments to plot() or fill().\n",
    "        while args:\n",
    "            this, args = args[:2], args[2:]\n",
    "            if args and isinstance(args[0], str):\n",
    "                this += args[0],\n",
    "                args = args[1:]\n",
    "            yield from self._plot_args(this, kwargs)    \n",
    "```"
   ]
  },
  {
   "cell_type": "markdown",
   "metadata": {},
   "source": [
    "```python\n",
    "    def __call__(self, *args, **kwargs):\n",
    "        # Process units.\n",
    "        if self.axes.xaxis is not None and self.axes.yaxis is not None:\n",
    "            xunits = kwargs.pop('xunits', self.axes.xaxis.units)\n",
    "            if self.axes.name == 'polar':\n",
    "                xunits = kwargs.pop('thetaunits', xunits)\n",
    "            if xunits != self.axes.xaxis.units:\n",
    "                self.axes.xaxis.set_units(xunits)\n",
    "            yunits = kwargs.pop('yunits', self.axes.yaxis.units)\n",
    "            if self.axes.name == 'polar':\n",
    "                yunits = kwargs.pop('runits', yunits)\n",
    "            if yunits != self.axes.yaxis.units:\n",
    "                self.axes.yaxis.set_units(yunits)\n",
    "\n",
    "        # Repeatedly grab (x, y) or (x, y, format) from the front of args and\n",
    "        # massage them into arguments to plot() or fill().\n",
    "        while args:\n",
    "            this, args = args[:2], args[2:]\n",
    "            if args and isinstance(args[0], str):\n",
    "                this += args[0],\n",
    "                args = args[1:]\n",
    "            yield from self._plot_args(this, kwargs)\n",
    "```"
   ]
  },
  {
   "cell_type": "markdown",
   "metadata": {},
   "source": [
    "# 2."
   ]
  },
  {
   "cell_type": "markdown",
   "metadata": {},
   "source": [
    "```python\n",
    "    def _plot_args(self, tup, kwargs):\n",
    "        ret = []\n",
    "        if len(tup) > 1 and isinstance(tup[-1], str):\n",
    "            linestyle, marker, color = _process_plot_format(tup[-1])\n",
    "            tup = tup[:-1]\n",
    "        elif len(tup) == 3:\n",
    "            raise ValueError('third arg must be a format string')\n",
    "        else:\n",
    "            linestyle, marker, color = None, None, None\n",
    "\n",
    "        # Don't allow any None value; These will be up-converted\n",
    "        # to one element array of None which causes problems\n",
    "        # downstream.\n",
    "        if any(v is None for v in tup):\n",
    "            raise ValueError(\"x, y, and format string must not be None\")\n",
    "\n",
    "        kw = {}\n",
    "        for k, v in zip(('linestyle', 'marker', 'color'),\n",
    "                        (linestyle, marker, color)):\n",
    "            if v is not None:\n",
    "                kw[k] = v\n",
    "\n",
    "        if len(tup) == 2:\n",
    "            x = _check_1d(tup[0])\n",
    "            y = _check_1d(tup[-1])\n",
    "        else:\n",
    "            x, y = index_of(tup[-1])\n",
    "\n",
    "        x, y = self._xy_from_xy(x, y)\n",
    "\n",
    "        if self.command == 'plot':\n",
    "            func = self._makeline\n",
    "        else:\n",
    "            kw['closed'] = kwargs.get('closed', True)\n",
    "            func = self._makefill\n",
    "\n",
    "        ncx, ncy = x.shape[1], y.shape[1]\n",
    "        if ncx > 1 and ncy > 1 and ncx != ncy:\n",
    "            cbook.warn_deprecated(\n",
    "                \"2.2\", message=\"cycling among columns of inputs with \"\n",
    "                \"non-matching shapes is deprecated.\")\n",
    "        for j in range(max(ncx, ncy)):\n",
    "            seg = func(x[:, j % ncx], y[:, j % ncy], kw, kwargs)\n",
    "            ret.append(seg)\n",
    "        return ret\n",
    "```"
   ]
  },
  {
   "cell_type": "code",
   "execution_count": 19,
   "metadata": {},
   "outputs": [],
   "source": [
    "args = [t, t, 'r--', t, t**2, 'bs', t, t**3, 'g^']\n",
    "this, args = args[:2], args[2:]\n",
    "if args and isinstance(args[0], str):\n",
    "    this += args[0],\n",
    "    args = args[1:]\n",
    "tup = args\n",
    "tup[-1]\n",
    "# linestyle, marker, color = _process_plot_format(tup[-1])\n",
    "tup = tup[:-1]\n",
    "\n",
    "x = _check_1d(tup[0])\n",
    "y = _check_1d(tup[-1])\n",
    "\n",
    "# self._xy_from_xy(x, y)\n",
    "x = x[:, np.newaxis]\n",
    "y = y[:, np.newaxis]"
   ]
  },
  {
   "cell_type": "code",
   "execution_count": 33,
   "metadata": {},
   "outputs": [],
   "source": [
    "ncx, ncy = x.shape[1], y.shape[1]\n",
    "\n",
    "ret = []\n",
    "\n",
    "for j in range(max(ncx, ncy)):\n",
    "    seg = self._makeline(x[:, j % ncx], y[:, j % ncy], kw, kwargs)\n",
    "    ret.append(seg)"
   ]
  },
  {
   "cell_type": "code",
   "execution_count": 31,
   "metadata": {},
   "outputs": [],
   "source": [
    "a = {'x':100}\n",
    "b = {'x':200, 'y':200}"
   ]
  },
  {
   "cell_type": "code",
   "execution_count": 38,
   "metadata": {},
   "outputs": [],
   "source": [
    "    def _makeline(self, x, y, kw, kwargs):\n",
    "        kw = {**kw, **kwargs}  # Don't modify the original kw.\n",
    "        default_dict = self._getdefaults(set(), kw)\n",
    "        self._setdefaults(default_dict, kw)\n",
    "        seg = mlines.Line2D(x, y, **kw)\n",
    "        return seg"
   ]
  },
  {
   "cell_type": "code",
   "execution_count": 9,
   "metadata": {},
   "outputs": [],
   "source": [
    "def _check_1d(x):\n",
    "    '''\n",
    "    Converts a sequence of less than 1 dimension, to an array of 1\n",
    "    dimension; leaves everything else untouched.\n",
    "    '''\n",
    "    if not hasattr(x, 'shape') or len(x.shape) < 1:\n",
    "        return np.atleast_1d(x)\n",
    "    else:\n",
    "        try:\n",
    "            ndim = x[:, None].ndim\n",
    "            # work around https://github.com/pandas-dev/pandas/issues/27775\n",
    "            # which mean the shape is not as expected. That this ever worked\n",
    "            # was an unintentional quirk of pandas the above line will raise\n",
    "            # an exception in the future.\n",
    "            if ndim < 2:\n",
    "                return np.atleast_1d(x)\n",
    "            return x\n",
    "        except (IndexError, TypeError):\n",
    "            return np.atleast_1d(x)"
   ]
  },
  {
   "cell_type": "markdown",
   "metadata": {},
   "source": [
    "```python\n",
    "    def _xy_from_xy(self, x, y):\n",
    "        if self.axes.xaxis is not None and self.axes.yaxis is not None:\n",
    "            bx = self.axes.xaxis.update_units(x)\n",
    "            by = self.axes.yaxis.update_units(y)\n",
    "\n",
    "            if self.command != 'plot':\n",
    "                # the Line2D class can handle unitized data, with\n",
    "                # support for post hoc unit changes etc.  Other mpl\n",
    "                # artists, e.g., Polygon which _process_plot_var_args\n",
    "                # also serves on calls to fill, cannot.  So this is a\n",
    "                # hack to say: if you are not \"plot\", which is\n",
    "                # creating Line2D, then convert the data now to\n",
    "                # floats.  If you are plot, pass the raw data through\n",
    "                # to Line2D which will handle the conversion.  So\n",
    "                # polygons will not support post hoc conversions of\n",
    "                # the unit type since they are not storing the orig\n",
    "                # data.  Hopefully we can rationalize this at a later\n",
    "                # date - JDH\n",
    "                if bx:\n",
    "                    x = self.axes.convert_xunits(x)\n",
    "                if by:\n",
    "                    y = self.axes.convert_yunits(y)\n",
    "\n",
    "        # like asanyarray, but converts scalar to array, and doesn't change\n",
    "        # existing compatible sequences\n",
    "        x = _check_1d(x)\n",
    "        y = _check_1d(y)\n",
    "        if x.shape[0] != y.shape[0]:\n",
    "            raise ValueError(\"x and y must have same first dimension, but \"\n",
    "                             \"have shapes {} and {}\".format(x.shape, y.shape))\n",
    "        if x.ndim > 2 or y.ndim > 2:\n",
    "            raise ValueError(\"x and y can be no greater than 2-D, but have \"\n",
    "                             \"shapes {} and {}\".format(x.shape, y.shape))\n",
    "\n",
    "        if x.ndim == 1:\n",
    "            x = x[:, np.newaxis]\n",
    "        if y.ndim == 1:\n",
    "            y = y[:, np.newaxis]\n",
    "        return x, y\n",
    "```"
   ]
  },
  {
   "cell_type": "code",
   "execution_count": 18,
   "metadata": {},
   "outputs": [],
   "source": [
    "def kwargs_print(alpha, label):\n",
    "    print(alpha)\n",
    "    print(label)"
   ]
  },
  {
   "cell_type": "code",
   "execution_count": 19,
   "metadata": {},
   "outputs": [],
   "source": [
    "def plot(*args, **kwargs):\n",
    "    print(type(args), args)\n",
    "    print(type(kwargs), kwargs)\n",
    "    print('-'*10)\n",
    "    print(*args)\n",
    "    kwargs_print(**kwargs)"
   ]
  },
  {
   "cell_type": "code",
   "execution_count": null,
   "metadata": {},
   "outputs": [],
   "source": []
  },
  {
   "cell_type": "code",
   "execution_count": 20,
   "metadata": {},
   "outputs": [
    {
     "name": "stdout",
     "output_type": "stream",
     "text": [
      "<class 'tuple'> (array([0.  , 0.05, 0.1 , 0.15, 0.2 , 0.25, 0.3 , 0.35, 0.4 , 0.45, 0.5 ,\n",
      "       0.55, 0.6 , 0.65, 0.7 , 0.75, 0.8 , 0.85, 0.9 , 0.95, 1.  , 1.05,\n",
      "       1.1 , 1.15, 1.2 , 1.25, 1.3 , 1.35, 1.4 , 1.45, 1.5 , 1.55, 1.6 ,\n",
      "       1.65, 1.7 , 1.75, 1.8 , 1.85, 1.9 , 1.95]), array([1.        , 1.30901699, 1.58778525, 1.80901699, 1.95105652,\n",
      "       2.        , 1.95105652, 1.80901699, 1.58778525, 1.30901699,\n",
      "       1.        , 0.69098301, 0.41221475, 0.19098301, 0.04894348,\n",
      "       0.        , 0.04894348, 0.19098301, 0.41221475, 0.69098301,\n",
      "       1.        , 1.30901699, 1.58778525, 1.80901699, 1.95105652,\n",
      "       2.        , 1.95105652, 1.80901699, 1.58778525, 1.30901699,\n",
      "       1.        , 0.69098301, 0.41221475, 0.19098301, 0.04894348,\n",
      "       0.        , 0.04894348, 0.19098301, 0.41221475, 0.69098301]))\n",
      "<class 'dict'> {'alpha': 0.5, 'label': 'cat'}\n",
      "----------\n",
      "[0.   0.05 0.1  0.15 0.2  0.25 0.3  0.35 0.4  0.45 0.5  0.55 0.6  0.65\n",
      " 0.7  0.75 0.8  0.85 0.9  0.95 1.   1.05 1.1  1.15 1.2  1.25 1.3  1.35\n",
      " 1.4  1.45 1.5  1.55 1.6  1.65 1.7  1.75 1.8  1.85 1.9  1.95] [1.         1.30901699 1.58778525 1.80901699 1.95105652 2.\n",
      " 1.95105652 1.80901699 1.58778525 1.30901699 1.         0.69098301\n",
      " 0.41221475 0.19098301 0.04894348 0.         0.04894348 0.19098301\n",
      " 0.41221475 0.69098301 1.         1.30901699 1.58778525 1.80901699\n",
      " 1.95105652 2.         1.95105652 1.80901699 1.58778525 1.30901699\n",
      " 1.         0.69098301 0.41221475 0.19098301 0.04894348 0.\n",
      " 0.04894348 0.19098301 0.41221475 0.69098301]\n",
      "0.5\n",
      "cat\n"
     ]
    }
   ],
   "source": [
    "plot(t, s, alpha=0.5, label='cat')"
   ]
  },
  {
   "cell_type": "code",
   "execution_count": 15,
   "metadata": {},
   "outputs": [],
   "source": [
    "d = {'alpha': 0.5, 'label': 'cat'}"
   ]
  },
  {
   "cell_type": "code",
   "execution_count": 17,
   "metadata": {},
   "outputs": [
    {
     "ename": "SyntaxError",
     "evalue": "invalid syntax (<ipython-input-17-c8c37d4aa432>, line 1)",
     "output_type": "error",
     "traceback": [
      "\u001b[1;36m  File \u001b[1;32m\"<ipython-input-17-c8c37d4aa432>\"\u001b[1;36m, line \u001b[1;32m1\u001b[0m\n\u001b[1;33m    [**d]\u001b[0m\n\u001b[1;37m      ^\u001b[0m\n\u001b[1;31mSyntaxError\u001b[0m\u001b[1;31m:\u001b[0m invalid syntax\n"
     ]
    }
   ],
   "source": [
    "[**d]"
   ]
  }
 ],
 "metadata": {
  "kernelspec": {
   "display_name": "Python 3",
   "language": "python",
   "name": "python3"
  },
  "language_info": {
   "codemirror_mode": {
    "name": "ipython",
    "version": 3
   },
   "file_extension": ".py",
   "mimetype": "text/x-python",
   "name": "python",
   "nbconvert_exporter": "python",
   "pygments_lexer": "ipython3",
   "version": "3.7.5"
  }
 },
 "nbformat": 4,
 "nbformat_minor": 4
}
