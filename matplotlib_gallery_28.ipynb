{
 "cells": [
  {
   "cell_type": "markdown",
   "metadata": {},
   "source": [
    "> Scatter Custom Symbol\n",
    "# 第34课.自定义符号散点图\n",
    "> Creating a custom ellipse symbol in scatter plot.\n",
    "\n",
    "在散点图中自定义椭圆形符号。"
   ]
  },
  {
   "cell_type": "code",
   "execution_count": 2,
   "metadata": {},
   "outputs": [],
   "source": [
    "import matplotlib\n",
    "import matplotlib.pyplot as plt\n",
    "import numpy as np"
   ]
  },
  {
   "cell_type": "code",
   "execution_count": 3,
   "metadata": {},
   "outputs": [],
   "source": [
    "%matplotlib widget\n",
    "matplotlib.rcParams['font.family'] = ['DengXian', 'sans-serif']"
   ]
  },
  {
   "cell_type": "markdown",
   "metadata": {},
   "source": [
    "[3]: 准备数据"
   ]
  },
  {
   "cell_type": "code",
   "execution_count": 4,
   "metadata": {},
   "outputs": [],
   "source": [
    "rx, ry = 3., 1.\n",
    "area = rx * ry * np.pi\n",
    "theta = np.arange(0, 2 * np.pi + 0.01, 0.1)\n",
    "verts = np.column_stack([rx / area * np.cos(theta), ry / area * np.sin(theta)])"
   ]
  },
  {
   "cell_type": "code",
   "execution_count": 5,
   "metadata": {},
   "outputs": [],
   "source": [
    "x, y, s, c = np.random.rand(4, 30)\n",
    "s *= 10**2."
   ]
  },
  {
   "cell_type": "code",
   "execution_count": 6,
   "metadata": {
    "collapsed": true,
    "jupyter": {
     "outputs_hidden": true
    }
   },
   "outputs": [
    {
     "data": {
      "application/vnd.jupyter.widget-view+json": {
       "model_id": "4189e8c6091a44c1bdb2021afc02e9bd",
       "version_major": 2,
       "version_minor": 0
      },
      "text/plain": [
       "Canvas(toolbar=Toolbar(toolitems=[('Home', 'Reset original view', 'home', 'home'), ('Back', 'Back to previous …"
      ]
     },
     "metadata": {},
     "output_type": "display_data"
    }
   ],
   "source": [
    "fig, ax = plt.subplots()"
   ]
  },
  {
   "cell_type": "code",
   "execution_count": 7,
   "metadata": {},
   "outputs": [
    {
     "data": {
      "text/plain": [
       "<matplotlib.collections.PathCollection at 0x1c8e55c0e88>"
      ]
     },
     "execution_count": 7,
     "metadata": {},
     "output_type": "execute_result"
    }
   ],
   "source": [
    "ax.scatter(x, y, s, c, marker=verts)"
   ]
  },
  {
   "cell_type": "markdown",
   "metadata": {},
   "source": [
    "## matplotlib.markers\n",
    "> This module contains functions to handle markers. Used by both the marker functionality of plot and scatter.\n",
    "\n",
    "\n",
    "> All possible markers are defined here:.\n",
    "\n",
    "verts\n",
    "\n",
    "> A list of (x, y) pairs used for Path vertices. The center of the marker is located at (0, 0) and the size is normalized, such that the created path is encapsulated inside the unit cell.\n",
    "\n"
   ]
  },
  {
   "cell_type": "code",
   "execution_count": null,
   "metadata": {},
   "outputs": [],
   "source": [
    "#import matplotlib.markers as mmarkers"
   ]
  },
  {
   "cell_type": "code",
   "execution_count": 9,
   "metadata": {},
   "outputs": [
    {
     "data": {
      "text/plain": [
       "False"
      ]
     },
     "execution_count": 9,
     "metadata": {},
     "output_type": "execute_result"
    }
   ],
   "source": [
    "isinstance(verts, matplotlib.markers.MarkerStyle)"
   ]
  },
  {
   "cell_type": "code",
   "execution_count": 8,
   "metadata": {},
   "outputs": [],
   "source": [
    "mko = matplotlib.markers.MarkerStyle(verts)"
   ]
  },
  {
   "cell_type": "code",
   "execution_count": 14,
   "metadata": {},
   "outputs": [
    {
     "data": {
      "text/plain": [
       "Path(array([[ 0.31830989,  0.        ],\n",
       "       [ 0.31671966,  0.01059265],\n",
       "       [ 0.31196488,  0.02107947],\n",
       "       [ 0.30409305,  0.03135567],\n",
       "       [ 0.29318282,  0.04131857],\n",
       "       [ 0.27934321,  0.05086863],\n",
       "       [ 0.26271249,  0.05991043],\n",
       "       [ 0.24345683,  0.06835362],\n",
       "       [ 0.22176863,  0.07611385],\n",
       "       [ 0.1978646 ,  0.08311357],\n",
       "       [ 0.17198357,  0.08928284],\n",
       "       [ 0.14438413,  0.09456004],\n",
       "       [ 0.11534206,  0.09889242],\n",
       "       [ 0.08514752,  0.1022367 ],\n",
       "       [ 0.05410222,  0.10455946],\n",
       "       [ 0.02251635,  0.10583751],\n",
       "       [-0.0092945 ,  0.10605805],\n",
       "       [-0.04101248,  0.1052189 ],\n",
       "       [-0.07232067,  0.10332844],\n",
       "       [-0.10290627,  0.10040556],\n",
       "       [-0.13246365,  0.09647945],\n",
       "       [-0.16069751,  0.09158936],\n",
       "       [-0.18732572,  0.08578413],\n",
       "       [-0.21208224,  0.07912178],\n",
       "       [-0.23471971,  0.07166887],\n",
       "       [-0.25501193,  0.06349987],\n",
       "       [-0.27275616,  0.05469639],\n",
       "       [-0.2877751 ,  0.04534641],\n",
       "       [-0.29991869,  0.03554335],\n",
       "       [-0.30906558,  0.02538514],\n",
       "       [-0.3151244 ,  0.0149733 ],\n",
       "       [-0.3180346 ,  0.00441185],\n",
       "       [-0.3177671 , -0.00619369],\n",
       "       [-0.31432457, -0.01673734],\n",
       "       [-0.30774142, -0.02711375],\n",
       "       [-0.29808342, -0.03721926],\n",
       "       [-0.28544707, -0.04695288],\n",
       "       [-0.26995862, -0.05621736],\n",
       "       [-0.25177284, -0.06492014],\n",
       "       [-0.23107143, -0.07297426],\n",
       "       [-0.20806123, -0.08029924],\n",
       "       [-0.18297214, -0.0868219 ],\n",
       "       [-0.15605487, -0.09247706],\n",
       "       [-0.12757834, -0.09720823],\n",
       "       [-0.09782709, -0.10096812],\n",
       "       [-0.06709839, -0.10371917],\n",
       "       [-0.03569926, -0.10543389],\n",
       "       [-0.00394343, -0.10609515],\n",
       "       [ 0.02785179, -0.10569635],\n",
       "       [ 0.05936873, -0.10424146],\n",
       "       [ 0.09029248, -0.10174503],\n",
       "       [ 0.12031405, -0.09823199],\n",
       "       [ 0.14913349, -0.09373745],\n",
       "       [ 0.17646283, -0.08830632],\n",
       "       [ 0.20202902, -0.08199286],\n",
       "       [ 0.2255766 , -0.07486015],\n",
       "       [ 0.24687029, -0.06697947],\n",
       "       [ 0.26569733, -0.05842955],\n",
       "       [ 0.28186962, -0.04929582],\n",
       "       [ 0.29522555, -0.03966955],\n",
       "       [ 0.30563169, -0.02964691],\n",
       "       [ 0.31298406, -0.01932804],\n",
       "       [ 0.3172092 , -0.00881606]]), None)"
      ]
     },
     "execution_count": 14,
     "metadata": {},
     "output_type": "execute_result"
    }
   ],
   "source": [
    "mko.get_path()"
   ]
  },
  {
   "cell_type": "code",
   "execution_count": null,
   "metadata": {},
   "outputs": [],
   "source": []
  }
 ],
 "metadata": {
  "kernelspec": {
   "display_name": "Python 3",
   "language": "python",
   "name": "python3"
  },
  "language_info": {
   "codemirror_mode": {
    "name": "ipython",
    "version": 3
   },
   "file_extension": ".py",
   "mimetype": "text/x-python",
   "name": "python",
   "nbconvert_exporter": "python",
   "pygments_lexer": "ipython3",
   "version": "3.7.5"
  }
 },
 "nbformat": 4,
 "nbformat_minor": 4
}
