{
 "cells": [
  {
   "cell_type": "markdown",
   "metadata": {},
   "source": [
    "# 第28课.自定义符号散点图\n",
    "> Creating a custom ellipse symbol in scatter plot.\n",
    "\n",
    "在散点图中自定义椭圆形符号。这是一个看似简单，又不简单的例子，很好。"
   ]
  },
  {
   "cell_type": "code",
   "execution_count": 1,
   "metadata": {},
   "outputs": [],
   "source": [
    "import matplotlib\n",
    "import matplotlib.pyplot as plt\n",
    "import numpy as np"
   ]
  },
  {
   "cell_type": "code",
   "execution_count": 2,
   "metadata": {},
   "outputs": [],
   "source": [
    "%matplotlib widget\n",
    "matplotlib.rcParams['font.family'] = ['DengXian', 'sans-serif']"
   ]
  },
  {
   "cell_type": "markdown",
   "metadata": {},
   "source": [
    "## [3]: 准备数据"
   ]
  },
  {
   "cell_type": "code",
   "execution_count": 3,
   "metadata": {},
   "outputs": [],
   "source": [
    "rx, ry = 3., 1.\n",
    "area = rx * ry * np.pi\n",
    "theta = np.arange(0, 2 * np.pi + 0.01, 0.1)\n",
    "verts = np.column_stack([rx / area * np.cos(theta), ry / area * np.sin(theta)])"
   ]
  },
  {
   "cell_type": "markdown",
   "metadata": {},
   "source": [
    "- 椭圆的面积是 πab\n",
    "- 椭圆上任意一点到F1，F2距离的和为2a，F1，F2之间的距离为2c。而公式中的b²=a²-c²。b是为了书写方便设定的参数。\n",
    "- verts 是一个椭圆的路径点"
   ]
  },
  {
   "cell_type": "code",
   "execution_count": 56,
   "metadata": {},
   "outputs": [],
   "source": [
    "x, y, s, c = np.random.rand(4, 30)\n",
    "s *= 10**2."
   ]
  },
  {
   "cell_type": "code",
   "execution_count": 6,
   "metadata": {
    "collapsed": true,
    "jupyter": {
     "outputs_hidden": true
    }
   },
   "outputs": [
    {
     "data": {
      "application/vnd.jupyter.widget-view+json": {
       "model_id": "4189e8c6091a44c1bdb2021afc02e9bd",
       "version_major": 2,
       "version_minor": 0
      },
      "text/plain": [
       "Canvas(toolbar=Toolbar(toolitems=[('Home', 'Reset original view', 'home', 'home'), ('Back', 'Back to previous …"
      ]
     },
     "metadata": {},
     "output_type": "display_data"
    }
   ],
   "source": [
    "fig, ax = plt.subplots()"
   ]
  },
  {
   "cell_type": "code",
   "execution_count": 7,
   "metadata": {},
   "outputs": [
    {
     "data": {
      "text/plain": [
       "<matplotlib.collections.PathCollection at 0x1c8e55c0e88>"
      ]
     },
     "execution_count": 7,
     "metadata": {},
     "output_type": "execute_result"
    }
   ],
   "source": [
    "ax.scatter(x, y, s, c, marker=verts)"
   ]
  },
  {
   "cell_type": "markdown",
   "metadata": {},
   "source": [
    "完成，收工。\n",
    "\n",
    "这样看起来这确实是一个简单的例子，但是与*第34课.打标散点图*对比，就能看出不简单的地方。在第34课中讲过marker参数描述标记样式。标记可以是MarkerStyle类的实例，也可以是特定标记的文本简写。缺省为None，此时使用rcParams[\"scatter.marker\"]值，缺省是'o'。\n",
    "\n",
    "但在上面的例子中verts既不是文本简写，也不是MarkerStyle类的实例，这是怎么回事呢？"
   ]
  },
  {
   "cell_type": "code",
   "execution_count": 9,
   "metadata": {},
   "outputs": [
    {
     "data": {
      "text/plain": [
       "False"
      ]
     },
     "execution_count": 9,
     "metadata": {},
     "output_type": "execute_result"
    }
   ],
   "source": [
    "isinstance(verts, matplotlib.markers.MarkerStyle)"
   ]
  },
  {
   "cell_type": "markdown",
   "metadata": {},
   "source": [
    "```python\n",
    "def scatter(self, x, y, s=None, c=None, marker=None ...):\n",
    "    # load default marker from rcParams\n",
    "    if marker is None:\n",
    "        marker = rcParams['scatter.marker']\n",
    "\n",
    "    if isinstance(marker, mmarkers.MarkerStyle):\n",
    "        marker_obj = marker\n",
    "    else:\n",
    "        marker_obj = mmarkers.MarkerStyle(marker)\n",
    "```\n",
    "在scatter方法的定义中，可以看到verts作为MarkerStyle构造器的参数实例化marker对象。\n",
    "\n",
    "MarkerStyle是markers模块的类，模块包含处理标记的功能，被plot和scatter方法的标记功能使用。在marker所有可能的定义中，\n",
    "\n",
    "> A list of (x, y) pairs used for Path vertices. The center of the marker is located at (0, 0) and the size is normalized, such that the created path is encapsulated inside the unit cell.\n",
    "\n",
    "存在一个列表，元素为(x, y)对，被用于路径Path顶点（路点）。标记的中心定位在(0, 0)，大小是标准化后的尺寸，以便将创建的路径封装在单位单元内。"
   ]
  },
  {
   "cell_type": "markdown",
   "metadata": {},
   "source": [
    "### 实验1 观察verts变量及其对应的marker_obj对象"
   ]
  },
  {
   "cell_type": "code",
   "execution_count": 22,
   "metadata": {},
   "outputs": [
    {
     "data": {
      "text/plain": [
       "(63, 2)"
      ]
     },
     "execution_count": 22,
     "metadata": {},
     "output_type": "execute_result"
    }
   ],
   "source": [
    "verts.shape"
   ]
  },
  {
   "cell_type": "code",
   "execution_count": 27,
   "metadata": {},
   "outputs": [
    {
     "data": {
      "text/plain": [
       "array([[0.31830989, 0.        ],\n",
       "       [0.31671966, 0.01059265],\n",
       "       [0.31196488, 0.02107947],\n",
       "       [0.30409305, 0.03135567],\n",
       "       [0.29318282, 0.04131857]])"
      ]
     },
     "execution_count": 27,
     "metadata": {},
     "output_type": "execute_result"
    }
   ],
   "source": [
    "verts[0:5,:]"
   ]
  },
  {
   "cell_type": "code",
   "execution_count": 9,
   "metadata": {},
   "outputs": [],
   "source": [
    "marker_obj = matplotlib.markers.MarkerStyle(verts)"
   ]
  },
  {
   "cell_type": "code",
   "execution_count": 34,
   "metadata": {},
   "outputs": [],
   "source": [
    "path = marker_obj.get_path()"
   ]
  },
  {
   "cell_type": "markdown",
   "metadata": {},
   "source": [
    "path没有路径指令？\n",
    "\n",
    "默认的路径指令可能是，MOVETO,LINETO...,CLOSEPOLY"
   ]
  },
  {
   "cell_type": "markdown",
   "metadata": {},
   "source": [
    "### 实验2 绘制marker_obj对象"
   ]
  },
  {
   "cell_type": "code",
   "execution_count": 15,
   "metadata": {},
   "outputs": [
    {
     "data": {
      "application/vnd.jupyter.widget-view+json": {
       "model_id": "af7bd8e30d274ee0b0408ea25e77127b",
       "version_major": 2,
       "version_minor": 0
      },
      "text/plain": [
       "Canvas(toolbar=Toolbar(toolitems=[('Home', 'Reset original view', 'home', 'home'), ('Back', 'Back to previous …"
      ]
     },
     "metadata": {},
     "output_type": "display_data"
    }
   ],
   "source": [
    "fig, ax = plt.subplots()"
   ]
  },
  {
   "cell_type": "code",
   "execution_count": 35,
   "metadata": {},
   "outputs": [],
   "source": [
    "patch = matplotlib.patches.PathPatch(path, facecolor='red', lw=2)"
   ]
  },
  {
   "cell_type": "code",
   "execution_count": 36,
   "metadata": {},
   "outputs": [
    {
     "data": {
      "text/plain": [
       "<matplotlib.patches.PathPatch at 0x7c8eed0>"
      ]
     },
     "execution_count": 36,
     "metadata": {},
     "output_type": "execute_result"
    }
   ],
   "source": [
    "ax.add_patch(patch)"
   ]
  },
  {
   "cell_type": "code",
   "execution_count": 20,
   "metadata": {},
   "outputs": [
    {
     "data": {
      "text/plain": [
       "(-1, 1)"
      ]
     },
     "execution_count": 20,
     "metadata": {},
     "output_type": "execute_result"
    }
   ],
   "source": [
    "ax.set_xlim(-1, 1)\n",
    "ax.set_ylim(-1, 1)"
   ]
  },
  {
   "cell_type": "markdown",
   "metadata": {},
   "source": [
    "### 实验3 \n",
    "path = marker_obj.get_path().transformed(\n",
    "            marker_obj.get_transform())"
   ]
  },
  {
   "cell_type": "code",
   "execution_count": 31,
   "metadata": {},
   "outputs": [],
   "source": [
    "ax.cla()"
   ]
  },
  {
   "cell_type": "code",
   "execution_count": 33,
   "metadata": {},
   "outputs": [
    {
     "data": {
      "text/plain": [
       "(-1, 1)"
      ]
     },
     "execution_count": 33,
     "metadata": {},
     "output_type": "execute_result"
    }
   ],
   "source": [
    "path = marker_obj.get_path().transformed(\n",
    "            marker_obj.get_transform())\n",
    "patch = matplotlib.patches.PathPatch(path, facecolor='orange', lw=2)\n",
    "ax.add_patch(patch)\n",
    "ax.set_xlim(-1, 1)\n",
    "ax.set_ylim(-1, 1)"
   ]
  },
  {
   "cell_type": "markdown",
   "metadata": {},
   "source": [
    "#### transform\n",
    "**Ref**\n",
    "- [二维仿射几何变换](https://ww2.mathworks.cn/help/images/ref/affine2d.html)\n",
    "- [Affine transform of an image](https://matplotlib.org/3.1.3/gallery/images_contours_and_fields/affine_image.html)\n",
    "- [何为仿射变换(Affine Transformation)](https://www.cnblogs.com/bnuvincent/p/6691189.html)\n",
    "- [椭圆参数方程](https://jingyan.baidu.com/article/22a299b5c193a99e19376abe.html)\n",
    "- [仿射变换及其变换矩阵的理解](https://www.cnblogs.com/shine-lee/p/10950963.html)\n",
    "- 线性变换\n",
    "- [matplotlib.transforms](https://matplotlib.org/api/transformations.html)\n",
    "- [Transformations Tutorial](https://matplotlib.org/tutorials/advanced/transforms_tutorial.html#sphx-glr-tutorials-advanced-transforms-tutorial-py)\n",
    "> from .transforms import IdentityTransform, Affine2D\n",
    "\n",
    "    def get_transform(self):\n",
    "        return self._transform.frozen()\n",
    "        "
   ]
  },
  {
   "cell_type": "code",
   "execution_count": 42,
   "metadata": {},
   "outputs": [],
   "source": [
    "t = marker_obj.get_transform()"
   ]
  },
  {
   "cell_type": "code",
   "execution_count": 43,
   "metadata": {},
   "outputs": [
    {
     "data": {
      "text/plain": [
       "\u001b[1;31mType:\u001b[0m           Affine2D\n",
       "\u001b[1;31mString form:\u001b[0m   \n",
       "Affine2D(\n",
       "    [[1.57079633 0.         0.        ]\n",
       "     [0.         1.57079633 0.        ]\n",
       "     [0.         0.         1.        ]])\n",
       "\u001b[1;31mFile:\u001b[0m           d:\\apps\\python37\\lib\\site-packages\\matplotlib\\transforms.py\n",
       "\u001b[1;31mDocstring:\u001b[0m      A mutable 2D affine transformation.\n",
       "\u001b[1;31mInit docstring:\u001b[0m\n",
       "Initialize an Affine transform from a 3x3 numpy float array::\n",
       "\n",
       "  a c e\n",
       "  b d f\n",
       "  0 0 1\n",
       "\n",
       "If *matrix* is None, initialize with the identity transform.\n"
      ]
     },
     "metadata": {},
     "output_type": "display_data"
    }
   ],
   "source": [
    "t?"
   ]
  },
  {
   "cell_type": "markdown",
   "metadata": {},
   "source": [
    "## path\n",
    "transformed?\n",
    "```python\n",
    "    def transformed(self, transform):\n",
    "        \"\"\"\n",
    "        Return a transformed copy of the path.\n",
    "\n",
    "        See Also\n",
    "        --------\n",
    "        matplotlib.transforms.TransformedPath\n",
    "            A specialized path class that will cache the transformed result and\n",
    "            automatically update when the transform changes.\n",
    "        \"\"\"\n",
    "        return Path(transform.transform(self.vertices), self.codes,\n",
    "                    self._interpolation_steps)\n",
    "```"
   ]
  },
  {
   "cell_type": "code",
   "execution_count": 49,
   "metadata": {},
   "outputs": [
    {
     "data": {
      "text/plain": [
       "\u001b[1;31mType:\u001b[0m        int\n",
       "\u001b[1;31mString form:\u001b[0m 1\n",
       "\u001b[1;31mDocstring:\u001b[0m  \n",
       "int([x]) -> integer\n",
       "int(x, base=10) -> integer\n",
       "\n",
       "Convert a number or string to an integer, or return 0 if no arguments\n",
       "are given.  If x is a number, return x.__int__().  For floating point\n",
       "numbers, this truncates towards zero.\n",
       "\n",
       "If x is not a number or if base is given, then x must be a string,\n",
       "bytes, or bytearray instance representing an integer literal in the\n",
       "given base.  The literal can be preceded by '+' or '-' and be surrounded\n",
       "by whitespace.  The base defaults to 10.  Valid bases are 0 and 2-36.\n",
       "Base 0 means to interpret the base from the string as an integer literal.\n",
       ">>> int('0b100', base=0)\n",
       "4\n"
      ]
     },
     "metadata": {},
     "output_type": "display_data"
    }
   ],
   "source": [
    "path._interpolation_steps??"
   ]
  },
  {
   "cell_type": "code",
   "execution_count": 37,
   "metadata": {},
   "outputs": [
    {
     "data": {
      "text/plain": [
       "<matplotlib.transforms.Affine2D at 0x7dee4b0>"
      ]
     },
     "execution_count": 37,
     "metadata": {},
     "output_type": "execute_result"
    }
   ],
   "source": [
    "marker_obj.get_transform()"
   ]
  },
  {
   "cell_type": "code",
   "execution_count": 52,
   "metadata": {
    "collapsed": true,
    "jupyter": {
     "outputs_hidden": true
    }
   },
   "outputs": [
    {
     "data": {
      "text/plain": [
       "array([[ 0.5       ,  0.        ],\n",
       "       [ 0.49750208,  0.0166389 ],\n",
       "       [ 0.49003329,  0.03311156],\n",
       "       [ 0.47766824,  0.04925337],\n",
       "       [ 0.4605305 ,  0.06490306],\n",
       "       [ 0.43879128,  0.07990426],\n",
       "       [ 0.41266781,  0.09410708],\n",
       "       [ 0.38242109,  0.10736961],\n",
       "       [ 0.34835335,  0.11955935],\n",
       "       [ 0.31080498,  0.13055448],\n",
       "       [ 0.27015115,  0.14024516],\n",
       "       [ 0.22679806,  0.14853456],\n",
       "       [ 0.18117888,  0.15533985],\n",
       "       [ 0.13374941,  0.16059303],\n",
       "       [ 0.08498357,  0.16424162],\n",
       "       [ 0.0353686 ,  0.16624916],\n",
       "       [-0.01459976,  0.1665956 ],\n",
       "       [-0.06442225,  0.16527747],\n",
       "       [-0.11360105,  0.16230794],\n",
       "       [-0.16164478,  0.15771668],\n",
       "       [-0.20807342,  0.15154957],\n",
       "       [-0.25242305,  0.14386823],\n",
       "       [-0.29425056,  0.1347494 ],\n",
       "       [-0.33313801,  0.1242842 ],\n",
       "       [-0.36869686,  0.1125772 ],\n",
       "       [-0.40057181,  0.09974536],\n",
       "       [-0.42844438,  0.0859169 ],\n",
       "       [-0.45203607,  0.07122998],\n",
       "       [-0.47111117,  0.05583136],\n",
       "       [-0.48547908,  0.03987489],\n",
       "       [-0.49499625,  0.02352   ],\n",
       "       [-0.49956758,  0.00693011],\n",
       "       [-0.49914739, -0.00972902],\n",
       "       [-0.49373988, -0.02629095],\n",
       "       [-0.4833991 , -0.04259018],\n",
       "       [-0.46822834, -0.05846387],\n",
       "       [-0.44837921, -0.07375341],\n",
       "       [-0.42405002, -0.08830602],\n",
       "       [-0.39548386, -0.10197632],\n",
       "       [-0.36296615, -0.11462769],\n",
       "       [-0.32682181, -0.12613375],\n",
       "       [-0.28741197, -0.13637952],\n",
       "       [-0.24513041, -0.14526263],\n",
       "       [-0.20039959, -0.15269432],\n",
       "       [-0.15366643, -0.15860035],\n",
       "       [-0.1053979 , -0.16292169],\n",
       "       [-0.05607626, -0.16561517],\n",
       "       [-0.00619433, -0.16665388],\n",
       "       [ 0.04374949, -0.16602743],\n",
       "       [ 0.09325618, -0.1637421 ],\n",
       "       [ 0.14183109, -0.15982071],\n",
       "       [ 0.18898887, -0.15430245],\n",
       "       [ 0.23425834, -0.14724244],\n",
       "       [ 0.27718717, -0.13871124],\n",
       "       [ 0.31734644, -0.12879408],\n",
       "       [ 0.35433489, -0.11759005],\n",
       "       [ 0.38778294, -0.10521111],\n",
       "       [ 0.41735639, -0.09178092],\n",
       "       [ 0.44275976, -0.0774337 ],\n",
       "       [ 0.46373922, -0.06231278],\n",
       "       [ 0.48008514, -0.04656925],\n",
       "       [ 0.49163422, -0.03036042],\n",
       "       [ 0.49827105, -0.01384823]])"
      ]
     },
     "execution_count": 52,
     "metadata": {},
     "output_type": "execute_result"
    }
   ],
   "source": [
    "t.transform(path.vertices)"
   ]
  },
  {
   "cell_type": "code",
   "execution_count": 53,
   "metadata": {},
   "outputs": [
    {
     "data": {
      "text/plain": [
       "array([[1.57079633, 0.        , 0.        ],\n",
       "       [0.        , 1.57079633, 0.        ],\n",
       "       [0.        , 0.        , 1.        ]])"
      ]
     },
     "execution_count": 53,
     "metadata": {},
     "output_type": "execute_result"
    }
   ],
   "source": [
    "# 放大的仿射变换\n",
    "t.get_matrix()"
   ]
  },
  {
   "cell_type": "code",
   "execution_count": 54,
   "metadata": {},
   "outputs": [
    {
     "data": {
      "text/plain": [
       "array([[1., 0., 0.],\n",
       "       [0., 1., 0.],\n",
       "       [0., 0., 1.]])"
      ]
     },
     "execution_count": 54,
     "metadata": {},
     "output_type": "execute_result"
    }
   ],
   "source": [
    "t.identity().get_matrix()"
   ]
  },
  {
   "cell_type": "code",
   "execution_count": null,
   "metadata": {},
   "outputs": [],
   "source": [
    "marker_obj.get_transform()"
   ]
  },
  {
   "cell_type": "markdown",
   "metadata": {},
   "source": [
    "这是怎么回事？\n",
    "```python\n",
    "        # load default marker from rcParams\n",
    "        if marker is None:\n",
    "            marker = rcParams['scatter.marker']\n",
    "\n",
    "        if isinstance(marker, mmarkers.MarkerStyle):\n",
    "            marker_obj = marker\n",
    "        else:\n",
    "            marker_obj = mmarkers.MarkerStyle(marker)\n",
    "\n",
    "        path = marker_obj.get_path().transformed(\n",
    "            marker_obj.get_transform())\n",
    "        if not marker_obj.is_filled():\n",
    "            edgecolors = 'face'\n",
    "            linewidths = rcParams['lines.linewidth']\n",
    "\n",
    "        offsets = np.ma.column_stack([x, y])\n",
    "\n",
    "        collection = mcoll.PathCollection(\n",
    "                (path,), scales,\n",
    "                facecolors=colors,\n",
    "                edgecolors=edgecolors,\n",
    "                linewidths=linewidths,\n",
    "                offsets=offsets,\n",
    "                transOffset=kwargs.pop('transform', self.transData),\n",
    "                alpha=alpha\n",
    "                )\n",
    "        collection.set_transform(mtransforms.IdentityTransform())\n",
    "        collection.update(kwargs)\n",
    "\n",
    "        if colors is None:\n",
    "            collection.set_array(c)\n",
    "            collection.set_cmap(cmap)\n",
    "            collection.set_norm(norm)\n",
    "\n",
    "            if vmin is not None or vmax is not None:\n",
    "                collection.set_clim(vmin, vmax)\n",
    "            else:\n",
    "                collection.autoscale_None()\n",
    "                \n",
    "        self.add_collection(collection)\n",
    "```\n",
    "> marker_obj = mmarkers.MarkerStyle(marker)\n",
    "verts作为MarkerStyle构造器的参数，实例化marker对象"
   ]
  },
  {
   "cell_type": "markdown",
   "metadata": {},
   "source": [
    "path没有路径指令？"
   ]
  },
  {
   "cell_type": "markdown",
   "metadata": {},
   "source": [
    "默认的路径指令可能是，MOVETO,LINETO...,CLOSEPOLY"
   ]
  },
  {
   "cell_type": "code",
   "execution_count": 58,
   "metadata": {},
   "outputs": [
    {
     "data": {
      "text/plain": [
       "array([0.11301703, 0.05978654, 0.88622347, 0.12624546, 0.7588806 ,\n",
       "       0.62983259, 0.93101403, 0.45262402, 0.60470987, 0.67459773,\n",
       "       0.07023867, 0.64647912, 0.43189744, 0.75579181, 0.22463674,\n",
       "       0.57954772, 0.88872214, 0.13519554, 0.30330362, 0.54826014,\n",
       "       0.05752122, 0.21296075, 0.20804315, 0.24619614, 0.96239112,\n",
       "       0.52824613, 0.51499091, 0.88999741, 0.74716556, 0.3298846 ])"
      ]
     },
     "execution_count": 58,
     "metadata": {},
     "output_type": "execute_result"
    }
   ],
   "source": []
  },
  {
   "cell_type": "code",
   "execution_count": 59,
   "metadata": {
    "collapsed": true,
    "jupyter": {
     "outputs_hidden": true
    }
   },
   "outputs": [
    {
     "data": {
      "text/plain": [
       "masked_array(\n",
       "  data=[[0.40026150325976384, 0.11301703354550818],\n",
       "        [0.875427499977598, 0.05978653819814328],\n",
       "        [0.5672757018129796, 0.8862234672576381],\n",
       "        [0.9617375668385404, 0.12624545959047395],\n",
       "        [0.1356499366951729, 0.7588805994008981],\n",
       "        [0.187725168907667, 0.6298325856327857],\n",
       "        [0.5070702179092512, 0.9310140304475991],\n",
       "        [0.07276406819150405, 0.4526240163185016],\n",
       "        [0.8363450313833953, 0.6047098706459085],\n",
       "        [0.7459757959954108, 0.6745977329454865],\n",
       "        [0.6370395744354557, 0.07023867135402095],\n",
       "        [0.2202030138637866, 0.6464791214399058],\n",
       "        [0.7780179132077204, 0.43189743791815294],\n",
       "        [0.6016202419428829, 0.75579181273855],\n",
       "        [0.017793875414288896, 0.22463673999995482],\n",
       "        [0.9920190064196774, 0.579547721801578],\n",
       "        [0.2986503197036011, 0.8887221437123501],\n",
       "        [0.6059938847592574, 0.13519553529144512],\n",
       "        [0.23737725362127393, 0.3033036198556047],\n",
       "        [0.7310325423425654, 0.5482601351695309],\n",
       "        [0.25581902047162697, 0.057521221149068213],\n",
       "        [0.40671698748175933, 0.21296074876956772],\n",
       "        [0.14617455674222368, 0.20804315012235464],\n",
       "        [0.24895122275177628, 0.24619613948975483],\n",
       "        [0.8296635066685425, 0.9623911165680378],\n",
       "        [0.443256445912836, 0.5282461256668646],\n",
       "        [0.5726396387516641, 0.5149909126745081],\n",
       "        [0.44455232763929076, 0.8899974133374184],\n",
       "        [0.46234798640250774, 0.7471655586640342],\n",
       "        [0.5531280157233506, 0.3298845973684703]],\n",
       "  mask=[[False, False],\n",
       "        [False, False],\n",
       "        [False, False],\n",
       "        [False, False],\n",
       "        [False, False],\n",
       "        [False, False],\n",
       "        [False, False],\n",
       "        [False, False],\n",
       "        [False, False],\n",
       "        [False, False],\n",
       "        [False, False],\n",
       "        [False, False],\n",
       "        [False, False],\n",
       "        [False, False],\n",
       "        [False, False],\n",
       "        [False, False],\n",
       "        [False, False],\n",
       "        [False, False],\n",
       "        [False, False],\n",
       "        [False, False],\n",
       "        [False, False],\n",
       "        [False, False],\n",
       "        [False, False],\n",
       "        [False, False],\n",
       "        [False, False],\n",
       "        [False, False],\n",
       "        [False, False],\n",
       "        [False, False],\n",
       "        [False, False],\n",
       "        [False, False]],\n",
       "  fill_value=1e+20)"
      ]
     },
     "execution_count": 59,
     "metadata": {},
     "output_type": "execute_result"
    }
   ],
   "source": [
    "np.ma.column_stack([x, y])"
   ]
  },
  {
   "cell_type": "code",
   "execution_count": 61,
   "metadata": {},
   "outputs": [
    {
     "data": {
      "text/plain": [
       "array([[1., 0., 0.],\n",
       "       [0., 1., 0.],\n",
       "       [0., 0., 1.]])"
      ]
     },
     "execution_count": 61,
     "metadata": {},
     "output_type": "execute_result"
    }
   ],
   "source": [
    "matplotlib.transforms.IdentityTransform().get_matrix()"
   ]
  },
  {
   "cell_type": "markdown",
   "metadata": {},
   "source": [
    "collection = mcoll.PathCollection(\n",
    "                (path,), scales,\n",
    "                facecolors=colors,\n",
    "                edgecolors=edgecolors,\n",
    "                linewidths=linewidths,\n",
    "                offsets=offsets,\n",
    "                transOffset=kwargs.pop('transform', self.transData),\n",
    "                alpha=alpha\n",
    "                )"
   ]
  },
  {
   "cell_type": "markdown",
   "metadata": {},
   "source": [
    "### matplotlib.collections\n",
    "\n",
    "> Classes for the efficient drawing of large collections of objects that share most properties, e.g., a large number of line segments or polygons.\n",
    "\n",
    "> The classes are not meant to be as flexible as their single element counterparts (e.g., you may not be able to select all line styles) but they are meant to be fast for common use cases (e.g., a large set of solid line segments).\n",
    "\n",
    "模块中包含的类用于高效绘制大量共享属性的对象，如大量的线段或多边形。\n",
    "\n",
    "这些类并不像它们的单元素对应物那样灵活（例如，您可能无法选择所有线型），但是对于常见用例（例如，大量的实线线段）而言，它们的作用就是快。"
   ]
  },
  {
   "cell_type": "markdown",
   "metadata": {},
   "source": [
    "#### class matplotlib.collections.PathCollection(paths, sizes=None, **kwargs)\n",
    "\n",
    "> This is the most basic Collection subclass. A PathCollection is e.g. created by a scatter() plot.\n",
    "\n",
    "这是最基本的Collection子类。PathCollection由一下制图方法创建。例如 由scatter（）\n",
    "\n",
    "> paths is a sequence of matplotlib.path.Path instances.\n",
    "\n",
    "参数paths是Path实例的序列。\n",
    "\n",
    "    Valid Collection keyword arguments:\n",
    "\n",
    "            edgecolors: None\n",
    "            facecolors: None\n",
    "            linewidths: None\n",
    "            antialiaseds: None\n",
    "            offsets: None\n",
    "            transOffset: transforms.IdentityTransform()\n",
    "            norm: None (optional for matplotlib.cm.ScalarMappable)\n",
    "            cmap: None (optional for matplotlib.cm.ScalarMappable)\n",
    "\n",
    "    offsets and transOffset are used to translate the patch after rendering (default no offsets)\n",
    "\n",
    "    If any of edgecolors, facecolors, linewidths, antialiaseds are None, they default to their matplotlib.rcParams patch setting, in sequence form.\n"
   ]
  },
  {
   "cell_type": "code",
   "execution_count": 68,
   "metadata": {},
   "outputs": [
    {
     "data": {
      "text/plain": [
       "'__main__'"
      ]
     },
     "execution_count": 68,
     "metadata": {},
     "output_type": "execute_result"
    }
   ],
   "source": [
    "__name__"
   ]
  },
  {
   "cell_type": "code",
   "execution_count": null,
   "metadata": {},
   "outputs": [],
   "source": []
  }
 ],
 "metadata": {
  "kernelspec": {
   "display_name": "Python 3",
   "language": "python",
   "name": "python3"
  },
  "language_info": {
   "codemirror_mode": {
    "name": "ipython",
    "version": 3
   },
   "file_extension": ".py",
   "mimetype": "text/x-python",
   "name": "python",
   "nbconvert_exporter": "python",
   "pygments_lexer": "ipython3",
   "version": "3.7.5"
  }
 },
 "nbformat": 4,
 "nbformat_minor": 4
}
