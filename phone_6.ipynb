{
 "cells": [
  {
   "cell_type": "markdown",
   "metadata": {},
   "source": [
    "# 6\n",
    "\n",
    "phone_4 已经在另一个地方发生修改，phone6就是phone4\n",
    "\n",
    "- gitclone 太好了"
   ]
  },
  {
   "cell_type": "code",
   "execution_count": 1,
   "metadata": {},
   "outputs": [],
   "source": [
    "import pandas as pd\n",
    "import matplotlib\n",
    "import matplotlib.pyplot as plt\n",
    "import numpy as np"
   ]
  },
  {
   "cell_type": "code",
   "execution_count": 2,
   "metadata": {},
   "outputs": [],
   "source": [
    "%matplotlib widget\n",
    "matplotlib.rcParams['font.family'] = ['DengXian', 'sans-serif']"
   ]
  },
  {
   "cell_type": "code",
   "execution_count": 8,
   "metadata": {},
   "outputs": [],
   "source": [
    "fn = 'phone_data2.csv'\n",
    "df = pd.read_csv(fn)\n",
    "c = df['CPU'].astype('category')"
   ]
  },
  {
   "cell_type": "code",
   "execution_count": 88,
   "metadata": {},
   "outputs": [],
   "source": [
    "widths  = [2, 1]\n",
    "heights = [4, 2]\n",
    "gs_kw   = dict(width_ratios=widths, height_ratios=heights)"
   ]
  },
  {
   "cell_type": "code",
   "execution_count": 89,
   "metadata": {},
   "outputs": [],
   "source": [
    "plt.close()"
   ]
  },
  {
   "cell_type": "code",
   "execution_count": 90,
   "metadata": {},
   "outputs": [
    {
     "data": {
      "application/vnd.jupyter.widget-view+json": {
       "model_id": "b42a48321f394ef2962e069724837b4a",
       "version_major": 2,
       "version_minor": 0
      },
      "text/plain": [
       "Canvas(toolbar=Toolbar(toolitems=[('Home', 'Reset original view', 'home', 'home'), ('Back', 'Back to previous …"
      ]
     },
     "metadata": {},
     "output_type": "display_data"
    }
   ],
   "source": [
    "fig, axes = plt.subplots(ncols=2, nrows=2, constrained_layout=True,\n",
    "                             gridspec_kw=gs_kw, figsize=(3,6))"
   ]
  },
  {
   "cell_type": "code",
   "execution_count": 91,
   "metadata": {},
   "outputs": [],
   "source": [
    "gs = axes[1,0].get_gridspec()"
   ]
  },
  {
   "cell_type": "code",
   "execution_count": 92,
   "metadata": {},
   "outputs": [],
   "source": [
    "for ax in axes[1]:\n",
    "    ax.remove()"
   ]
  },
  {
   "cell_type": "code",
   "execution_count": 93,
   "metadata": {},
   "outputs": [],
   "source": [
    "ax_buttom = fig.add_subplot(gs[1,:])"
   ]
  },
  {
   "cell_type": "markdown",
   "metadata": {},
   "source": []
  },
  {
   "cell_type": "code",
   "execution_count": 94,
   "metadata": {},
   "outputs": [],
   "source": [
    "for i in range(len(c.cat.categories)):\n",
    "    axes[0,0].scatter('宽', '长', s = '重', c = 'C%d' % (i+1), alpha = 0.5, \n",
    "               data = df[df['CPU'] == c.cat.categories[i]],\n",
    "               label = c.cat.categories[i])"
   ]
  },
  {
   "cell_type": "code",
   "execution_count": 95,
   "metadata": {},
   "outputs": [],
   "source": [
    "axes[0,0].set_xlim(0, 100)\n",
    "axes[0,0].set_ylim(0, 200)\n",
    "axes[0,0].set_aspect('equal', 'box')"
   ]
  },
  {
   "cell_type": "markdown",
   "metadata": {},
   "source": [
    "## axes_buttom\n",
    "\n",
    "----"
   ]
  },
  {
   "cell_type": "code",
   "execution_count": 86,
   "metadata": {
    "collapsed": true,
    "jupyter": {
     "outputs_hidden": true
    }
   },
   "outputs": [
    {
     "data": {
      "text/html": [
       "<div>\n",
       "<style scoped>\n",
       "    .dataframe tbody tr th:only-of-type {\n",
       "        vertical-align: middle;\n",
       "    }\n",
       "\n",
       "    .dataframe tbody tr th {\n",
       "        vertical-align: top;\n",
       "    }\n",
       "\n",
       "    .dataframe thead th {\n",
       "        text-align: right;\n",
       "    }\n",
       "</style>\n",
       "<table border=\"1\" class=\"dataframe\">\n",
       "  <thead>\n",
       "    <tr style=\"text-align: right;\">\n",
       "      <th></th>\n",
       "      <th>brand</th>\n",
       "      <th>厂牌</th>\n",
       "      <th>SKU</th>\n",
       "      <th>name</th>\n",
       "      <th>0604价格</th>\n",
       "      <th>CPU</th>\n",
       "      <th>长</th>\n",
       "      <th>宽</th>\n",
       "      <th>厚</th>\n",
       "      <th>重</th>\n",
       "      <th>屏</th>\n",
       "      <th>分辨率长</th>\n",
       "      <th>分辨率宽</th>\n",
       "      <th>屏幕类型</th>\n",
       "      <th>ppi</th>\n",
       "      <th>上市时间</th>\n",
       "    </tr>\n",
       "  </thead>\n",
       "  <tbody>\n",
       "    <tr>\n",
       "      <th>3</th>\n",
       "      <td>apple</td>\n",
       "      <td>苹果</td>\n",
       "      <td>1.000069e+11</td>\n",
       "      <td>SE2</td>\n",
       "      <td>3799.0</td>\n",
       "      <td>A13</td>\n",
       "      <td>138.40</td>\n",
       "      <td>67.30</td>\n",
       "      <td>7.30</td>\n",
       "      <td>148.0</td>\n",
       "      <td>NaN</td>\n",
       "      <td>NaN</td>\n",
       "      <td>NaN</td>\n",
       "      <td>NaN</td>\n",
       "      <td>NaN</td>\n",
       "      <td>NaN</td>\n",
       "    </tr>\n",
       "    <tr>\n",
       "      <th>11</th>\n",
       "      <td>HUAWEI</td>\n",
       "      <td>华为</td>\n",
       "      <td>1.000044e+11</td>\n",
       "      <td>P30</td>\n",
       "      <td>3288.0</td>\n",
       "      <td>麒麟980</td>\n",
       "      <td>149.10</td>\n",
       "      <td>71.36</td>\n",
       "      <td>7.57</td>\n",
       "      <td>165.0</td>\n",
       "      <td>6.10</td>\n",
       "      <td>2340.0</td>\n",
       "      <td>1080.0</td>\n",
       "      <td>OLED</td>\n",
       "      <td>422.0</td>\n",
       "      <td>NaN</td>\n",
       "    </tr>\n",
       "    <tr>\n",
       "      <th>7</th>\n",
       "      <td>mi</td>\n",
       "      <td>小米</td>\n",
       "      <td>NaN</td>\n",
       "      <td>Max 2</td>\n",
       "      <td>NaN</td>\n",
       "      <td>骁龙625</td>\n",
       "      <td>174.10</td>\n",
       "      <td>88.70</td>\n",
       "      <td>7.60</td>\n",
       "      <td>211.0</td>\n",
       "      <td>NaN</td>\n",
       "      <td>1920.0</td>\n",
       "      <td>1080.0</td>\n",
       "      <td>NaN</td>\n",
       "      <td>342.0</td>\n",
       "      <td>17年5月25日</td>\n",
       "    </tr>\n",
       "    <tr>\n",
       "      <th>9</th>\n",
       "      <td>Sumsang</td>\n",
       "      <td>三星</td>\n",
       "      <td>NaN</td>\n",
       "      <td>S20 5G+</td>\n",
       "      <td>NaN</td>\n",
       "      <td>骁龙865</td>\n",
       "      <td>161.90</td>\n",
       "      <td>73.70</td>\n",
       "      <td>7.80</td>\n",
       "      <td>186.0</td>\n",
       "      <td>6.70</td>\n",
       "      <td>3200.0</td>\n",
       "      <td>1440.0</td>\n",
       "      <td>NaN</td>\n",
       "      <td>NaN</td>\n",
       "      <td>NaN</td>\n",
       "    </tr>\n",
       "    <tr>\n",
       "      <th>4</th>\n",
       "      <td>mi</td>\n",
       "      <td>小米</td>\n",
       "      <td>1.000128e+11</td>\n",
       "      <td>10 青春版</td>\n",
       "      <td>2299.0</td>\n",
       "      <td>骁龙765G</td>\n",
       "      <td>164.02</td>\n",
       "      <td>74.77</td>\n",
       "      <td>7.88</td>\n",
       "      <td>192.0</td>\n",
       "      <td>NaN</td>\n",
       "      <td>2400.0</td>\n",
       "      <td>1080.0</td>\n",
       "      <td>NaN</td>\n",
       "      <td>NaN</td>\n",
       "      <td>NaN</td>\n",
       "    </tr>\n",
       "    <tr>\n",
       "      <th>8</th>\n",
       "      <td>Sumsang</td>\n",
       "      <td>三星</td>\n",
       "      <td>NaN</td>\n",
       "      <td>S20 5G</td>\n",
       "      <td>NaN</td>\n",
       "      <td>骁龙865</td>\n",
       "      <td>151.70</td>\n",
       "      <td>69.10</td>\n",
       "      <td>7.90</td>\n",
       "      <td>163.0</td>\n",
       "      <td>6.20</td>\n",
       "      <td>3200.0</td>\n",
       "      <td>1440.0</td>\n",
       "      <td>NaN</td>\n",
       "      <td>NaN</td>\n",
       "      <td>NaN</td>\n",
       "    </tr>\n",
       "    <tr>\n",
       "      <th>1</th>\n",
       "      <td>apple</td>\n",
       "      <td>苹果</td>\n",
       "      <td>1.000083e+11</td>\n",
       "      <td>11 pro</td>\n",
       "      <td>8799.0</td>\n",
       "      <td>A13</td>\n",
       "      <td>144.00</td>\n",
       "      <td>71.40</td>\n",
       "      <td>8.10</td>\n",
       "      <td>188.0</td>\n",
       "      <td>NaN</td>\n",
       "      <td>NaN</td>\n",
       "      <td>NaN</td>\n",
       "      <td>NaN</td>\n",
       "      <td>NaN</td>\n",
       "      <td>NaN</td>\n",
       "    </tr>\n",
       "    <tr>\n",
       "      <th>2</th>\n",
       "      <td>apple</td>\n",
       "      <td>苹果</td>\n",
       "      <td>1.000083e+11</td>\n",
       "      <td>11 Pro max</td>\n",
       "      <td>9299.0</td>\n",
       "      <td>A13</td>\n",
       "      <td>158.00</td>\n",
       "      <td>77.80</td>\n",
       "      <td>8.10</td>\n",
       "      <td>226.0</td>\n",
       "      <td>NaN</td>\n",
       "      <td>NaN</td>\n",
       "      <td>NaN</td>\n",
       "      <td>NaN</td>\n",
       "      <td>NaN</td>\n",
       "      <td>NaN</td>\n",
       "    </tr>\n",
       "    <tr>\n",
       "      <th>0</th>\n",
       "      <td>apple</td>\n",
       "      <td>苹果</td>\n",
       "      <td>1.000083e+11</td>\n",
       "      <td>11</td>\n",
       "      <td>5499.0</td>\n",
       "      <td>A13</td>\n",
       "      <td>150.90</td>\n",
       "      <td>75.70</td>\n",
       "      <td>8.30</td>\n",
       "      <td>194.0</td>\n",
       "      <td>NaN</td>\n",
       "      <td>NaN</td>\n",
       "      <td>NaN</td>\n",
       "      <td>NaN</td>\n",
       "      <td>NaN</td>\n",
       "      <td>NaN</td>\n",
       "    </tr>\n",
       "    <tr>\n",
       "      <th>12</th>\n",
       "      <td>HUAWEI</td>\n",
       "      <td>华为</td>\n",
       "      <td>1.000007e+11</td>\n",
       "      <td>畅享 MAX</td>\n",
       "      <td>1199.0</td>\n",
       "      <td>骁龙660</td>\n",
       "      <td>177.57</td>\n",
       "      <td>86.24</td>\n",
       "      <td>8.48</td>\n",
       "      <td>210.0</td>\n",
       "      <td>NaN</td>\n",
       "      <td>2244.0</td>\n",
       "      <td>1080.0</td>\n",
       "      <td>NaN</td>\n",
       "      <td>350.0</td>\n",
       "      <td>2018年10月</td>\n",
       "    </tr>\n",
       "    <tr>\n",
       "      <th>13</th>\n",
       "      <td>HUAWEI</td>\n",
       "      <td>荣耀</td>\n",
       "      <td>1.000066e+11</td>\n",
       "      <td>30S</td>\n",
       "      <td>2399.0</td>\n",
       "      <td>麒麟820</td>\n",
       "      <td>162.31</td>\n",
       "      <td>75.00</td>\n",
       "      <td>8.58</td>\n",
       "      <td>190.0</td>\n",
       "      <td>6.50</td>\n",
       "      <td>2400.0</td>\n",
       "      <td>1080.0</td>\n",
       "      <td>LTPS LCD</td>\n",
       "      <td>405.0</td>\n",
       "      <td>20年4月1日</td>\n",
       "    </tr>\n",
       "    <tr>\n",
       "      <th>14</th>\n",
       "      <td>vivo</td>\n",
       "      <td>iQOO</td>\n",
       "      <td>1.000128e+11</td>\n",
       "      <td>Neo3</td>\n",
       "      <td>2598.0</td>\n",
       "      <td>骁龙865</td>\n",
       "      <td>163.71</td>\n",
       "      <td>75.55</td>\n",
       "      <td>8.93</td>\n",
       "      <td>198.8</td>\n",
       "      <td>6.57</td>\n",
       "      <td>2408.0</td>\n",
       "      <td>1080.0</td>\n",
       "      <td>NaN</td>\n",
       "      <td>NaN</td>\n",
       "      <td>NaN</td>\n",
       "    </tr>\n",
       "    <tr>\n",
       "      <th>10</th>\n",
       "      <td>HUAWEI</td>\n",
       "      <td>华为</td>\n",
       "      <td>1.000120e+11</td>\n",
       "      <td>P40 Pro</td>\n",
       "      <td>6488.0</td>\n",
       "      <td>麒麟990</td>\n",
       "      <td>158.20</td>\n",
       "      <td>72.60</td>\n",
       "      <td>8.95</td>\n",
       "      <td>209.0</td>\n",
       "      <td>NaN</td>\n",
       "      <td>2640.0</td>\n",
       "      <td>1200.0</td>\n",
       "      <td>NaN</td>\n",
       "      <td>441.0</td>\n",
       "      <td>20年4月8日</td>\n",
       "    </tr>\n",
       "    <tr>\n",
       "      <th>5</th>\n",
       "      <td>mi</td>\n",
       "      <td>小米</td>\n",
       "      <td>1.000128e+11</td>\n",
       "      <td>10</td>\n",
       "      <td>3999.0</td>\n",
       "      <td>骁龙865</td>\n",
       "      <td>162.60</td>\n",
       "      <td>74.80</td>\n",
       "      <td>8.96</td>\n",
       "      <td>208.0</td>\n",
       "      <td>NaN</td>\n",
       "      <td>2340.0</td>\n",
       "      <td>1080.0</td>\n",
       "      <td>NaN</td>\n",
       "      <td>NaN</td>\n",
       "      <td>NaN</td>\n",
       "    </tr>\n",
       "    <tr>\n",
       "      <th>6</th>\n",
       "      <td>mi</td>\n",
       "      <td>小米</td>\n",
       "      <td>NaN</td>\n",
       "      <td>10 Pro</td>\n",
       "      <td>NaN</td>\n",
       "      <td>骁龙865</td>\n",
       "      <td>162.60</td>\n",
       "      <td>74.80</td>\n",
       "      <td>8.96</td>\n",
       "      <td>208.0</td>\n",
       "      <td>NaN</td>\n",
       "      <td>2340.0</td>\n",
       "      <td>1080.0</td>\n",
       "      <td>NaN</td>\n",
       "      <td>NaN</td>\n",
       "      <td>NaN</td>\n",
       "    </tr>\n",
       "  </tbody>\n",
       "</table>\n",
       "</div>"
      ],
      "text/plain": [
       "      brand    厂牌           SKU        name  0604价格     CPU       长      宽  \\\n",
       "3     apple    苹果  1.000069e+11         SE2  3799.0     A13  138.40  67.30   \n",
       "11   HUAWEI    华为  1.000044e+11         P30  3288.0   麒麟980  149.10  71.36   \n",
       "7        mi    小米           NaN       Max 2     NaN   骁龙625  174.10  88.70   \n",
       "9   Sumsang    三星           NaN     S20 5G+     NaN   骁龙865  161.90  73.70   \n",
       "4        mi    小米  1.000128e+11      10 青春版  2299.0  骁龙765G  164.02  74.77   \n",
       "8   Sumsang    三星           NaN      S20 5G     NaN   骁龙865  151.70  69.10   \n",
       "1     apple    苹果  1.000083e+11      11 pro  8799.0     A13  144.00  71.40   \n",
       "2     apple    苹果  1.000083e+11  11 Pro max  9299.0     A13  158.00  77.80   \n",
       "0     apple    苹果  1.000083e+11          11  5499.0     A13  150.90  75.70   \n",
       "12   HUAWEI    华为  1.000007e+11      畅享 MAX  1199.0   骁龙660  177.57  86.24   \n",
       "13   HUAWEI    荣耀  1.000066e+11         30S  2399.0   麒麟820  162.31  75.00   \n",
       "14     vivo  iQOO  1.000128e+11        Neo3  2598.0   骁龙865  163.71  75.55   \n",
       "10   HUAWEI    华为  1.000120e+11     P40 Pro  6488.0   麒麟990  158.20  72.60   \n",
       "5        mi    小米  1.000128e+11          10  3999.0   骁龙865  162.60  74.80   \n",
       "6        mi    小米           NaN      10 Pro     NaN   骁龙865  162.60  74.80   \n",
       "\n",
       "       厚      重     屏    分辨率长    分辨率宽      屏幕类型    ppi      上市时间  \n",
       "3   7.30  148.0   NaN     NaN     NaN       NaN    NaN       NaN  \n",
       "11  7.57  165.0  6.10  2340.0  1080.0      OLED  422.0       NaN  \n",
       "7   7.60  211.0   NaN  1920.0  1080.0       NaN  342.0  17年5月25日  \n",
       "9   7.80  186.0  6.70  3200.0  1440.0       NaN    NaN       NaN  \n",
       "4   7.88  192.0   NaN  2400.0  1080.0       NaN    NaN       NaN  \n",
       "8   7.90  163.0  6.20  3200.0  1440.0       NaN    NaN       NaN  \n",
       "1   8.10  188.0   NaN     NaN     NaN       NaN    NaN       NaN  \n",
       "2   8.10  226.0   NaN     NaN     NaN       NaN    NaN       NaN  \n",
       "0   8.30  194.0   NaN     NaN     NaN       NaN    NaN       NaN  \n",
       "12  8.48  210.0   NaN  2244.0  1080.0       NaN  350.0  2018年10月  \n",
       "13  8.58  190.0  6.50  2400.0  1080.0  LTPS LCD  405.0   20年4月1日  \n",
       "14  8.93  198.8  6.57  2408.0  1080.0       NaN    NaN       NaN  \n",
       "10  8.95  209.0   NaN  2640.0  1200.0       NaN  441.0   20年4月8日  \n",
       "5   8.96  208.0   NaN  2340.0  1080.0       NaN    NaN       NaN  \n",
       "6   8.96  208.0   NaN  2340.0  1080.0       NaN    NaN       NaN  "
      ]
     },
     "execution_count": 86,
     "metadata": {},
     "output_type": "execute_result"
    }
   ],
   "source": [
    "df.sort_values(by = '厚')"
   ]
  },
  {
   "cell_type": "code",
   "execution_count": 76,
   "metadata": {},
   "outputs": [],
   "source": [
    "row, col = df.shape"
   ]
  },
  {
   "cell_type": "code",
   "execution_count": 77,
   "metadata": {},
   "outputs": [],
   "source": [
    "ax_buttom.cla()"
   ]
  },
  {
   "cell_type": "code",
   "execution_count": 78,
   "metadata": {},
   "outputs": [
    {
     "data": {
      "text/plain": [
       "<StemContainer object of 3 artists>"
      ]
     },
     "execution_count": 78,
     "metadata": {},
     "output_type": "execute_result"
    }
   ],
   "source": [
    "#axes[1,0].cla()\n",
    "ax_buttom.stem(df['厚'], markerfmt='o', use_line_collection=True)"
   ]
  },
  {
   "cell_type": "code",
   "execution_count": 79,
   "metadata": {},
   "outputs": [
    {
     "data": {
      "text/plain": [
       "(7.0, 9.5)"
      ]
     },
     "execution_count": 79,
     "metadata": {},
     "output_type": "execute_result"
    }
   ],
   "source": [
    "ax_buttom.set_ylim(7,9.5)"
   ]
  },
  {
   "cell_type": "code",
   "execution_count": 83,
   "metadata": {},
   "outputs": [],
   "source": [
    "r_tick = ax_buttom.set_xticks(np.arange(row))\n",
    "r_text = ax_buttom.set_xticklabels(df['厂牌'] + df['name'], rotation=-65)"
   ]
  },
  {
   "cell_type": "code",
   "execution_count": 84,
   "metadata": {},
   "outputs": [],
   "source": []
  },
  {
   "cell_type": "code",
   "execution_count": null,
   "metadata": {},
   "outputs": [],
   "source": []
  },
  {
   "cell_type": "code",
   "execution_count": 82,
   "metadata": {},
   "outputs": [
    {
     "name": "stderr",
     "output_type": "stream",
     "text": [
      "c:\\users\\gu\\appdata\\local\\programs\\python\\python37\\lib\\site-packages\\ipykernel_launcher.py:1: UserWarning: This figure was using constrained_layout==True, but that is incompatible with subplots_adjust and or tight_layout: setting constrained_layout==False. \n",
      "  \"\"\"Entry point for launching an IPython kernel.\n"
     ]
    }
   ],
   "source": [
    "# fig.tight_layout()"
   ]
  },
  {
   "cell_type": "code",
   "execution_count": null,
   "metadata": {},
   "outputs": [],
   "source": []
  }
 ],
 "metadata": {
  "kernelspec": {
   "display_name": "Python 3",
   "language": "python",
   "name": "python3"
  },
  "language_info": {
   "codemirror_mode": {
    "name": "ipython",
    "version": 3
   },
   "file_extension": ".py",
   "mimetype": "text/x-python",
   "name": "python",
   "nbconvert_exporter": "python",
   "pygments_lexer": "ipython3",
   "version": "3.7.5"
  }
 },
 "nbformat": 4,
 "nbformat_minor": 4
}
