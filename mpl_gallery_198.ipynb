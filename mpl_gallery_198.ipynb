{
 "cells": [
  {
   "cell_type": "code",
   "execution_count": 1,
   "metadata": {},
   "outputs": [],
   "source": [
    "import matplotlib.pyplot as plt\n",
    "\n",
    "from matplotlib.lines import Line2D"
   ]
  },
  {
   "cell_type": "code",
   "execution_count": 2,
   "metadata": {},
   "outputs": [],
   "source": [
    "%matplotlib widget"
   ]
  },
  {
   "cell_type": "code",
   "execution_count": 5,
   "metadata": {},
   "outputs": [
    {
     "data": {
      "application/vnd.jupyter.widget-view+json": {
       "model_id": "b939fc64610f406ba33b6a8f228417ab",
       "version_major": 2,
       "version_minor": 0
      },
      "text/plain": [
       "Canvas(toolbar=Toolbar(toolitems=[('Home', 'Reset original view', 'home', 'home'), ('Back', 'Back to previous …"
      ]
     },
     "metadata": {},
     "output_type": "display_data"
    }
   ],
   "source": [
    "fig, ax = plt.subplots()"
   ]
  },
  {
   "cell_type": "code",
   "execution_count": null,
   "metadata": {},
   "outputs": [],
   "source": []
  },
  {
   "cell_type": "code",
   "execution_count": 7,
   "metadata": {},
   "outputs": [
    {
     "data": {
      "text/plain": [
       "<matplotlib.lines.Line2D at 0x89f0450>"
      ]
     },
     "execution_count": 7,
     "metadata": {},
     "output_type": "execute_result"
    }
   ],
   "source": [
    "ax.add_artist(Line2D([0,.5,1],[0,.5,1]))"
   ]
  },
  {
   "cell_type": "code",
   "execution_count": 14,
   "metadata": {},
   "outputs": [
    {
     "data": {
      "text/plain": [
       "<matplotlib.lines.Line2D at 0x8e6b8d0>"
      ]
     },
     "execution_count": 14,
     "metadata": {},
     "output_type": "execute_result"
    }
   ],
   "source": [
    "ax.add_line(Line2D([0,45,100],[0,.5,100]))"
   ]
  },
  {
   "cell_type": "markdown",
   "metadata": {},
   "source": [
    "## 1. Axes.add_artist"
   ]
  },
  {
   "cell_type": "code",
   "execution_count": null,
   "metadata": {},
   "outputs": [],
   "source": [
    "def add_artist(self, a):\n",
    "    \"\"\"\n",
    "    Add an `~.Artist` to the axes, and return the artist.\n",
    "\n",
    "    Use `add_artist` only for artists for which there is no dedicated\n",
    "    \"add\" method; and if necessary, use a method such as `update_datalim`\n",
    "    to manually update the dataLim if the artist is to be included in\n",
    "    autoscaling.\n",
    "\n",
    "    If no ``transform`` has been specified when creating the artist (e.g.\n",
    "    ``artist.get_transform() == None``) then the transform is set to\n",
    "    ``ax.transData``.\n",
    "    \"\"\"\n",
    "    a.axes = self\n",
    "    self.artists.append(a)\n",
    "    a._remove_method = self.artists.remove\n",
    "    self._set_artist_props(a)\n",
    "    a.set_clip_path(self.patch)\n",
    "    self.stale = True\n",
    "    return a"
   ]
  },
  {
   "cell_type": "code",
   "execution_count": null,
   "metadata": {},
   "outputs": [],
   "source": [
    "def _set_artist_props(self, a):\n",
    "    \"\"\"Set the boilerplate props for artists added to axes.\"\"\"\n",
    "    a.set_figure(self.figure)\n",
    "    if not a.is_transform_set():\n",
    "        a.set_transform(self.transData)\n",
    "\n",
    "    a.axes = self\n",
    "    if a.mouseover:\n",
    "        self._mouseover_set.add(a)"
   ]
  },
  {
   "cell_type": "code",
   "execution_count": null,
   "metadata": {},
   "outputs": [],
   "source": [
    "# The patch draws the background of the axes.  We want this to be below\n",
    "# the other artists.  We use the frame to draw the edges so we are\n",
    "# setting the edgecolor to None.\n",
    "self.patch = self._gen_axes_patch()\n",
    "self.patch.set_figure(self.figure)\n",
    "self.patch.set_facecolor(self._facecolor)\n",
    "self.patch.set_edgecolor('None')\n",
    "self.patch.set_linewidth(0)\n",
    "self.patch.set_transform(self.transAxes)"
   ]
  },
  {
   "cell_type": "code",
   "execution_count": null,
   "metadata": {},
   "outputs": [],
   "source": [
    "def _gen_axes_patch(self):\n",
    "    \"\"\"\n",
    "    Returns\n",
    "    -------\n",
    "    Patch\n",
    "        The patch used to draw the background of the axes.  It is also used\n",
    "        as the clipping path for any data elements on the axes.\n",
    "\n",
    "        In the standard axes, this is a rectangle, but in other projections\n",
    "        it may not be.\n",
    "\n",
    "    Notes\n",
    "    -----\n",
    "    Intended to be overridden by new projection types.\n",
    "    \"\"\"\n",
    "    return mpatches.Rectangle((0.0, 0.0), 1.0, 1.0)"
   ]
  },
  {
   "cell_type": "code",
   "execution_count": 3,
   "metadata": {},
   "outputs": [
    {
     "data": {
      "text/plain": [
       "False"
      ]
     },
     "execution_count": 3,
     "metadata": {},
     "output_type": "execute_result"
    }
   ],
   "source": [
    "l2d.is_transform_set()"
   ]
  },
  {
   "cell_type": "markdown",
   "metadata": {},
   "source": [
    "## 2. Line2D"
   ]
  },
  {
   "cell_type": "code",
   "execution_count": null,
   "metadata": {},
   "outputs": [],
   "source": [
    "def set_marker(self, marker):\n",
    "    \"\"\"\n",
    "    Set the line marker.\n",
    "\n",
    "    Parameters\n",
    "    ----------\n",
    "    marker : marker style string, `~.path.Path` or `~.markers.MarkerStyle`\n",
    "        See `~matplotlib.markers` for full description of possible\n",
    "        arguments.\n",
    "    \"\"\"\n",
    "    self._marker.set_marker(marker)\n",
    "    self.stale = True"
   ]
  },
  {
   "cell_type": "code",
   "execution_count": null,
   "metadata": {},
   "outputs": [],
   "source": [
    "self._marker = MarkerStyle(marker, fillstyle)"
   ]
  },
  {
   "cell_type": "code",
   "execution_count": null,
   "metadata": {},
   "outputs": [],
   "source": []
  },
  {
   "cell_type": "code",
   "execution_count": 2,
   "metadata": {},
   "outputs": [],
   "source": [
    "l2d = Line2D([0,1],[0,1])"
   ]
  },
  {
   "cell_type": "code",
   "execution_count": 7,
   "metadata": {},
   "outputs": [],
   "source": [
    "l2d.set_marker('o')"
   ]
  },
  {
   "cell_type": "code",
   "execution_count": 10,
   "metadata": {},
   "outputs": [],
   "source": [
    "affi = l2d._marker.get_transform()"
   ]
  },
  {
   "cell_type": "code",
   "execution_count": 14,
   "metadata": {},
   "outputs": [
    {
     "data": {
      "text/plain": [
       "array([[0.5, 0. , 0. ],\n",
       "       [0. , 0.5, 0. ],\n",
       "       [0. , 0. , 1. ]])"
      ]
     },
     "execution_count": 14,
     "metadata": {},
     "output_type": "execute_result"
    }
   ],
   "source": [
    "affi.get_matrix()"
   ]
  },
  {
   "cell_type": "markdown",
   "metadata": {},
   "source": [
    "3. "
   ]
  },
  {
   "cell_type": "code",
   "execution_count": null,
   "metadata": {},
   "outputs": [],
   "source": [
    "def __init__(self, marker=None, fillstyle=None):\n",
    "    \"\"\"\n",
    "    Parameters\n",
    "    ----------\n",
    "    marker : str or array-like or None, default: None\n",
    "        *None* means no marker. For other possible marker values see the\n",
    "        module docstring `matplotlib.markers`.\n",
    "\n",
    "    fillstyle : str, default: 'full'\n",
    "        One of 'full', 'left', 'right', 'bottom', 'top', 'none'.\n",
    "    \"\"\"\n",
    "    self._marker_function = None\n",
    "    self.set_fillstyle(fillstyle)\n",
    "    self.set_marker(marker)"
   ]
  },
  {
   "cell_type": "code",
   "execution_count": null,
   "metadata": {},
   "outputs": [],
   "source": []
  },
  {
   "cell_type": "code",
   "execution_count": null,
   "metadata": {},
   "outputs": [],
   "source": []
  },
  {
   "cell_type": "code",
   "execution_count": null,
   "metadata": {},
   "outputs": [],
   "source": []
  },
  {
   "cell_type": "code",
   "execution_count": 9,
   "metadata": {},
   "outputs": [],
   "source": [
    "ax.cla()"
   ]
  },
  {
   "cell_type": "code",
   "execution_count": 16,
   "metadata": {},
   "outputs": [],
   "source": [
    "ax.lines[1].set_marker('o')"
   ]
  },
  {
   "cell_type": "code",
   "execution_count": 17,
   "metadata": {},
   "outputs": [],
   "source": [
    "ax.lines[1].set_markersize(100)"
   ]
  },
  {
   "cell_type": "code",
   "execution_count": 13,
   "metadata": {},
   "outputs": [
    {
     "data": {
      "text/plain": [
       "(0, 100)"
      ]
     },
     "execution_count": 13,
     "metadata": {},
     "output_type": "execute_result"
    }
   ],
   "source": [
    "ax.set_xlim(0,100)"
   ]
  },
  {
   "cell_type": "code",
   "execution_count": 15,
   "metadata": {},
   "outputs": [
    {
     "data": {
      "text/plain": [
       "[<matplotlib.lines.Line2D at 0x8e6b6f0>,\n",
       " <matplotlib.lines.Line2D at 0x8e6b8d0>]"
      ]
     },
     "execution_count": 15,
     "metadata": {},
     "output_type": "execute_result"
    }
   ],
   "source": [
    "ax.lines"
   ]
  },
  {
   "cell_type": "code",
   "execution_count": 18,
   "metadata": {},
   "outputs": [
    {
     "data": {
      "text/plain": [
       "'o'"
      ]
     },
     "execution_count": 18,
     "metadata": {},
     "output_type": "execute_result"
    }
   ],
   "source": [
    "ax.lines[1].get_marker()"
   ]
  },
  {
   "cell_type": "markdown",
   "metadata": {},
   "source": [
    "if marker is None:\n",
    "    marker = rcParams['lines.marker']\n",
    "\n",
    "\n",
    "self._marker = MarkerStyle(marker, fillstyle)"
   ]
  },
  {
   "cell_type": "code",
   "execution_count": 19,
   "metadata": {},
   "outputs": [],
   "source": [
    "from matplotlib.markers import MarkerStyle"
   ]
  },
  {
   "cell_type": "code",
   "execution_count": null,
   "metadata": {},
   "outputs": [],
   "source": []
  },
  {
   "cell_type": "code",
   "execution_count": null,
   "metadata": {},
   "outputs": [],
   "source": [
    "def _set_circle(self, reduction=1.0):\n",
    "    self._transform = Affine2D().scale(0.5 * reduction)\n",
    "    self._snap_threshold = np.inf\n",
    "    fs = self.get_fillstyle()\n",
    "    if not self._half_fill():\n",
    "        self._path = Path.unit_circle()\n",
    "    else:\n",
    "        # build a right-half circle\n",
    "        if fs == 'bottom':\n",
    "            rotate = 270.\n",
    "        elif fs == 'top':\n",
    "            rotate = 90.\n",
    "        elif fs == 'left':\n",
    "            rotate = 180.\n",
    "        else:\n",
    "            rotate = 0.\n",
    "\n",
    "        self._path = self._alt_path = Path.unit_circle_righthalf()\n",
    "        self._transform.rotate_deg(rotate)\n",
    "        self._alt_transform = self._transform.frozen().rotate_deg(180.)"
   ]
  },
  {
   "cell_type": "code",
   "execution_count": null,
   "metadata": {},
   "outputs": [],
   "source": [
    "def _set_square(self):\n",
    "    self._transform = Affine2D().translate(-0.5, -0.5)\n",
    "    self._snap_threshold = 2.0\n",
    "    fs = self.get_fillstyle()\n",
    "    if not self._half_fill():\n",
    "        self._path = Path.unit_rectangle()\n",
    "    else:\n",
    "        # build a bottom filled square out of two rectangles, one\n",
    "        # filled.  Use the rotation to support left, right, bottom\n",
    "        # or top\n",
    "        if fs == 'bottom':\n",
    "            rotate = 0.\n",
    "        elif fs == 'top':\n",
    "            rotate = 180.\n",
    "        elif fs == 'left':\n",
    "            rotate = 270.\n",
    "        else:\n",
    "            rotate = 90.\n",
    "\n",
    "        self._path = Path([[0.0, 0.0], [1.0, 0.0], [1.0, 0.5],\n",
    "                           [0.0, 0.5], [0.0, 0.0]])\n",
    "        self._alt_path = Path([[0.0, 0.5], [1.0, 0.5], [1.0, 1.0],\n",
    "                               [0.0, 1.0], [0.0, 0.5]])\n",
    "        self._transform.rotate_deg(rotate)\n",
    "        self._alt_transform = self._transform\n",
    "\n",
    "    self._joinstyle = 'miter'"
   ]
  }
 ],
 "metadata": {
  "kernelspec": {
   "display_name": "Python 3",
   "language": "python",
   "name": "python3"
  },
  "language_info": {
   "codemirror_mode": {
    "name": "ipython",
    "version": 3
   },
   "file_extension": ".py",
   "mimetype": "text/x-python",
   "name": "python",
   "nbconvert_exporter": "python",
   "pygments_lexer": "ipython3",
   "version": "3.7.5"
  }
 },
 "nbformat": 4,
 "nbformat_minor": 4
}
