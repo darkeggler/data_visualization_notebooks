{
 "cells": [
  {
   "cell_type": "markdown",
   "metadata": {},
   "source": [
    "# 数据分析实践-手机\n",
    "\n",
    "1. 数据调查\n",
    "2. 外形分析"
   ]
  },
  {
   "cell_type": "markdown",
   "metadata": {},
   "source": [
    "因为小米10系列未提供PPI信息，PPI(pixels per inch)即每英寸所拥有的像素数目。例如6.67 2340x1080 1英寸等于2.54厘米\n",
    "\n",
    "我们都知道小米 10 Pro 采用的是来自三星的 OLED， 所以按照 Pentile 排列折算将会是 315.48 ppi, 稍逊于当年定义的 320 ppi 视网分界线。\n",
    "\n",
    "$\\frac{\\sqrt{x^2+y^2}}{Z}$"
   ]
  },
  {
   "cell_type": "code",
   "execution_count": null,
   "metadata": {},
   "outputs": [],
   "source": [
    "import math\n",
    "math.sqrt(2340**2 + 1080**2)/6.67"
   ]
  },
  {
   "cell_type": "code",
   "execution_count": null,
   "metadata": {},
   "outputs": [],
   "source": [
    "74.8 - 1080 / 386.388 * 25.4"
   ]
  },
  {
   "cell_type": "code",
   "execution_count": null,
   "metadata": {},
   "outputs": [],
   "source": [
    "162.6 - 2340 / 386.388 * 25.4"
   ]
  }
 ],
 "metadata": {
  "kernelspec": {
   "display_name": "Python 3",
   "language": "python",
   "name": "python3"
  },
  "language_info": {
   "codemirror_mode": {
    "name": "ipython",
    "version": 3
   },
   "file_extension": ".py",
   "mimetype": "text/x-python",
   "name": "python",
   "nbconvert_exporter": "python",
   "pygments_lexer": "ipython3",
   "version": "3.7.5"
  }
 },
 "nbformat": 4,
 "nbformat_minor": 4
}
