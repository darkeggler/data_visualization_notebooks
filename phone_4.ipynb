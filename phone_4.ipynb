{
 "cells": [
  {
   "cell_type": "code",
   "execution_count": 1,
   "metadata": {},
   "outputs": [],
   "source": [
    "import pandas as pd\n",
    "import matplotlib\n",
    "import matplotlib.pyplot as plt\n",
    "import numpy as np"
   ]
  },
  {
   "cell_type": "code",
   "execution_count": 7,
   "metadata": {},
   "outputs": [],
   "source": [
    "%matplotlib widget\n",
    "matplotlib.rcParams['font.family'] = ['DengXian', 'sans-serif']"
   ]
  },
  {
   "cell_type": "code",
   "execution_count": 2,
   "metadata": {},
   "outputs": [],
   "source": [
    "fn = 'phone_data2.csv'\n",
    "df = pd.read_csv(fn)\n",
    "c = df['CPU'].astype('category')"
   ]
  },
  {
   "cell_type": "code",
   "execution_count": 3,
   "metadata": {},
   "outputs": [],
   "source": [
    "widths  = [4, 1]\n",
    "heights = [5, 1]\n",
    "gs_kw   = dict(width_ratios=widths, height_ratios=heights)"
   ]
  },
  {
   "cell_type": "code",
   "execution_count": 8,
   "metadata": {},
   "outputs": [
    {
     "data": {
      "application/vnd.jupyter.widget-view+json": {
       "model_id": "8b8b98e867db44dfa8839fc9d3b158aa",
       "version_major": 2,
       "version_minor": 0
      },
      "text/plain": [
       "Canvas(toolbar=Toolbar(toolitems=[('Home', 'Reset original view', 'home', 'home'), ('Back', 'Back to previous …"
      ]
     },
     "metadata": {},
     "output_type": "display_data"
    }
   ],
   "source": [
    "fig, axes = plt.subplots(ncols=2, nrows=2, constrained_layout=True,\n",
    "                             gridspec_kw=gs_kw, figsize=(4,7))"
   ]
  },
  {
   "cell_type": "markdown",
   "metadata": {
    "jupyter": {
     "source_hidden": true
    }
   },
   "source": [
    "### enumerate(iterable, start=0)\n",
    "\n",
    "> Return an enumerate object. iterable must be a sequence, an iterator, or some other object which supports iteration. The __next__() method of the iterator returned by enumerate() returns a tuple containing a count (from start which defaults to 0) and the values obtained from iterating over iterable."
   ]
  },
  {
   "cell_type": "markdown",
   "metadata": {},
   "source": [
    "**enumerate**函数的返回值是enumerate对象。:-)\n",
    "\n",
    "就是给list等迭代器的每个元素加一个序号。"
   ]
  },
  {
   "cell_type": "code",
   "execution_count": 9,
   "metadata": {},
   "outputs": [],
   "source": [
    "for i in range(len(c.cat.categories)):\n",
    "    axes[0,0].scatter('宽', '长', s = '重', c = 'C%d' % (i+1), alpha = 0.5, \n",
    "               data = df[df['CPU'] == c.cat.categories[i]],\n",
    "               label = c.cat.categories[i])"
   ]
  },
  {
   "cell_type": "code",
   "execution_count": 10,
   "metadata": {},
   "outputs": [
    {
     "data": {
      "text/plain": [
       "(0.0, 200.0)"
      ]
     },
     "execution_count": 10,
     "metadata": {},
     "output_type": "execute_result"
    }
   ],
   "source": [
    "axes[0,0].set_xlim(0, 100)\n",
    "axes[0,0].set_ylim(0, 200)"
   ]
  },
  {
   "cell_type": "code",
   "execution_count": 11,
   "metadata": {},
   "outputs": [],
   "source": [
    "axes[0,0].set_aspect('equal', 'box')"
   ]
  },
  {
   "cell_type": "markdown",
   "metadata": {},
   "source": [
    "----"
   ]
  },
  {
   "cell_type": "markdown",
   "metadata": {},
   "source": []
  },
  {
   "cell_type": "code",
   "execution_count": 46,
   "metadata": {},
   "outputs": [
    {
     "data": {
      "text/html": [
       "<div>\n",
       "<style scoped>\n",
       "    .dataframe tbody tr th:only-of-type {\n",
       "        vertical-align: middle;\n",
       "    }\n",
       "\n",
       "    .dataframe tbody tr th {\n",
       "        vertical-align: top;\n",
       "    }\n",
       "\n",
       "    .dataframe thead th {\n",
       "        text-align: right;\n",
       "    }\n",
       "</style>\n",
       "<table border=\"1\" class=\"dataframe\">\n",
       "  <thead>\n",
       "    <tr style=\"text-align: right;\">\n",
       "      <th></th>\n",
       "      <th>brand</th>\n",
       "      <th>厂牌</th>\n",
       "      <th>SKU</th>\n",
       "      <th>name</th>\n",
       "      <th>0604价格</th>\n",
       "      <th>CPU</th>\n",
       "      <th>长</th>\n",
       "      <th>宽</th>\n",
       "      <th>厚</th>\n",
       "      <th>重</th>\n",
       "      <th>屏</th>\n",
       "      <th>分辨率长</th>\n",
       "      <th>分辨率宽</th>\n",
       "      <th>屏幕类型</th>\n",
       "      <th>ppi</th>\n",
       "      <th>上市时间</th>\n",
       "    </tr>\n",
       "  </thead>\n",
       "  <tbody>\n",
       "    <tr>\n",
       "      <th>0</th>\n",
       "      <td>apple</td>\n",
       "      <td>苹果</td>\n",
       "      <td>1.000083e+11</td>\n",
       "      <td>11</td>\n",
       "      <td>5499.0</td>\n",
       "      <td>A13</td>\n",
       "      <td>150.90</td>\n",
       "      <td>75.70</td>\n",
       "      <td>8.30</td>\n",
       "      <td>194.0</td>\n",
       "      <td>NaN</td>\n",
       "      <td>NaN</td>\n",
       "      <td>NaN</td>\n",
       "      <td>NaN</td>\n",
       "      <td>NaN</td>\n",
       "      <td>NaN</td>\n",
       "    </tr>\n",
       "    <tr>\n",
       "      <th>1</th>\n",
       "      <td>apple</td>\n",
       "      <td>苹果</td>\n",
       "      <td>1.000083e+11</td>\n",
       "      <td>11 pro</td>\n",
       "      <td>8799.0</td>\n",
       "      <td>A13</td>\n",
       "      <td>144.00</td>\n",
       "      <td>71.40</td>\n",
       "      <td>8.10</td>\n",
       "      <td>188.0</td>\n",
       "      <td>NaN</td>\n",
       "      <td>NaN</td>\n",
       "      <td>NaN</td>\n",
       "      <td>NaN</td>\n",
       "      <td>NaN</td>\n",
       "      <td>NaN</td>\n",
       "    </tr>\n",
       "    <tr>\n",
       "      <th>2</th>\n",
       "      <td>apple</td>\n",
       "      <td>苹果</td>\n",
       "      <td>1.000083e+11</td>\n",
       "      <td>11 Pro max</td>\n",
       "      <td>9299.0</td>\n",
       "      <td>A13</td>\n",
       "      <td>158.00</td>\n",
       "      <td>77.80</td>\n",
       "      <td>8.10</td>\n",
       "      <td>226.0</td>\n",
       "      <td>NaN</td>\n",
       "      <td>NaN</td>\n",
       "      <td>NaN</td>\n",
       "      <td>NaN</td>\n",
       "      <td>NaN</td>\n",
       "      <td>NaN</td>\n",
       "    </tr>\n",
       "    <tr>\n",
       "      <th>3</th>\n",
       "      <td>apple</td>\n",
       "      <td>苹果</td>\n",
       "      <td>1.000069e+11</td>\n",
       "      <td>SE2</td>\n",
       "      <td>3799.0</td>\n",
       "      <td>A13</td>\n",
       "      <td>138.40</td>\n",
       "      <td>67.30</td>\n",
       "      <td>7.30</td>\n",
       "      <td>148.0</td>\n",
       "      <td>NaN</td>\n",
       "      <td>NaN</td>\n",
       "      <td>NaN</td>\n",
       "      <td>NaN</td>\n",
       "      <td>NaN</td>\n",
       "      <td>NaN</td>\n",
       "    </tr>\n",
       "    <tr>\n",
       "      <th>4</th>\n",
       "      <td>mi</td>\n",
       "      <td>小米</td>\n",
       "      <td>1.000128e+11</td>\n",
       "      <td>10 青春版</td>\n",
       "      <td>2299.0</td>\n",
       "      <td>骁龙765G</td>\n",
       "      <td>164.02</td>\n",
       "      <td>74.77</td>\n",
       "      <td>7.88</td>\n",
       "      <td>192.0</td>\n",
       "      <td>NaN</td>\n",
       "      <td>2400.0</td>\n",
       "      <td>1080.0</td>\n",
       "      <td>NaN</td>\n",
       "      <td>NaN</td>\n",
       "      <td>NaN</td>\n",
       "    </tr>\n",
       "  </tbody>\n",
       "</table>\n",
       "</div>"
      ],
      "text/plain": [
       "   brand  厂牌           SKU        name  0604价格     CPU       长      宽     厚  \\\n",
       "0  apple  苹果  1.000083e+11          11  5499.0     A13  150.90  75.70  8.30   \n",
       "1  apple  苹果  1.000083e+11      11 pro  8799.0     A13  144.00  71.40  8.10   \n",
       "2  apple  苹果  1.000083e+11  11 Pro max  9299.0     A13  158.00  77.80  8.10   \n",
       "3  apple  苹果  1.000069e+11         SE2  3799.0     A13  138.40  67.30  7.30   \n",
       "4     mi  小米  1.000128e+11      10 青春版  2299.0  骁龙765G  164.02  74.77  7.88   \n",
       "\n",
       "       重   屏    分辨率长    分辨率宽 屏幕类型  ppi 上市时间  \n",
       "0  194.0 NaN     NaN     NaN  NaN  NaN  NaN  \n",
       "1  188.0 NaN     NaN     NaN  NaN  NaN  NaN  \n",
       "2  226.0 NaN     NaN     NaN  NaN  NaN  NaN  \n",
       "3  148.0 NaN     NaN     NaN  NaN  NaN  NaN  \n",
       "4  192.0 NaN  2400.0  1080.0  NaN  NaN  NaN  "
      ]
     },
     "execution_count": 46,
     "metadata": {},
     "output_type": "execute_result"
    }
   ],
   "source": [
    "df.head()"
   ]
  },
  {
   "cell_type": "code",
   "execution_count": 49,
   "metadata": {},
   "outputs": [
    {
     "data": {
      "text/plain": [
       "0             苹果11\n",
       "1         苹果11 pro\n",
       "2     苹果11 Pro max\n",
       "3            苹果SE2\n",
       "4         小米10 青春版\n",
       "5             小米10\n",
       "6         小米10 Pro\n",
       "7          小米Max 2\n",
       "8         三星S20 5G\n",
       "9        三星S20 5G+\n",
       "10       华为P40 Pro\n",
       "11           华为P30\n",
       "12        华为畅享 MAX\n",
       "13           荣耀30S\n",
       "14        iQOONeo3\n",
       "dtype: object"
      ]
     },
     "execution_count": 49,
     "metadata": {},
     "output_type": "execute_result"
    }
   ],
   "source": [
    "df['厂牌'] + df['name']"
   ]
  },
  {
   "cell_type": "code",
   "execution_count": 12,
   "metadata": {},
   "outputs": [
    {
     "data": {
      "text/plain": [
       "<StemContainer object of 3 artists>"
      ]
     },
     "execution_count": 12,
     "metadata": {},
     "output_type": "execute_result"
    }
   ],
   "source": [
    "#axes[1,0].cla()\n",
    "axes[1,0].stem(df['厂牌'] + df['name'], df['厚'], markerfmt='o', use_line_collection=True)"
   ]
  },
  {
   "cell_type": "code",
   "execution_count": 13,
   "metadata": {},
   "outputs": [
    {
     "data": {
      "text/plain": [
       "(7.0, 9.5)"
      ]
     },
     "execution_count": 13,
     "metadata": {},
     "output_type": "execute_result"
    }
   ],
   "source": [
    "axes[1,0].set_ylim(7,9.5)"
   ]
  },
  {
   "cell_type": "code",
   "execution_count": 52,
   "metadata": {},
   "outputs": [
    {
     "data": {
      "text/plain": [
       "0     8.30\n",
       "1     8.10\n",
       "2     8.10\n",
       "3     7.30\n",
       "4     7.88\n",
       "5     8.96\n",
       "6     8.96\n",
       "7     7.60\n",
       "8     7.90\n",
       "9     7.80\n",
       "10    8.95\n",
       "11    7.57\n",
       "12    8.48\n",
       "13    8.58\n",
       "14    8.93\n",
       "Name: 厚, dtype: float64"
      ]
     },
     "execution_count": 52,
     "metadata": {},
     "output_type": "execute_result"
    }
   ],
   "source": [
    "df['厚']"
   ]
  },
  {
   "cell_type": "code",
   "execution_count": null,
   "metadata": {},
   "outputs": [],
   "source": []
  }
 ],
 "metadata": {
  "kernelspec": {
   "display_name": "Python 3",
   "language": "python",
   "name": "python3"
  },
  "language_info": {
   "codemirror_mode": {
    "name": "ipython",
    "version": 3
   },
   "file_extension": ".py",
   "mimetype": "text/x-python",
   "name": "python",
   "nbconvert_exporter": "python",
   "pygments_lexer": "ipython3",
   "version": "3.7.5"
  }
 },
 "nbformat": 4,
 "nbformat_minor": 4
}
