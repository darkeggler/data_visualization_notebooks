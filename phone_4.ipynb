{
 "cells": [
  {
   "cell_type": "markdown",
   "metadata": {},
   "source": [
    "- gitclone 太好了"
   ]
  },
  {
   "cell_type": "code",
   "execution_count": 1,
   "metadata": {},
   "outputs": [],
   "source": [
    "import pandas as pd\n",
    "import matplotlib\n",
    "import matplotlib.pyplot as plt\n",
    "import numpy as np"
   ]
  },
  {
   "cell_type": "code",
   "execution_count": 2,
   "metadata": {},
   "outputs": [],
   "source": [
    "%matplotlib widget\n",
    "matplotlib.rcParams['font.family'] = ['DengXian', 'sans-serif']"
   ]
  },
  {
   "cell_type": "code",
   "execution_count": 3,
   "metadata": {},
   "outputs": [],
   "source": [
    "fn = 'phone_data2.csv'\n",
    "df = pd.read_csv(fn)\n",
    "c = df['CPU'].astype('category')\n",
    "ec = list(enumerate(c.cat.categories))"
   ]
  },
  {
   "cell_type": "markdown",
   "metadata": {},
   "source": [
    "**enumerate**函数的返回值是enumerate对象。:-)\n",
    "\n",
    "就是给list等迭代器的每个元素加一个序号。这个序号在这里用于循环色彩。"
   ]
  },
  {
   "cell_type": "markdown",
   "metadata": {},
   "source": [
    "2x2子图布局，合并第二行，子图对齐还不知道怎么搞。"
   ]
  },
  {
   "cell_type": "code",
   "execution_count": 4,
   "metadata": {},
   "outputs": [],
   "source": [
    "widths  = [3, 2]\n",
    "heights = [6, 1]\n",
    "gs_kw   = dict(width_ratios=widths, height_ratios=heights)"
   ]
  },
  {
   "cell_type": "code",
   "execution_count": 5,
   "metadata": {},
   "outputs": [
    {
     "data": {
      "application/vnd.jupyter.widget-view+json": {
       "model_id": "5c6d7564a8e647b5974de38226e6053a",
       "version_major": 2,
       "version_minor": 0
      },
      "text/plain": [
       "Canvas(toolbar=Toolbar(toolitems=[('Home', 'Reset original view', 'home', 'home'), ('Back', 'Back to previous …"
      ]
     },
     "metadata": {},
     "output_type": "display_data"
    }
   ],
   "source": [
    "fig, axes = plt.subplots(ncols=2, nrows=2, constrained_layout=True,\n",
    "                             gridspec_kw=gs_kw, figsize=(5,7))"
   ]
  },
  {
   "cell_type": "code",
   "execution_count": 6,
   "metadata": {},
   "outputs": [],
   "source": [
    "gs = axes[1,0].get_gridspec()\n",
    "for ax in axes[1]:\n",
    "    ax.remove()\n",
    "ax_buttom = fig.add_subplot(gs[1,:])"
   ]
  },
  {
   "cell_type": "markdown",
   "metadata": {},
   "source": [
    "## 图(0,0) 长与宽 scatter"
   ]
  },
  {
   "cell_type": "code",
   "execution_count": 7,
   "metadata": {},
   "outputs": [],
   "source": [
    "axes[0,0].set_xlim(0, 100)\n",
    "axes[0,0].set_ylim(0, 200)\n",
    "# box 更换成另一个选择\n",
    "axes[0,0].set_aspect('equal', 'box')"
   ]
  },
  {
   "cell_type": "code",
   "execution_count": 8,
   "metadata": {},
   "outputs": [],
   "source": [
    "for n, row in ec:\n",
    "    axes[0, 0].scatter('宽', '长', s = '重', c = 'C%d' % n, alpha = 0.5,\n",
    "                      data = df[df['CPU'] == row],\n",
    "                      label = row)"
   ]
  },
  {
   "cell_type": "code",
   "execution_count": 9,
   "metadata": {},
   "outputs": [
    {
     "data": {
      "text/plain": [
       "<matplotlib.legend.Legend at 0x90c00f0>"
      ]
     },
     "execution_count": 9,
     "metadata": {},
     "output_type": "execute_result"
    }
   ],
   "source": [
    "axes[0, 0].legend()"
   ]
  },
  {
   "cell_type": "markdown",
   "metadata": {},
   "source": [
    "## 图(1) 厚度 stem\n",
    "\n",
    "pandas有分组功能吗？按CPU分组后，每次取出一组，不用每次都筛选。"
   ]
  },
  {
   "cell_type": "code",
   "execution_count": 10,
   "metadata": {},
   "outputs": [],
   "source": [
    "# ply  厚度\n",
    "row, col = df.shape\n",
    "ply_df = df.sort_values(by = '厚')\n",
    "ply_df.index = np.arange(row)"
   ]
  },
  {
   "cell_type": "markdown",
   "metadata": {},
   "source": [
    "axes变更并不会随着以上操作更新，所以如何取得最新的axes呢？但这其实也不是一个大问题，因为坐标空间可以通过ax_buttom获得，我猜测，fig会有最新的axes\n",
    "\n",
    "fig.axes真的有，但是subplots的返回值是np.array，而fig.axes是list，这个问题先封箱了。"
   ]
  },
  {
   "cell_type": "code",
   "execution_count": 11,
   "metadata": {},
   "outputs": [],
   "source": [
    "for n, r in ec:\n",
    "    tdf = ply_df[ply_df['CPU'] == r]\n",
    "    ax_buttom.stem(tdf.index, tdf['厚'], \n",
    "                   linefmt='C%d-' % n, \n",
    "                   markerfmt='C%d,' % n,\n",
    "                   use_line_collection=True)"
   ]
  },
  {
   "cell_type": "code",
   "execution_count": null,
   "metadata": {},
   "outputs": [],
   "source": [
    "ax_buttom.stem(df['厚'], markerfmt='o', use_line_collection=True)"
   ]
  },
  {
   "cell_type": "code",
   "execution_count": 12,
   "metadata": {},
   "outputs": [
    {
     "data": {
      "text/plain": [
       "(7, 10)"
      ]
     },
     "execution_count": 12,
     "metadata": {},
     "output_type": "execute_result"
    }
   ],
   "source": [
    "ax_buttom.set_ylim(7,10)"
   ]
  },
  {
   "cell_type": "code",
   "execution_count": 19,
   "metadata": {},
   "outputs": [],
   "source": [
    "r_tick = ax_buttom.set_xticks(ply_df.index.values)\n",
    "r_text = ax_buttom.set_xticklabels(ply_df['厂牌'] + ply_df['name'], rotation=70)"
   ]
  },
  {
   "cell_type": "markdown",
   "metadata": {},
   "source": [
    "## ax[0, 1] - 右图 - 重量\n",
    "\n",
    "----\n",
    "\n",
    "heft  重量\n"
   ]
  },
  {
   "cell_type": "code",
   "execution_count": 21,
   "metadata": {},
   "outputs": [],
   "source": [
    "heft_df = df.sort_values(by = '重')\n",
    "heft_df.index = np.arange(row)"
   ]
  },
  {
   "cell_type": "code",
   "execution_count": 22,
   "metadata": {},
   "outputs": [],
   "source": [
    "for n, r in ec:\n",
    "    tdf = heft_df[heft_df['CPU'] == r]\n",
    "    axes[0, 1].barh(tdf.index, tdf['重'], \n",
    "                    color='C%d' % n,\n",
    "                    height=0.7\n",
    "                   )"
   ]
  },
  {
   "cell_type": "code",
   "execution_count": 25,
   "metadata": {
    "collapsed": true,
    "jupyter": {
     "outputs_hidden": true
    }
   },
   "outputs": [
    {
     "data": {
      "text/plain": [
       "[Text(0, 11, 'SE2'),\n",
       " Text(0, 0.0, 'S20 5G'),\n",
       " Text(0, 2.0, 'P30'),\n",
       " Text(0, 4.0, 'S20 5G+'),\n",
       " Text(0, 6.0, '11 pro'),\n",
       " Text(0, 8.0, '30S'),\n",
       " Text(0, 10.0, '10 青春版'),\n",
       " Text(0, 12.0, '11'),\n",
       " Text(0, 14.0, 'Neo3'),\n",
       " Text(0, 16.0, '10'),\n",
       " Text(0, 0, '10 Pro'),\n",
       " Text(0, 0, 'P40 Pro'),\n",
       " Text(0, 0, '畅享 MAX'),\n",
       " Text(0, 0, 'Max 2'),\n",
       " Text(0, 0, '11 Pro max')]"
      ]
     },
     "execution_count": 25,
     "metadata": {},
     "output_type": "execute_result"
    }
   ],
   "source": [
    "axes[0, 1].set_yticks(heft_df.index.values)\n",
    "axes[0, 1].set_yticklabels(heft_df['name'])"
   ]
  },
  {
   "cell_type": "code",
   "execution_count": 28,
   "metadata": {},
   "outputs": [
    {
     "data": {
      "text/plain": [
       "Text(0.5, 1, '厚')"
      ]
     },
     "execution_count": 28,
     "metadata": {},
     "output_type": "execute_result"
    }
   ],
   "source": [
    "axes[0,0].set_title('尺寸')\n",
    "axes[0,1].set_title('重')\n",
    "ax_buttom.set_title('厚')"
   ]
  },
  {
   "cell_type": "code",
   "execution_count": null,
   "metadata": {},
   "outputs": [],
   "source": [
    "fig.tight_layout()"
   ]
  }
 ],
 "metadata": {
  "kernelspec": {
   "display_name": "Python 3",
   "language": "python",
   "name": "python3"
  },
  "language_info": {
   "codemirror_mode": {
    "name": "ipython",
    "version": 3
   },
   "file_extension": ".py",
   "mimetype": "text/x-python",
   "name": "python",
   "nbconvert_exporter": "python",
   "pygments_lexer": "ipython3",
   "version": "3.7.5"
  }
 },
 "nbformat": 4,
 "nbformat_minor": 4
}
