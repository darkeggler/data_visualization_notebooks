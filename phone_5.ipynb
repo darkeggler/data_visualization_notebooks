{
 "cells": [
  {
   "cell_type": "code",
   "execution_count": 1,
   "metadata": {},
   "outputs": [],
   "source": [
    "import pandas as pd\n",
    "import matplotlib\n",
    "import matplotlib.pyplot as plt\n",
    "from mpl_toolkits.axes_grid1.inset_locator import zoomed_inset_axes, mark_inset\n",
    "import numpy as np"
   ]
  },
  {
   "cell_type": "code",
   "execution_count": 2,
   "metadata": {},
   "outputs": [],
   "source": [
    "%matplotlib widget\n",
    "matplotlib.rcParams['font.family'] = ['DengXian', 'sans-serif']"
   ]
  },
  {
   "cell_type": "code",
   "execution_count": 3,
   "metadata": {},
   "outputs": [],
   "source": [
    "fn = 'phone_data2.csv'\n",
    "df = pd.read_csv(fn).iloc[0:15]\n",
    "c = df['CPU'].astype('category')"
   ]
  },
  {
   "cell_type": "code",
   "execution_count": null,
   "metadata": {},
   "outputs": [],
   "source": [
    "df.head()"
   ]
  },
  {
   "cell_type": "markdown",
   "metadata": {},
   "source": [
    "因为小米10系列未提供PPI信息，PPI(pixels per inch)即每英寸所拥有的像素数目。例如6.67 2340x1080 1英寸等于2.54厘米\n",
    "\n",
    "我们都知道小米 10 Pro 采用的是来自三星的 OLED， 所以按照 Pentile 排列折算将会是 315.48 ppi, 稍逊于当年定义的 320 ppi 视网分界线。\n",
    "\n",
    "$\\frac{\\sqrt{x^2+y^2}}{Z}$"
   ]
  },
  {
   "cell_type": "code",
   "execution_count": 4,
   "metadata": {},
   "outputs": [],
   "source": [
    "ppi = np.sqrt(df['分辨率宽']**2 + df['分辨率长']**2) / (df['屏'] * 25.4)\n",
    "\n",
    "x1 = df['宽']\n",
    "y1 = df['长']\n",
    "\n",
    "x2 = df['分辨率宽'] / ppi\n",
    "y2 = df['分辨率长'] / ppi\n",
    "\n",
    "px = list(zip([0]*15, x2, x1))\n",
    "py = list(zip([0]*15, y2, y1))"
   ]
  },
  {
   "cell_type": "code",
   "execution_count": 9,
   "metadata": {},
   "outputs": [
    {
     "data": {
      "application/vnd.jupyter.widget-view+json": {
       "model_id": "c4304635b4a141b0b19b7a31446a7da7",
       "version_major": 2,
       "version_minor": 0
      },
      "text/plain": [
       "Canvas(toolbar=Toolbar(toolitems=[('Home', 'Reset original view', 'home', 'home'), ('Back', 'Back to previous …"
      ]
     },
     "metadata": {},
     "output_type": "display_data"
    }
   ],
   "source": [
    "fig = plt.figure(figsize=(5,5))\n",
    "# fig, ax = plt.subplots(figsize=(5,10))"
   ]
  },
  {
   "cell_type": "code",
   "execution_count": 10,
   "metadata": {},
   "outputs": [
    {
     "data": {
      "text/plain": [
       "(145.0, 165.0)"
      ]
     },
     "execution_count": 10,
     "metadata": {},
     "output_type": "execute_result"
    }
   ],
   "source": [
    "ax = fig.add_subplot(121)\n",
    "ax.set_aspect(1)\n",
    "\n",
    "for i in range(15):\n",
    "    ax.plot(px[i], py[i], lw=0.35, marker='o', alpha=0.75)\n",
    "\n",
    "axins = zoomed_inset_axes(ax, 4, loc=2, borderpad=0,\n",
    "                          bbox_to_anchor = (1.2, .3, .8, .7),\n",
    "                          bbox_transform = ax.transAxes\n",
    "                         )\n",
    "\n",
    "for i in range(15):\n",
    "    axins.plot(px[i], py[i], lw=0.35, marker='o', alpha=0.75)\n",
    "\n",
    "#ax.set_aspect(1)\n",
    "axins.set_xlim(65, 80)\n",
    "axins.set_ylim(145, 165)   "
   ]
  },
  {
   "cell_type": "code",
   "execution_count": 11,
   "metadata": {},
   "outputs": [
    {
     "data": {
      "text/plain": [
       "(<mpl_toolkits.axes_grid1.inset_locator.BboxPatch at 0x15444d4dcc8>,\n",
       " <mpl_toolkits.axes_grid1.inset_locator.BboxConnector at 0x15444d4dfc8>,\n",
       " <mpl_toolkits.axes_grid1.inset_locator.BboxConnector at 0x15444d4f6c8>)"
      ]
     },
     "execution_count": 11,
     "metadata": {},
     "output_type": "execute_result"
    }
   ],
   "source": [
    "mark_inset(ax, axins, loc1=2, loc2=2, fc=\"none\", ec=\"0.5\")"
   ]
  },
  {
   "cell_type": "code",
   "execution_count": null,
   "metadata": {},
   "outputs": [],
   "source": []
  }
 ],
 "metadata": {
  "kernelspec": {
   "display_name": "Python 3",
   "language": "python",
   "name": "python3"
  },
  "language_info": {
   "codemirror_mode": {
    "name": "ipython",
    "version": 3
   },
   "file_extension": ".py",
   "mimetype": "text/x-python",
   "name": "python",
   "nbconvert_exporter": "python",
   "pygments_lexer": "ipython3",
   "version": "3.7.5"
  }
 },
 "nbformat": 4,
 "nbformat_minor": 4
}
