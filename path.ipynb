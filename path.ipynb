{
 "cells": [
  {
   "cell_type": "code",
   "execution_count": null,
   "metadata": {},
   "outputs": [],
   "source": []
  },
  {
   "cell_type": "code",
   "execution_count": null,
   "metadata": {},
   "outputs": [],
   "source": []
  },
  {
   "cell_type": "markdown",
   "metadata": {},
   "source": [
    "path模块处理matplotlib中所有的polyline\n",
    "而处理polyline的基础类时Path\n",
    "Path与MarkerStyle一样，基类都是object而不是Artist\n",
    "为什么我会知道MarkerStyle，过程时这样的，我在写[Python可视化实践-手机篇](https://zhuanlan.zhihu.com/p/146616554)时，图1想从散点图改成折线图，但有几个问题没想明白，就想认真的学一遍plot折线图，我们都知道plot方法的本质是配置Line2D实例，而Line2D是Artist的子类，它包括顶点及连接它们的线段。而顶点的标记是通过MarkerStyle类调用Path实现的。"
   ]
  },
  {
   "cell_type": "markdown",
   "metadata": {},
   "source": [
    "The object underlying all of the matplotlib.patches objects is the Path, which supports the standard set of moveto, lineto, curveto commands to draw simple and compound outlines consisting of line segments and splines. The Path is instantiated with a (N, 2) array of (x, y) vertices, and a N-length array of path codes. For example to draw the unit rectangle from (0, 0) to (1, 1), we could use this code:"
   ]
  }
 ],
 "metadata": {
  "kernelspec": {
   "display_name": "Python 3",
   "language": "python",
   "name": "python3"
  },
  "language_info": {
   "codemirror_mode": {
    "name": "ipython",
    "version": 3
   },
   "file_extension": ".py",
   "mimetype": "text/x-python",
   "name": "python",
   "nbconvert_exporter": "python",
   "pygments_lexer": "ipython3",
   "version": "3.7.5"
  }
 },
 "nbformat": 4,
 "nbformat_minor": 4
}
