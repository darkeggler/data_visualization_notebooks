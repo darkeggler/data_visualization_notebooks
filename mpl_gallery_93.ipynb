{
 "cells": [
  {
   "cell_type": "markdown",
   "metadata": {},
   "source": [
    "# 等轴演示\n",
    "\n",
    "如何以相等的轴比设置和调整图形？"
   ]
  },
  {
   "cell_type": "code",
   "execution_count": 1,
   "metadata": {},
   "outputs": [],
   "source": [
    "# [1]: \n",
    "import matplotlib\n",
    "import matplotlib.pyplot as plt\n",
    "import numpy as np\n",
    "\n",
    "%matplotlib widget\n",
    "matplotlib.rcParams['font.family'] = ['DengXian', 'Sans-serif']"
   ]
  },
  {
   "cell_type": "code",
   "execution_count": 22,
   "metadata": {},
   "outputs": [
    {
     "data": {
      "application/vnd.jupyter.widget-view+json": {
       "model_id": "0c3a97583602445a92fc3989cad298b8",
       "version_major": 2,
       "version_minor": 0
      },
      "text/plain": [
       "Canvas(toolbar=Toolbar(toolitems=[('Home', 'Reset original view', 'home', 'home'), ('Back', 'Back to previous …"
      ]
     },
     "metadata": {},
     "output_type": "display_data"
    }
   ],
   "source": [
    "# [2]:\n",
    "an = np.linspace(0, 2 * np.pi, 100)\n",
    "fig, axs = plt.subplots(2, 2)"
   ]
  },
  {
   "cell_type": "code",
   "execution_count": null,
   "metadata": {},
   "outputs": [],
   "source": [
    "# 以半径为3画圆"
   ]
  },
  {
   "cell_type": "code",
   "execution_count": 23,
   "metadata": {},
   "outputs": [
    {
     "data": {
      "text/plain": [
       "Text(0.5, 1, '轴不等, 看起来像椭圆')"
      ]
     },
     "execution_count": 23,
     "metadata": {},
     "output_type": "execute_result"
    }
   ],
   "source": [
    "axs[0, 0].plot(3 * np.cos(an), 3 * np.sin(an))\n",
    "axs[0, 0].set_title('轴不等, 看起来像椭圆', fontsize=10)"
   ]
  },
  {
   "cell_type": "code",
   "execution_count": 24,
   "metadata": {},
   "outputs": [
    {
     "data": {
      "text/plain": [
       "Text(0.5, 1, '轴相等, 看起来像圆了')"
      ]
     },
     "execution_count": 24,
     "metadata": {},
     "output_type": "execute_result"
    }
   ],
   "source": [
    "axs[0, 1].plot(3 * np.cos(an), 3 * np.sin(an))\n",
    "axs[0, 1].axis('equal')\n",
    "axs[0, 1].set_title('轴相等, 看起来像圆了', fontsize=10)"
   ]
  },
  {
   "cell_type": "code",
   "execution_count": 25,
   "metadata": {},
   "outputs": [
    {
     "data": {
      "text/plain": [
       "Text(0.5, 1, '即使在变更区间后，依然是圆')"
      ]
     },
     "execution_count": 25,
     "metadata": {},
     "output_type": "execute_result"
    }
   ],
   "source": [
    "axs[1, 0].plot(3 * np.cos(an), 3 * np.sin(an))\n",
    "axs[1, 0].axis('equal')\n",
    "axs[1, 0].set(xlim=(-3, 3), ylim=(-3, 3))\n",
    "axs[1, 0].set_title('即使在变更区间后，依然是圆', fontsize=10)"
   ]
  },
  {
   "cell_type": "code",
   "execution_count": 26,
   "metadata": {},
   "outputs": [
    {
     "data": {
      "text/plain": [
       "Text(0.5, 1, '自动调整数据区间，依然是圆')"
      ]
     },
     "execution_count": 26,
     "metadata": {},
     "output_type": "execute_result"
    }
   ],
   "source": [
    "axs[1, 1].plot(3 * np.cos(an), 3 * np.sin(an))\n",
    "axs[1, 1].set_aspect('equal', 'box')\n",
    "axs[1, 1].set_title('自动调整数据区间，依然是圆', fontsize=10)"
   ]
  },
  {
   "cell_type": "code",
   "execution_count": 27,
   "metadata": {},
   "outputs": [],
   "source": [
    "fig.tight_layout()"
   ]
  },
  {
   "cell_type": "markdown",
   "metadata": {},
   "source": [
    "## axis('equal') matplotlib.axes.Axes.axis\n",
    "\n",
    "https://matplotlib.org/api/_as_gen/matplotlib.axes.Axes.axis.html\n",
    "\n",
    "设置/获取axis属性的便捷方法\n",
    "\n",
    "> Axes.axis(self, *args, emit=True, **kwargs)\n",
    "\n",
    "这种形式的方法看起来就很烦，好像什么都能接受，但又不知道到底要些啥。\n",
    "\n",
    "调用签名："
   ]
  },
  {
   "cell_type": "code",
   "execution_count": null,
   "metadata": {},
   "outputs": [],
   "source": [
    "xmin, xmax, ymin, ymax = axis()\n",
    "xmin, xmax, ymin, ymax = axis([xmin, xmax, ymin, ymax])\n",
    "xmin, xmax, ymin, ymax = axis(option)\n",
    "xmin, xmax, ymin, ymax = axis(**kwargs)"
   ]
  },
  {
   "cell_type": "markdown",
   "metadata": {},
   "source": [
    "重点看一下签名3，option 接受的类型是 bool 或 str. 如果是bool，控制轴线及标签的开关。如果是字符串，值如下：\n",
    "\n",
    "- 'on' \t打开轴线及标签。同True.\n",
    "- 'off' \t关闭打开轴线及标签。同False.\n",
    "- 'equal' \t通过改变轴区间设置相同缩放比例，同ax.set_aspect('equal', adjustable='datalim'). \n",
    "- - - - - \n",
    "- 'scaled' \tSet equal scaling (i.e., make circles circular) by changing dimensions of the plot box. This is the same as ax.set_aspect('equal', adjustable='box', anchor='C'). Additionally, further autoscaling will be disabled.\n",
    "- 'tight' \tSet limits just large enough to show all data, then disable further autoscaling.\n",
    "- 'auto' \tAutomatic scaling (fill plot box with data).\n",
    "- 'normal' \tSame as 'auto'; deprecated.\n",
    "- 'image' \t'scaled' with axis limits equal to data limits.\n",
    "- 'square' \tSquare plot; similar to 'scaled', but initially forcing xmax-xmin == ymax-ymin.\n",
    "\n",
    "理解成枚举更合理。"
   ]
  },
  {
   "cell_type": "markdown",
   "metadata": {},
   "source": [
    "## set_aspect('equal', 'box') matplotlib.axes.Axes.set_aspect\n",
    "\n",
    "https://matplotlib.org/api/_as_gen/matplotlib.axes.Axes.set_aspect.html\n",
    "\n",
    "设置轴的缩放样式，即y单位与x单位的比率。\n",
    "\n",
    "> Axes.set_aspect(self, aspect, adjustable=None, anchor=None, share=False)\n",
    "\n",
    "参数 aspect: {'auto', 'equal'} or num\n",
    "\n",
    "- 'auto' \tautomatic; fill the position rectangle with data\n",
    "- 'equal' \tx与y从数据到制图单位有相同的缩放比例\n",
    "- num \t圆将被拉伸，使得高度为宽度的num倍。aspect=1同aspect='equal'.\n",
    "\n",
    "参数 adjustable: None or {'box', 'datalim'}, optional\n",
    "\n",
    "如果不是None，则定义将调整哪个参数以满足所需的方面。 有关更多详细信息，请参见set_adjustable。"
   ]
  },
  {
   "cell_type": "markdown",
   "metadata": {},
   "source": [
    "## tight_layout()\n",
    "\n",
    "自动调整子图参数以指定填充。\n",
    "\n",
    "https://matplotlib.org/api/_as_gen/matplotlib.figure.Figure.html#matplotlib.figure.Figure.tight_layout"
   ]
  }
 ],
 "metadata": {
  "kernelspec": {
   "display_name": "Python 3",
   "language": "python",
   "name": "python3"
  },
  "language_info": {
   "codemirror_mode": {
    "name": "ipython",
    "version": 3
   },
   "file_extension": ".py",
   "mimetype": "text/x-python",
   "name": "python",
   "nbconvert_exporter": "python",
   "pygments_lexer": "ipython3",
   "version": "3.7.5"
  }
 },
 "nbformat": 4,
 "nbformat_minor": 4
}
