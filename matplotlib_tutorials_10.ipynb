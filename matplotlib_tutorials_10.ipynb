{
 "cells": [
  {
   "cell_type": "markdown",
   "metadata": {},
   "source": [
    "# 使用gridspec与其它函数自定义子图布局\n",
    "\n",
    "如何创建栅格型的组合轴坐空间。"
   ]
  },
  {
   "cell_type": "markdown",
   "metadata": {},
   "source": [
    "- subplots()"
   ]
  },
  {
   "cell_type": "markdown",
   "metadata": {
    "jupyter": {
     "source_hidden": true
    }
   },
   "source": [
    "Perhaps the primary function used to create figures and axes. It's also similar to matplotlib.pyplot.subplot(), but creates and places all axes on the figure at once. See also matplotlib.figure.Figure.subplots."
   ]
  },
  {
   "cell_type": "markdown",
   "metadata": {},
   "source": [
    "或许是用于创建子图与轴坐空间的最主要函数。与matplotlib.pyplot.subplot()类似，但是其一次在图上创建并放置所有的坐标空间。参考matplotlib.figure.Figure.subplots."
   ]
  },
  {
   "cell_type": "markdown",
   "metadata": {},
   "source": [
    "- GridSpec"
   ]
  },
  {
   "cell_type": "markdown",
   "metadata": {
    "jupyter": {
     "source_hidden": true
    }
   },
   "source": [
    "Specifies the geometry of the grid that a subplot will be placed. The number of rows and number of columns of the grid need to be set. Optionally, the subplot layout parameters (e.g., left, right, etc.) can be tuned."
   ]
  },
  {
   "cell_type": "markdown",
   "metadata": {},
   "source": [
    "指定子图被放置的网格几何样式。需要设置网格的行与列数量。子图布局参数调节是可选项。"
   ]
  },
  {
   "cell_type": "markdown",
   "metadata": {
    "jupyter": {
     "source_hidden": true
    }
   },
   "source": [
    "- SubplotSpec\n",
    "    \n",
    "    Specifies the location of the subplot in the given GridSpec.\n",
    "    \n",
    "    在给定的GridSpec中指定子图位置。\n",
    "- subplot2grid()\n",
    "    \n",
    "    A helper function that is similar to subplot(), but uses 0-based indexing and let subplot to occupy multiple cells. This function is not covered in this tutorial."
   ]
  },
  {
   "cell_type": "code",
   "execution_count": 1,
   "metadata": {},
   "outputs": [],
   "source": [
    "import matplotlib\n",
    "import matplotlib.pyplot as plt\n",
    "import matplotlib.gridspec as gridspec"
   ]
  },
  {
   "cell_type": "markdown",
   "metadata": {},
   "source": [
    "## 基本快速入门指南"
   ]
  },
  {
   "cell_type": "markdown",
   "metadata": {},
   "source": [
    "首先我们用2个例子演示如何使用subplots()与gridspec创建一个基本的2x2网格。\n",
    "\n",
    "使用subplots()非常简单。其返回值是一个Figure实例和一组Axes对象。"
   ]
  },
  {
   "cell_type": "code",
   "execution_count": 2,
   "metadata": {
    "collapsed": true,
    "jupyter": {
     "outputs_hidden": true
    }
   },
   "outputs": [
    {
     "data": {
      "image/png": "[encoded data removed]",
      "text/plain": [
       "<Figure size 432x288 with 4 Axes>"
      ]
     },
     "metadata": {
      "needs_background": "light"
     },
     "output_type": "display_data"
    }
   ],
   "source": [
    "fig1, f1_axes = plt.subplots(ncols=2, nrows=2, constrained_layout=True)"
   ]
  },
  {
   "cell_type": "markdown",
   "metadata": {},
   "source": [
    "对于这样简单的用例，gridspec就显得有点啰嗦了。首先要分别创建figure和GridSpec的实例，之后将gridspec实例的元素传递给add_subplot()方法用于创建axes对象。通常，以与numpy数组相同的方式访问gridspec的元素。"
   ]
  },
  {
   "cell_type": "code",
   "execution_count": 3,
   "metadata": {
    "collapsed": true,
    "jupyter": {
     "outputs_hidden": true
    }
   },
   "outputs": [
    {
     "data": {
      "image/png": "[encoded data removed]",
      "text/plain": [
       "<Figure size 432x288 with 4 Axes>"
      ]
     },
     "metadata": {
      "needs_background": "light"
     },
     "output_type": "display_data"
    }
   ],
   "source": [
    "fig2 = plt.figure(constrained_layout=True)\n",
    "spec2 = gridspec.GridSpec(ncols=2, nrows=2, figure=fig2)\n",
    "f2_ax1 = fig2.add_subplot(spec2[0, 0])\n",
    "f2_ax2 = fig2.add_subplot(spec2[0, 1])\n",
    "f2_ax3 = fig2.add_subplot(spec2[1, 0])\n",
    "f2_ax4 = fig2.add_subplot(spec2[1, 1])"
   ]
  },
  {
   "cell_type": "markdown",
   "metadata": {
    "jupyter": {
     "source_hidden": true
    }
   },
   "source": [
    "The power of gridspec comes in being able to create subplots that span rows and columns. Note the Numpy slice syntax for selecting the part of the gridspec each subplot will occupy."
   ]
  },
  {
   "cell_type": "markdown",
   "metadata": {},
   "source": [
    "gridspec的能力在于能够创建跨越行与列的子图。每个子图所占用的gridspec部分使用Numpy slice语法选择。"
   ]
  },
  {
   "cell_type": "markdown",
   "metadata": {
    "jupyter": {
     "source_hidden": true
    }
   },
   "source": [
    "Note that we have also used the convenience method Figure.add_gridspec instead of gridspec.GridSpec, potentially saving the user an import, and keeping the namespace cleaner."
   ]
  },
  {
   "cell_type": "markdown",
   "metadata": {},
   "source": [
    "一个更便捷的方法Figure.add_gridspec可以替代gridspec.GridSpec"
   ]
  },
  {
   "cell_type": "code",
   "execution_count": 4,
   "metadata": {
    "collapsed": true,
    "jupyter": {
     "outputs_hidden": true
    }
   },
   "outputs": [
    {
     "data": {
      "text/plain": [
       "Text(0.5, 0.5, 'GridSpec[1:, 1:]')"
      ]
     },
     "execution_count": 4,
     "metadata": {},
     "output_type": "execute_result"
    },
    {
     "data": {
      "image/png": "[encoded data removed]",
      "text/plain": [
       "<Figure size 432x288 with 4 Axes>"
      ]
     },
     "metadata": {
      "needs_background": "light"
     },
     "output_type": "display_data"
    }
   ],
   "source": [
    "fig4 = plt.figure(constrained_layout=True)\n",
    "spec4 = fig4.add_gridspec(ncols=2, nrows=2)\n",
    "anno_opts = dict(xy=(0.5, 0.5), xycoords='axes fraction',\n",
    "                 va='center', ha='center')\n",
    "\n",
    "f4_ax1 = fig4.add_subplot(spec4[0, 0])\n",
    "f4_ax1.annotate('GridSpec[0, 0]', **anno_opts)\n",
    "fig4.add_subplot(spec4[0, 1]).annotate('GridSpec[0, 1:]', **anno_opts)\n",
    "fig4.add_subplot(spec4[1, 0]).annotate('GridSpec[1:, 0]', **anno_opts)\n",
    "fig4.add_subplot(spec4[1, 1]).annotate('GridSpec[1:, 1:]', **anno_opts)"
   ]
  },
  {
   "cell_type": "markdown",
   "metadata": {},
   "source": [
    "在以不同宽度创建子图的几种方法中gridspec也是必须的。"
   ]
  },
  {
   "cell_type": "markdown",
   "metadata": {
    "jupyter": {
     "source_hidden": true
    }
   },
   "source": [
    "The method shown here is similar to the one above and initializes a uniform grid specification, and then uses numpy indexing and slices to allocate multiple \"cells\" for a given subplot."
   ]
  },
  {
   "cell_type": "markdown",
   "metadata": {},
   "source": [
    "这里演示一种与前面相似的方法，初始化统一的网格规范，之后使用numpy索引与切片为给定的子图分配多个单元。"
   ]
  },
  {
   "cell_type": "code",
   "execution_count": 5,
   "metadata": {
    "collapsed": true,
    "jupyter": {
     "outputs_hidden": true
    }
   },
   "outputs": [
    {
     "data": {
      "text/plain": [
       "Text(0.5, 1.0, 'gs[-1, -2]')"
      ]
     },
     "execution_count": 5,
     "metadata": {},
     "output_type": "execute_result"
    },
    {
     "data": {
      "image/png": "[encoded data removed]",
      "text/plain": [
       "<Figure size 432x288 with 5 Axes>"
      ]
     },
     "metadata": {
      "needs_background": "light"
     },
     "output_type": "display_data"
    }
   ],
   "source": [
    "fig3 = plt.figure(constrained_layout=True)\n",
    "gs = fig3.add_gridspec(3, 3)\n",
    "f3_ax1 = fig3.add_subplot(gs[0, :])    #第一行，第一列至最后一列\n",
    "f3_ax1.set_title('gs[0, :]')\n",
    "f3_ax2 = fig3.add_subplot(gs[1, :-1])  #第二行，第一列至倒数第二列\n",
    "f3_ax2.set_title('gs[1, :-1]')\n",
    "f3_ax3 = fig3.add_subplot(gs[1:, -1])  #第二行至最后一行，倒数第一列\n",
    "f3_ax3.set_title('gs[1: -1]')\n",
    "f3_ax4 = fig3.add_subplot(gs[-1, 0])   #倒数第一行，第一列\n",
    "f3_ax4.set_title('gs[-1, 0]')\n",
    "f3_ax5 = fig3.add_subplot(gs[-1, -2])  #倒数第一行，倒数第二列\n",
    "f3_ax5.set_title('gs[-1, -2]')"
   ]
  },
  {
   "cell_type": "markdown",
   "metadata": {
    "jupyter": {
     "source_hidden": true
    }
   },
   "source": [
    "Another option is to use the width_ratios and height_ratios parameters. These keyword arguments are lists of numbers. Note that absolute values are meaningless, only their relative ratios matter. That means that width_ratios=[2, 4, 8] is equivalent to width_ratios=[1, 2, 4] within equally wide figures. For the sake of demonstration, we'll blindly create the axes within for loops since we won't need them later."
   ]
  },
  {
   "cell_type": "markdown",
   "metadata": {},
   "source": [
    "另一个选择是使用width_ratios与height_ratios参数。这些子参数是数值列表。请注意，绝对值是没有意义的，只有它们的相对比率才重要。意思是在相同宽度的图形中width_ratios=[2, 4, 8]与width_ratios=[1, 2, 4]相同。为了演示起见，我们将在for循环中随便创建子图，反正以后也不需要它们。"
   ]
  },
  {
   "cell_type": "code",
   "execution_count": null,
   "metadata": {},
   "outputs": [],
   "source": [
    "fig5 = plt.figure(constrained_layout=True)\n",
    "widths = [2, 3, 1.5]\n",
    "heights = [1, 3, 2]\n",
    "spec5 = fig5.add_gridspec(ncols=3, nrows=3, width_ratios=widths,\n",
    "                          height_ratios=heights)\n",
    "for row in range(3):\n",
    "    for col in range(3):\n",
    "        ax = fig5.add_subplot(spec5[row, col])\n",
    "        label = 'Width: {}\\nHeight: {}'.format(widths[col], heights[row])\n",
    "        ax.annotate(label, (0.1, 0.5), xycoords='axes fraction', va='center')"
   ]
  },
  {
   "cell_type": "markdown",
   "metadata": {},
   "source": [
    "Learning to use width_ratios and height_ratios is particularly useful since the top-level function subplots() accepts them within the gridspec_kw parameter. For that matter, any parameter accepted by GridSpec can be passed to subplots() via the gridspec_kw parameter. This example recreates the previous figure without directly using a gridspec instance."
   ]
  },
  {
   "cell_type": "markdown",
   "metadata": {},
   "source": [
    "学习使用width_ratios和height_ratios特别有用，因为顶层函数subplots（）在gridspec_kw参数中接受它们。事实上，GridSpec接受的任何参数都可以通过gridspec_kw参数传递给subplots（）。 本示例在不直接使用gridspec实例的情况下重新创建了上一个图形。"
   ]
  },
  {
   "cell_type": "code",
   "execution_count": null,
   "metadata": {},
   "outputs": [],
   "source": [
    "gs_kw = dict(width_ratios=widths, height_ratios=heights)\n",
    "fig6, f6_axes = plt.subplots(ncols=3, nrows=3, constrained_layout=True,\n",
    "                             gridspec_kw=gs_kw)\n",
    "for r, row in enumerate(f6_axes):\n",
    "    for c, ax in enumerate(row):\n",
    "        label = 'Width: {}\\nHeight: {}'.format(widths[c], heights[r])\n",
    "        ax.annotate(label, (0.1, 0.5), xycoords='axes fraction', va='center')"
   ]
  },
  {
   "cell_type": "markdown",
   "metadata": {},
   "source": [
    "https://matplotlib.org/tutorials/intermediate/gridspec.html#sphx-glr-tutorials-intermediate-gridspec-py"
   ]
  }
 ],
 "metadata": {
  "kernelspec": {
   "display_name": "Python 3",
   "language": "python",
   "name": "python3"
  },
  "language_info": {
   "codemirror_mode": {
    "name": "ipython",
    "version": 3
   },
   "file_extension": ".py",
   "mimetype": "text/x-python",
   "name": "python",
   "nbconvert_exporter": "python",
   "pygments_lexer": "ipython3",
   "version": "3.7.5"
  }
 },
 "nbformat": 4,
 "nbformat_minor": 4
}
