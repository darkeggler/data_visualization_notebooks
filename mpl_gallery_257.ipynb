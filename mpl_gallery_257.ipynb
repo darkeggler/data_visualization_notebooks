{
 "cells": [
  {
   "cell_type": "markdown",
   "metadata": {},
   "source": [
    "# 257. [Inset Locator Demo2](https://matplotlib.org/gallery/axes_grid1/inset_locator_demo2.html)"
   ]
  },
  {
   "cell_type": "markdown",
   "metadata": {},
   "source": [
    "This Demo shows how to create a zoomed inset via zoomed_inset_axes. In the first subplot an AnchoredSizeBar shows the zoom effect. In the second subplot a connection to the region of interest is created via mark_inset."
   ]
  },
  {
   "cell_type": "markdown",
   "metadata": {},
   "source": [
    "# Matplotlib示例.257 如何绘制带有缩放的画中画效果？"
   ]
  },
  {
   "cell_type": "markdown",
   "metadata": {},
   "source": [
    "```python\n",
    "mpl_toolkits.axes_grid1.inset_locator.zoomed_inset_axes(\n",
    "    parent_axes, \n",
    "    zoom, \n",
    "    loc='upper right', \n",
    "    bbox_to_anchor=None, \n",
    "    bbox_transform=None, \n",
    "    axes_class=None, \n",
    "    axes_kwargs=None, \n",
    "    borderpad=0.5)\n",
    "```\n",
    "\n",
    "*Create an anchored inset axes by scaling a parent axes.*\n",
    "通过缩放父轴坐标空间来创建锚定的插入轴坐标空间。\n",
    "\n",
    "zoom 参数是浮点数，>1放大； <1缩小。"
   ]
  },
  {
   "cell_type": "markdown",
   "metadata": {},
   "source": [
    "图例1是在轴空间及其0.5倍插图中绘制相同参数的标尺的对比效果。"
   ]
  },
  {
   "cell_type": "markdown",
   "metadata": {},
   "source": [
    "```python\n",
    "class mpl_toolkits.axes_grid1.anchored_artists.AnchoredSizeBar(\n",
    "    transform, \n",
    "    size, \n",
    "    label, \n",
    "    loc, \n",
    "    pad=0.1, \n",
    "    borderpad=0.1, \n",
    "    sep=2, \n",
    "    frameon=True, \n",
    "    size_vertical=0, \n",
    "    color='black', \n",
    "    label_top=False, \n",
    "    fontproperties=None, \n",
    "    fill_bar=None, \n",
    "    **kwargs)\n",
    "```\n",
    "\n",
    "*Draw a horizontal scale bar with a center-aligned label underneath.*\n",
    "绘制一条水平刻度条，其下附有居中对齐的标签。\n",
    "\n",
    "sep参数指示标尺与标签之间的间隔，单位point缺省为2"
   ]
  },
  {
   "cell_type": "markdown",
   "metadata": {},
   "source": [
    "\n"
   ]
  },
  {
   "cell_type": "code",
   "execution_count": 1,
   "metadata": {},
   "outputs": [],
   "source": [
    "import matplotlib.pyplot as plt\n",
    "\n",
    "from mpl_toolkits.axes_grid1.inset_locator import zoomed_inset_axes, mark_inset\n",
    "from mpl_toolkits.axes_grid1.anchored_artists import AnchoredSizeBar\n",
    "\n",
    "import numpy as np"
   ]
  },
  {
   "cell_type": "code",
   "execution_count": 2,
   "metadata": {},
   "outputs": [],
   "source": [
    "%matplotlib widget"
   ]
  },
  {
   "cell_type": "code",
   "execution_count": 3,
   "metadata": {},
   "outputs": [
    {
     "data": {
      "application/vnd.jupyter.widget-view+json": {
       "model_id": "05efedd7405648a8ac3c996516279bfb",
       "version_major": 2,
       "version_minor": 0
      },
      "text/plain": [
       "Canvas(toolbar=Toolbar(toolitems=[('Home', 'Reset original view', 'home', 'home'), ('Back', 'Back to previous …"
      ]
     },
     "metadata": {},
     "output_type": "display_data"
    }
   ],
   "source": [
    "fig, (ax, ax2) = plt.subplots(ncols=2, figsize=[6, 3])"
   ]
  },
  {
   "cell_type": "code",
   "execution_count": 4,
   "metadata": {},
   "outputs": [],
   "source": [
    "ax.set_aspect(1)"
   ]
  },
  {
   "cell_type": "code",
   "execution_count": 5,
   "metadata": {},
   "outputs": [
    {
     "data": {
      "text/plain": [
       "[None, None, None, None, None, None, None, None, None, None, None, None]"
      ]
     },
     "execution_count": 5,
     "metadata": {},
     "output_type": "execute_result"
    }
   ],
   "source": [
    "axins = zoomed_inset_axes(ax, zoom=0.5, loc='upper right')\n",
    "\n",
    "axins.yaxis.get_major_locator().set_params(nbins=7)\n",
    "axins.xaxis.get_major_locator().set_params(nbins=7)\n",
    "\n",
    "plt.setp(axins.get_xticklabels(), visible=False)\n",
    "plt.setp(axins.get_yticklabels(), visible=False)"
   ]
  },
  {
   "cell_type": "code",
   "execution_count": 6,
   "metadata": {},
   "outputs": [],
   "source": [
    "def add_sizebar(ax, size):\n",
    "    asb = AnchoredSizeBar(ax.transData,\n",
    "                          size,\n",
    "                          str(size),\n",
    "                          loc=8,\n",
    "                          pad=0.1, borderpad=0.5, sep=5,\n",
    "                          frameon=False)\n",
    "    ax.add_artist(asb)"
   ]
  },
  {
   "cell_type": "code",
   "execution_count": 7,
   "metadata": {},
   "outputs": [],
   "source": [
    "add_sizebar(ax, 0.5)\n",
    "add_sizebar(axins, 0.5)"
   ]
  },
  {
   "cell_type": "code",
   "execution_count": null,
   "metadata": {},
   "outputs": [],
   "source": []
  },
  {
   "cell_type": "markdown",
   "metadata": {},
   "source": [
    "# 2"
   ]
  },
  {
   "cell_type": "code",
   "execution_count": 8,
   "metadata": {},
   "outputs": [],
   "source": [
    "def get_demo_image():\n",
    "    from matplotlib.cbook import get_sample_data\n",
    "    import numpy as np\n",
    "    f = get_sample_data(\"axes_grid/bivariate_normal.npy\", asfileobj=False)\n",
    "    z = np.load(f)\n",
    "    # z is a numpy array of 15x15\n",
    "    return z, (-3, 4, -4, 3)"
   ]
  },
  {
   "cell_type": "code",
   "execution_count": 9,
   "metadata": {},
   "outputs": [
    {
     "data": {
      "text/plain": [
       "<matplotlib.image.AxesImage at 0x1953e3bafc8>"
      ]
     },
     "execution_count": 9,
     "metadata": {},
     "output_type": "execute_result"
    }
   ],
   "source": [
    "Z, extent = get_demo_image()\n",
    "Z2 = np.zeros([150, 150], dtype=\"d\")\n",
    "ny, nx = Z.shape\n",
    "Z2[30:30 + ny, 30:30 + nx] = Z\n",
    "\n",
    "# extent = [-3, 4, -4, 3]\n",
    "ax2.imshow(Z2, extent=extent, interpolation=\"nearest\",\n",
    "          origin=\"lower\")"
   ]
  },
  {
   "cell_type": "code",
   "execution_count": 10,
   "metadata": {},
   "outputs": [],
   "source": [
    "axins2 = zoomed_inset_axes(ax2, 6, loc=1)  # zoom = 6"
   ]
  },
  {
   "cell_type": "code",
   "execution_count": 11,
   "metadata": {},
   "outputs": [
    {
     "data": {
      "text/plain": [
       "<matplotlib.image.AxesImage at 0x1953e4adb48>"
      ]
     },
     "execution_count": 11,
     "metadata": {},
     "output_type": "execute_result"
    }
   ],
   "source": [
    "axins2.imshow(Z2, extent=extent, interpolation=\"nearest\",\n",
    "              origin=\"lower\")"
   ]
  },
  {
   "cell_type": "code",
   "execution_count": 12,
   "metadata": {},
   "outputs": [
    {
     "data": {
      "text/plain": [
       "(-2.5, -1.9)"
      ]
     },
     "execution_count": 12,
     "metadata": {},
     "output_type": "execute_result"
    }
   ],
   "source": [
    "x1, x2, y1, y2 = -1.5, -0.9, -2.5, -1.9\n",
    "axins2.set_xlim(x1, x2)\n",
    "axins2.set_ylim(y1, y2)"
   ]
  },
  {
   "cell_type": "code",
   "execution_count": 13,
   "metadata": {},
   "outputs": [
    {
     "data": {
      "text/plain": [
       "[None,\n",
       " None,\n",
       " None,\n",
       " None,\n",
       " None,\n",
       " None,\n",
       " None,\n",
       " None,\n",
       " None,\n",
       " None,\n",
       " None,\n",
       " None,\n",
       " None,\n",
       " None]"
      ]
     },
     "execution_count": 13,
     "metadata": {},
     "output_type": "execute_result"
    }
   ],
   "source": [
    "axins2.yaxis.get_major_locator().set_params(nbins=7)\n",
    "axins2.xaxis.get_major_locator().set_params(nbins=7)\n",
    "\n",
    "plt.setp(axins2.get_xticklabels(), visible=False)\n",
    "plt.setp(axins2.get_yticklabels(), visible=False)"
   ]
  },
  {
   "cell_type": "code",
   "execution_count": 14,
   "metadata": {},
   "outputs": [
    {
     "data": {
      "text/plain": [
       "(<mpl_toolkits.axes_grid1.inset_locator.BboxPatch at 0x1953e4cdac8>,\n",
       " <mpl_toolkits.axes_grid1.inset_locator.BboxConnector at 0x1953bd22c48>,\n",
       " <mpl_toolkits.axes_grid1.inset_locator.BboxConnector at 0x1953e4cd688>)"
      ]
     },
     "execution_count": 14,
     "metadata": {},
     "output_type": "execute_result"
    }
   ],
   "source": [
    "mark_inset(ax2, axins2, loc1=2, loc2=4, fc=\"none\", ec=\"0.5\")"
   ]
  },
  {
   "cell_type": "markdown",
   "metadata": {},
   "source": [
    "函数mark_inset画一个框以标记由插图表示区域的位置。并通过在拐角处绘制线条来显示与插入轴的连接，从而产生“放大”效果。参数loc1&2仅支持4个位置。"
   ]
  },
  {
   "cell_type": "code",
   "execution_count": null,
   "metadata": {},
   "outputs": [],
   "source": [
    "for i in range(20):\n",
    "    print(72 + i * 3, end=' ')"
   ]
  },
  {
   "cell_type": "code",
   "execution_count": null,
   "metadata": {},
   "outputs": [],
   "source": []
  }
 ],
 "metadata": {
  "kernelspec": {
   "display_name": "Python 3",
   "language": "python",
   "name": "python3"
  },
  "language_info": {
   "codemirror_mode": {
    "name": "ipython",
    "version": 3
   },
   "file_extension": ".py",
   "mimetype": "text/x-python",
   "name": "python",
   "nbconvert_exporter": "python",
   "pygments_lexer": "ipython3",
   "version": "3.7.5"
  }
 },
 "nbformat": 4,
 "nbformat_minor": 4
}
