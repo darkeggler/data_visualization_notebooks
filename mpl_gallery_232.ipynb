{
 "cells": [
  {
   "cell_type": "markdown",
   "metadata": {},
   "source": [
    "- [x] https://wenku.baidu.com/view/b7329ed0777f5acfa1c7aa00b52acfc789eb9f92.html?fr=search\n",
    "- [x] https://wenku.baidu.com/view/3e598b9ea48da0116c175f0e7cd184254b351beb.html?fr=search\n",
    "- [x] https://wenku.baidu.com/view/10dbb489326c1eb91a37f111f18583d048640f22.html?fr=search\n",
    "- https://wenku.baidu.com/view/841e1f4eb81aa8114431b90d6c85ec3a86c28b5f.html?fr=search\n",
    "- https://wenku.baidu.com/view/bacf28c1ba68a98271fe910ef12d2af90242a8ae.html?fr=search\n",
    "- https://wenku.baidu.com/view/bea53fc4beeb19e8b8f67c1cfad6195f312be8e4.html?fr=search\n",
    "- https://wenku.baidu.com/view/bf2dd1a4b94ae45c3b3567ec102de2bd9705de54.html?fr=search"
   ]
  },
  {
   "cell_type": "markdown",
   "metadata": {},
   "source": [
    "- Lines, bars and markers [44]\n",
    "- Images, contours and fields [42]\n",
    "- Subplots, axes and figures [30]\n",
    "- Statistics [20]\n",
    "- Pie and polar charts [9]\n",
    "- Text, labels and annotations [42]\n",
    "- Pyplot [25]\n",
    "- Color [8]\n",
    "- Shapes and collections [16]"
   ]
  },
  {
   "cell_type": "code",
   "execution_count": 67,
   "metadata": {},
   "outputs": [
    {
     "data": {
      "text/plain": [
       "220"
      ]
     },
     "execution_count": 67,
     "metadata": {},
     "output_type": "execute_result"
    }
   ],
   "source": [
    "44 + 42 +30 + 20 + 9 + 42 + 25 + 8"
   ]
  },
  {
   "cell_type": "markdown",
   "metadata": {},
   "source": [
    "Matplotlib示例.232"
   ]
  },
  {
   "cell_type": "code",
   "execution_count": 1,
   "metadata": {},
   "outputs": [],
   "source": [
    "import matplotlib.pyplot as plt\n",
    "import matplotlib.patches as patches\n",
    "from matplotlib.path import Path\n",
    "import numpy as np"
   ]
  },
  {
   "cell_type": "markdown",
   "metadata": {},
   "source": [
    "画一个圆"
   ]
  },
  {
   "cell_type": "code",
   "execution_count": 73,
   "metadata": {},
   "outputs": [],
   "source": [
    "MAGIC = 0.2652031\n",
    "SQRTHALF = np.sqrt(0.5)\n",
    "MAGIC45 = SQRTHALF * MAGIC\n",
    "\n",
    "vertices = np.array([[0.0, -1.0],\n",
    "\n",
    "                     [MAGIC, -1.0],\n",
    "                     [SQRTHALF-MAGIC45, -SQRTHALF-MAGIC45],\n",
    "                     [SQRTHALF, -SQRTHALF],\n",
    "\n",
    "                     [SQRTHALF+MAGIC45, -SQRTHALF+MAGIC45],\n",
    "                     [1.0, -MAGIC],\n",
    "                     [1.0, 0.0],\n",
    "\n",
    "                     [1.0, MAGIC],\n",
    "                     [SQRTHALF+MAGIC45, SQRTHALF-MAGIC45],\n",
    "                     [SQRTHALF, SQRTHALF],\n",
    "\n",
    "                     [SQRTHALF-MAGIC45, SQRTHALF+MAGIC45],\n",
    "                     [MAGIC, 1.0],\n",
    "                     [0.0, 1.0],\n",
    "\n",
    "                     [-MAGIC, 1.0],\n",
    "                     [-SQRTHALF+MAGIC45, SQRTHALF+MAGIC45],\n",
    "                     [-SQRTHALF, SQRTHALF],\n",
    "\n",
    "                     [-SQRTHALF-MAGIC45, SQRTHALF-MAGIC45],\n",
    "                     [-1.0, MAGIC],\n",
    "                     [-1.0, 0.0],\n",
    "\n",
    "                     [-1.0, -MAGIC],\n",
    "                     [-SQRTHALF-MAGIC45, -SQRTHALF+MAGIC45],\n",
    "                     [-SQRTHALF, -SQRTHALF],\n",
    "\n",
    "                     [-SQRTHALF+MAGIC45, -SQRTHALF-MAGIC45],\n",
    "                     [-MAGIC, -1.0],\n",
    "                     [0.0, -1.0],\n",
    "\n",
    "                     [0.0, -1.0]],\n",
    "                    dtype=float)\n",
    "\n",
    "codes = [Path.CURVE4] * 26\n",
    "codes[0] = Path.MOVETO\n",
    "codes[-1] = Path.CLOSEPOLY"
   ]
  },
  {
   "cell_type": "code",
   "execution_count": 3,
   "metadata": {},
   "outputs": [],
   "source": [
    "l = list(zip(*vertices))"
   ]
  },
  {
   "cell_type": "code",
   "execution_count": 4,
   "metadata": {},
   "outputs": [
    {
     "data": {
      "image/png": "[encoded data removed]",
      "text/plain": [
       "<Figure size 360x360 with 1 Axes>"
      ]
     },
     "metadata": {
      "needs_background": "light"
     },
     "output_type": "display_data"
    }
   ],
   "source": [
    "fig, ax = plt.subplots(figsize=(5,5))"
   ]
  },
  {
   "cell_type": "code",
   "execution_count": 69,
   "metadata": {},
   "outputs": [
    {
     "data": {
      "text/plain": [
       "[<matplotlib.lines.Line2D at 0x26ece756888>]"
      ]
     },
     "execution_count": 69,
     "metadata": {},
     "output_type": "execute_result"
    }
   ],
   "source": [
    "ax.cla()\n",
    "ax.plot(l[0], l[1],'r.-')"
   ]
  },
  {
   "cell_type": "markdown",
   "metadata": {},
   "source": [
    "```python\n",
    "circle(center=(0, 0), radius=1, readonly=True)\n",
    "\n",
    "\n",
    "@classmethod\n",
    "def circle(cls, center=(0., 0.), radius=1., readonly=False):\n",
    "```"
   ]
  },
  {
   "cell_type": "code",
   "execution_count": 74,
   "metadata": {},
   "outputs": [],
   "source": [
    "path = Path(vertices, codes, readonly=True)\n",
    "patch = patches.PathPatch(path)"
   ]
  },
  {
   "cell_type": "code",
   "execution_count": 75,
   "metadata": {},
   "outputs": [
    {
     "data": {
      "text/plain": [
       "<matplotlib.patches.PathPatch at 0x26ece596e48>"
      ]
     },
     "execution_count": 75,
     "metadata": {},
     "output_type": "execute_result"
    }
   ],
   "source": [
    "ax.add_patch(patch)"
   ]
  },
  {
   "cell_type": "code",
   "execution_count": 77,
   "metadata": {},
   "outputs": [],
   "source": []
  },
  {
   "cell_type": "code",
   "execution_count": 76,
   "metadata": {},
   "outputs": [
    {
     "data": {
      "image/png": "[encoded data removed]",
      "text/plain": [
       "<Figure size 360x360 with 1 Axes>"
      ]
     },
     "execution_count": 76,
     "metadata": {},
     "output_type": "execute_result"
    }
   ],
   "source": [
    "fig"
   ]
  },
  {
   "cell_type": "code",
   "execution_count": null,
   "metadata": {},
   "outputs": [],
   "source": []
  },
  {
   "cell_type": "markdown",
   "metadata": {},
   "source": [
    "画六角形\n",
    "```python\n",
    "ns2 = numVertices * 2\n",
    "theta = (2*np.pi/ns2 * np.arange(ns2 + 1))\n",
    "# This initial rotation is to make sure the polygon always\n",
    "# \"points-up\"\n",
    "theta += np.pi / 2.0\n",
    "r = np.ones(ns2 + 1)\n",
    "r[1::2] = innerCircle\n",
    "verts = (r * np.vstack((np.cos(theta), np.sin(theta)))).T\n",
    "path = cls(verts, closed=True, readonly=True)\n",
    "```"
   ]
  },
  {
   "cell_type": "code",
   "execution_count": 15,
   "metadata": {
    "collapsed": true,
    "jupyter": {
     "outputs_hidden": true
    }
   },
   "outputs": [
    {
     "data": {
      "image/png": "[encoded data removed]",
      "text/plain": [
       "<Figure size 360x360 with 1 Axes>"
      ]
     },
     "metadata": {
      "needs_background": "light"
     },
     "output_type": "display_data"
    }
   ],
   "source": [
    "fig2, ax2 = plt.subplots(figsize=(5,5))"
   ]
  },
  {
   "cell_type": "code",
   "execution_count": 25,
   "metadata": {},
   "outputs": [],
   "source": [
    "numVertices = 6\n",
    "innerCircle = 0.5\n",
    "ns2 = numVertices * 2"
   ]
  },
  {
   "cell_type": "code",
   "execution_count": 13,
   "metadata": {},
   "outputs": [],
   "source": [
    "theta = (2*np.pi/ns2 * np.arange(ns2 + 1))"
   ]
  },
  {
   "cell_type": "code",
   "execution_count": 14,
   "metadata": {},
   "outputs": [
    {
     "data": {
      "text/plain": [
       "array([0.        , 0.52359878, 1.04719755, 1.57079633, 2.0943951 ,\n",
       "       2.61799388, 3.14159265, 3.66519143, 4.1887902 , 4.71238898,\n",
       "       5.23598776, 5.75958653, 6.28318531])"
      ]
     },
     "execution_count": 14,
     "metadata": {},
     "output_type": "execute_result"
    }
   ],
   "source": [
    "theta"
   ]
  },
  {
   "cell_type": "code",
   "execution_count": 79,
   "metadata": {},
   "outputs": [
    {
     "data": {
      "text/plain": [
       "[<matplotlib.lines.Line2D at 0x26ecdbd7188>]"
      ]
     },
     "execution_count": 79,
     "metadata": {},
     "output_type": "execute_result"
    }
   ],
   "source": [
    "ax2.cla()\n",
    "ax2.plot(np.cos(theta), np.sin(theta))"
   ]
  },
  {
   "cell_type": "code",
   "execution_count": 81,
   "metadata": {},
   "outputs": [],
   "source": [
    "fig2.savefig(r'E:\\notebooks\\png\\061303.png')"
   ]
  },
  {
   "cell_type": "code",
   "execution_count": 19,
   "metadata": {},
   "outputs": [],
   "source": [
    "theta += np.pi / 2.0"
   ]
  },
  {
   "cell_type": "code",
   "execution_count": 20,
   "metadata": {},
   "outputs": [
    {
     "data": {
      "text/plain": [
       "[<matplotlib.lines.Line2D at 0x26ece17b548>]"
      ]
     },
     "execution_count": 20,
     "metadata": {},
     "output_type": "execute_result"
    }
   ],
   "source": [
    "ax2.plot(np.cos(theta), np.sin(theta), 'r.-')"
   ]
  },
  {
   "cell_type": "code",
   "execution_count": 22,
   "metadata": {},
   "outputs": [
    {
     "data": {
      "image/png": "[encoded data removed]",
      "text/plain": [
       "<Figure size 360x360 with 1 Axes>"
      ]
     },
     "execution_count": 22,
     "metadata": {},
     "output_type": "execute_result"
    }
   ],
   "source": [
    "fig2"
   ]
  },
  {
   "cell_type": "code",
   "execution_count": 26,
   "metadata": {},
   "outputs": [],
   "source": [
    "r = np.ones(ns2 + 1)\n",
    "r[1::2] = innerCircle"
   ]
  },
  {
   "cell_type": "code",
   "execution_count": 82,
   "metadata": {},
   "outputs": [
    {
     "data": {
      "text/plain": [
       "[<matplotlib.lines.Line2D at 0x26ecdd5fc08>]"
      ]
     },
     "execution_count": 82,
     "metadata": {},
     "output_type": "execute_result"
    }
   ],
   "source": [
    "ax2.plot(r * np.cos(theta), r* np.sin(theta), 'c.-')"
   ]
  },
  {
   "cell_type": "code",
   "execution_count": 83,
   "metadata": {},
   "outputs": [],
   "source": [
    "fig2.savefig(r'E:\\notebooks\\png\\061304.png')"
   ]
  },
  {
   "cell_type": "code",
   "execution_count": 30,
   "metadata": {},
   "outputs": [],
   "source": [
    "verts = (r * np.vstack((np.cos(theta), np.sin(theta)))).T"
   ]
  },
  {
   "cell_type": "code",
   "execution_count": 32,
   "metadata": {},
   "outputs": [],
   "source": [
    "path2 = Path(verts, closed=True, readonly=True)"
   ]
  },
  {
   "cell_type": "code",
   "execution_count": 33,
   "metadata": {},
   "outputs": [],
   "source": [
    "patch2 = patches.PathPatch(path2)"
   ]
  },
  {
   "cell_type": "code",
   "execution_count": 84,
   "metadata": {},
   "outputs": [
    {
     "data": {
      "text/plain": [
       "<matplotlib.patches.PathPatch at 0x26ece293608>"
      ]
     },
     "execution_count": 84,
     "metadata": {},
     "output_type": "execute_result"
    }
   ],
   "source": [
    "ax2.add_patch(patch2)"
   ]
  },
  {
   "cell_type": "code",
   "execution_count": 85,
   "metadata": {},
   "outputs": [],
   "source": [
    "fig2.savefig(r'E:\\notebooks\\png\\061305.png')"
   ]
  },
  {
   "cell_type": "markdown",
   "metadata": {},
   "source": [
    "verts = np.concatenate([circle.vertices, star.vertices[::-1, ...]])\n",
    "codes = np.concatenate([circle.codes, star.codes])"
   ]
  },
  {
   "cell_type": "code",
   "execution_count": 38,
   "metadata": {},
   "outputs": [
    {
     "data": {
      "text/plain": [
       "array([[ 0.        , -1.        ],\n",
       "       [ 0.2652031 , -1.        ],\n",
       "       [ 0.51957987, -0.89463369],\n",
       "       [ 0.70710678, -0.70710678],\n",
       "       [ 0.89463369, -0.51957987],\n",
       "       [ 1.        , -0.2652031 ],\n",
       "       [ 1.        ,  0.        ],\n",
       "       [ 1.        ,  0.2652031 ],\n",
       "       [ 0.89463369,  0.51957987],\n",
       "       [ 0.70710678,  0.70710678],\n",
       "       [ 0.51957987,  0.89463369],\n",
       "       [ 0.2652031 ,  1.        ],\n",
       "       [ 0.        ,  1.        ],\n",
       "       [-0.2652031 ,  1.        ],\n",
       "       [-0.51957987,  0.89463369],\n",
       "       [-0.70710678,  0.70710678],\n",
       "       [-0.89463369,  0.51957987],\n",
       "       [-1.        ,  0.2652031 ],\n",
       "       [-1.        ,  0.        ],\n",
       "       [-1.        , -0.2652031 ],\n",
       "       [-0.89463369, -0.51957987],\n",
       "       [-0.70710678, -0.70710678],\n",
       "       [-0.51957987, -0.89463369],\n",
       "       [-0.2652031 , -1.        ],\n",
       "       [ 0.        , -1.        ],\n",
       "       [ 0.        , -1.        ]])"
      ]
     },
     "execution_count": 38,
     "metadata": {},
     "output_type": "execute_result"
    }
   ],
   "source": [
    "path.vertices"
   ]
  },
  {
   "cell_type": "code",
   "execution_count": 39,
   "metadata": {},
   "outputs": [
    {
     "data": {
      "text/plain": [
       "array([[ 6.12323400e-17,  1.00000000e+00],\n",
       "       [-2.50000000e-01,  4.33012702e-01],\n",
       "       [-8.66025404e-01,  5.00000000e-01],\n",
       "       [-5.00000000e-01,  6.12323400e-17],\n",
       "       [-8.66025404e-01, -5.00000000e-01],\n",
       "       [-2.50000000e-01, -4.33012702e-01],\n",
       "       [-1.83697020e-16, -1.00000000e+00],\n",
       "       [ 2.50000000e-01, -4.33012702e-01],\n",
       "       [ 8.66025404e-01, -5.00000000e-01],\n",
       "       [ 5.00000000e-01, -1.22464680e-16],\n",
       "       [ 8.66025404e-01,  5.00000000e-01],\n",
       "       [ 2.50000000e-01,  4.33012702e-01],\n",
       "       [ 3.06161700e-16,  1.00000000e+00]])"
      ]
     },
     "execution_count": 39,
     "metadata": {},
     "output_type": "execute_result"
    }
   ],
   "source": [
    "path2.vertices"
   ]
  },
  {
   "cell_type": "code",
   "execution_count": 45,
   "metadata": {},
   "outputs": [],
   "source": [
    "v1 = np.concatenate([path.vertices, path2.vertices])"
   ]
  },
  {
   "cell_type": "code",
   "execution_count": 46,
   "metadata": {},
   "outputs": [],
   "source": [
    "v2 = np.concatenate([path.vertices, path2.vertices[::-1,::]])"
   ]
  },
  {
   "cell_type": "code",
   "execution_count": 47,
   "metadata": {},
   "outputs": [],
   "source": [
    "codes = np.concatenate([path.codes, path2.codes])"
   ]
  },
  {
   "cell_type": "code",
   "execution_count": 51,
   "metadata": {},
   "outputs": [],
   "source": [
    "p1 = Path(v1, codes)"
   ]
  },
  {
   "cell_type": "code",
   "execution_count": 53,
   "metadata": {},
   "outputs": [
    {
     "data": {
      "image/png": "[encoded data removed]",
      "text/plain": [
       "<Figure size 360x360 with 1 Axes>"
      ]
     },
     "metadata": {
      "needs_background": "light"
     },
     "output_type": "display_data"
    }
   ],
   "source": [
    "fig3, ax3 = plt.subplots(figsize=(5,5))"
   ]
  },
  {
   "cell_type": "code",
   "execution_count": 59,
   "metadata": {},
   "outputs": [],
   "source": [
    "patch_t1 = patches.PathPatch(p1)"
   ]
  },
  {
   "cell_type": "code",
   "execution_count": 60,
   "metadata": {},
   "outputs": [
    {
     "data": {
      "text/plain": [
       "<matplotlib.patches.PathPatch at 0x26ecdc42b88>"
      ]
     },
     "execution_count": 60,
     "metadata": {},
     "output_type": "execute_result"
    }
   ],
   "source": [
    "ax3.add_patch(patch_t1)"
   ]
  },
  {
   "cell_type": "code",
   "execution_count": 62,
   "metadata": {},
   "outputs": [
    {
     "data": {
      "text/plain": [
       "(-1.0, 1.0)"
      ]
     },
     "execution_count": 62,
     "metadata": {},
     "output_type": "execute_result"
    }
   ],
   "source": [
    "ax3.set_xlim(-1, 1)\n",
    "ax3.set_ylim(-1, 1)"
   ]
  },
  {
   "cell_type": "code",
   "execution_count": 63,
   "metadata": {},
   "outputs": [
    {
     "data": {
      "image/png": "[encoded data removed]",
      "text/plain": [
       "<Figure size 360x360 with 1 Axes>"
      ]
     },
     "execution_count": 63,
     "metadata": {},
     "output_type": "execute_result"
    }
   ],
   "source": [
    "fig3"
   ]
  },
  {
   "cell_type": "code",
   "execution_count": 65,
   "metadata": {},
   "outputs": [
    {
     "data": {
      "text/plain": [
       "(-1.0, 1.0)"
      ]
     },
     "execution_count": 65,
     "metadata": {},
     "output_type": "execute_result"
    },
    {
     "data": {
      "image/png": "[encoded data removed]",
      "text/plain": [
       "<Figure size 360x360 with 1 Axes>"
      ]
     },
     "metadata": {
      "needs_background": "light"
     },
     "output_type": "display_data"
    }
   ],
   "source": [
    "fig4, ax4 = plt.subplots(figsize=(5,5))\n",
    "p2 = Path(v2, codes)\n",
    "patch_t2 = patches.PathPatch(p2)\n",
    "ax4.add_patch(patch_t2)\n",
    "ax4.set_xlim(-1, 1)\n",
    "ax4.set_ylim(-1, 1)"
   ]
  },
  {
   "cell_type": "code",
   "execution_count": 66,
   "metadata": {},
   "outputs": [
    {
     "data": {
      "text/plain": [
       "[<matplotlib.lines.Line2D at 0x26ece862dc8>]"
      ]
     },
     "execution_count": 66,
     "metadata": {},
     "output_type": "execute_result"
    },
    {
     "data": {
      "image/png": "[encoded data removed]",
      "text/plain": [
       "<Figure size 432x288 with 1 Axes>"
      ]
     },
     "metadata": {
      "needs_background": "light"
     },
     "output_type": "display_data"
    }
   ],
   "source": [
    "plt.plot(np.arange(10)**2, '--r', marker=p2, markersize=15)"
   ]
  },
  {
   "cell_type": "code",
   "execution_count": null,
   "metadata": {},
   "outputs": [],
   "source": []
  }
 ],
 "metadata": {
  "kernelspec": {
   "display_name": "Python 3",
   "language": "python",
   "name": "python3"
  },
  "language_info": {
   "codemirror_mode": {
    "name": "ipython",
    "version": 3
   },
   "file_extension": ".py",
   "mimetype": "text/x-python",
   "name": "python",
   "nbconvert_exporter": "python",
   "pygments_lexer": "ipython3",
   "version": "3.7.5"
  }
 },
 "nbformat": 4,
 "nbformat_minor": 4
}
