{
 "cells": [
  {
   "cell_type": "markdown",
   "metadata": {},
   "source": [
    "# 256. Axes Grid : [Inset Locator Demo](https://matplotlib.org/gallery/axes_grid1/inset_locator_demo.html)"
   ]
  },
  {
   "cell_type": "markdown",
   "metadata": {},
   "source": [
    "# Matplotlib示例.256 如何绘制画中画效果？"
   ]
  },
  {
   "cell_type": "markdown",
   "metadata": {
    "jupyter": {
     "source_hidden": true
    }
   },
   "source": [
    "The inset_locator's inset_axes allows easily placing insets in the corners of the axes by specifying a width and height and optionally a location (loc) that accepts locations as codes, similar to legend. By default, the inset is offset by some points from the axes, controlled via the borderpad parameter."
   ]
  },
  {
   "cell_type": "markdown",
   "metadata": {},
   "source": [
    "在实践5中，想要实现局部放大的效果。所以今天学习示例256\n",
    "\n",
    "matplotlib为我们提供了实现插图效果的简易方法，inset_locator的inset_axes函数。"
   ]
  },
  {
   "cell_type": "code",
   "execution_count": 1,
   "metadata": {},
   "outputs": [],
   "source": [
    "import matplotlib.pyplot as plt\n",
    "from mpl_toolkits.axes_grid1.inset_locator import inset_axes"
   ]
  },
  {
   "cell_type": "markdown",
   "metadata": {},
   "source": [
    "inset_axes与常见的方法不同，它在工具集中，从命名上就能看出有显著的差异。"
   ]
  },
  {
   "cell_type": "code",
   "execution_count": 4,
   "metadata": {},
   "outputs": [],
   "source": [
    "%matplotlib widget"
   ]
  },
  {
   "cell_type": "code",
   "execution_count": 3,
   "metadata": {},
   "outputs": [
    {
     "data": {
      "application/vnd.jupyter.widget-view+json": {
       "model_id": "36f25bff67c04f7eadd5d400b84c6396",
       "version_major": 2,
       "version_minor": 0
      },
      "text/plain": [
       "Canvas(toolbar=Toolbar(toolitems=[('Home', 'Reset original view', 'home', 'home'), ('Back', 'Back to previous …"
      ]
     },
     "metadata": {},
     "output_type": "display_data"
    }
   ],
   "source": [
    "fig, (ax, ax2) = plt.subplots(1, 2, figsize=[5.5, 2.8])"
   ]
  },
  {
   "cell_type": "code",
   "execution_count": 4,
   "metadata": {},
   "outputs": [],
   "source": [
    "axins = inset_axes(ax, width=1.3, height=0.9)"
   ]
  },
  {
   "cell_type": "markdown",
   "metadata": {
    "jupyter": {
     "source_hidden": true
    }
   },
   "source": [
    "Create inset of width 1.3 inches and height 0.9 inches at the default upper right location"
   ]
  },
  {
   "cell_type": "markdown",
   "metadata": {},
   "source": [
    "先不急着查API，先盲猜一下，inset_axes会在ax坐标空间创建一个宽1.3高0.9的插图。猜不到的是1.3和0.9是什么单位，插图的位置又在哪。\n",
    "\n",
    "(查API，缺省位置右上，单位英寸。)"
   ]
  },
  {
   "cell_type": "code",
   "execution_count": 8,
   "metadata": {},
   "outputs": [],
   "source": [
    "axins2 = inset_axes(ax, width=\"30%\", height=\"40%\", loc=3)"
   ]
  },
  {
   "cell_type": "markdown",
   "metadata": {
    "jupyter": {
     "source_hidden": true
    }
   },
   "source": [
    "Create inset of width 30% and height 40% of the parent axes' bounding box at the lower left corner (loc=3)"
   ]
  },
  {
   "cell_type": "markdown",
   "metadata": {},
   "source": [
    "百分比是另一种可接受的样式，它是相对于ax的bbox的比例，3是位置的数字编号\n",
    "\n",
    "```\n",
    "'upper right'  : 1,\n",
    "'upper left'   : 2,\n",
    "'lower left'   : 3,\n",
    "'lower right'  : 4,\n",
    "'right'        : 5,\n",
    "'center left'  : 6,\n",
    "'center right' : 7,\n",
    "'lower center' : 8,\n",
    "'upper center' : 9,\n",
    "'center'       : 10\n",
    "```\n",
    "\n",
    "（这与legend的位置相同，应该是在offsetbox中定义的）"
   ]
  },
  {
   "cell_type": "code",
   "execution_count": 5,
   "metadata": {},
   "outputs": [],
   "source": [
    "# Create inset of mixed specifications in the second subplot;\n",
    "# width is 30% of parent axes' bounding box and\n",
    "# height is 1 inch at the upper left corner (loc=2)\n",
    "axins3 = inset_axes(ax2, width=\"30%\", height=1., loc=2)"
   ]
  },
  {
   "cell_type": "markdown",
   "metadata": {},
   "source": [
    "混合使用也成立。"
   ]
  },
  {
   "cell_type": "code",
   "execution_count": 6,
   "metadata": {},
   "outputs": [],
   "source": [
    "# Create an inset in the lower right corner (loc=4) with borderpad=1, i.e.\n",
    "# 10 points padding (as 10pt is the default fontsize) to the parent axes\n",
    "axins4 = inset_axes(ax2, width=\"20%\", height=\"20%\", loc=4, borderpad=1)"
   ]
  },
  {
   "cell_type": "markdown",
   "metadata": {},
   "source": [
    "Padding between inset axes and the bbox_to_anchor. Defaults to 0.5. The units are axes font size, i.e. for a default font size of 10 points borderpad = 0.5 is equivalent to a padding of 5 points."
   ]
  },
  {
   "cell_type": "markdown",
   "metadata": {},
   "source": [
    "一个新参数borderpad\n",
    "\n",
    "在插图坐标空间与bbox_to_anchor之间填充。默认值是0.5 单位是axes的字体尺寸，默认字体尺寸是10points，所以borderpad=0.5等于填充5points\n",
    "\n"
   ]
  },
  {
   "cell_type": "markdown",
   "metadata": {},
   "source": [
    "- bbox是什么？\n",
    "\n",
    "bounding box，是一个 Rectangle 实例\n",
    "\n",
    "- bbox_to_anchor又是什么？"
   ]
  },
  {
   "cell_type": "code",
   "execution_count": 9,
   "metadata": {},
   "outputs": [],
   "source": [
    "# Turn ticklabels of insets off\n",
    "for axi in [axins, axins2, axins3, axins4]:\n",
    "    axi.tick_params(labelleft=False, labelbottom=False)"
   ]
  },
  {
   "cell_type": "markdown",
   "metadata": {},
   "source": [
    "----"
   ]
  },
  {
   "cell_type": "code",
   "execution_count": null,
   "metadata": {},
   "outputs": [],
   "source": []
  },
  {
   "cell_type": "markdown",
   "metadata": {},
   "source": [
    "The arguments bbox_to_anchor and bbox_transfrom can be used for a more fine grained control over the inset position and size or even to position the inset at completely arbitrary positions. The bbox_to_anchor sets the bounding box in coordinates according to the bbox_transform."
   ]
  },
  {
   "cell_type": "markdown",
   "metadata": {},
   "source": [
    "参数bbox_to_anchor和bbox_transfrom可以用于对插入位置和大小进行更细粒度的控制，甚至可以将插入位置定位在完全任意的位置。 bbox_to_anchor根据bbox_transform在坐标中设置边界框。"
   ]
  },
  {
   "cell_type": "code",
   "execution_count": 11,
   "metadata": {},
   "outputs": [
    {
     "data": {
      "application/vnd.jupyter.widget-view+json": {
       "model_id": "167fccebddfe414db873d9969cf11aa8",
       "version_major": 2,
       "version_minor": 0
      },
      "text/plain": [
       "Canvas(toolbar=Toolbar(toolitems=[('Home', 'Reset original view', 'home', 'home'), ('Back', 'Back to previous …"
      ]
     },
     "metadata": {},
     "output_type": "display_data"
    }
   ],
   "source": [
    "fig = plt.figure(figsize=[5.5, 2.8])\n",
    "ax = fig.add_subplot(121)"
   ]
  },
  {
   "cell_type": "code",
   "execution_count": 12,
   "metadata": {
    "slideshow": {
     "slide_type": "slide"
    }
   },
   "outputs": [
    {
     "data": {
      "text/plain": [
       "<matplotlib.patches.Rectangle at 0x233d7a89148>"
      ]
     },
     "execution_count": 12,
     "metadata": {},
     "output_type": "execute_result"
    }
   ],
   "source": [
    "axins = inset_axes(ax, width=\"50%\", height=\"75%\",\n",
    "                   bbox_to_anchor=(.2, .4, .6, .5),\n",
    "                   bbox_transform=ax.transAxes, loc=3)\n",
    "\n",
    "# For visualization purposes we mark the bounding box by a rectangle\n",
    "ax.add_patch(plt.Rectangle((.2, .4), .6, .5, ls=\"--\", ec=\"c\", fc=\"None\",\n",
    "                           transform=ax.transAxes))"
   ]
  },
  {
   "cell_type": "markdown",
   "metadata": {},
   "source": [
    "We use the axes transform as bbox_transform. Therefore the bounding box\n",
    "needs to be specified in axes coordinates ((0, 0) is the lower left corner\n",
    "of the axes, (1, 1) is the upper right corner).\n",
    "The bounding box (.2, .4, .6, .5) starts at (.2, .4) and ranges to (.8, .9)\n",
    "in those coordinates.\n",
    "Inside of this bounding box an inset of half the bounding box' width and\n",
    "three quarters of the bounding box' height is created. The lower left corner\n",
    "of the inset is aligned to the lower left corner of the bounding box (loc=3).\n",
    "The inset is then offset by the default 0.5 in units of the font size."
   ]
  },
  {
   "cell_type": "markdown",
   "metadata": {},
   "source": [
    "参数bbox_transform设置为axes的坐标系统。因此，需要在轴坐标中指定边界框。\n",
    "边框(.2, .4, .6, .5)在此坐标系统中的左下角是(.2, .4)右上角是(.8, .9) 在此边界框内，创建了边界框宽度的一半和边界框高度的四分之三的插图。 插图的左下角与边界框的左下角对齐（位置= 3）。 然后，以字体大小为单位将插图偏移默认的0.5。"
   ]
  },
  {
   "cell_type": "code",
   "execution_count": 13,
   "metadata": {},
   "outputs": [
    {
     "data": {
      "text/plain": [
       "[(0.0, 10.0), (0.0, 10.0)]"
      ]
     },
     "execution_count": 13,
     "metadata": {},
     "output_type": "execute_result"
    }
   ],
   "source": [
    "ax.set(xlim=(0, 10), ylim=(0, 10))"
   ]
  },
  {
   "cell_type": "markdown",
   "metadata": {},
   "source": [
    "We set the axis limits to something other than the default, in order to not distract from the fact that axes coordinates are used here."
   ]
  },
  {
   "cell_type": "markdown",
   "metadata": {},
   "source": [
    "我们将轴限制设置为默认值以外的其他值，以免干扰此处使用轴坐标的事实。"
   ]
  },
  {
   "cell_type": "code",
   "execution_count": 13,
   "metadata": {},
   "outputs": [],
   "source": [
    "ax2 = fig.add_subplot(222)\n",
    "axins2 = inset_axes(ax2, width=\"30%\", height=\"50%\")"
   ]
  },
  {
   "cell_type": "code",
   "execution_count": 14,
   "metadata": {},
   "outputs": [],
   "source": [
    "ax3 = fig.add_subplot(224)\n",
    "axins3 = inset_axes(ax3, width=\"100%\", height=\"100%\",\n",
    "                    bbox_to_anchor=(.7, .5, .3, .5),\n",
    "                    bbox_transform=ax3.transAxes)"
   ]
  },
  {
   "cell_type": "markdown",
   "metadata": {},
   "source": [
    "Note how the two following insets are created at the same positions, one by use of the default parent axes' bbox and the other via a bbox in axes coordinates and the respective transform."
   ]
  },
  {
   "cell_type": "markdown",
   "metadata": {
    "slideshow": {
     "slide_type": "slide"
    }
   },
   "source": [
    "ax2与ax3中的插图用不同的方法在相同的位置创建"
   ]
  },
  {
   "cell_type": "code",
   "execution_count": 15,
   "metadata": {},
   "outputs": [
    {
     "data": {
      "text/plain": [
       "<matplotlib.patches.Rectangle at 0x233d7bd6248>"
      ]
     },
     "execution_count": 15,
     "metadata": {},
     "output_type": "execute_result"
    }
   ],
   "source": [
    "# For visualization purposes we mark the bounding box by a rectangle\n",
    "ax2.add_patch(plt.Rectangle((0, 0), 1, 1,     ls=\"--\", lw=2, ec=\"c\", fc=\"None\"))\n",
    "ax3.add_patch(plt.Rectangle((.7, .5), .3, .5, ls=\"--\", lw=2, ec=\"c\", fc=\"None\"))"
   ]
  },
  {
   "cell_type": "code",
   "execution_count": 16,
   "metadata": {},
   "outputs": [],
   "source": [
    "# Turn ticklabels off\n",
    "for axi in [axins2, axins3, ax2, ax3]:\n",
    "    axi.tick_params(labelleft=False, labelbottom=False)"
   ]
  },
  {
   "cell_type": "markdown",
   "metadata": {},
   "source": [
    "----"
   ]
  },
  {
   "cell_type": "markdown",
   "metadata": {},
   "source": [
    "In the above the axes transform together with 4-tuple bounding boxes has been used as it mostly is useful to specify an inset relative to the axes it is an inset to. However other use cases are equally possible. The following example examines some of those."
   ]
  },
  {
   "cell_type": "markdown",
   "metadata": {},
   "source": [
    "在上面的例子中轴变换axes transform与边框的4元素元组一起最大的用处是指定插图相对于其父轴的位置。"
   ]
  },
  {
   "cell_type": "code",
   "execution_count": 18,
   "metadata": {},
   "outputs": [
    {
     "data": {
      "application/vnd.jupyter.widget-view+json": {
       "model_id": "548c15b78bf64498a82c2bce503384ab",
       "version_major": 2,
       "version_minor": 0
      },
      "text/plain": [
       "Canvas(toolbar=Toolbar(toolitems=[('Home', 'Reset original view', 'home', 'home'), ('Back', 'Back to previous …"
      ]
     },
     "metadata": {},
     "output_type": "display_data"
    }
   ],
   "source": [
    "fig = plt.figure(figsize=[5.5, 2.8])\n",
    "ax = fig.add_subplot(131)"
   ]
  },
  {
   "cell_type": "code",
   "execution_count": 19,
   "metadata": {},
   "outputs": [],
   "source": [
    "# Create an inset outside the axes\n",
    "axins = inset_axes(ax, width=\"100%\", height=\"100%\",\n",
    "                   bbox_to_anchor=(1.05, .6, .5, .4),\n",
    "                   bbox_transform=ax.transAxes, loc=2, borderpad=0)\n",
    "axins.tick_params(left=False, right=True, labelleft=False, labelright=True)"
   ]
  },
  {
   "cell_type": "code",
   "execution_count": 20,
   "metadata": {},
   "outputs": [],
   "source": []
  },
  {
   "cell_type": "code",
   "execution_count": 20,
   "metadata": {},
   "outputs": [],
   "source": [
    "# Create an inset with a 2-tuple bounding box. Note that this creates a\n",
    "# bbox without extent. This hence only makes sense when specifying\n",
    "# width and height in absolute units (inches).\n",
    "axins2 = inset_axes(ax, width=0.5, height=0.4,\n",
    "                    bbox_to_anchor=(0.33, 0.25),\n",
    "                    bbox_transform=ax.transAxes, loc=3, borderpad=0)"
   ]
  },
  {
   "cell_type": "markdown",
   "metadata": {},
   "source": [
    "使用2元素元组边框创建插图。这样将创建一个没有面积的边框bbox 因此，这仅在以绝对单位（英寸）指定宽度和高度时才有意义。"
   ]
  },
  {
   "cell_type": "code",
   "execution_count": 21,
   "metadata": {},
   "outputs": [
    {
     "data": {
      "text/plain": [
       "[(-2.0, 6.0), (1e-06, 1000000.0)]"
      ]
     },
     "execution_count": 21,
     "metadata": {},
     "output_type": "execute_result"
    }
   ],
   "source": [
    "ax2 = fig.add_subplot(133)\n",
    "ax2.set_xscale(\"log\")\n",
    "ax2.set(xlim=(1e-6, 1e6), ylim=(-2, 6))"
   ]
  },
  {
   "cell_type": "code",
   "execution_count": 22,
   "metadata": {},
   "outputs": [],
   "source": [
    "# Create inset in data coordinates using ax.transData as transform\n",
    "axins3 = inset_axes(ax2, width=\"100%\", height=\"100%\",\n",
    "                    bbox_to_anchor=(1e-2, 2, 1e3, 3),\n",
    "                    bbox_transform=ax2.transData, loc=2, borderpad=0)"
   ]
  },
  {
   "cell_type": "code",
   "execution_count": 23,
   "metadata": {},
   "outputs": [],
   "source": [
    "# Create an inset horizontally centered in figure coordinates and vertically\n",
    "# bound to line up with the axes.\n",
    "from matplotlib.transforms import blended_transform_factory\n",
    "transform = blended_transform_factory(fig.transFigure, ax2.transAxes)\n",
    "axins4 = inset_axes(ax2, width=\"16%\", height=\"34%\",\n",
    "                    bbox_to_anchor=(0, 0, 1, 1),\n",
    "                    bbox_transform=transform, loc=8, borderpad=0)"
   ]
  },
  {
   "cell_type": "code",
   "execution_count": null,
   "metadata": {},
   "outputs": [],
   "source": []
  }
 ],
 "metadata": {
  "kernelspec": {
   "display_name": "Python 3",
   "language": "python",
   "name": "python3"
  },
  "language_info": {
   "codemirror_mode": {
    "name": "ipython",
    "version": 3
   },
   "file_extension": ".py",
   "mimetype": "text/x-python",
   "name": "python",
   "nbconvert_exporter": "python",
   "pygments_lexer": "ipython3",
   "version": "3.7.5"
  }
 },
 "nbformat": 4,
 "nbformat_minor": 4
}
