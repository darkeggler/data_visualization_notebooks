{
 "cells": [
  {
   "cell_type": "markdown",
   "metadata": {},
   "source": [
    "# 256. Axes Grid : [Inset Locator Demo](https://matplotlib.org/gallery/axes_grid1/inset_locator_demo.html)"
   ]
  },
  {
   "cell_type": "markdown",
   "metadata": {},
   "source": [
    "NO.|Gallery|number\n",
    "--|--|--\n",
    "1|Lines, bars and markers|44\n",
    "2|Images, contours and fields|42\n",
    "3|Subplots, axes and figures|30\n",
    "4|Statistics|20\n",
    "5|Pie and polar charts|9\n",
    "6|Text, labels and annotations|42\n",
    "7|Pyplot|25\n",
    "8|Color|8\n",
    "9|Shapes and collections|16\n",
    "10|Style sheets|7\n",
    "11|Axes Grid|27"
   ]
  },
  {
   "cell_type": "code",
   "execution_count": 4,
   "metadata": {},
   "outputs": [
    {
     "data": {
      "text/plain": [
       "256"
      ]
     },
     "execution_count": 4,
     "metadata": {},
     "output_type": "execute_result"
    }
   ],
   "source": [
    "44 + 42 +30 + 20 + 9 + 42 + 25 + 8 + 16 + 7 + 13"
   ]
  },
  {
   "cell_type": "markdown",
   "metadata": {},
   "source": [
    "# Matplotlib示例.256 如何绘制画中画效果？"
   ]
  },
  {
   "cell_type": "markdown",
   "metadata": {
    "jupyter": {
     "source_hidden": true
    }
   },
   "source": [
    "The inset_locator's inset_axes allows easily placing insets in the corners of the axes by specifying a width and height and optionally a location (loc) that accepts locations as codes, similar to legend. By default, the inset is offset by some points from the axes, controlled via the borderpad parameter."
   ]
  },
  {
   "cell_type": "markdown",
   "metadata": {},
   "source": [
    "在实践5中，想要实现局部放大的效果，脑补一下放大镜。所以今天学习示例256\n",
    "\n",
    "matplotlib为我们提供了实现插图效果的简易方法，inset_locator的inset_axes函数。"
   ]
  },
  {
   "cell_type": "code",
   "execution_count": 1,
   "metadata": {},
   "outputs": [],
   "source": [
    "import matplotlib.pyplot as plt\n",
    "from mpl_toolkits.axes_grid1.inset_locator import inset_axes"
   ]
  },
  {
   "cell_type": "markdown",
   "metadata": {},
   "source": [
    "inset_axes与常见的方法不同，它在工具集中，从命名上就能看出有显著的差异。"
   ]
  },
  {
   "cell_type": "code",
   "execution_count": 2,
   "metadata": {},
   "outputs": [],
   "source": [
    "%matplotlib widget"
   ]
  },
  {
   "cell_type": "code",
   "execution_count": 3,
   "metadata": {},
   "outputs": [
    {
     "data": {
      "application/vnd.jupyter.widget-view+json": {
       "model_id": "65925d6c5a8545d2b9603bce9bbf61f7",
       "version_major": 2,
       "version_minor": 0
      },
      "text/plain": [
       "Canvas(toolbar=Toolbar(toolitems=[('Home', 'Reset original view', 'home', 'home'), ('Back', 'Back to previous …"
      ]
     },
     "metadata": {},
     "output_type": "display_data"
    }
   ],
   "source": [
    "fig, (ax, ax2) = plt.subplots(1, 2, figsize=[5.5, 2.8])"
   ]
  },
  {
   "cell_type": "code",
   "execution_count": 4,
   "metadata": {},
   "outputs": [],
   "source": [
    "axins = inset_axes(ax, width=1.3, height=0.9)"
   ]
  },
  {
   "cell_type": "markdown",
   "metadata": {
    "jupyter": {
     "source_hidden": true
    }
   },
   "source": [
    "Create inset of width 1.3 inches and height 0.9 inches at the default upper right location"
   ]
  },
  {
   "cell_type": "markdown",
   "metadata": {},
   "source": [
    "先不急着查API，先盲猜一下，inset_axes会在ax坐标空间创建一个宽1.3高0.9的插图。猜不到的是1.3和0.9是什么单位，插图的位置又在哪。\n",
    "\n",
    "(查API，缺省位置右上，单位英寸。)"
   ]
  },
  {
   "cell_type": "code",
   "execution_count": 7,
   "metadata": {},
   "outputs": [],
   "source": [
    "axins2 = inset_axes(ax, width=\"30%\", height=\"40%\", loc=3)"
   ]
  },
  {
   "cell_type": "markdown",
   "metadata": {
    "jupyter": {
     "source_hidden": true
    }
   },
   "source": [
    "Create inset of width 30% and height 40% of the parent axes' bounding box at the lower left corner (loc=3)"
   ]
  },
  {
   "cell_type": "markdown",
   "metadata": {},
   "source": [
    "百分比是另一种可接受的样式，它是相对于ax的bbox的比例，3是位置的数字编号\n",
    "\n",
    "```\n",
    "'upper right'  : 1,\n",
    "'upper left'   : 2,\n",
    "'lower left'   : 3,\n",
    "'lower right'  : 4,\n",
    "'right'        : 5,\n",
    "'center left'  : 6,\n",
    "'center right' : 7,\n",
    "'lower center' : 8,\n",
    "'upper center' : 9,\n",
    "'center'       : 10\n",
    "```\n",
    "\n",
    "（这与legend的位置相同，应该是在offsetbox中定义的）"
   ]
  },
  {
   "cell_type": "code",
   "execution_count": null,
   "metadata": {},
   "outputs": [],
   "source": [
    "# Create inset of mixed specifications in the second subplot;\n",
    "# width is 30% of parent axes' bounding box and\n",
    "# height is 1 inch at the upper left corner (loc=2)\n",
    "axins3 = inset_axes(ax2, width=\"30%\", height=1., loc=2)"
   ]
  },
  {
   "cell_type": "markdown",
   "metadata": {},
   "source": [
    "混合使用也成立。"
   ]
  },
  {
   "cell_type": "code",
   "execution_count": null,
   "metadata": {},
   "outputs": [],
   "source": [
    "# Create an inset in the lower right corner (loc=4) with borderpad=1, i.e.\n",
    "# 10 points padding (as 10pt is the default fontsize) to the parent axes\n",
    "axins4 = inset_axes(ax2, width=\"20%\", height=\"20%\", loc=4, borderpad=1)"
   ]
  },
  {
   "cell_type": "markdown",
   "metadata": {},
   "source": [
    "Padding between inset axes and the bbox_to_anchor. Defaults to 0.5. The units are axes font size, i.e. for a default font size of 10 points borderpad = 0.5 is equivalent to a padding of 5 points."
   ]
  },
  {
   "cell_type": "markdown",
   "metadata": {},
   "source": [
    "一个新参数borderpad\n",
    "\n",
    "在插图坐标空间与bbox_to_anchor之间填充。默认值是0.5 单位是axes的字体尺寸，默认字体尺寸是10points，所以borderpad=0.5等于填充5points\n",
    "\n"
   ]
  },
  {
   "cell_type": "markdown",
   "metadata": {},
   "source": [
    "- bbox是什么？\n",
    "\n",
    "bounding box，是一个 Rectangle 实例\n",
    "\n",
    "- bbox_to_anchor又是什么？"
   ]
  },
  {
   "cell_type": "code",
   "execution_count": 3,
   "metadata": {},
   "outputs": [
    {
     "data": {
      "image/png": "[encoded data removed]",
      "text/plain": [
       "<Figure size 396x201.6 with 6 Axes>"
      ]
     },
     "metadata": {
      "needs_background": "light"
     },
     "output_type": "display_data"
    }
   ],
   "source": [
    "# Turn ticklabels of insets off\n",
    "for axi in [axins, axins2, axins3, axins4]:\n",
    "    axi.tick_params(labelleft=False, labelbottom=False)"
   ]
  },
  {
   "cell_type": "markdown",
   "metadata": {},
   "source": [
    "----"
   ]
  },
  {
   "cell_type": "code",
   "execution_count": null,
   "metadata": {},
   "outputs": [],
   "source": []
  },
  {
   "cell_type": "markdown",
   "metadata": {},
   "source": [
    "The arguments bbox_to_anchor and bbox_transfrom can be used for a more fine grained control over the inset position and size or even to position the inset at completely arbitrary positions. The bbox_to_anchor sets the bounding box in coordinates according to the bbox_transform."
   ]
  },
  {
   "cell_type": "markdown",
   "metadata": {},
   "source": [
    "参数bbox_to_anchor和bbox_transfrom可以用于对插入位置和大小进行更细粒度的控制，甚至可以将插入位置定位在完全任意的位置。 bbox_to_anchor根据bbox_transform在坐标中设置边界框。"
   ]
  },
  {
   "cell_type": "code",
   "execution_count": 15,
   "metadata": {},
   "outputs": [
    {
     "data": {
      "application/vnd.jupyter.widget-view+json": {
       "model_id": "ec27695586ca46f29ed5cdf9c59977c9",
       "version_major": 2,
       "version_minor": 0
      },
      "text/plain": [
       "Canvas(toolbar=Toolbar(toolitems=[('Home', 'Reset original view', 'home', 'home'), ('Back', 'Back to previous …"
      ]
     },
     "metadata": {},
     "output_type": "display_data"
    }
   ],
   "source": [
    "fig = plt.figure(figsize=[5.5, 2.8])\n",
    "ax = fig.add_subplot(121)"
   ]
  },
  {
   "cell_type": "markdown",
   "metadata": {},
   "source": [
    "We use the axes transform as bbox_transform. Therefore the bounding box\n",
    "needs to be specified in axes coordinates ((0, 0) is the lower left corner\n",
    "of the axes, (1, 1) is the upper right corner).\n",
    "The bounding box (.2, .4, .6, .5) starts at (.2, .4) and ranges to (.8, .9)\n",
    "in those coordinates.\n",
    "Inside of this bounding box an inset of half the bounding box' width and\n",
    "three quarters of the bounding box' height is created. The lower left corner\n",
    "of the inset is aligned to the lower left corner of the bounding box (loc=3).\n",
    "The inset is then offset by the default 0.5 in units of the font size."
   ]
  },
  {
   "cell_type": "markdown",
   "metadata": {},
   "source": [
    "transform 是盲区！"
   ]
  },
  {
   "cell_type": "code",
   "execution_count": 14,
   "metadata": {},
   "outputs": [],
   "source": [
    "%matplotlib widget"
   ]
  },
  {
   "cell_type": "code",
   "execution_count": 16,
   "metadata": {},
   "outputs": [],
   "source": [
    "axins = inset_axes(ax, width=\"50%\", height=\"75%\",\n",
    "                   bbox_to_anchor=(.2, .4, .6, .5),\n",
    "                   bbox_transform=ax.transAxes, loc=3)"
   ]
  },
  {
   "cell_type": "code",
   "execution_count": 17,
   "metadata": {},
   "outputs": [
    {
     "data": {
      "text/plain": [
       "<matplotlib.patches.Rectangle at 0x8d6f7b0>"
      ]
     },
     "execution_count": 17,
     "metadata": {},
     "output_type": "execute_result"
    }
   ],
   "source": [
    "# For visualization purposes we mark the bounding box by a rectangle\n",
    "ax.add_patch(plt.Rectangle((.2, .4), .6, .5, ls=\"--\", ec=\"c\", fc=\"None\",\n",
    "                           transform=ax.transAxes))"
   ]
  },
  {
   "cell_type": "code",
   "execution_count": 18,
   "metadata": {},
   "outputs": [
    {
     "data": {
      "text/plain": [
       "[(0, 10), (0, 10)]"
      ]
     },
     "execution_count": 18,
     "metadata": {},
     "output_type": "execute_result"
    }
   ],
   "source": [
    "# We set the axis limits to something other than the default, in order to not\n",
    "# distract from the fact that axes coordinates are used here.\n",
    "ax.set(xlim=(0, 10), ylim=(0, 10))"
   ]
  },
  {
   "cell_type": "code",
   "execution_count": 19,
   "metadata": {},
   "outputs": [],
   "source": [
    "# Note how the two following insets are created at the same positions, one by\n",
    "# use of the default parent axes' bbox and the other via a bbox in axes\n",
    "# coordinates and the respective transform.\n",
    "ax2 = fig.add_subplot(222)\n",
    "axins2 = inset_axes(ax2, width=\"30%\", height=\"50%\")"
   ]
  },
  {
   "cell_type": "code",
   "execution_count": 20,
   "metadata": {},
   "outputs": [],
   "source": [
    "ax3 = fig.add_subplot(224)\n",
    "axins3 = inset_axes(ax3, width=\"100%\", height=\"100%\",\n",
    "                    bbox_to_anchor=(.7, .5, .3, .5),\n",
    "                    bbox_transform=ax3.transAxes)"
   ]
  },
  {
   "cell_type": "code",
   "execution_count": 21,
   "metadata": {},
   "outputs": [
    {
     "data": {
      "text/plain": [
       "<matplotlib.patches.Rectangle at 0x8d1f730>"
      ]
     },
     "execution_count": 21,
     "metadata": {},
     "output_type": "execute_result"
    }
   ],
   "source": [
    "# For visualization purposes we mark the bounding box by a rectangle\n",
    "ax2.add_patch(plt.Rectangle((0, 0), 1, 1,     ls=\"--\", lw=2, ec=\"c\", fc=\"None\"))\n",
    "ax3.add_patch(plt.Rectangle((.7, .5), .3, .5, ls=\"--\", lw=2, ec=\"c\", fc=\"None\"))"
   ]
  },
  {
   "cell_type": "code",
   "execution_count": 22,
   "metadata": {},
   "outputs": [],
   "source": [
    "# Turn ticklabels off\n",
    "for axi in [axins2, axins3, ax2, ax3]:\n",
    "    axi.tick_params(labelleft=False, labelbottom=False)"
   ]
  },
  {
   "cell_type": "markdown",
   "metadata": {},
   "source": [
    "----"
   ]
  },
  {
   "cell_type": "markdown",
   "metadata": {},
   "source": [
    "In the above the axes transform together with 4-tuple bounding boxes has been used as it mostly is useful to specify an inset relative to the axes it is an inset to. However other use cases are equally possible. The following example examines some of those."
   ]
  },
  {
   "cell_type": "code",
   "execution_count": 23,
   "metadata": {},
   "outputs": [
    {
     "data": {
      "application/vnd.jupyter.widget-view+json": {
       "model_id": "48c6d46be4154b6da4497740db368eb4",
       "version_major": 2,
       "version_minor": 0
      },
      "text/plain": [
       "Canvas(toolbar=Toolbar(toolitems=[('Home', 'Reset original view', 'home', 'home'), ('Back', 'Back to previous …"
      ]
     },
     "metadata": {},
     "output_type": "display_data"
    }
   ],
   "source": [
    "fig = plt.figure(figsize=[5.5, 2.8])\n",
    "ax = fig.add_subplot(131)"
   ]
  },
  {
   "cell_type": "code",
   "execution_count": 24,
   "metadata": {},
   "outputs": [],
   "source": [
    "# Create an inset outside the axes\n",
    "axins = inset_axes(ax, width=\"100%\", height=\"100%\",\n",
    "                   bbox_to_anchor=(1.05, .6, .5, .4),\n",
    "                   bbox_transform=ax.transAxes, loc=2, borderpad=0)"
   ]
  },
  {
   "cell_type": "code",
   "execution_count": 25,
   "metadata": {},
   "outputs": [],
   "source": [
    "axins.tick_params(left=False, right=True, labelleft=False, labelright=True)"
   ]
  },
  {
   "cell_type": "code",
   "execution_count": null,
   "metadata": {},
   "outputs": [],
   "source": [
    "\n",
    "\n",
    "\n",
    "axins.tick_params(left=False, right=True, labelleft=False, labelright=True)\n",
    "\n",
    "# Create an inset with a 2-tuple bounding box. Note that this creates a\n",
    "# bbox without extent. This hence only makes sense when specifying\n",
    "# width and height in absolute units (inches).\n",
    "axins2 = inset_axes(ax, width=0.5, height=0.4,\n",
    "                    bbox_to_anchor=(0.33, 0.25),\n",
    "                    bbox_transform=ax.transAxes, loc=3, borderpad=0)\n",
    "\n",
    "\n",
    "ax2 = fig.add_subplot(133)\n",
    "ax2.set_xscale(\"log\")\n",
    "ax2.set(xlim=(1e-6, 1e6), ylim=(-2, 6))\n",
    "\n",
    "# Create inset in data coordinates using ax.transData as transform\n",
    "axins3 = inset_axes(ax2, width=\"100%\", height=\"100%\",\n",
    "                    bbox_to_anchor=(1e-2, 2, 1e3, 3),\n",
    "                    bbox_transform=ax2.transData, loc=2, borderpad=0)\n",
    "\n",
    "# Create an inset horizontally centered in figure coordinates and vertically\n",
    "# bound to line up with the axes.\n",
    "from matplotlib.transforms import blended_transform_factory\n",
    "transform = blended_transform_factory(fig.transFigure, ax2.transAxes)\n",
    "axins4 = inset_axes(ax2, width=\"16%\", height=\"34%\",\n",
    "                    bbox_to_anchor=(0, 0, 1, 1),\n",
    "                    bbox_transform=transform, loc=8, borderpad=0)"
   ]
  },
  {
   "cell_type": "code",
   "execution_count": null,
   "metadata": {},
   "outputs": [],
   "source": []
  }
 ],
 "metadata": {
  "kernelspec": {
   "display_name": "Python 3",
   "language": "python",
   "name": "python3"
  },
  "language_info": {
   "codemirror_mode": {
    "name": "ipython",
    "version": 3
   },
   "file_extension": ".py",
   "mimetype": "text/x-python",
   "name": "python",
   "nbconvert_exporter": "python",
   "pygments_lexer": "ipython3",
   "version": "3.7.5"
  }
 },
 "nbformat": 4,
 "nbformat_minor": 4
}
