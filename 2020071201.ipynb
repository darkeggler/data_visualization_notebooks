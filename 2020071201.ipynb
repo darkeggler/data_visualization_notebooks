{
 "cells": [
  {
   "cell_type": "markdown",
   "metadata": {},
   "source": [
    "## add patch"
   ]
  },
  {
   "cell_type": "markdown",
   "metadata": {},
   "source": [
    "```python\n",
    "def add_patch(self, p):\n",
    "    \"\"\"\n",
    "    Add a `~.Patch` to the axes' patches; return the patch.\n",
    "    \"\"\"\n",
    "    self._set_artist_props(p)          # _01: 这个函数，研究\n",
    "    if p.get_clip_path() is None:\n",
    "        p.set_clip_path(self.patch)    # _02: self.patch 是\n",
    "    self._update_patch_limits(p)       # _03: _update_patch_limits\n",
    "    self.patches.append(p)\n",
    "    p._remove_method = self.patches.remove\n",
    "    return p\n",
    "```"
   ]
  },
  {
   "cell_type": "markdown",
   "metadata": {},
   "source": [
    "01. 设置 figure, axes, transform"
   ]
  },
  {
   "cell_type": "markdown",
   "metadata": {},
   "source": [
    "```python\n",
    "def _set_artist_props(self, a):\n",
    "    \"\"\"Set the boilerplate props for artists added to axes.\"\"\"\n",
    "    a.set_figure(self.figure)\n",
    "    if not a.is_transform_set():\n",
    "        a.set_transform(self.transData)\n",
    "\n",
    "    a.axes = self\n",
    "    if a.mouseover:\n",
    "        self._mouseover_set.add(a)\n",
    "```"
   ]
  },
  {
   "cell_type": "markdown",
   "metadata": {},
   "source": [
    "02. self.patch = self._gen_axes_patch()"
   ]
  },
  {
   "cell_type": "markdown",
   "metadata": {},
   "source": [
    "```python\n",
    "def _gen_axes_patch(self):\n",
    "    \"\"\"\n",
    "    Returns\n",
    "    -------\n",
    "    Patch\n",
    "        The patch used to draw the background of the axes.  It is also used\n",
    "        as the clipping path for any data elements on the axes.\n",
    "\n",
    "        In the standard axes, this is a rectangle, but in other projections\n",
    "        it may not be.\n",
    "\n",
    "    Notes\n",
    "    -----\n",
    "    Intended to be overridden by new projection types.\n",
    "    \"\"\"\n",
    "    return mpatches.Rectangle((0.0, 0.0), 1.0, 1.0)\n",
    "```"
   ]
  },
  {
   "cell_type": "markdown",
   "metadata": {},
   "source": [
    "03. transform 这一段不理解"
   ]
  },
  {
   "cell_type": "markdown",
   "metadata": {},
   "source": [
    "```python\n",
    "def _update_patch_limits(self, patch):\n",
    "    \"\"\"Update the data limits for the given patch.\"\"\"\n",
    "    # hist can add zero height Rectangles, which is useful to keep\n",
    "    # the bins, counts and patches lined up, but it throws off log\n",
    "    # scaling.  We'll ignore rects with zero height or width in\n",
    "    # the auto-scaling\n",
    "\n",
    "    # cannot check for '==0' since unitized data may not compare to zero\n",
    "    # issue #2150 - we update the limits if patch has non zero width\n",
    "    # or height.\n",
    "    if (isinstance(patch, mpatches.Rectangle) and\n",
    "            ((not patch.get_width()) and (not patch.get_height()))):\n",
    "        return\n",
    "    vertices = patch.get_path().vertices\n",
    "    if vertices.size > 0:\n",
    "        xys = patch.get_patch_transform().transform(vertices)\n",
    "        if patch.get_data_transform() != self.transData:\n",
    "            patch_to_data = (patch.get_data_transform() -\n",
    "                             self.transData)\n",
    "            xys = patch_to_data.transform(xys)\n",
    "\n",
    "        updatex, updatey = patch.get_transform().\\\n",
    "            contains_branch_seperately(self.transData)\n",
    "        self.update_datalim(xys, updatex=updatex,\n",
    "                            updatey=updatey)\n",
    "```"
   ]
  },
  {
   "cell_type": "markdown",
   "metadata": {},
   "source": [
    "## add collection"
   ]
  },
  {
   "cell_type": "markdown",
   "metadata": {},
   "source": [
    "```python\n",
    "def add_collection(self, collection, autolim=True):\n",
    "    \"\"\"\n",
    "    Add a `~.Collection` to the axes' collections; return the collection.\n",
    "    \"\"\"\n",
    "    label = collection.get_label()\n",
    "    if not label:\n",
    "        collection.set_label('_collection%d' % len(self.collections))\n",
    "    self.collections.append(collection)\n",
    "    collection._remove_method = self.collections.remove\n",
    "    self._set_artist_props(collection)\n",
    "\n",
    "    if collection.get_clip_path() is None:\n",
    "        collection.set_clip_path(self.patch)\n",
    "\n",
    "    if autolim:\n",
    "        # Make sure viewLim is not stale (mostly to match\n",
    "        # pre-lazy-autoscale behavior, which is not really better).\n",
    "        self._unstale_viewLim()\n",
    "        self.update_datalim(collection.get_datalim(self.transData))\n",
    "\n",
    "    self.stale = True\n",
    "    return collection\n",
    "```"
   ]
  },
  {
   "cell_type": "markdown",
   "metadata": {},
   "source": [
    "add_patch与add_collection很相似，差异有：\n",
    "1. self.patches.append 与 self.collections.append\n",
    "\n",
    "不能理解的是，path通过PathCollections及add_collections只是存入了Axes.collections而已，它是如何绘制的？不需要转换成patch吗？"
   ]
  },
  {
   "cell_type": "markdown",
   "metadata": {},
   "source": []
  },
  {
   "cell_type": "code",
   "execution_count": 1,
   "metadata": {},
   "outputs": [],
   "source": [
    "import matplotlib.pyplot as plt\n",
    "import matplotlib.path as mpath"
   ]
  },
  {
   "cell_type": "code",
   "execution_count": null,
   "metadata": {},
   "outputs": [],
   "source": [
    "mpath.Path.u"
   ]
  }
 ],
 "metadata": {
  "kernelspec": {
   "display_name": "Python 3",
   "language": "python",
   "name": "python3"
  },
  "language_info": {
   "codemirror_mode": {
    "name": "ipython",
    "version": 3
   },
   "file_extension": ".py",
   "mimetype": "text/x-python",
   "name": "python",
   "nbconvert_exporter": "python",
   "pygments_lexer": "ipython3",
   "version": "3.7.5"
  }
 },
 "nbformat": 4,
 "nbformat_minor": 4
}
