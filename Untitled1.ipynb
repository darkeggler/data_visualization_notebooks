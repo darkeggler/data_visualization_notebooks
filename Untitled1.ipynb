{
 "cells": [
  {
   "cell_type": "markdown",
   "metadata": {},
   "source": [
    "“随机生成”个位加减法，记录计算结果。"
   ]
  },
  {
   "cell_type": "code",
   "execution_count": 4,
   "metadata": {},
   "outputs": [],
   "source": [
    "import random"
   ]
  },
  {
   "cell_type": "code",
   "execution_count": 15,
   "metadata": {},
   "outputs": [],
   "source": [
    "board = {}"
   ]
  },
  {
   "cell_type": "code",
   "execution_count": 34,
   "metadata": {},
   "outputs": [
    {
     "name": "stdin",
     "output_type": "stream",
     "text": [
      "6 - 4=  2\n"
     ]
    }
   ],
   "source": [
    "x = random.randint(5, 10)\n",
    "y = random.randint(1, x)\n",
    "s = \"%d - %d\" % (x,y)\n",
    "if s in board:\n",
    "    l = board[s]\n",
    "else:\n",
    "    l = [0,0]\n",
    "r = input(s + \"= \")\n",
    "times, right = l\n",
    "if x - y == int(r):\n",
    "    board.update({s:[times+1,right+1]})\n",
    "else:\n",
    "    board.update({s:[times+1,right]})"
   ]
  },
  {
   "cell_type": "code",
   "execution_count": 35,
   "metadata": {},
   "outputs": [
    {
     "data": {
      "text/plain": [
       "{'6 - 1': [1, 1],\n",
       " '5 - 2': [1, 1],\n",
       " '7 - 1': [1, 1],\n",
       " '7 - 2': [1, 1],\n",
       " '8 - 8': [1, 1],\n",
       " '7 - 3': [1, 1],\n",
       " '9 - 3': [1, 1],\n",
       " '6 - 3': [1, 1],\n",
       " '8 - 2': [1, 1],\n",
       " '5 - 1': [1, 1],\n",
       " '9 - 4': [1, 1],\n",
       " '6 - 4': [1, 1]}"
      ]
     },
     "execution_count": 35,
     "metadata": {},
     "output_type": "execute_result"
    }
   ],
   "source": [
    "board"
   ]
  },
  {
   "cell_type": "code",
   "execution_count": null,
   "metadata": {},
   "outputs": [],
   "source": []
  }
 ],
 "metadata": {
  "kernelspec": {
   "display_name": "Python 3",
   "language": "python",
   "name": "python3"
  },
  "language_info": {
   "codemirror_mode": {
    "name": "ipython",
    "version": 3
   },
   "file_extension": ".py",
   "mimetype": "text/x-python",
   "name": "python",
   "nbconvert_exporter": "python",
   "pygments_lexer": "ipython3",
   "version": "3.7.5"
  }
 },
 "nbformat": 4,
 "nbformat_minor": 4
}
