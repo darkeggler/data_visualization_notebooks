{
 "cells": [
  {
   "cell_type": "markdown",
   "metadata": {},
   "source": [
    "# 16. [Transformations Tutorial](https://matplotlib.org/tutorials/advanced/transforms_tutorial.html)"
   ]
  },
  {
   "cell_type": "markdown",
   "metadata": {},
   "source": [
    "Like any graphics packages, Matplotlib is built on top of a transformation framework to easily move between coordinate systems, the userland data coordinate system, the axes coordinate system, the figure coordinate system, and the display coordinate system. In 95% of your plotting, you won't need to think about this, as it happens under the hood, but as you push the limits of custom figure generation, it helps to have an understanding of these objects so you can reuse the existing transformations Matplotlib makes available to you, or create your own (see matplotlib.transforms). The table below summarizes the some useful coordinate systems, the transformation object you should use to work in that coordinate system, and the description of that system. In the Transformation Object column, ax is a Axes instance, and fig is a Figure instance."
   ]
  },
  {
   "cell_type": "markdown",
   "metadata": {},
   "source": [
    "a transformation framework"
   ]
  },
  {
   "cell_type": "markdown",
   "metadata": {},
   "source": [
    "Coordinates|Transformation object|Description\n",
    "---|---|---\n",
    "\"data\" |ax.transData|The coordinate system for the data, controlled by xlim and ylim.\n",
    "\"axes\"|ax.transAxes|The coordinate system of the Axes; (0, 0) is bottom left of the axes, and (1, 1) is top right of the axes.\n",
    "\"figure\"|fig.transFigure|The coordinate system of the Figure; (0, 0) is bottom left of the figure, and (1, 1) is top right of the figure.\n",
    "\"figure-inches\"|fig.dpi_scale_trans|The coordinate system of the Figure in inches; (0, 0) is bottom left of the figure, and (width, height) is the top right of the figure in inches.\n",
    "\"display\"|None, or IdentityTransform()|The pixel coordinate system of the display window; (0, 0) is bottom left of the window, and (width, height) is top right of the display window in pixels.\n",
    "\"xaxis\", \"yaxis\"|ax.get_xaxis_transform(), ax.get_yaxis_transform()|Blended coordinate systems; use data coordinates on one of the axis and axes coordinates on the other."
   ]
  },
  {
   "cell_type": "code",
   "execution_count": null,
   "metadata": {},
   "outputs": [],
   "source": []
  },
  {
   "cell_type": "code",
   "execution_count": 141,
   "metadata": {},
   "outputs": [],
   "source": [
    "import numpy as np\n",
    "import matplotlib.pyplot as plt\n",
    "import matplotlib"
   ]
  },
  {
   "cell_type": "code",
   "execution_count": 124,
   "metadata": {},
   "outputs": [],
   "source": [
    "%matplotlib widget"
   ]
  },
  {
   "cell_type": "markdown",
   "metadata": {},
   "source": [
    "## Plotting in physical units"
   ]
  },
  {
   "cell_type": "markdown",
   "metadata": {},
   "source": [
    "Sometimes we want an object to be a certain physical size on the plot. Here we draw the same circle as above, but in physical units. If done interactively, you can see that changing the size of the figure does not change the offset of the circle from the lower-left corner, does not change its size, and the circle remains a circle regardless of the aspect ratio of the axes."
   ]
  },
  {
   "cell_type": "code",
   "execution_count": null,
   "metadata": {},
   "outputs": [],
   "source": [
    "fig, ax = plt.subplots(figsize=(5, 4))\n",
    "x, y = 10*np.random.rand(2, 1000)\n",
    "ax.plot(x, y*10., 'go', alpha=0.2)  # plot some data in data coordinates\n",
    "# add a circle in fixed-units\n",
    "circ = mpatches.Circle((2.5, 2), 1.0, transform=fig.dpi_scale_trans,\n",
    "                       facecolor='blue', alpha=0.75)\n",
    "ax.add_patch(circ)\n",
    "plt.show()"
   ]
  }
 ],
 "metadata": {
  "kernelspec": {
   "display_name": "Python 3",
   "language": "python",
   "name": "python3"
  },
  "language_info": {
   "codemirror_mode": {
    "name": "ipython",
    "version": 3
   },
   "file_extension": ".py",
   "mimetype": "text/x-python",
   "name": "python",
   "nbconvert_exporter": "python",
   "pygments_lexer": "ipython3",
   "version": "3.7.5"
  }
 },
 "nbformat": 4,
 "nbformat_minor": 4
}
