{
 "cells": [
  {
   "cell_type": "markdown",
   "metadata": {},
   "source": [
    "# Crash Course: Statistics\n",
    "\n",
    "[英文字幕](https://nerdfighteria.info/cat/438)  \n",
    "[【统计学速成课】Statistics - [45集全/中英双语] - Crash Course Statistics](https://www.bilibili.com/video/BV1B7411v73M?from=search&seid=11590809396998501370)"
   ]
  },
  {
   "cell_type": "markdown",
   "metadata": {},
   "source": [
    "[Head First Statistics](https://www.oreilly.com/library/view/head-first-statistics/9780596527587/)"
   ]
  },
  {
   "cell_type": "markdown",
   "metadata": {},
   "source": [
    "### 2020-06-30\n",
    "\n",
    "Crash Course - Preview  \n",
    "Head First - 序言 => 你的任务：征服大脑"
   ]
  },
  {
   "cell_type": "markdown",
   "metadata": {},
   "source": [
    "## Crash Course Statistics \n",
    "\n",
    "Preview \n",
    "\n",
    "Hi everybody, I'm Adriene Hill. Welcome to CrashCourse Statistics, and by everybody, I don't mean that literally. There are give or take 7.6 billion people in the world. When we hit a million views, that's still only .01% of the population. So maybe, hi almost nobody? \n",
    "\n",
    "Statistics are everywhere. Some are explicitly part of our lives, like batting averages in baseball, expected goals in soccer, or the percent chance the meteorologist gives that it'll snow. They're in the stone-faced warning from your doctor, \"this procedure has a 2% chance of failure.\" Statistics make a very good case for not buying lottery tickets. Other times, statistics are less obvious, but still with us. Insurers use them to set their rates, researchers use them to try to figure out if a drug can actually help regrow the hair on the top of your head, or if there is a correlation between dog ownership and stress reduction. Big retailers hire statisticians to figure out how to market to use better; apparently, Target can pinpoint when a pregnant woman might be due to give birth based on a change in what she buys. Stores also use statistics to figure out how to stock their shelves. Turns out, a whole lot of people rush to buy strawberry Pop-Tarts before a hurricane hits; so, in advance of storms, Walmart stocks up, for real. And, statistics is central to some of the cool technology we use everyday, like Siri and Alexa. \n",
    "\n",
    "Mark Twain popularized the quote, \"there are three kinds of lies: lies, damned lies, and statistics.\" And, yes, statistics can be used to lie, but they can also be used to help find the truth. The purpose of statistics is to help find the truth. Statistics allow us to uncover simplicity inside complexity; to make sense of our world. And, part of what we'll do is this series is figure out how to tell the difference between statistics used for good, understanding, truth-telling, and the statistics that we should question, that are being used to mischaracterized the world. Understanding how statistics work, even if you aren't running regressions for fun on the weekends, can help you ask good questions about other people's studies and discoveries.\n",
    "\n",
    "I'm Adriene Hill, more than likely I'll be your host for this series. There is a 1 in 74.8 million chance I will be killed this year by an asteroid or other near-Earth object collision. When I'm not hanging out here or researching the odds of death by freak accident, I work in public radio. I also co-hosted CrashCourse Economics, where a statistically significant number of you who commented didn't like how and how much I move my hands, so I'm gonna work on it. I'm so excited for this series. Some of these are things I've thought about, some I'm going to be learning along with you, and it's gonna be fun. 'Cause, at the end of the day, statistics are about us, people and our world, and how we relate to each other. I'll see you next week.\n",
    "\n",
    "[Outro Music]"
   ]
  },
  {
   "cell_type": "markdown",
   "metadata": {},
   "source": []
  }
 ],
 "metadata": {
  "kernelspec": {
   "display_name": "Python 3",
   "language": "python",
   "name": "python3"
  },
  "language_info": {
   "codemirror_mode": {
    "name": "ipython",
    "version": 3
   },
   "file_extension": ".py",
   "mimetype": "text/x-python",
   "name": "python",
   "nbconvert_exporter": "python",
   "pygments_lexer": "ipython3",
   "version": "3.7.5"
  }
 },
 "nbformat": 4,
 "nbformat_minor": 4
}
